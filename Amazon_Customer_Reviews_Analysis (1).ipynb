{
  "nbformat": 4,
  "nbformat_minor": 0,
  "metadata": {
    "colab": {
      "name": "Amazon_Customer_Reviews_Analysis.ipynb",
      "provenance": [],
      "collapsed_sections": []
    },
    "kernelspec": {
      "name": "python3",
      "display_name": "Python 3"
    },
    "language_info": {
      "name": "python"
    }
  },
  "cells": [
    {
      "cell_type": "markdown",
      "metadata": {
        "id": "13C_HUP_Th7q"
      },
      "source": [
        "#**Project Overview:**"
      ]
    },
    {
      "cell_type": "markdown",
      "metadata": {
        "id": "EscV2gopTdEm"
      },
      "source": [
        "In this project I will analyze data from the Amazon Web Service.\n",
        "More specifically, I will work with the Amazon Customer Reviews Data set. This data set has many categories. Each of the categories has its own data which contains columns such as marketplace, customer_id,product_title,product title, star_rating and more. \n",
        "I will print out some data frames so you will be able to see.\n",
        "\n",
        "This project could be split into 4 parts as follows:\n",
        "* Connecting to Amazon and getting the data.\n",
        "* Preprocessing the data and doing some feature engineering\n",
        "* fitting some classification models to the data sets\n",
        "* Using mini-batches for Machine Learning\n",
        "\n",
        "If you want to read more about the data set you can do so [here](https://s3.amazonaws.com/amazon-reviews-pds/readme.html)"
      ]
    },
    {
      "cell_type": "markdown",
      "metadata": {
        "id": "y4QJ10tWVxVd"
      },
      "source": [
        "Libraries and modules:"
      ]
    },
    {
      "cell_type": "code",
      "metadata": {
        "colab": {
          "base_uri": "https://localhost:8080/"
        },
        "id": "gZHxzBVoV13z",
        "outputId": "a86d9c8c-49e9-41c7-c7d6-2f166a3f670f"
      },
      "source": [
        "# More about boto3 can be read here https://boto3.amazonaws.com/v1/documentation/api/latest/index.html\n",
        "%pip install boto3\n",
        "!pip3 install flair\n",
        "\n",
        "import boto3\n",
        "import numpy as np\n",
        "import pandas as pd\n",
        "import gzip\n",
        "import time\n",
        "import matplotlib.pyplot as plt\n",
        "import nltk\n",
        "import math\n",
        "\n",
        "from sklearn.feature_extraction.text import TfidfVectorizer\n",
        "from sklearn.model_selection import train_test_split\n",
        "from sklearn import preprocessing\n",
        "from sklearn.linear_model import LogisticRegression,SGDClassifier\n",
        "from sklearn import metrics\n",
        "from sklearn_pandas import DataFrameMapper\n",
        "from flair.models import TextClassifier\n",
        "from flair.data import Sentence\n",
        "classifier = TextClassifier.load('sentiment-fast') # building sentiment features\n",
        "from nltk.corpus import stopwords\n",
        "from nltk.stem import WordNetLemmatizer\n",
        "from nltk.tokenize import word_tokenize\n",
        "nltk.download('punkt')\n",
        "nltk.download('stopwords')\n",
        "nltk.download('wordnet')"
      ],
      "execution_count": 1,
      "outputs": [
        {
          "output_type": "stream",
          "name": "stdout",
          "text": [
            "Collecting boto3\n",
            "  Downloading boto3-1.18.53-py3-none-any.whl (131 kB)\n",
            "\u001b[K     |████████████████████████████████| 131 kB 5.3 MB/s \n",
            "\u001b[?25hCollecting botocore<1.22.0,>=1.21.53\n",
            "  Downloading botocore-1.21.53-py3-none-any.whl (8.0 MB)\n",
            "\u001b[K     |████████████████████████████████| 8.0 MB 42.5 MB/s \n",
            "\u001b[?25hCollecting jmespath<1.0.0,>=0.7.1\n",
            "  Downloading jmespath-0.10.0-py2.py3-none-any.whl (24 kB)\n",
            "Collecting s3transfer<0.6.0,>=0.5.0\n",
            "  Downloading s3transfer-0.5.0-py3-none-any.whl (79 kB)\n",
            "\u001b[K     |████████████████████████████████| 79 kB 6.9 MB/s \n",
            "\u001b[?25hCollecting urllib3<1.27,>=1.25.4\n",
            "  Downloading urllib3-1.26.7-py2.py3-none-any.whl (138 kB)\n",
            "\u001b[K     |████████████████████████████████| 138 kB 51.3 MB/s \n",
            "\u001b[?25hRequirement already satisfied: python-dateutil<3.0.0,>=2.1 in /usr/local/lib/python3.7/dist-packages (from botocore<1.22.0,>=1.21.53->boto3) (2.8.2)\n",
            "Requirement already satisfied: six>=1.5 in /usr/local/lib/python3.7/dist-packages (from python-dateutil<3.0.0,>=2.1->botocore<1.22.0,>=1.21.53->boto3) (1.15.0)\n",
            "Installing collected packages: urllib3, jmespath, botocore, s3transfer, boto3\n",
            "  Attempting uninstall: urllib3\n",
            "    Found existing installation: urllib3 1.24.3\n",
            "    Uninstalling urllib3-1.24.3:\n",
            "      Successfully uninstalled urllib3-1.24.3\n",
            "\u001b[31mERROR: pip's dependency resolver does not currently take into account all the packages that are installed. This behaviour is the source of the following dependency conflicts.\n",
            "requests 2.23.0 requires urllib3!=1.25.0,!=1.25.1,<1.26,>=1.21.1, but you have urllib3 1.26.7 which is incompatible.\n",
            "datascience 0.10.6 requires folium==0.2.1, but you have folium 0.8.3 which is incompatible.\u001b[0m\n",
            "Successfully installed boto3-1.18.53 botocore-1.21.53 jmespath-0.10.0 s3transfer-0.5.0 urllib3-1.26.7\n",
            "Collecting flair\n",
            "  Downloading flair-0.9-py3-none-any.whl (319 kB)\n",
            "\u001b[K     |████████████████████████████████| 319 kB 5.3 MB/s \n",
            "\u001b[?25hCollecting bpemb>=0.3.2\n",
            "  Downloading bpemb-0.3.3-py3-none-any.whl (19 kB)\n",
            "Requirement already satisfied: regex in /usr/local/lib/python3.7/dist-packages (from flair) (2019.12.20)\n",
            "Collecting sqlitedict>=1.6.0\n",
            "  Downloading sqlitedict-1.7.0.tar.gz (28 kB)\n",
            "Collecting transformers>=4.0.0\n",
            "  Downloading transformers-4.11.2-py3-none-any.whl (2.9 MB)\n",
            "\u001b[K     |████████████████████████████████| 2.9 MB 38.1 MB/s \n",
            "\u001b[?25hCollecting more-itertools~=8.8.0\n",
            "  Downloading more_itertools-8.8.0-py3-none-any.whl (48 kB)\n",
            "\u001b[K     |████████████████████████████████| 48 kB 4.3 MB/s \n",
            "\u001b[?25hCollecting sentencepiece==0.1.95\n",
            "  Downloading sentencepiece-0.1.95-cp37-cp37m-manylinux2014_x86_64.whl (1.2 MB)\n",
            "\u001b[K     |████████████████████████████████| 1.2 MB 66.5 MB/s \n",
            "\u001b[?25hCollecting konoha<5.0.0,>=4.0.0\n",
            "  Downloading konoha-4.6.5-py3-none-any.whl (20 kB)\n",
            "Collecting segtok>=1.5.7\n",
            "  Downloading segtok-1.5.10.tar.gz (25 kB)\n",
            "Collecting langdetect\n",
            "  Downloading langdetect-1.0.9.tar.gz (981 kB)\n",
            "\u001b[K     |████████████████████████████████| 981 kB 53.4 MB/s \n",
            "\u001b[?25hRequirement already satisfied: scikit-learn>=0.21.3 in /usr/local/lib/python3.7/dist-packages (from flair) (0.22.2.post1)\n",
            "Requirement already satisfied: tqdm>=4.26.0 in /usr/local/lib/python3.7/dist-packages (from flair) (4.62.3)\n",
            "Collecting huggingface-hub\n",
            "  Downloading huggingface_hub-0.0.17-py3-none-any.whl (52 kB)\n",
            "\u001b[K     |████████████████████████████████| 52 kB 1.3 MB/s \n",
            "\u001b[?25hRequirement already satisfied: matplotlib>=2.2.3 in /usr/local/lib/python3.7/dist-packages (from flair) (3.2.2)\n",
            "Collecting gdown==3.12.2\n",
            "  Downloading gdown-3.12.2.tar.gz (8.2 kB)\n",
            "  Installing build dependencies ... \u001b[?25l\u001b[?25hdone\n",
            "  Getting requirements to build wheel ... \u001b[?25l\u001b[?25hdone\n",
            "    Preparing wheel metadata ... \u001b[?25l\u001b[?25hdone\n",
            "Requirement already satisfied: gensim<=3.8.3,>=3.4.0 in /usr/local/lib/python3.7/dist-packages (from flair) (3.6.0)\n",
            "Requirement already satisfied: lxml in /usr/local/lib/python3.7/dist-packages (from flair) (4.2.6)\n",
            "Requirement already satisfied: tabulate in /usr/local/lib/python3.7/dist-packages (from flair) (0.8.9)\n",
            "Collecting deprecated>=1.2.4\n",
            "  Downloading Deprecated-1.2.13-py2.py3-none-any.whl (9.6 kB)\n",
            "Requirement already satisfied: torch!=1.8,>=1.5.0 in /usr/local/lib/python3.7/dist-packages (from flair) (1.9.0+cu102)\n",
            "Collecting conllu>=4.0\n",
            "  Downloading conllu-4.4.1-py2.py3-none-any.whl (15 kB)\n",
            "Requirement already satisfied: hyperopt>=0.1.1 in /usr/local/lib/python3.7/dist-packages (from flair) (0.1.2)\n",
            "Collecting mpld3==0.3\n",
            "  Downloading mpld3-0.3.tar.gz (788 kB)\n",
            "\u001b[K     |████████████████████████████████| 788 kB 56.3 MB/s \n",
            "\u001b[?25hCollecting wikipedia-api\n",
            "  Downloading Wikipedia-API-0.5.4.tar.gz (18 kB)\n",
            "Collecting ftfy\n",
            "  Downloading ftfy-6.0.3.tar.gz (64 kB)\n",
            "\u001b[K     |████████████████████████████████| 64 kB 2.6 MB/s \n",
            "\u001b[?25hCollecting janome\n",
            "  Downloading Janome-0.4.1-py2.py3-none-any.whl (19.7 MB)\n",
            "\u001b[K     |████████████████████████████████| 19.7 MB 1.4 MB/s \n",
            "\u001b[?25hRequirement already satisfied: python-dateutil>=2.6.1 in /usr/local/lib/python3.7/dist-packages (from flair) (2.8.2)\n",
            "Requirement already satisfied: six in /usr/local/lib/python3.7/dist-packages (from gdown==3.12.2->flair) (1.15.0)\n",
            "Requirement already satisfied: requests[socks] in /usr/local/lib/python3.7/dist-packages (from gdown==3.12.2->flair) (2.23.0)\n",
            "Requirement already satisfied: filelock in /usr/local/lib/python3.7/dist-packages (from gdown==3.12.2->flair) (3.0.12)\n",
            "Requirement already satisfied: numpy in /usr/local/lib/python3.7/dist-packages (from bpemb>=0.3.2->flair) (1.19.5)\n",
            "Requirement already satisfied: wrapt<2,>=1.10 in /usr/local/lib/python3.7/dist-packages (from deprecated>=1.2.4->flair) (1.12.1)\n",
            "Requirement already satisfied: scipy>=0.18.1 in /usr/local/lib/python3.7/dist-packages (from gensim<=3.8.3,>=3.4.0->flair) (1.4.1)\n",
            "Requirement already satisfied: smart-open>=1.2.1 in /usr/local/lib/python3.7/dist-packages (from gensim<=3.8.3,>=3.4.0->flair) (5.2.1)\n",
            "Requirement already satisfied: future in /usr/local/lib/python3.7/dist-packages (from hyperopt>=0.1.1->flair) (0.16.0)\n",
            "Requirement already satisfied: pymongo in /usr/local/lib/python3.7/dist-packages (from hyperopt>=0.1.1->flair) (3.12.0)\n",
            "Requirement already satisfied: networkx in /usr/local/lib/python3.7/dist-packages (from hyperopt>=0.1.1->flair) (2.6.3)\n",
            "Collecting importlib-metadata<4.0.0,>=3.7.0\n",
            "  Downloading importlib_metadata-3.10.1-py3-none-any.whl (14 kB)\n",
            "Collecting overrides<4.0.0,>=3.0.0\n",
            "  Downloading overrides-3.1.0.tar.gz (11 kB)\n",
            "Collecting requests\n",
            "  Downloading requests-2.26.0-py2.py3-none-any.whl (62 kB)\n",
            "\u001b[K     |████████████████████████████████| 62 kB 743 kB/s \n",
            "\u001b[?25hRequirement already satisfied: typing-extensions>=3.6.4 in /usr/local/lib/python3.7/dist-packages (from importlib-metadata<4.0.0,>=3.7.0->konoha<5.0.0,>=4.0.0->flair) (3.7.4.3)\n",
            "Requirement already satisfied: zipp>=0.5 in /usr/local/lib/python3.7/dist-packages (from importlib-metadata<4.0.0,>=3.7.0->konoha<5.0.0,>=4.0.0->flair) (3.5.0)\n",
            "Requirement already satisfied: kiwisolver>=1.0.1 in /usr/local/lib/python3.7/dist-packages (from matplotlib>=2.2.3->flair) (1.3.2)\n",
            "Requirement already satisfied: cycler>=0.10 in /usr/local/lib/python3.7/dist-packages (from matplotlib>=2.2.3->flair) (0.10.0)\n",
            "Requirement already satisfied: pyparsing!=2.0.4,!=2.1.2,!=2.1.6,>=2.0.1 in /usr/local/lib/python3.7/dist-packages (from matplotlib>=2.2.3->flair) (2.4.7)\n",
            "Requirement already satisfied: idna<4,>=2.5 in /usr/local/lib/python3.7/dist-packages (from requests->bpemb>=0.3.2->flair) (2.10)\n",
            "Requirement already satisfied: certifi>=2017.4.17 in /usr/local/lib/python3.7/dist-packages (from requests->bpemb>=0.3.2->flair) (2021.5.30)\n",
            "Requirement already satisfied: urllib3<1.27,>=1.21.1 in /usr/local/lib/python3.7/dist-packages (from requests->bpemb>=0.3.2->flair) (1.26.7)\n",
            "Requirement already satisfied: charset-normalizer~=2.0.0 in /usr/local/lib/python3.7/dist-packages (from requests->bpemb>=0.3.2->flair) (2.0.6)\n",
            "Requirement already satisfied: joblib>=0.11 in /usr/local/lib/python3.7/dist-packages (from scikit-learn>=0.21.3->flair) (1.0.1)\n",
            "Requirement already satisfied: packaging>=20.0 in /usr/local/lib/python3.7/dist-packages (from transformers>=4.0.0->flair) (21.0)\n",
            "Collecting tokenizers<0.11,>=0.10.1\n",
            "  Downloading tokenizers-0.10.3-cp37-cp37m-manylinux_2_5_x86_64.manylinux1_x86_64.manylinux_2_12_x86_64.manylinux2010_x86_64.whl (3.3 MB)\n",
            "\u001b[K     |████████████████████████████████| 3.3 MB 39.8 MB/s \n",
            "\u001b[?25hCollecting pyyaml>=5.1\n",
            "  Downloading PyYAML-5.4.1-cp37-cp37m-manylinux1_x86_64.whl (636 kB)\n",
            "\u001b[K     |████████████████████████████████| 636 kB 36.1 MB/s \n",
            "\u001b[?25hCollecting sacremoses\n",
            "  Downloading sacremoses-0.0.46-py3-none-any.whl (895 kB)\n",
            "\u001b[K     |████████████████████████████████| 895 kB 45.6 MB/s \n",
            "\u001b[?25hRequirement already satisfied: wcwidth in /usr/local/lib/python3.7/dist-packages (from ftfy->flair) (0.2.5)\n",
            "Requirement already satisfied: PySocks!=1.5.7,>=1.5.6 in /usr/local/lib/python3.7/dist-packages (from requests->bpemb>=0.3.2->flair) (1.7.1)\n",
            "Requirement already satisfied: click in /usr/local/lib/python3.7/dist-packages (from sacremoses->transformers>=4.0.0->flair) (7.1.2)\n",
            "Building wheels for collected packages: gdown, mpld3, overrides, segtok, sqlitedict, ftfy, langdetect, wikipedia-api\n",
            "  Building wheel for gdown (PEP 517) ... \u001b[?25l\u001b[?25hdone\n",
            "  Created wheel for gdown: filename=gdown-3.12.2-py3-none-any.whl size=9704 sha256=d38079b851d6d2c7af8e1bc5d6afd9669df0cab8038e614529c96697f0fc9fbc\n",
            "  Stored in directory: /root/.cache/pip/wheels/ba/e0/7e/726e872a53f7358b4b96a9975b04e98113b005cd8609a63abc\n",
            "  Building wheel for mpld3 (setup.py) ... \u001b[?25l\u001b[?25hdone\n",
            "  Created wheel for mpld3: filename=mpld3-0.3-py3-none-any.whl size=116702 sha256=817fbd698db594cd4c50fb79fd48e3606905dd8524e36b4fc92b3feb6af731c1\n",
            "  Stored in directory: /root/.cache/pip/wheels/26/70/6a/1c79e59951a41b4045497da187b2724f5659ca64033cf4548e\n",
            "  Building wheel for overrides (setup.py) ... \u001b[?25l\u001b[?25hdone\n",
            "  Created wheel for overrides: filename=overrides-3.1.0-py3-none-any.whl size=10186 sha256=f4d59c8cbd52f07c00c543fc65f3827dace2449d1bdb4ff0f8783e467ac1dcba\n",
            "  Stored in directory: /root/.cache/pip/wheels/3a/0d/38/01a9bc6e20dcfaf0a6a7b552d03137558ba1c38aea47644682\n",
            "  Building wheel for segtok (setup.py) ... \u001b[?25l\u001b[?25hdone\n",
            "  Created wheel for segtok: filename=segtok-1.5.10-py3-none-any.whl size=25030 sha256=747eb84b8cb44fcbb394a362e19261b2de539e1a3fff447c0d5c65e7f938d46a\n",
            "  Stored in directory: /root/.cache/pip/wheels/67/b7/d0/a121106e61339eee5ed083bc230b1c8dc422c49a5a28c2addd\n",
            "  Building wheel for sqlitedict (setup.py) ... \u001b[?25l\u001b[?25hdone\n",
            "  Created wheel for sqlitedict: filename=sqlitedict-1.7.0-py3-none-any.whl size=14392 sha256=488342525941506cd6210f7ae53c6d9b8fa94e605b96ff6a319c44df73b00a0f\n",
            "  Stored in directory: /root/.cache/pip/wheels/af/94/06/18c0e83e9e227da8f3582810b51f319bbfd181e508676a56c8\n",
            "  Building wheel for ftfy (setup.py) ... \u001b[?25l\u001b[?25hdone\n",
            "  Created wheel for ftfy: filename=ftfy-6.0.3-py3-none-any.whl size=41933 sha256=883f49e02763c67fae4bf82e2584a92bb32911d235c0f05a2781e28fc3e496b4\n",
            "  Stored in directory: /root/.cache/pip/wheels/19/f5/38/273eb3b5e76dfd850619312f693716ac4518b498f5ffb6f56d\n",
            "  Building wheel for langdetect (setup.py) ... \u001b[?25l\u001b[?25hdone\n",
            "  Created wheel for langdetect: filename=langdetect-1.0.9-py3-none-any.whl size=993242 sha256=997a8c478dc4c85aa0f29b872eeaf3b5cabebca809dbe51bbcc5d26e79b4d34a\n",
            "  Stored in directory: /root/.cache/pip/wheels/c5/96/8a/f90c59ed25d75e50a8c10a1b1c2d4c402e4dacfa87f3aff36a\n",
            "  Building wheel for wikipedia-api (setup.py) ... \u001b[?25l\u001b[?25hdone\n",
            "  Created wheel for wikipedia-api: filename=Wikipedia_API-0.5.4-py3-none-any.whl size=13475 sha256=1ffa41c47ae9cbdf38063671eb8675e658a284c622f90e00603254249b6034e9\n",
            "  Stored in directory: /root/.cache/pip/wheels/d3/24/56/58ba93cf78be162451144e7a9889603f437976ef1ae7013d04\n",
            "Successfully built gdown mpld3 overrides segtok sqlitedict ftfy langdetect wikipedia-api\n",
            "Installing collected packages: requests, importlib-metadata, tokenizers, sentencepiece, sacremoses, pyyaml, overrides, huggingface-hub, wikipedia-api, transformers, sqlitedict, segtok, mpld3, more-itertools, langdetect, konoha, janome, gdown, ftfy, deprecated, conllu, bpemb, flair\n",
            "  Attempting uninstall: requests\n",
            "    Found existing installation: requests 2.23.0\n",
            "    Uninstalling requests-2.23.0:\n",
            "      Successfully uninstalled requests-2.23.0\n",
            "  Attempting uninstall: importlib-metadata\n",
            "    Found existing installation: importlib-metadata 4.8.1\n",
            "    Uninstalling importlib-metadata-4.8.1:\n",
            "      Successfully uninstalled importlib-metadata-4.8.1\n",
            "  Attempting uninstall: pyyaml\n",
            "    Found existing installation: PyYAML 3.13\n",
            "    Uninstalling PyYAML-3.13:\n",
            "      Successfully uninstalled PyYAML-3.13\n",
            "  Attempting uninstall: more-itertools\n",
            "    Found existing installation: more-itertools 8.10.0\n",
            "    Uninstalling more-itertools-8.10.0:\n",
            "      Successfully uninstalled more-itertools-8.10.0\n",
            "  Attempting uninstall: gdown\n",
            "    Found existing installation: gdown 3.6.4\n",
            "    Uninstalling gdown-3.6.4:\n",
            "      Successfully uninstalled gdown-3.6.4\n",
            "\u001b[31mERROR: pip's dependency resolver does not currently take into account all the packages that are installed. This behaviour is the source of the following dependency conflicts.\n",
            "google-colab 1.0.0 requires requests~=2.23.0, but you have requests 2.26.0 which is incompatible.\n",
            "datascience 0.10.6 requires folium==0.2.1, but you have folium 0.8.3 which is incompatible.\u001b[0m\n",
            "Successfully installed bpemb-0.3.3 conllu-4.4.1 deprecated-1.2.13 flair-0.9 ftfy-6.0.3 gdown-3.12.2 huggingface-hub-0.0.17 importlib-metadata-3.10.1 janome-0.4.1 konoha-4.6.5 langdetect-1.0.9 more-itertools-8.8.0 mpld3-0.3 overrides-3.1.0 pyyaml-5.4.1 requests-2.26.0 sacremoses-0.0.46 segtok-1.5.10 sentencepiece-0.1.95 sqlitedict-1.7.0 tokenizers-0.10.3 transformers-4.11.2 wikipedia-api-0.5.4\n",
            "2021-10-04 11:03:41,663 https://nlp.informatik.hu-berlin.de/resources/models/sentiment-curated-fasttext-rnn/sentiment-en-mix-ft-rnn_v8.pt not found in cache, downloading to /tmp/tmpsawe033s\n"
          ]
        },
        {
          "output_type": "stream",
          "name": "stderr",
          "text": [
            "100%|██████████| 1241977025/1241977025 [00:53<00:00, 23317102.86B/s]"
          ]
        },
        {
          "output_type": "stream",
          "name": "stdout",
          "text": [
            "2021-10-04 11:04:35,334 copying /tmp/tmpsawe033s to cache at /root/.flair/models/sentiment-en-mix-ft-rnn_v8.pt\n"
          ]
        },
        {
          "output_type": "stream",
          "name": "stderr",
          "text": [
            "\n"
          ]
        },
        {
          "output_type": "stream",
          "name": "stdout",
          "text": [
            "2021-10-04 11:04:39,665 removing temp file /tmp/tmpsawe033s\n",
            "2021-10-04 11:04:39,840 loading file /root/.flair/models/sentiment-en-mix-ft-rnn_v8.pt\n",
            "[nltk_data] Downloading package punkt to /root/nltk_data...\n",
            "[nltk_data]   Unzipping tokenizers/punkt.zip.\n",
            "[nltk_data] Downloading package stopwords to /root/nltk_data...\n",
            "[nltk_data]   Unzipping corpora/stopwords.zip.\n",
            "[nltk_data] Downloading package wordnet to /root/nltk_data...\n",
            "[nltk_data]   Unzipping corpora/wordnet.zip.\n"
          ]
        },
        {
          "output_type": "execute_result",
          "data": {
            "text/plain": [
              "True"
            ]
          },
          "metadata": {},
          "execution_count": 1
        }
      ]
    },
    {
      "cell_type": "markdown",
      "metadata": {
        "id": "S-tLghSdWkcr"
      },
      "source": [
        "#**Chapter 1: Connecting to Amazon:**"
      ]
    },
    {
      "cell_type": "markdown",
      "metadata": {
        "id": "9iNPAXsuXDIL"
      },
      "source": [
        "In this chapter I will connect to the Amazon Cloud Storage using boto3. Using boto3, I will be able to connect to the amazon-reviews-pds bucket.\n",
        "I'll create a connection to the bucket using the resource method of boto3. \n",
        "The Amazon_product_reviews variable will connect to the Amazon product reviews dataset."
      ]
    },
    {
      "cell_type": "code",
      "metadata": {
        "colab": {
          "base_uri": "https://localhost:8080/"
        },
        "id": "9bsVThSbYrRa",
        "outputId": "491344ee-ff60-4d54-ef54-50f6869f4120"
      },
      "source": [
        " \n",
        "# declaring a connection to AWSS3\n",
        "s3conn = boto3.resource('s3',\n",
        "                        aws_access_key_id ='HIDDEN_FOR_SAFETY'  ,\n",
        "                        aws_secret_access_key = 'HIDDEN_FOR_SAFETY')\n",
        "Amazon_product_reviews = s3conn.Bucket('amazon-reviews-pds')  # Connect to a database of Amazon product reviews\n",
        "print(Amazon_product_reviews)"
      ],
      "execution_count": 2,
      "outputs": [
        {
          "output_type": "stream",
          "name": "stdout",
          "text": [
            "s3.Bucket(name='amazon-reviews-pds')\n"
          ]
        }
      ]
    },
    {
      "cell_type": "markdown",
      "metadata": {
        "id": "S237qYmibDYV"
      },
      "source": [
        "Let's do this:\n",
        "* Focus only on data from the tab separated values (tsv) folder.\n",
        "  * to do that, we will get all the keys of the files and keep them in a list, along with their size in bytes.\n",
        "  * Then, we will go over the list of keys and keep only the keys which include tsv objects containing reviews from the United States\n",
        "* Print out the elements of the said list."
      ]
    },
    {
      "cell_type": "markdown",
      "metadata": {
        "id": "Cdjil59wbBgr"
      },
      "source": [
        "To reiterate: I will loop over the keys_list and check for each item i in the list if it is both of the type tsv and is from the US. Each key that matches both conditions, will be saved into a filtered list. Finally, I will print the first 10 elements of the filtered keys."
      ]
    },
    {
      "cell_type": "code",
      "metadata": {
        "colab": {
          "base_uri": "https://localhost:8080/"
        },
        "id": "wDiKe_zwfl3H",
        "outputId": "6e322cfd-58fb-49af-8faf-da224b2ee0ad"
      },
      "source": [
        "keys_list = []\n",
        "for my_bucket_object in Amazon_product_reviews.objects.all():\n",
        "    keys_list.append([my_bucket_object.key,my_bucket_object.size])\n",
        "filtered_list=[]\n",
        "size=0\n",
        "for i in range(len(keys_list)):\n",
        "  if ('tsv' in (keys_list[i][0].lower()) and 'reviews_us' in (keys_list[i][0]).lower()):\n",
        "    filtered_list.append([keys_list[i][0],keys_list[i][1]])\n",
        "filtered_list[:]"
      ],
      "execution_count": 3,
      "outputs": [
        {
          "output_type": "execute_result",
          "data": {
            "text/plain": [
              "[['tsv/amazon_reviews_us_Apparel_v1_00.tsv.gz', 648641286],\n",
              " ['tsv/amazon_reviews_us_Automotive_v1_00.tsv.gz', 582145299],\n",
              " ['tsv/amazon_reviews_us_Baby_v1_00.tsv.gz', 357392893],\n",
              " ['tsv/amazon_reviews_us_Beauty_v1_00.tsv.gz', 914070021],\n",
              " ['tsv/amazon_reviews_us_Books_v1_00.tsv.gz', 2740337188],\n",
              " ['tsv/amazon_reviews_us_Books_v1_01.tsv.gz', 2692708591],\n",
              " ['tsv/amazon_reviews_us_Books_v1_02.tsv.gz', 1329539135],\n",
              " ['tsv/amazon_reviews_us_Camera_v1_00.tsv.gz', 442653086],\n",
              " ['tsv/amazon_reviews_us_Digital_Ebook_Purchase_v1_00.tsv.gz', 2689739299],\n",
              " ['tsv/amazon_reviews_us_Digital_Ebook_Purchase_v1_01.tsv.gz', 1294879074],\n",
              " ['tsv/amazon_reviews_us_Digital_Music_Purchase_v1_00.tsv.gz', 253570168],\n",
              " ['tsv/amazon_reviews_us_Digital_Software_v1_00.tsv.gz', 18997559],\n",
              " ['tsv/amazon_reviews_us_Digital_Video_Download_v1_00.tsv.gz', 506979922],\n",
              " ['tsv/amazon_reviews_us_Digital_Video_Games_v1_00.tsv.gz', 27442648],\n",
              " ['tsv/amazon_reviews_us_Electronics_v1_00.tsv.gz', 698828243],\n",
              " ['tsv/amazon_reviews_us_Furniture_v1_00.tsv.gz', 148982796],\n",
              " ['tsv/amazon_reviews_us_Gift_Card_v1_00.tsv.gz', 12134676],\n",
              " ['tsv/amazon_reviews_us_Grocery_v1_00.tsv.gz', 401337166],\n",
              " ['tsv/amazon_reviews_us_Health_Personal_Care_v1_00.tsv.gz', 1011180212],\n",
              " ['tsv/amazon_reviews_us_Home_Entertainment_v1_00.tsv.gz', 193168458],\n",
              " ['tsv/amazon_reviews_us_Home_Improvement_v1_00.tsv.gz', 503339178],\n",
              " ['tsv/amazon_reviews_us_Home_v1_00.tsv.gz', 1081002012],\n",
              " ['tsv/amazon_reviews_us_Jewelry_v1_00.tsv.gz', 247022254],\n",
              " ['tsv/amazon_reviews_us_Kitchen_v1_00.tsv.gz', 930744854],\n",
              " ['tsv/amazon_reviews_us_Lawn_and_Garden_v1_00.tsv.gz', 486772662],\n",
              " ['tsv/amazon_reviews_us_Luggage_v1_00.tsv.gz', 60320191],\n",
              " ['tsv/amazon_reviews_us_Major_Appliances_v1_00.tsv.gz', 24359816],\n",
              " ['tsv/amazon_reviews_us_Mobile_Apps_v1_00.tsv.gz', 557959415],\n",
              " ['tsv/amazon_reviews_us_Mobile_Electronics_v1_00.tsv.gz', 22870508],\n",
              " ['tsv/amazon_reviews_us_Music_v1_00.tsv.gz', 1521994296],\n",
              " ['tsv/amazon_reviews_us_Musical_Instruments_v1_00.tsv.gz', 193389086],\n",
              " ['tsv/amazon_reviews_us_Office_Products_v1_00.tsv.gz', 512323500],\n",
              " ['tsv/amazon_reviews_us_Outdoors_v1_00.tsv.gz', 448963100],\n",
              " ['tsv/amazon_reviews_us_PC_v1_00.tsv.gz', 1512903923],\n",
              " ['tsv/amazon_reviews_us_Personal_Care_Appliances_v1_00.tsv.gz', 17634794],\n",
              " ['tsv/amazon_reviews_us_Pet_Products_v1_00.tsv.gz', 515815253],\n",
              " ['tsv/amazon_reviews_us_Shoes_v1_00.tsv.gz', 642255314],\n",
              " ['tsv/amazon_reviews_us_Software_v1_00.tsv.gz', 94010685],\n",
              " ['tsv/amazon_reviews_us_Sports_v1_00.tsv.gz', 872478735],\n",
              " ['tsv/amazon_reviews_us_Tools_v1_00.tsv.gz', 333782939],\n",
              " ['tsv/amazon_reviews_us_Toys_v1_00.tsv.gz', 838451398],\n",
              " ['tsv/amazon_reviews_us_Video_DVD_v1_00.tsv.gz', 1512355451],\n",
              " ['tsv/amazon_reviews_us_Video_Games_v1_00.tsv.gz', 475199894],\n",
              " ['tsv/amazon_reviews_us_Video_v1_00.tsv.gz', 138929896],\n",
              " ['tsv/amazon_reviews_us_Watches_v1_00.tsv.gz', 162973819],\n",
              " ['tsv/amazon_reviews_us_Wireless_v1_00.tsv.gz', 1704713674]]"
            ]
          },
          "metadata": {},
          "execution_count": 3
        }
      ]
    },
    {
      "cell_type": "markdown",
      "metadata": {
        "id": "i2UMNYZ1f6KT"
      },
      "source": [
        "We Can see multiple datasets with different categories and different sizes in bytes."
      ]
    },
    {
      "cell_type": "markdown",
      "metadata": {
        "id": "DtBpSl0xgMy2"
      },
      "source": [
        "Since our resources are finite(Using google colab locally), I will want to do some analysis on a small dataset. let's find something which is relatively small. According to a quick calculation, Digital_Video_games seems to be about small enough. Let's download it. and do the following:\n",
        "* read the entire data from the Digital_video_games category into a pandas dataframe and call it *df*\n",
        "* print the number of datapoints and features.\n",
        "* we can calculate the average size of each data point(row)\n",
        "\n"
      ]
    },
    {
      "cell_type": "markdown",
      "metadata": {
        "id": "lEJrmiSZjUca"
      },
      "source": [
        "More Specifically: I will download the Digital_Video_Games data set, then go over it row by row, and trim it so it will be readable in the pandas data frame. Note that I have 2 replace methods for very close strings, for example \"b'\" and 'b\"'. this will get rid of the appropriate substring that I do not want in the final data frame. The replace method will only replace if it finds the substring. Additionally, when creating the data frame, I found out the rows 44914,118318 and 133454 ended up not being equal to 15 after the trimming, hence the if statement (I will remove them from the final data frame)."
      ]
    },
    {
      "cell_type": "code",
      "metadata": {
        "colab": {
          "base_uri": "https://localhost:8080/"
        },
        "id": "qpxhEOq0jmB4",
        "outputId": "fb779656-e690-445c-cc6e-e136647afef8"
      },
      "source": [
        "keys_list=filtered_list[:]\n",
        "print('file to read/stream: ', keys_list[13][0]) # downloading: Digital_Video_Games==13, aka row 13 in filtered_list above.\n",
        "# changing the 13 to something else will download a different data set. from filtered_list above. see output in previous code block\n",
        "fileToStream = keys_list[13][0]\n",
        "s3conn.Bucket('amazon-reviews-pds').download_file(fileToStream, 'tmp.gz')\n",
        "% ls /content/ -lah\n",
        "\n",
        "with gzip.open('/content/tmp.gz', 'rb') as f_in:\n",
        "    tmp = f_in.readlines() # Reading lines into a python object\n",
        "### importing sys to calculate the size of each row in bytes.\n",
        "import sys\n",
        "totalsize=0\n",
        "temp=tmp\n",
        "final_data=[]\n",
        "for row in range(len(temp)):\n",
        "  curr_row=str(temp[row])\n",
        "  trimmed_row=curr_row.strip().split(\"\\\\t\")\n",
        "  trimmed_row[0]=trimmed_row[0].replace(\"b'\",'')\n",
        "  trimmed_row[0]=trimmed_row[0].replace('b\"','')\n",
        "  trimmed_row[-1]=trimmed_row[-1].replace('\\\\n\"','')\n",
        "  trimmed_row[-1]=trimmed_row[-1].replace(\"\\\\n'\",'')\n",
        "  if (len(trimmed_row)==15):\n",
        "    final_data.append(trimmed_row)\n",
        "    #getting the size of each row for the average\n",
        "    totalsize=totalsize+sys.getsizeof(trimmed_row)\n",
        "\n",
        "print(\"========================================================================\")\n",
        "df=pd.DataFrame(data=final_data[1:],columns=final_data[0])\n",
        "print(\"The Number of rows is \",len(df) , \" and The number of Columns is \",len(df.columns))\n",
        "avgsize=totalsize/len(df)\n",
        "print(\"The Average size in bytes for each data point is \", round(avgsize,3))\n",
        "print(\"========================================================================\")\n"
      ],
      "execution_count": 4,
      "outputs": [
        {
          "output_type": "stream",
          "name": "stdout",
          "text": [
            "file to read/stream:  tsv/amazon_reviews_us_Digital_Video_Games_v1_00.tsv.gz\n",
            "total 27M\n",
            "drwxr-xr-x 1 root root 4.0K Oct  4 11:04 \u001b[0m\u001b[01;34m.\u001b[0m/\n",
            "drwxr-xr-x 1 root root 4.0K Oct  4 10:56 \u001b[01;34m..\u001b[0m/\n",
            "drwxr-xr-x 4 root root 4.0K Sep 30 17:11 \u001b[01;34m.config\u001b[0m/\n",
            "drwxr-xr-x 1 root root 4.0K Sep 30 17:12 \u001b[01;34msample_data\u001b[0m/\n",
            "-rw-r--r-- 1 root root  27M Oct  4 11:04 tmp.gz\n",
            "========================================================================\n",
            "The Number of rows is  145428  and The number of Columns is  15\n",
            "The Average size in bytes for each data point is  232.002\n",
            "========================================================================\n"
          ]
        }
      ]
    },
    {
      "cell_type": "markdown",
      "metadata": {
        "id": "F2SUDx0Lkzna"
      },
      "source": [
        "Let's see what the data frame looks like:"
      ]
    },
    {
      "cell_type": "code",
      "metadata": {
        "colab": {
          "base_uri": "https://localhost:8080/",
          "height": 747
        },
        "id": "nUJogCBhk3me",
        "outputId": "cdd603bd-bd75-4393-8ab5-f2041819720d"
      },
      "source": [
        "df.head(10)"
      ],
      "execution_count": 5,
      "outputs": [
        {
          "output_type": "execute_result",
          "data": {
            "text/html": [
              "<div>\n",
              "<style scoped>\n",
              "    .dataframe tbody tr th:only-of-type {\n",
              "        vertical-align: middle;\n",
              "    }\n",
              "\n",
              "    .dataframe tbody tr th {\n",
              "        vertical-align: top;\n",
              "    }\n",
              "\n",
              "    .dataframe thead th {\n",
              "        text-align: right;\n",
              "    }\n",
              "</style>\n",
              "<table border=\"1\" class=\"dataframe\">\n",
              "  <thead>\n",
              "    <tr style=\"text-align: right;\">\n",
              "      <th></th>\n",
              "      <th>marketplace</th>\n",
              "      <th>customer_id</th>\n",
              "      <th>review_id</th>\n",
              "      <th>product_id</th>\n",
              "      <th>product_parent</th>\n",
              "      <th>product_title</th>\n",
              "      <th>product_category</th>\n",
              "      <th>star_rating</th>\n",
              "      <th>helpful_votes</th>\n",
              "      <th>total_votes</th>\n",
              "      <th>vine</th>\n",
              "      <th>verified_purchase</th>\n",
              "      <th>review_headline</th>\n",
              "      <th>review_body</th>\n",
              "      <th>review_date</th>\n",
              "    </tr>\n",
              "  </thead>\n",
              "  <tbody>\n",
              "    <tr>\n",
              "      <th>0</th>\n",
              "      <td>US</td>\n",
              "      <td>21269168</td>\n",
              "      <td>RSH1OZ87OYK92</td>\n",
              "      <td>B013PURRZW</td>\n",
              "      <td>603406193</td>\n",
              "      <td>Madden NFL 16 - Xbox One Digital Code</td>\n",
              "      <td>Digital_Video_Games</td>\n",
              "      <td>2</td>\n",
              "      <td>2</td>\n",
              "      <td>3</td>\n",
              "      <td>N</td>\n",
              "      <td>N</td>\n",
              "      <td>A slight improvement from last year.</td>\n",
              "      <td>I keep buying madden every year hoping they ge...</td>\n",
              "      <td>2015-08-31</td>\n",
              "    </tr>\n",
              "    <tr>\n",
              "      <th>1</th>\n",
              "      <td>US</td>\n",
              "      <td>133437</td>\n",
              "      <td>R1WFOQ3N9BO65I</td>\n",
              "      <td>B00F4CEHNK</td>\n",
              "      <td>341969535</td>\n",
              "      <td>Xbox Live Gift Card</td>\n",
              "      <td>Digital_Video_Games</td>\n",
              "      <td>5</td>\n",
              "      <td>0</td>\n",
              "      <td>0</td>\n",
              "      <td>N</td>\n",
              "      <td>Y</td>\n",
              "      <td>Five Stars</td>\n",
              "      <td>Awesome</td>\n",
              "      <td>2015-08-31</td>\n",
              "    </tr>\n",
              "    <tr>\n",
              "      <th>2</th>\n",
              "      <td>US</td>\n",
              "      <td>45765011</td>\n",
              "      <td>R3YOOS71KM5M9</td>\n",
              "      <td>B00DNHLFQA</td>\n",
              "      <td>951665344</td>\n",
              "      <td>Command &amp; Conquer The Ultimate Collection [Ins...</td>\n",
              "      <td>Digital_Video_Games</td>\n",
              "      <td>5</td>\n",
              "      <td>0</td>\n",
              "      <td>0</td>\n",
              "      <td>N</td>\n",
              "      <td>Y</td>\n",
              "      <td>Hail to the great Yuri!</td>\n",
              "      <td>If you are prepping for the end of the world t...</td>\n",
              "      <td>2015-08-31</td>\n",
              "    </tr>\n",
              "    <tr>\n",
              "      <th>3</th>\n",
              "      <td>US</td>\n",
              "      <td>113118</td>\n",
              "      <td>R3R14UATT3OUFU</td>\n",
              "      <td>B004RMK5QG</td>\n",
              "      <td>395682204</td>\n",
              "      <td>Playstation Plus Subscription</td>\n",
              "      <td>Digital_Video_Games</td>\n",
              "      <td>5</td>\n",
              "      <td>0</td>\n",
              "      <td>0</td>\n",
              "      <td>N</td>\n",
              "      <td>Y</td>\n",
              "      <td>Five Stars</td>\n",
              "      <td>Perfect</td>\n",
              "      <td>2015-08-31</td>\n",
              "    </tr>\n",
              "    <tr>\n",
              "      <th>4</th>\n",
              "      <td>US</td>\n",
              "      <td>22151364</td>\n",
              "      <td>RV2W9SGDNQA2C</td>\n",
              "      <td>B00G9BNLQE</td>\n",
              "      <td>640460561</td>\n",
              "      <td>Saints Row IV - Enter The Dominatrix [Online G...</td>\n",
              "      <td>Digital_Video_Games</td>\n",
              "      <td>5</td>\n",
              "      <td>0</td>\n",
              "      <td>0</td>\n",
              "      <td>N</td>\n",
              "      <td>Y</td>\n",
              "      <td>Five Stars</td>\n",
              "      <td>Awesome!</td>\n",
              "      <td>2015-08-31</td>\n",
              "    </tr>\n",
              "    <tr>\n",
              "      <th>5</th>\n",
              "      <td>US</td>\n",
              "      <td>22151364</td>\n",
              "      <td>R3CFKLIZ0I2KOB</td>\n",
              "      <td>B00IMIL498</td>\n",
              "      <td>621922192</td>\n",
              "      <td>Double Dragon: Neon [Online Game Code]</td>\n",
              "      <td>Digital_Video_Games</td>\n",
              "      <td>5</td>\n",
              "      <td>0</td>\n",
              "      <td>0</td>\n",
              "      <td>N</td>\n",
              "      <td>Y</td>\n",
              "      <td>Five Stars</td>\n",
              "      <td>Awesome!</td>\n",
              "      <td>2015-08-31</td>\n",
              "    </tr>\n",
              "    <tr>\n",
              "      <th>6</th>\n",
              "      <td>US</td>\n",
              "      <td>38426028</td>\n",
              "      <td>R1LRYU1V0T3O38</td>\n",
              "      <td>B00S00IJH8</td>\n",
              "      <td>215163395</td>\n",
              "      <td>Sims 4</td>\n",
              "      <td>Digital_Video_Games</td>\n",
              "      <td>4</td>\n",
              "      <td>0</td>\n",
              "      <td>0</td>\n",
              "      <td>N</td>\n",
              "      <td>Y</td>\n",
              "      <td>i like the new skills like herbalism in this</td>\n",
              "      <td>i like the new skills like herbalism in this, ...</td>\n",
              "      <td>2015-08-31</td>\n",
              "    </tr>\n",
              "    <tr>\n",
              "      <th>7</th>\n",
              "      <td>US</td>\n",
              "      <td>6057518</td>\n",
              "      <td>R44QKV6FE5CJ2</td>\n",
              "      <td>B004RMK4BC</td>\n",
              "      <td>384246568</td>\n",
              "      <td>Playstation Network Card</td>\n",
              "      <td>Digital_Video_Games</td>\n",
              "      <td>5</td>\n",
              "      <td>0</td>\n",
              "      <td>0</td>\n",
              "      <td>N</td>\n",
              "      <td>Y</td>\n",
              "      <td>Five Stars</td>\n",
              "      <td>Super</td>\n",
              "      <td>2015-08-31</td>\n",
              "    </tr>\n",
              "    <tr>\n",
              "      <th>8</th>\n",
              "      <td>US</td>\n",
              "      <td>20715661</td>\n",
              "      <td>R2TX1KLPXXXNYS</td>\n",
              "      <td>B00K59HKIQ</td>\n",
              "      <td>384246568</td>\n",
              "      <td>Playstation Network Card</td>\n",
              "      <td>Digital_Video_Games</td>\n",
              "      <td>5</td>\n",
              "      <td>0</td>\n",
              "      <td>0</td>\n",
              "      <td>N</td>\n",
              "      <td>Y</td>\n",
              "      <td>Easy &amp; Fast</td>\n",
              "      <td>Excellent, fast and secure!!!</td>\n",
              "      <td>2015-08-31</td>\n",
              "    </tr>\n",
              "    <tr>\n",
              "      <th>9</th>\n",
              "      <td>US</td>\n",
              "      <td>26540306</td>\n",
              "      <td>R1JEEW4C6R89BA</td>\n",
              "      <td>B00K59HKIQ</td>\n",
              "      <td>384246568</td>\n",
              "      <td>Playstation Network Card</td>\n",
              "      <td>Digital_Video_Games</td>\n",
              "      <td>5</td>\n",
              "      <td>0</td>\n",
              "      <td>0</td>\n",
              "      <td>N</td>\n",
              "      <td>Y</td>\n",
              "      <td>Five Stars</td>\n",
              "      <td>Ok</td>\n",
              "      <td>2015-08-31</td>\n",
              "    </tr>\n",
              "  </tbody>\n",
              "</table>\n",
              "</div>"
            ],
            "text/plain": [
              "  marketplace  ... review_date\n",
              "0          US  ...  2015-08-31\n",
              "1          US  ...  2015-08-31\n",
              "2          US  ...  2015-08-31\n",
              "3          US  ...  2015-08-31\n",
              "4          US  ...  2015-08-31\n",
              "5          US  ...  2015-08-31\n",
              "6          US  ...  2015-08-31\n",
              "7          US  ...  2015-08-31\n",
              "8          US  ...  2015-08-31\n",
              "9          US  ...  2015-08-31\n",
              "\n",
              "[10 rows x 15 columns]"
            ]
          },
          "metadata": {},
          "execution_count": 5
        }
      ]
    },
    {
      "cell_type": "markdown",
      "metadata": {
        "id": "jx7ryokLlN0K"
      },
      "source": [
        "#**Chapter 2:Preprocessing & Feature Engineering:**"
      ]
    },
    {
      "cell_type": "markdown",
      "metadata": {
        "id": "Dz8hkCnglV2M"
      },
      "source": [
        "In this chapter I will turn the text data into features that will help with making predictions. I will also do some additional tinkering with the data and preprocess it so it could be fed into the classifier."
      ]
    },
    {
      "cell_type": "markdown",
      "metadata": {
        "id": "YIPoF8oWl2Uu"
      },
      "source": [
        "Let's create a function,call it nlp_proc, which will do the following:\n",
        "* create a column called reviews_processed, which will be hold the review_body strings from the above dataframe *df*, all in lower-case. The next transformations will be done on the newly created reviews_processed column.\n",
        "* use the word_tokenize method to split the strings into words and keep only the alpha numerical values.\n",
        "* Remove redundancies\n",
        "* Removing junk words\n",
        "* rejoin the words back into a single string\n",
        "* Remove datapoints which ended up being empty strings after this whole process."
      ]
    },
    {
      "cell_type": "code",
      "metadata": {
        "id": "T8G4BEg1my_r"
      },
      "source": [
        "def nlp_proc(dataF):\n",
        "  #br is not a word, its a line break tag leftover from the trimming, \n",
        "  useless='br'\n",
        "  dataF['reviews_processed']=dataF['review_body'].str.lower()\n",
        "  engstop=stopwords.words('english')\n",
        "  for i in range(len(dataF)):\n",
        "    tokenized=word_tokenize(dataF['reviews_processed'][i])\n",
        "    alphatokenized=[]\n",
        "    for token in range(len(tokenized)):\n",
        "      if (tokenized[token].isalpha()):\n",
        "        alphatokenized.append(tokenized[token])\n",
        "    lmtzr=WordNetLemmatizer()\n",
        "    lemmatizedlist=[]\n",
        "    for alpha in range(len(alphatokenized)):\n",
        "      if (lmtzr.lemmatize(alphatokenized[alpha]) not in lemmatizedlist):\n",
        "        lemmatizedlist.append(lmtzr.lemmatize(alphatokenized[alpha]))\n",
        "    ## removing non informative words\n",
        "### stopwords are in engstop\n",
        "    informwords=[]\n",
        "    for wrd in lemmatizedlist:\n",
        "      if wrd not in engstop:\n",
        "        informwords.append(wrd)\n",
        "    ## remivoving line break tag leftover from the trimming so far.\n",
        "    if useless in informwords: informwords.remove(useless)\n",
        "    ### back to string\n",
        "    temp_string=' '.join([str(item) for item in informwords])\n",
        "    dataF['reviews_processed'][i]=temp_string\n",
        "### turning empty strings into NA's recognized by pandas.\n",
        "  ### I made sure the following code does exactly as asked in 7.\n",
        "  ### reviews_processed will have empty string if the review_body had an empty string\n",
        "  #### id's of empty strings in review_body\n",
        "  #RKHI9WDB7S5WR\n",
        "  #R2UJ6J6TUON90A\n",
        "  dataF['reviews_processed'].replace('', np.nan, inplace=True)\n",
        "  dataF.dropna(subset=['reviews_processed'], inplace=True)\n",
        "  ### reindexing the data frame so we can iterate over it more easily.\n",
        "  dataF.reset_index(drop=True, inplace=True)\n",
        "  return dataF"
      ],
      "execution_count": 6,
      "outputs": []
    },
    {
      "cell_type": "markdown",
      "metadata": {
        "id": "UcMocd38m8g1"
      },
      "source": [
        "This will take a while..."
      ]
    },
    {
      "cell_type": "code",
      "metadata": {
        "id": "rVfsuIlRm6h9"
      },
      "source": [
        "df=nlp_proc(df)"
      ],
      "execution_count": 7,
      "outputs": []
    },
    {
      "cell_type": "markdown",
      "metadata": {
        "id": "s_l1ANngp_JC"
      },
      "source": [
        "Let's see the fruits of our labor..."
      ]
    },
    {
      "cell_type": "code",
      "metadata": {
        "colab": {
          "base_uri": "https://localhost:8080/"
        },
        "id": "8Egi1FO9qC6o",
        "outputId": "8a250986-274f-481e-a5ce-32fbac29d4e6"
      },
      "source": [
        "df.reviews_processed.head(20)"
      ],
      "execution_count": 8,
      "outputs": [
        {
          "output_type": "execute_result",
          "data": {
            "text/plain": [
              "0     keep buying madden every year hoping get back ...\n",
              "1                                               awesome\n",
              "2     prepping end world one thing installed pc hail...\n",
              "3                                               perfect\n",
              "4                                               awesome\n",
              "5                                               awesome\n",
              "6     like new skill herbalism camping fun also buil...\n",
              "7                                                 super\n",
              "8                                 excellent fast secure\n",
              "9                                                    ok\n",
              "10    ha written many others quickly lost interest g...\n",
              "11    probably best game learning aspect real estate...\n",
              "12                                              awesome\n",
              "13                                 cool lages alot time\n",
              "14                      lame purchase almost never made\n",
              "15                                                great\n",
              "16                                              awesome\n",
              "17    pretty good first brink consciousness game dor...\n",
              "18                                        say xbox live\n",
              "19    fast receive ofc trustworthy safe place buy us...\n",
              "Name: reviews_processed, dtype: object"
            ]
          },
          "metadata": {},
          "execution_count": 8
        }
      ]
    },
    {
      "cell_type": "markdown",
      "metadata": {
        "id": "cLv2N8kAqFRu"
      },
      "source": [
        "Now that we \"trimmed\" the strings, we want to get some Sentiment analysis on them, to see if theyre either positive or negative, using the flair library.\n",
        "Let's use a pretrained model to predict if the sentences are positive or negative I will use the pretrained model on the first 20 reviews in df.reviews_processed to see if we can get a feel / agree with the output."
      ]
    },
    {
      "cell_type": "code",
      "metadata": {
        "colab": {
          "base_uri": "https://localhost:8080/"
        },
        "id": "GukdjopPx6rm",
        "outputId": "8d927104-a451-434b-dad9-c772b970dd50"
      },
      "source": [
        "classifier = TextClassifier.load('sentiment-fast')\n",
        "for sentiment in range(20):\n",
        "  ### processing...\n",
        "  sentence = Sentence(df.reviews_processed[sentiment])\n",
        "  classifier.predict(sentence)\n",
        "  print(\"The Sentiment is : \", sentence.labels[0].value,\" ==== The Score is \", round(sentence.labels[0].score,5), \" =====  The Review is  \",df.reviews_processed[sentiment])"
      ],
      "execution_count": 9,
      "outputs": [
        {
          "output_type": "stream",
          "name": "stdout",
          "text": [
            "2021-10-04 11:14:24,040 loading file /root/.flair/models/sentiment-en-mix-ft-rnn_v8.pt\n",
            "The Sentiment is :  NEGATIVE  ==== The Score is  0.99993  =====  The Review is   keep buying madden every year hoping get back football version little better last saying game look great thing wrong animation way player always tripping gameplay still slowed bloated control used take two button giant pita done opponent snap ball play clock run turbo movement slow awkward liked guessing like chance anything training online crossing finger rest one recommend buy bundle come download hate trading gamestop\n",
            "The Sentiment is :  POSITIVE  ==== The Score is  0.99709  =====  The Review is   awesome\n",
            "The Sentiment is :  POSITIVE  ==== The Score is  0.85165  =====  The Review is   prepping end world one thing installed pc hail great yuri\n",
            "The Sentiment is :  POSITIVE  ==== The Score is  0.99409  =====  The Review is   perfect\n",
            "The Sentiment is :  POSITIVE  ==== The Score is  0.99709  =====  The Review is   awesome\n",
            "The Sentiment is :  POSITIVE  ==== The Score is  0.99709  =====  The Review is   awesome\n",
            "The Sentiment is :  POSITIVE  ==== The Score is  0.97093  =====  The Review is   like new skill herbalism camping fun also build mode item\n",
            "The Sentiment is :  POSITIVE  ==== The Score is  0.95087  =====  The Review is   super\n",
            "The Sentiment is :  POSITIVE  ==== The Score is  0.99753  =====  The Review is   excellent fast secure\n",
            "The Sentiment is :  POSITIVE  ==== The Score is  0.56396  =====  The Review is   ok\n",
            "The Sentiment is :  NEGATIVE  ==== The Score is  0.99488  =====  The Review is   ha written many others quickly lost interest game still playing civ love shame ready expanded version waited decade better wa evolution total rewrite good really hope come use starting point forget ever happened failing place market strategy involves building civilisation\n",
            "The Sentiment is :  POSITIVE  ==== The Score is  0.99843  =====  The Review is   probably best game learning aspect real estate available hipsoft really hit ball park one high educational value well entertaining term leading basic development even though several year old know availability downloads apps mean still must budding mogul tomorrow\n",
            "The Sentiment is :  POSITIVE  ==== The Score is  0.99709  =====  The Review is   awesome\n",
            "The Sentiment is :  POSITIVE  ==== The Score is  0.9736  =====  The Review is   cool lages alot time\n",
            "The Sentiment is :  NEGATIVE  ==== The Score is  0.99918  =====  The Review is   lame purchase almost never made\n",
            "The Sentiment is :  POSITIVE  ==== The Score is  0.99223  =====  The Review is   great\n",
            "The Sentiment is :  POSITIVE  ==== The Score is  0.99709  =====  The Review is   awesome\n",
            "The Sentiment is :  POSITIVE  ==== The Score is  0.98271  =====  The Review is   pretty good first brink consciousness game dorian gray\n",
            "The Sentiment is :  POSITIVE  ==== The Score is  0.61781  =====  The Review is   say xbox live\n",
            "The Sentiment is :  POSITIVE  ==== The Score is  0.99636  =====  The Review is   fast receive ofc trustworthy safe place buy using credit card\n"
          ]
        }
      ]
    },
    {
      "cell_type": "markdown",
      "metadata": {
        "id": "HAV6Xm5ly6G_"
      },
      "source": [
        "I guess I can agree with the pretrained model's assessment. But when running the code, I noticed that it takes a pretty long time to run, let's see how long it takes for different numbers of data points...\n",
        "Let's calculate the time it takes to compute the sentiments of 20,50,100,1000 and 10000 data points."
      ]
    },
    {
      "cell_type": "code",
      "metadata": {
        "colab": {
          "base_uri": "https://localhost:8080/"
        },
        "id": "pOkI_lCFzHAc",
        "outputId": "d38feb09-48cb-4d33-81b1-0c3794944924"
      },
      "source": [
        "# creating a function that take a column of strings, and outputs it as a list of Sentence types.\n",
        "### example/reminder for me:\n",
        "### examplelist=Sentifier(df.reviews_processed[:10])\n",
        "def Sentifier(dfcol):\n",
        "  outlist=[]\n",
        "  for i in range(len(dfcol)):\n",
        "    outlist.append(Sentence(dfcol[i]))\n",
        "  return outlist\n",
        "\n",
        "#sentifying the datapoints first. this is to make the comparison more intuitive.\n",
        "sentified_datapoints=Sentifier(df.reviews_processed[:10000])\n",
        "### computing the time to compute the sentiments of 20,50,100,1000,10000 datapoints.\n",
        "### sentify before everything.\n",
        "import time\n",
        "timelist=[]\n",
        "sentimentlist=[20,50,100,1000,10000]\n",
        "for datapoints in range(len(sentimentlist)):\n",
        "  start_time=time.time()\n",
        "  for sentiment in range(sentimentlist[datapoints]):\n",
        "    sentence = sentified_datapoints[sentiment]\n",
        "    classifier.predict(sentence)\n",
        "  endtime=time.time()-start_time\n",
        "  timelist.append(endtime)\n",
        "\n",
        "print('SentimentList',sentimentlist,'      Time List: ',timelist)\n",
        "average_time_approx=(timelist[0]/sentimentlist[0]+timelist[1]/sentimentlist[1]+timelist[2]/sentimentlist[2])/3\n",
        "print('On average, the time per data point is about ' ,round(average_time_approx,4),' seconds. so it would take approximately',round(144991*round(average_time_approx,4),4),'seconds for the entire data set')"
      ],
      "execution_count": 10,
      "outputs": [
        {
          "output_type": "stream",
          "name": "stdout",
          "text": [
            "SentimentList [20, 50, 100, 1000, 10000]       Time List:  [0.04247331619262695, 0.13058924674987793, 0.21476101875305176, 2.4110569953918457, 23.877010583877563]\n",
            "On average, the time per data point is about  0.0023  seconds. so it would take approximately 333.4793 seconds for the entire data set\n"
          ]
        }
      ]
    },
    {
      "cell_type": "markdown",
      "metadata": {
        "id": "6H_k18Wg0Rsl"
      },
      "source": [
        "according to my naive estimation it would take a pretty long time for the entire data set. I think I will need to do some mini-batching to speed things up."
      ]
    },
    {
      "cell_type": "markdown",
      "metadata": {
        "id": "NN0jEwjG0j1X"
      },
      "source": [
        "Let's define a batch function that will create mini-batches from a given list.\n"
      ]
    },
    {
      "cell_type": "code",
      "metadata": {
        "id": "yvLwF78519EV"
      },
      "source": [
        "## iterlist must be a list. ex=[]\n",
        "### returns a list of lists, each sub-list has a batch.\n",
        "def batch(iterlist,mini_batch_size):\n",
        "  batch_list=[]\n",
        "  if mini_batch_size >= len(iterlist):\n",
        "    return iterlist\n",
        "  if (len(iterlist) % mini_batch_size )!=0:\n",
        "    batch_list.append(iterlist[:len(iterlist) % mini_batch_size])\n",
        "    iterlist=iterlist[len(iterlist) % mini_batch_size:]\n",
        "  while iterlist:\n",
        "    batch_list.append(iterlist[:mini_batch_size])\n",
        "    iterlist=iterlist[mini_batch_size:]\n",
        "  return batch_list"
      ],
      "execution_count": 11,
      "outputs": []
    },
    {
      "cell_type": "markdown",
      "metadata": {
        "id": "zGtqpB6B2B3e"
      },
      "source": [
        "Defining a get_sentiment function that will take a mini batch of the text data points and will output the predictions for the given minibatch"
      ]
    },
    {
      "cell_type": "code",
      "metadata": {
        "id": "ygdWcWlH2dKt"
      },
      "source": [
        "def get_sentiment(sent_list):\n",
        "  sent_score=[]\n",
        "  sent_value=[]\n",
        "  for i in range(len(sent_list)):\n",
        "    ## each location i in sent_list is holding many elements of different texts, the size of the mini batch size\n",
        "    ### hence the predict is happening on a list and it predicts on a batch-sized prediction at once.\n",
        "    classifier.predict(sent_list[i],verbose=True)\n",
        "    ## saving the scores and values\n",
        "    for j in range(len(sent_list[i])):\n",
        "      sent_score.append(sent_list[i][j].labels[0].score)\n",
        "      sent_value.append(sent_list[i][j].labels[0].value)\n",
        "  return [sent_score,sent_value]"
      ],
      "execution_count": 12,
      "outputs": []
    },
    {
      "cell_type": "markdown",
      "metadata": {
        "id": "LQxcxh972ss0"
      },
      "source": [
        "Now That I have the appropriate functions I will use ALL OF Them on 10000 data points. Then I will compare the time it took to process the sentiments with both batch and get_sentiment VS the naive approach.\n",
        "Note that to make it as fair as possible, and because the .predict method does messy things. I will in both cases, preprocess the data points with my Sentifier function."
      ]
    },
    {
      "cell_type": "code",
      "metadata": {
        "id": "KrKU6RSi3Cs6"
      },
      "source": [
        "### preproccessing before timing, to make it as fair as possible.\n",
        "total_batch=Sentifier(df.reviews_processed[:10000])"
      ],
      "execution_count": 13,
      "outputs": []
    },
    {
      "cell_type": "markdown",
      "metadata": {
        "id": "mWkual0Z3E6L"
      },
      "source": [
        "Now I will use both functions created above on the total_batch data and see how much time it takes to predict.\n"
      ]
    },
    {
      "cell_type": "code",
      "metadata": {
        "colab": {
          "base_uri": "https://localhost:8080/"
        },
        "id": "ycLqfYYz3KZn",
        "outputId": "58451eaa-58ef-4ea6-beea-a500ce7a0005"
      },
      "source": [
        "start_time=time.time()\n",
        "batched_data=batch(total_batch,128)\n",
        "sentiment_data=get_sentiment(batched_data)\n",
        "endtime=time.time()-start_time\n",
        "print(\"\\n \\n Using Both Batch() and get_sentiment() functions took \",endtime,\" Seconds\")"
      ],
      "execution_count": 14,
      "outputs": [
        {
          "output_type": "stream",
          "name": "stderr",
          "text": [
            "Inferencing on batch 1: 100%|██████████| 1/1 [00:00<00:00, 43.12it/s]\n",
            "Inferencing on batch 4: 100%|██████████| 4/4 [00:00<00:00, 42.05it/s]\n",
            "Inferencing on batch 4: 100%|██████████| 4/4 [00:00<00:00, 32.29it/s]\n",
            "Inferencing on batch 4: 100%|██████████| 4/4 [00:00<00:00, 25.12it/s]\n",
            "Inferencing on batch 4: 100%|██████████| 4/4 [00:00<00:00, 37.71it/s]\n",
            "Inferencing on batch 4: 100%|██████████| 4/4 [00:00<00:00, 24.31it/s]\n",
            "Inferencing on batch 4: 100%|██████████| 4/4 [00:00<00:00, 27.48it/s]\n",
            "Inferencing on batch 4: 100%|██████████| 4/4 [00:00<00:00, 21.58it/s]\n",
            "Inferencing on batch 4: 100%|██████████| 4/4 [00:00<00:00, 28.03it/s]\n",
            "Inferencing on batch 4: 100%|██████████| 4/4 [00:00<00:00, 27.94it/s]\n",
            "Inferencing on batch 4: 100%|██████████| 4/4 [00:00<00:00, 22.17it/s]\n",
            "Inferencing on batch 4: 100%|██████████| 4/4 [00:00<00:00, 32.00it/s]\n",
            "Inferencing on batch 4: 100%|██████████| 4/4 [00:00<00:00, 35.28it/s]\n",
            "Inferencing on batch 4: 100%|██████████| 4/4 [00:00<00:00, 29.32it/s]\n",
            "Inferencing on batch 4: 100%|██████████| 4/4 [00:00<00:00, 22.38it/s]\n",
            "Inferencing on batch 4: 100%|██████████| 4/4 [00:00<00:00, 29.14it/s]\n",
            "Inferencing on batch 4: 100%|██████████| 4/4 [00:00<00:00, 31.93it/s]\n",
            "Inferencing on batch 4: 100%|██████████| 4/4 [00:00<00:00, 37.73it/s]\n",
            "Inferencing on batch 4: 100%|██████████| 4/4 [00:00<00:00, 26.29it/s]\n",
            "Inferencing on batch 4: 100%|██████████| 4/4 [00:00<00:00, 26.16it/s]\n",
            "Inferencing on batch 4: 100%|██████████| 4/4 [00:00<00:00, 42.26it/s]\n",
            "Inferencing on batch 4: 100%|██████████| 4/4 [00:00<00:00, 26.07it/s]\n",
            "Inferencing on batch 4: 100%|██████████| 4/4 [00:00<00:00, 33.07it/s]\n",
            "Inferencing on batch 4: 100%|██████████| 4/4 [00:00<00:00, 30.51it/s]\n",
            "Inferencing on batch 4: 100%|██████████| 4/4 [00:00<00:00, 16.89it/s]\n",
            "Inferencing on batch 4: 100%|██████████| 4/4 [00:00<00:00, 24.68it/s]\n",
            "Inferencing on batch 4: 100%|██████████| 4/4 [00:00<00:00, 32.73it/s]\n",
            "Inferencing on batch 4: 100%|██████████| 4/4 [00:00<00:00, 26.04it/s]\n",
            "Inferencing on batch 4: 100%|██████████| 4/4 [00:00<00:00, 21.75it/s]\n",
            "Inferencing on batch 4: 100%|██████████| 4/4 [00:00<00:00, 35.07it/s]\n",
            "Inferencing on batch 4: 100%|██████████| 4/4 [00:00<00:00, 40.62it/s]\n",
            "Inferencing on batch 4: 100%|██████████| 4/4 [00:00<00:00, 24.20it/s]\n",
            "Inferencing on batch 4: 100%|██████████| 4/4 [00:00<00:00, 21.59it/s]\n",
            "Inferencing on batch 4: 100%|██████████| 4/4 [00:00<00:00, 16.50it/s]\n",
            "Inferencing on batch 4: 100%|██████████| 4/4 [00:00<00:00, 22.28it/s]\n",
            "Inferencing on batch 4: 100%|██████████| 4/4 [00:00<00:00, 24.50it/s]\n",
            "Inferencing on batch 4: 100%|██████████| 4/4 [00:00<00:00, 37.65it/s]\n",
            "Inferencing on batch 4: 100%|██████████| 4/4 [00:00<00:00, 29.72it/s]\n",
            "Inferencing on batch 4: 100%|██████████| 4/4 [00:00<00:00, 24.43it/s]\n",
            "Inferencing on batch 4: 100%|██████████| 4/4 [00:00<00:00, 24.26it/s]\n",
            "Inferencing on batch 4: 100%|██████████| 4/4 [00:00<00:00, 26.04it/s]\n",
            "Inferencing on batch 4: 100%|██████████| 4/4 [00:00<00:00, 27.39it/s]\n",
            "Inferencing on batch 4: 100%|██████████| 4/4 [00:00<00:00, 33.65it/s]\n",
            "Inferencing on batch 4: 100%|██████████| 4/4 [00:00<00:00, 25.69it/s]\n",
            "Inferencing on batch 4: 100%|██████████| 4/4 [00:00<00:00, 34.12it/s]\n",
            "Inferencing on batch 4: 100%|██████████| 4/4 [00:00<00:00, 43.26it/s]\n",
            "Inferencing on batch 4: 100%|██████████| 4/4 [00:00<00:00, 33.39it/s]\n",
            "Inferencing on batch 4: 100%|██████████| 4/4 [00:00<00:00, 15.68it/s]\n",
            "Inferencing on batch 4: 100%|██████████| 4/4 [00:00<00:00, 31.00it/s]\n",
            "Inferencing on batch 4: 100%|██████████| 4/4 [00:00<00:00, 42.33it/s]\n",
            "Inferencing on batch 4: 100%|██████████| 4/4 [00:00<00:00, 36.36it/s]\n",
            "Inferencing on batch 4: 100%|██████████| 4/4 [00:00<00:00, 21.36it/s]\n",
            "Inferencing on batch 4: 100%|██████████| 4/4 [00:00<00:00, 31.41it/s]\n",
            "Inferencing on batch 4: 100%|██████████| 4/4 [00:00<00:00, 23.69it/s]\n",
            "Inferencing on batch 4: 100%|██████████| 4/4 [00:00<00:00, 25.30it/s]\n",
            "Inferencing on batch 4: 100%|██████████| 4/4 [00:00<00:00, 22.02it/s]\n",
            "Inferencing on batch 4: 100%|██████████| 4/4 [00:00<00:00, 16.77it/s]\n",
            "Inferencing on batch 4: 100%|██████████| 4/4 [00:00<00:00, 24.63it/s]\n",
            "Inferencing on batch 4: 100%|██████████| 4/4 [00:00<00:00, 23.34it/s]\n",
            "Inferencing on batch 4: 100%|██████████| 4/4 [00:00<00:00, 37.20it/s]\n",
            "Inferencing on batch 4: 100%|██████████| 4/4 [00:00<00:00, 28.58it/s]\n",
            "Inferencing on batch 4: 100%|██████████| 4/4 [00:00<00:00, 25.88it/s]\n",
            "Inferencing on batch 4: 100%|██████████| 4/4 [00:00<00:00, 28.06it/s]\n",
            "Inferencing on batch 4: 100%|██████████| 4/4 [00:00<00:00, 31.58it/s]\n",
            "Inferencing on batch 4: 100%|██████████| 4/4 [00:00<00:00, 33.22it/s]\n",
            "Inferencing on batch 4: 100%|██████████| 4/4 [00:00<00:00, 19.49it/s]\n",
            "Inferencing on batch 4: 100%|██████████| 4/4 [00:00<00:00, 35.07it/s]\n",
            "Inferencing on batch 4: 100%|██████████| 4/4 [00:00<00:00, 26.02it/s]\n",
            "Inferencing on batch 4: 100%|██████████| 4/4 [00:00<00:00, 21.90it/s]\n",
            "Inferencing on batch 4: 100%|██████████| 4/4 [00:00<00:00, 27.85it/s]\n",
            "Inferencing on batch 4: 100%|██████████| 4/4 [00:00<00:00, 32.43it/s]\n",
            "Inferencing on batch 4: 100%|██████████| 4/4 [00:00<00:00, 28.78it/s]\n",
            "Inferencing on batch 4: 100%|██████████| 4/4 [00:00<00:00, 33.22it/s]\n",
            "Inferencing on batch 4: 100%|██████████| 4/4 [00:00<00:00, 21.33it/s]\n",
            "Inferencing on batch 4: 100%|██████████| 4/4 [00:00<00:00, 46.31it/s]\n",
            "Inferencing on batch 4: 100%|██████████| 4/4 [00:00<00:00, 25.74it/s]\n",
            "Inferencing on batch 4: 100%|██████████| 4/4 [00:00<00:00, 25.55it/s]\n",
            "Inferencing on batch 4: 100%|██████████| 4/4 [00:00<00:00, 33.60it/s]\n",
            "Inferencing on batch 4: 100%|██████████| 4/4 [00:00<00:00, 27.08it/s]"
          ]
        },
        {
          "output_type": "stream",
          "name": "stdout",
          "text": [
            "\n",
            " \n",
            " Using Both Batch() and get_sentiment() functions took  12.280565977096558  Seconds\n"
          ]
        },
        {
          "output_type": "stream",
          "name": "stderr",
          "text": [
            "\n"
          ]
        }
      ]
    },
    {
      "cell_type": "markdown",
      "metadata": {
        "id": "Gl2TyHX23Vnu"
      },
      "source": [
        "We can see that we basically shaved off some of  the runtime on 10000 datapoints by batching. By using batch() and get_sentiment() it took less time. By iterating, one-by-one it took more time. So i will use batching from now on."
      ]
    },
    {
      "cell_type": "markdown",
      "metadata": {
        "id": "jzulYJDz3rtg"
      },
      "source": [
        "Let's batch and get_sentiment over the whole data set, and add sentiment score and sentiment values to the original data frame."
      ]
    },
    {
      "cell_type": "code",
      "metadata": {
        "colab": {
          "base_uri": "https://localhost:8080/"
        },
        "id": "RPPuMGsr3xmH",
        "outputId": "f8b6919a-54ad-4925-c8e4-aadf863fe72c"
      },
      "source": [
        "complete_batch=Sentifier(df.reviews_processed)\n",
        "complete_batched=batch(complete_batch,128)\n",
        "sentiment_cols=get_sentiment(complete_batched)"
      ],
      "execution_count": 15,
      "outputs": [
        {
          "output_type": "stream",
          "name": "stderr",
          "text": [
            "Inferencing on batch 3: 100%|██████████| 3/3 [00:00<00:00, 25.18it/s]\n",
            "Inferencing on batch 4: 100%|██████████| 4/4 [00:00<00:00, 29.16it/s]\n",
            "Inferencing on batch 4: 100%|██████████| 4/4 [00:00<00:00, 20.79it/s]\n",
            "Inferencing on batch 4: 100%|██████████| 4/4 [00:00<00:00, 29.73it/s]\n",
            "Inferencing on batch 4: 100%|██████████| 4/4 [00:00<00:00, 33.71it/s]\n",
            "Inferencing on batch 4: 100%|██████████| 4/4 [00:00<00:00, 25.51it/s]\n",
            "Inferencing on batch 4: 100%|██████████| 4/4 [00:00<00:00, 18.77it/s]\n",
            "Inferencing on batch 4: 100%|██████████| 4/4 [00:00<00:00, 26.02it/s]\n",
            "Inferencing on batch 4: 100%|██████████| 4/4 [00:00<00:00, 28.67it/s]\n",
            "Inferencing on batch 4: 100%|██████████| 4/4 [00:00<00:00, 22.74it/s]\n",
            "Inferencing on batch 4: 100%|██████████| 4/4 [00:00<00:00, 36.48it/s]\n",
            "Inferencing on batch 4: 100%|██████████| 4/4 [00:00<00:00, 42.52it/s]\n",
            "Inferencing on batch 4: 100%|██████████| 4/4 [00:00<00:00, 34.50it/s]\n",
            "Inferencing on batch 4: 100%|██████████| 4/4 [00:00<00:00, 25.84it/s]\n",
            "Inferencing on batch 4: 100%|██████████| 4/4 [00:00<00:00, 22.48it/s]\n",
            "Inferencing on batch 4: 100%|██████████| 4/4 [00:00<00:00, 29.08it/s]\n",
            "Inferencing on batch 4: 100%|██████████| 4/4 [00:00<00:00, 42.36it/s]\n",
            "Inferencing on batch 4: 100%|██████████| 4/4 [00:00<00:00, 26.03it/s]\n",
            "Inferencing on batch 4: 100%|██████████| 4/4 [00:00<00:00, 27.92it/s]\n",
            "Inferencing on batch 4: 100%|██████████| 4/4 [00:00<00:00, 35.61it/s]\n",
            "Inferencing on batch 4: 100%|██████████| 4/4 [00:00<00:00, 26.16it/s]\n",
            "Inferencing on batch 4: 100%|██████████| 4/4 [00:00<00:00, 32.54it/s]\n",
            "Inferencing on batch 4: 100%|██████████| 4/4 [00:00<00:00, 39.02it/s]\n",
            "Inferencing on batch 4: 100%|██████████| 4/4 [00:00<00:00, 14.64it/s]\n",
            "Inferencing on batch 4: 100%|██████████| 4/4 [00:00<00:00, 25.18it/s]\n",
            "Inferencing on batch 4: 100%|██████████| 4/4 [00:00<00:00, 38.88it/s]\n",
            "Inferencing on batch 4: 100%|██████████| 4/4 [00:00<00:00, 27.53it/s]\n",
            "Inferencing on batch 4: 100%|██████████| 4/4 [00:00<00:00, 25.66it/s]\n",
            "Inferencing on batch 4: 100%|██████████| 4/4 [00:00<00:00, 23.56it/s]\n",
            "Inferencing on batch 4: 100%|██████████| 4/4 [00:00<00:00, 37.45it/s]\n",
            "Inferencing on batch 4: 100%|██████████| 4/4 [00:00<00:00, 24.01it/s]\n",
            "Inferencing on batch 4: 100%|██████████| 4/4 [00:00<00:00, 38.24it/s]\n",
            "Inferencing on batch 4: 100%|██████████| 4/4 [00:00<00:00, 14.15it/s]\n",
            "Inferencing on batch 4: 100%|██████████| 4/4 [00:00<00:00, 17.31it/s]\n",
            "Inferencing on batch 4: 100%|██████████| 4/4 [00:00<00:00, 24.19it/s]\n",
            "Inferencing on batch 4: 100%|██████████| 4/4 [00:00<00:00, 37.61it/s]\n",
            "Inferencing on batch 4: 100%|██████████| 4/4 [00:00<00:00, 37.33it/s]\n",
            "Inferencing on batch 4: 100%|██████████| 4/4 [00:00<00:00, 30.88it/s]\n",
            "Inferencing on batch 4: 100%|██████████| 4/4 [00:00<00:00, 18.80it/s]\n",
            "Inferencing on batch 4: 100%|██████████| 4/4 [00:00<00:00, 42.12it/s]\n",
            "Inferencing on batch 4: 100%|██████████| 4/4 [00:00<00:00, 24.12it/s]\n",
            "Inferencing on batch 4: 100%|██████████| 4/4 [00:00<00:00, 26.49it/s]\n",
            "Inferencing on batch 4: 100%|██████████| 4/4 [00:00<00:00, 28.21it/s]\n",
            "Inferencing on batch 4: 100%|██████████| 4/4 [00:00<00:00, 37.90it/s]\n",
            "Inferencing on batch 4: 100%|██████████| 4/4 [00:00<00:00, 32.13it/s]\n",
            "Inferencing on batch 4: 100%|██████████| 4/4 [00:00<00:00, 29.89it/s]\n",
            "Inferencing on batch 4: 100%|██████████| 4/4 [00:00<00:00, 16.95it/s]\n",
            "Inferencing on batch 4: 100%|██████████| 4/4 [00:00<00:00, 23.05it/s]\n",
            "Inferencing on batch 4: 100%|██████████| 4/4 [00:00<00:00, 42.15it/s]\n",
            "Inferencing on batch 4: 100%|██████████| 4/4 [00:00<00:00, 41.37it/s]\n",
            "Inferencing on batch 4: 100%|██████████| 4/4 [00:00<00:00, 20.53it/s]\n",
            "Inferencing on batch 4: 100%|██████████| 4/4 [00:00<00:00, 40.20it/s]\n",
            "Inferencing on batch 4: 100%|██████████| 4/4 [00:00<00:00, 23.28it/s]\n",
            "Inferencing on batch 4: 100%|██████████| 4/4 [00:00<00:00, 29.58it/s]\n",
            "Inferencing on batch 4: 100%|██████████| 4/4 [00:00<00:00, 23.67it/s]\n",
            "Inferencing on batch 4: 100%|██████████| 4/4 [00:00<00:00, 17.15it/s]\n",
            "Inferencing on batch 4: 100%|██████████| 4/4 [00:00<00:00, 21.71it/s]\n",
            "Inferencing on batch 4: 100%|██████████| 4/4 [00:00<00:00, 22.23it/s]\n",
            "Inferencing on batch 4: 100%|██████████| 4/4 [00:00<00:00, 31.74it/s]\n",
            "Inferencing on batch 4: 100%|██████████| 4/4 [00:00<00:00, 40.54it/s]\n",
            "Inferencing on batch 4: 100%|██████████| 4/4 [00:00<00:00, 27.30it/s]\n",
            "Inferencing on batch 4: 100%|██████████| 4/4 [00:00<00:00, 26.17it/s]\n",
            "Inferencing on batch 4: 100%|██████████| 4/4 [00:00<00:00, 35.50it/s]\n",
            "Inferencing on batch 4: 100%|██████████| 4/4 [00:00<00:00, 28.46it/s]\n",
            "Inferencing on batch 4: 100%|██████████| 4/4 [00:00<00:00, 18.78it/s]\n",
            "Inferencing on batch 4: 100%|██████████| 4/4 [00:00<00:00, 46.63it/s]\n",
            "Inferencing on batch 4: 100%|██████████| 4/4 [00:00<00:00, 27.99it/s]\n",
            "Inferencing on batch 4: 100%|██████████| 4/4 [00:00<00:00, 21.20it/s]\n",
            "Inferencing on batch 4: 100%|██████████| 4/4 [00:00<00:00, 30.44it/s]\n",
            "Inferencing on batch 4: 100%|██████████| 4/4 [00:00<00:00, 36.78it/s]\n",
            "Inferencing on batch 4: 100%|██████████| 4/4 [00:00<00:00, 25.14it/s]\n",
            "Inferencing on batch 4: 100%|██████████| 4/4 [00:00<00:00, 34.40it/s]\n",
            "Inferencing on batch 4: 100%|██████████| 4/4 [00:00<00:00, 22.45it/s]\n",
            "Inferencing on batch 4: 100%|██████████| 4/4 [00:00<00:00, 31.62it/s]\n",
            "Inferencing on batch 4: 100%|██████████| 4/4 [00:00<00:00, 27.96it/s]\n",
            "Inferencing on batch 4: 100%|██████████| 4/4 [00:00<00:00, 23.35it/s]\n",
            "Inferencing on batch 4: 100%|██████████| 4/4 [00:00<00:00, 30.01it/s]\n",
            "Inferencing on batch 4: 100%|██████████| 4/4 [00:00<00:00, 25.80it/s]\n",
            "Inferencing on batch 4: 100%|██████████| 4/4 [00:00<00:00, 27.16it/s]\n",
            "Inferencing on batch 4: 100%|██████████| 4/4 [00:00<00:00, 23.22it/s]\n",
            "Inferencing on batch 4: 100%|██████████| 4/4 [00:00<00:00, 26.13it/s]\n",
            "Inferencing on batch 4: 100%|██████████| 4/4 [00:00<00:00, 29.93it/s]\n",
            "Inferencing on batch 4: 100%|██████████| 4/4 [00:00<00:00, 24.82it/s]\n",
            "Inferencing on batch 4: 100%|██████████| 4/4 [00:00<00:00, 28.86it/s]\n",
            "Inferencing on batch 4: 100%|██████████| 4/4 [00:00<00:00, 17.98it/s]\n",
            "Inferencing on batch 4: 100%|██████████| 4/4 [00:00<00:00, 19.75it/s]\n",
            "Inferencing on batch 4: 100%|██████████| 4/4 [00:00<00:00, 22.70it/s]\n",
            "Inferencing on batch 4: 100%|██████████| 4/4 [00:00<00:00, 26.24it/s]\n",
            "Inferencing on batch 4: 100%|██████████| 4/4 [00:00<00:00, 30.36it/s]\n",
            "Inferencing on batch 4: 100%|██████████| 4/4 [00:00<00:00, 28.69it/s]\n",
            "Inferencing on batch 4: 100%|██████████| 4/4 [00:00<00:00, 31.02it/s]\n",
            "Inferencing on batch 4: 100%|██████████| 4/4 [00:00<00:00, 37.11it/s]\n",
            "Inferencing on batch 4: 100%|██████████| 4/4 [00:00<00:00, 34.14it/s]\n",
            "Inferencing on batch 4: 100%|██████████| 4/4 [00:00<00:00, 26.83it/s]\n",
            "Inferencing on batch 4: 100%|██████████| 4/4 [00:00<00:00, 27.97it/s]\n",
            "Inferencing on batch 4: 100%|██████████| 4/4 [00:00<00:00, 31.96it/s]\n",
            "Inferencing on batch 4: 100%|██████████| 4/4 [00:00<00:00, 23.02it/s]\n",
            "Inferencing on batch 4: 100%|██████████| 4/4 [00:00<00:00, 23.22it/s]\n",
            "Inferencing on batch 4: 100%|██████████| 4/4 [00:00<00:00, 25.57it/s]\n",
            "Inferencing on batch 4: 100%|██████████| 4/4 [00:00<00:00, 26.32it/s]\n",
            "Inferencing on batch 4: 100%|██████████| 4/4 [00:00<00:00, 29.54it/s]\n",
            "Inferencing on batch 4: 100%|██████████| 4/4 [00:00<00:00, 19.27it/s]\n",
            "Inferencing on batch 4: 100%|██████████| 4/4 [00:00<00:00, 29.92it/s]\n",
            "Inferencing on batch 4: 100%|██████████| 4/4 [00:00<00:00, 30.45it/s]\n",
            "Inferencing on batch 4: 100%|██████████| 4/4 [00:00<00:00, 24.31it/s]\n",
            "Inferencing on batch 4: 100%|██████████| 4/4 [00:00<00:00, 23.25it/s]\n",
            "Inferencing on batch 4: 100%|██████████| 4/4 [00:00<00:00, 19.56it/s]\n",
            "Inferencing on batch 4: 100%|██████████| 4/4 [00:00<00:00, 17.65it/s]\n",
            "Inferencing on batch 4: 100%|██████████| 4/4 [00:00<00:00, 10.67it/s]\n",
            "Inferencing on batch 4: 100%|██████████| 4/4 [00:00<00:00, 26.95it/s]\n",
            "Inferencing on batch 4: 100%|██████████| 4/4 [00:00<00:00, 15.89it/s]\n",
            "Inferencing on batch 4: 100%|██████████| 4/4 [00:00<00:00, 31.37it/s]\n",
            "Inferencing on batch 4: 100%|██████████| 4/4 [00:00<00:00, 19.90it/s]\n",
            "Inferencing on batch 4: 100%|██████████| 4/4 [00:00<00:00, 30.04it/s]\n",
            "Inferencing on batch 4: 100%|██████████| 4/4 [00:00<00:00, 28.05it/s]\n",
            "Inferencing on batch 4: 100%|██████████| 4/4 [00:00<00:00, 37.18it/s]\n",
            "Inferencing on batch 4: 100%|██████████| 4/4 [00:00<00:00, 32.07it/s]\n",
            "Inferencing on batch 4: 100%|██████████| 4/4 [00:00<00:00, 18.73it/s]\n",
            "Inferencing on batch 4: 100%|██████████| 4/4 [00:00<00:00, 23.47it/s]\n",
            "Inferencing on batch 4: 100%|██████████| 4/4 [00:00<00:00, 32.39it/s]\n",
            "Inferencing on batch 4: 100%|██████████| 4/4 [00:00<00:00, 25.49it/s]\n",
            "Inferencing on batch 4: 100%|██████████| 4/4 [00:00<00:00, 34.40it/s]\n",
            "Inferencing on batch 4: 100%|██████████| 4/4 [00:00<00:00, 43.89it/s]\n",
            "Inferencing on batch 4: 100%|██████████| 4/4 [00:00<00:00, 30.88it/s]\n",
            "Inferencing on batch 4: 100%|██████████| 4/4 [00:00<00:00, 24.16it/s]\n",
            "Inferencing on batch 4: 100%|██████████| 4/4 [00:00<00:00, 24.68it/s]\n",
            "Inferencing on batch 4: 100%|██████████| 4/4 [00:00<00:00, 16.78it/s]\n",
            "Inferencing on batch 4: 100%|██████████| 4/4 [00:00<00:00, 16.02it/s]\n",
            "Inferencing on batch 4: 100%|██████████| 4/4 [00:00<00:00, 24.07it/s]\n",
            "Inferencing on batch 4: 100%|██████████| 4/4 [00:00<00:00, 26.82it/s]\n",
            "Inferencing on batch 4: 100%|██████████| 4/4 [00:00<00:00, 18.35it/s]\n",
            "Inferencing on batch 4: 100%|██████████| 4/4 [00:00<00:00, 14.73it/s]\n",
            "Inferencing on batch 4: 100%|██████████| 4/4 [00:00<00:00, 21.75it/s]\n",
            "Inferencing on batch 4: 100%|██████████| 4/4 [00:00<00:00, 23.33it/s]\n",
            "Inferencing on batch 4: 100%|██████████| 4/4 [00:00<00:00, 29.01it/s]\n",
            "Inferencing on batch 4: 100%|██████████| 4/4 [00:00<00:00, 19.49it/s]\n",
            "Inferencing on batch 4: 100%|██████████| 4/4 [00:00<00:00, 38.89it/s]\n",
            "Inferencing on batch 4: 100%|██████████| 4/4 [00:00<00:00, 24.99it/s]\n",
            "Inferencing on batch 4: 100%|██████████| 4/4 [00:00<00:00, 35.89it/s]\n",
            "Inferencing on batch 4: 100%|██████████| 4/4 [00:00<00:00, 35.12it/s]\n",
            "Inferencing on batch 4: 100%|██████████| 4/4 [00:00<00:00, 28.22it/s]\n",
            "Inferencing on batch 4: 100%|██████████| 4/4 [00:00<00:00, 19.25it/s]\n",
            "Inferencing on batch 4: 100%|██████████| 4/4 [00:00<00:00, 32.44it/s]\n",
            "Inferencing on batch 4: 100%|██████████| 4/4 [00:00<00:00, 29.03it/s]\n",
            "Inferencing on batch 4: 100%|██████████| 4/4 [00:00<00:00, 45.74it/s]\n",
            "Inferencing on batch 4: 100%|██████████| 4/4 [00:00<00:00, 37.02it/s]\n",
            "Inferencing on batch 4: 100%|██████████| 4/4 [00:00<00:00, 27.70it/s]\n",
            "Inferencing on batch 4: 100%|██████████| 4/4 [00:00<00:00, 22.60it/s]\n",
            "Inferencing on batch 4: 100%|██████████| 4/4 [00:00<00:00, 40.29it/s]\n",
            "Inferencing on batch 4: 100%|██████████| 4/4 [00:00<00:00, 26.32it/s]\n",
            "Inferencing on batch 4: 100%|██████████| 4/4 [00:00<00:00, 25.08it/s]\n",
            "Inferencing on batch 4: 100%|██████████| 4/4 [00:00<00:00, 22.68it/s]\n",
            "Inferencing on batch 4: 100%|██████████| 4/4 [00:00<00:00, 29.32it/s]\n",
            "Inferencing on batch 4: 100%|██████████| 4/4 [00:00<00:00, 31.11it/s]\n",
            "Inferencing on batch 4: 100%|██████████| 4/4 [00:00<00:00, 28.33it/s]\n",
            "Inferencing on batch 4: 100%|██████████| 4/4 [00:00<00:00, 30.86it/s]\n",
            "Inferencing on batch 4: 100%|██████████| 4/4 [00:00<00:00, 24.26it/s]\n",
            "Inferencing on batch 4: 100%|██████████| 4/4 [00:00<00:00, 29.52it/s]\n",
            "Inferencing on batch 4: 100%|██████████| 4/4 [00:00<00:00, 39.92it/s]\n",
            "Inferencing on batch 4: 100%|██████████| 4/4 [00:00<00:00, 22.92it/s]\n",
            "Inferencing on batch 4: 100%|██████████| 4/4 [00:00<00:00, 33.73it/s]\n",
            "Inferencing on batch 4: 100%|██████████| 4/4 [00:00<00:00, 32.53it/s]\n",
            "Inferencing on batch 4: 100%|██████████| 4/4 [00:00<00:00, 36.80it/s]\n",
            "Inferencing on batch 4: 100%|██████████| 4/4 [00:00<00:00, 25.52it/s]\n",
            "Inferencing on batch 4: 100%|██████████| 4/4 [00:00<00:00, 21.96it/s]\n",
            "Inferencing on batch 4: 100%|██████████| 4/4 [00:00<00:00, 31.52it/s]\n",
            "Inferencing on batch 4: 100%|██████████| 4/4 [00:00<00:00, 21.03it/s]\n",
            "Inferencing on batch 4: 100%|██████████| 4/4 [00:00<00:00, 25.05it/s]\n",
            "Inferencing on batch 4: 100%|██████████| 4/4 [00:00<00:00, 30.21it/s]\n",
            "Inferencing on batch 4: 100%|██████████| 4/4 [00:00<00:00, 27.74it/s]\n",
            "Inferencing on batch 4: 100%|██████████| 4/4 [00:00<00:00, 26.04it/s]\n",
            "Inferencing on batch 4: 100%|██████████| 4/4 [00:00<00:00, 29.29it/s]\n",
            "Inferencing on batch 4: 100%|██████████| 4/4 [00:00<00:00, 19.59it/s]\n",
            "Inferencing on batch 4: 100%|██████████| 4/4 [00:00<00:00, 17.56it/s]\n",
            "Inferencing on batch 4: 100%|██████████| 4/4 [00:00<00:00, 28.82it/s]\n",
            "Inferencing on batch 4: 100%|██████████| 4/4 [00:00<00:00, 22.28it/s]\n",
            "Inferencing on batch 4: 100%|██████████| 4/4 [00:00<00:00, 21.85it/s]\n",
            "Inferencing on batch 4: 100%|██████████| 4/4 [00:00<00:00, 24.81it/s]\n",
            "Inferencing on batch 4: 100%|██████████| 4/4 [00:00<00:00, 34.96it/s]\n",
            "Inferencing on batch 4: 100%|██████████| 4/4 [00:00<00:00, 34.16it/s]\n",
            "Inferencing on batch 4: 100%|██████████| 4/4 [00:00<00:00, 31.77it/s]\n",
            "Inferencing on batch 4: 100%|██████████| 4/4 [00:00<00:00, 30.00it/s]\n",
            "Inferencing on batch 4: 100%|██████████| 4/4 [00:00<00:00, 15.32it/s]\n",
            "Inferencing on batch 4: 100%|██████████| 4/4 [00:00<00:00, 16.99it/s]\n",
            "Inferencing on batch 4: 100%|██████████| 4/4 [00:00<00:00, 25.16it/s]\n",
            "Inferencing on batch 4: 100%|██████████| 4/4 [00:00<00:00, 30.23it/s]\n",
            "Inferencing on batch 4: 100%|██████████| 4/4 [00:00<00:00, 30.60it/s]\n",
            "Inferencing on batch 4: 100%|██████████| 4/4 [00:00<00:00, 27.54it/s]\n",
            "Inferencing on batch 4: 100%|██████████| 4/4 [00:00<00:00, 22.64it/s]\n",
            "Inferencing on batch 4: 100%|██████████| 4/4 [00:00<00:00, 25.33it/s]\n",
            "Inferencing on batch 4: 100%|██████████| 4/4 [00:00<00:00, 32.87it/s]\n",
            "Inferencing on batch 4: 100%|██████████| 4/4 [00:00<00:00, 30.78it/s]\n",
            "Inferencing on batch 4: 100%|██████████| 4/4 [00:00<00:00, 40.75it/s]\n",
            "Inferencing on batch 4: 100%|██████████| 4/4 [00:00<00:00, 28.71it/s]\n",
            "Inferencing on batch 4: 100%|██████████| 4/4 [00:00<00:00, 28.67it/s]\n",
            "Inferencing on batch 4: 100%|██████████| 4/4 [00:00<00:00, 31.85it/s]\n",
            "Inferencing on batch 4: 100%|██████████| 4/4 [00:00<00:00, 29.19it/s]\n",
            "Inferencing on batch 4: 100%|██████████| 4/4 [00:00<00:00, 25.66it/s]\n",
            "Inferencing on batch 4: 100%|██████████| 4/4 [00:00<00:00, 31.13it/s]\n",
            "Inferencing on batch 4: 100%|██████████| 4/4 [00:00<00:00, 30.97it/s]\n",
            "Inferencing on batch 4: 100%|██████████| 4/4 [00:00<00:00, 26.67it/s]\n",
            "Inferencing on batch 4: 100%|██████████| 4/4 [00:00<00:00, 28.51it/s]\n",
            "Inferencing on batch 4: 100%|██████████| 4/4 [00:00<00:00, 22.75it/s]\n",
            "Inferencing on batch 4: 100%|██████████| 4/4 [00:00<00:00, 22.93it/s]\n",
            "Inferencing on batch 4: 100%|██████████| 4/4 [00:00<00:00, 24.79it/s]\n",
            "Inferencing on batch 4: 100%|██████████| 4/4 [00:00<00:00, 30.52it/s]\n",
            "Inferencing on batch 4: 100%|██████████| 4/4 [00:00<00:00, 26.46it/s]\n",
            "Inferencing on batch 4: 100%|██████████| 4/4 [00:00<00:00, 27.49it/s]\n",
            "Inferencing on batch 4: 100%|██████████| 4/4 [00:00<00:00, 22.08it/s]\n",
            "Inferencing on batch 4: 100%|██████████| 4/4 [00:00<00:00, 32.24it/s]\n",
            "Inferencing on batch 4: 100%|██████████| 4/4 [00:00<00:00, 26.07it/s]\n",
            "Inferencing on batch 4: 100%|██████████| 4/4 [00:00<00:00, 26.99it/s]\n",
            "Inferencing on batch 4: 100%|██████████| 4/4 [00:00<00:00, 20.60it/s]\n",
            "Inferencing on batch 4: 100%|██████████| 4/4 [00:00<00:00, 22.18it/s]\n",
            "Inferencing on batch 4: 100%|██████████| 4/4 [00:00<00:00, 24.87it/s]\n",
            "Inferencing on batch 4: 100%|██████████| 4/4 [00:00<00:00, 25.87it/s]\n",
            "Inferencing on batch 4: 100%|██████████| 4/4 [00:00<00:00, 23.75it/s]\n",
            "Inferencing on batch 4: 100%|██████████| 4/4 [00:00<00:00, 24.95it/s]\n",
            "Inferencing on batch 4: 100%|██████████| 4/4 [00:00<00:00, 20.24it/s]\n",
            "Inferencing on batch 4: 100%|██████████| 4/4 [00:00<00:00, 30.19it/s]\n",
            "Inferencing on batch 4: 100%|██████████| 4/4 [00:00<00:00, 32.12it/s]\n",
            "Inferencing on batch 4: 100%|██████████| 4/4 [00:00<00:00, 28.41it/s]\n",
            "Inferencing on batch 4: 100%|██████████| 4/4 [00:00<00:00, 23.20it/s]\n",
            "Inferencing on batch 4: 100%|██████████| 4/4 [00:00<00:00, 21.28it/s]\n",
            "Inferencing on batch 4: 100%|██████████| 4/4 [00:00<00:00, 32.78it/s]\n",
            "Inferencing on batch 4: 100%|██████████| 4/4 [00:00<00:00, 25.30it/s]\n",
            "Inferencing on batch 4: 100%|██████████| 4/4 [00:00<00:00, 40.35it/s]\n",
            "Inferencing on batch 4: 100%|██████████| 4/4 [00:00<00:00, 28.90it/s]\n",
            "Inferencing on batch 4: 100%|██████████| 4/4 [00:00<00:00, 32.30it/s]\n",
            "Inferencing on batch 4: 100%|██████████| 4/4 [00:00<00:00, 24.54it/s]\n",
            "Inferencing on batch 4: 100%|██████████| 4/4 [00:00<00:00, 29.84it/s]\n",
            "Inferencing on batch 4: 100%|██████████| 4/4 [00:00<00:00, 35.72it/s]\n",
            "Inferencing on batch 4: 100%|██████████| 4/4 [00:00<00:00, 30.46it/s]\n",
            "Inferencing on batch 4: 100%|██████████| 4/4 [00:00<00:00, 31.76it/s]\n",
            "Inferencing on batch 4: 100%|██████████| 4/4 [00:00<00:00, 27.80it/s]\n",
            "Inferencing on batch 4: 100%|██████████| 4/4 [00:00<00:00, 21.31it/s]\n",
            "Inferencing on batch 4: 100%|██████████| 4/4 [00:00<00:00, 25.01it/s]\n",
            "Inferencing on batch 4: 100%|██████████| 4/4 [00:00<00:00, 31.38it/s]\n",
            "Inferencing on batch 4: 100%|██████████| 4/4 [00:00<00:00, 21.48it/s]\n",
            "Inferencing on batch 4: 100%|██████████| 4/4 [00:00<00:00, 18.50it/s]\n",
            "Inferencing on batch 4: 100%|██████████| 4/4 [00:00<00:00, 25.36it/s]\n",
            "Inferencing on batch 4: 100%|██████████| 4/4 [00:00<00:00, 26.62it/s]\n",
            "Inferencing on batch 4: 100%|██████████| 4/4 [00:00<00:00, 19.37it/s]\n",
            "Inferencing on batch 4: 100%|██████████| 4/4 [00:00<00:00, 19.83it/s]\n",
            "Inferencing on batch 4: 100%|██████████| 4/4 [00:00<00:00, 34.38it/s]\n",
            "Inferencing on batch 4: 100%|██████████| 4/4 [00:00<00:00, 27.96it/s]\n",
            "Inferencing on batch 4: 100%|██████████| 4/4 [00:00<00:00, 23.13it/s]\n",
            "Inferencing on batch 4: 100%|██████████| 4/4 [00:00<00:00, 29.34it/s]\n",
            "Inferencing on batch 4: 100%|██████████| 4/4 [00:00<00:00, 19.50it/s]\n",
            "Inferencing on batch 4: 100%|██████████| 4/4 [00:00<00:00, 28.67it/s]\n",
            "Inferencing on batch 4: 100%|██████████| 4/4 [00:00<00:00, 20.69it/s]\n",
            "Inferencing on batch 4: 100%|██████████| 4/4 [00:00<00:00, 26.59it/s]\n",
            "Inferencing on batch 4: 100%|██████████| 4/4 [00:00<00:00, 24.96it/s]\n",
            "Inferencing on batch 4: 100%|██████████| 4/4 [00:00<00:00, 28.83it/s]\n",
            "Inferencing on batch 4: 100%|██████████| 4/4 [00:00<00:00, 28.65it/s]\n",
            "Inferencing on batch 4: 100%|██████████| 4/4 [00:00<00:00, 33.01it/s]\n",
            "Inferencing on batch 4: 100%|██████████| 4/4 [00:00<00:00, 28.44it/s]\n",
            "Inferencing on batch 4: 100%|██████████| 4/4 [00:00<00:00, 33.90it/s]\n",
            "Inferencing on batch 4: 100%|██████████| 4/4 [00:00<00:00, 24.61it/s]\n",
            "Inferencing on batch 4: 100%|██████████| 4/4 [00:00<00:00, 22.51it/s]\n",
            "Inferencing on batch 4: 100%|██████████| 4/4 [00:00<00:00, 23.95it/s]\n",
            "Inferencing on batch 4: 100%|██████████| 4/4 [00:00<00:00, 29.13it/s]\n",
            "Inferencing on batch 4: 100%|██████████| 4/4 [00:00<00:00, 26.36it/s]\n",
            "Inferencing on batch 4: 100%|██████████| 4/4 [00:00<00:00, 19.63it/s]\n",
            "Inferencing on batch 4: 100%|██████████| 4/4 [00:00<00:00, 38.98it/s]\n",
            "Inferencing on batch 4: 100%|██████████| 4/4 [00:00<00:00, 25.74it/s]\n",
            "Inferencing on batch 4: 100%|██████████| 4/4 [00:00<00:00, 17.59it/s]\n",
            "Inferencing on batch 4: 100%|██████████| 4/4 [00:00<00:00, 22.12it/s]\n",
            "Inferencing on batch 4: 100%|██████████| 4/4 [00:00<00:00, 15.59it/s]\n",
            "Inferencing on batch 4: 100%|██████████| 4/4 [00:00<00:00, 25.13it/s]\n",
            "Inferencing on batch 4: 100%|██████████| 4/4 [00:00<00:00, 31.02it/s]\n",
            "Inferencing on batch 4: 100%|██████████| 4/4 [00:00<00:00, 16.72it/s]\n",
            "Inferencing on batch 4: 100%|██████████| 4/4 [00:00<00:00, 23.10it/s]\n",
            "Inferencing on batch 4: 100%|██████████| 4/4 [00:00<00:00, 27.85it/s]\n",
            "Inferencing on batch 4: 100%|██████████| 4/4 [00:00<00:00, 22.77it/s]\n",
            "Inferencing on batch 4: 100%|██████████| 4/4 [00:00<00:00, 31.55it/s]\n",
            "Inferencing on batch 4: 100%|██████████| 4/4 [00:00<00:00, 17.68it/s]\n",
            "Inferencing on batch 4: 100%|██████████| 4/4 [00:00<00:00, 31.52it/s]\n",
            "Inferencing on batch 4: 100%|██████████| 4/4 [00:00<00:00, 23.24it/s]\n",
            "Inferencing on batch 4: 100%|██████████| 4/4 [00:00<00:00, 23.47it/s]\n",
            "Inferencing on batch 4: 100%|██████████| 4/4 [00:00<00:00, 20.50it/s]\n",
            "Inferencing on batch 4: 100%|██████████| 4/4 [00:00<00:00, 17.70it/s]\n",
            "Inferencing on batch 4: 100%|██████████| 4/4 [00:00<00:00, 24.79it/s]\n",
            "Inferencing on batch 4: 100%|██████████| 4/4 [00:00<00:00, 22.50it/s]\n",
            "Inferencing on batch 4: 100%|██████████| 4/4 [00:00<00:00, 20.79it/s]\n",
            "Inferencing on batch 4: 100%|██████████| 4/4 [00:00<00:00, 15.08it/s]\n",
            "Inferencing on batch 4: 100%|██████████| 4/4 [00:00<00:00, 21.55it/s]\n",
            "Inferencing on batch 4: 100%|██████████| 4/4 [00:00<00:00, 16.23it/s]\n",
            "Inferencing on batch 4: 100%|██████████| 4/4 [00:00<00:00, 21.89it/s]\n",
            "Inferencing on batch 4: 100%|██████████| 4/4 [00:00<00:00, 30.60it/s]\n",
            "Inferencing on batch 4: 100%|██████████| 4/4 [00:00<00:00, 19.05it/s]\n",
            "Inferencing on batch 4: 100%|██████████| 4/4 [00:00<00:00, 17.11it/s]\n",
            "Inferencing on batch 4: 100%|██████████| 4/4 [00:00<00:00, 17.37it/s]\n",
            "Inferencing on batch 4: 100%|██████████| 4/4 [00:00<00:00, 29.06it/s]\n",
            "Inferencing on batch 4: 100%|██████████| 4/4 [00:00<00:00, 20.00it/s]\n",
            "Inferencing on batch 4: 100%|██████████| 4/4 [00:00<00:00, 20.17it/s]\n",
            "Inferencing on batch 4: 100%|██████████| 4/4 [00:00<00:00, 28.58it/s]\n",
            "Inferencing on batch 4: 100%|██████████| 4/4 [00:00<00:00, 33.03it/s]\n",
            "Inferencing on batch 4: 100%|██████████| 4/4 [00:00<00:00, 16.11it/s]\n",
            "Inferencing on batch 4: 100%|██████████| 4/4 [00:00<00:00, 18.12it/s]\n",
            "Inferencing on batch 4: 100%|██████████| 4/4 [00:00<00:00, 20.68it/s]\n",
            "Inferencing on batch 4: 100%|██████████| 4/4 [00:00<00:00, 19.48it/s]\n",
            "Inferencing on batch 4: 100%|██████████| 4/4 [00:00<00:00, 28.08it/s]\n",
            "Inferencing on batch 4: 100%|██████████| 4/4 [00:00<00:00, 20.43it/s]\n",
            "Inferencing on batch 4: 100%|██████████| 4/4 [00:00<00:00, 28.59it/s]\n",
            "Inferencing on batch 4: 100%|██████████| 4/4 [00:00<00:00, 26.99it/s]\n",
            "Inferencing on batch 4: 100%|██████████| 4/4 [00:00<00:00, 23.72it/s]\n",
            "Inferencing on batch 4: 100%|██████████| 4/4 [00:00<00:00, 15.98it/s]\n",
            "Inferencing on batch 4: 100%|██████████| 4/4 [00:00<00:00, 32.30it/s]\n",
            "Inferencing on batch 4: 100%|██████████| 4/4 [00:00<00:00, 32.25it/s]\n",
            "Inferencing on batch 4: 100%|██████████| 4/4 [00:00<00:00, 28.03it/s]\n",
            "Inferencing on batch 4: 100%|██████████| 4/4 [00:00<00:00, 30.03it/s]\n",
            "Inferencing on batch 4: 100%|██████████| 4/4 [00:00<00:00, 29.39it/s]\n",
            "Inferencing on batch 4: 100%|██████████| 4/4 [00:00<00:00, 24.16it/s]\n",
            "Inferencing on batch 4: 100%|██████████| 4/4 [00:00<00:00, 22.34it/s]\n",
            "Inferencing on batch 4: 100%|██████████| 4/4 [00:00<00:00, 25.04it/s]\n",
            "Inferencing on batch 4: 100%|██████████| 4/4 [00:00<00:00, 25.39it/s]\n",
            "Inferencing on batch 4: 100%|██████████| 4/4 [00:00<00:00, 25.87it/s]\n",
            "Inferencing on batch 4: 100%|██████████| 4/4 [00:00<00:00, 30.04it/s]\n",
            "Inferencing on batch 4: 100%|██████████| 4/4 [00:00<00:00, 14.67it/s]\n",
            "Inferencing on batch 4: 100%|██████████| 4/4 [00:00<00:00, 15.40it/s]\n",
            "Inferencing on batch 4: 100%|██████████| 4/4 [00:00<00:00, 14.42it/s]\n",
            "Inferencing on batch 4: 100%|██████████| 4/4 [00:00<00:00, 24.12it/s]\n",
            "Inferencing on batch 4: 100%|██████████| 4/4 [00:00<00:00, 20.00it/s]\n",
            "Inferencing on batch 4: 100%|██████████| 4/4 [00:00<00:00, 30.61it/s]\n",
            "Inferencing on batch 4: 100%|██████████| 4/4 [00:00<00:00, 26.36it/s]\n",
            "Inferencing on batch 4: 100%|██████████| 4/4 [00:00<00:00, 22.05it/s]\n",
            "Inferencing on batch 4: 100%|██████████| 4/4 [00:00<00:00, 17.21it/s]\n",
            "Inferencing on batch 4: 100%|██████████| 4/4 [00:00<00:00, 21.97it/s]\n",
            "Inferencing on batch 4: 100%|██████████| 4/4 [00:00<00:00, 24.17it/s]\n",
            "Inferencing on batch 4: 100%|██████████| 4/4 [00:00<00:00, 25.86it/s]\n",
            "Inferencing on batch 4: 100%|██████████| 4/4 [00:00<00:00, 26.08it/s]\n",
            "Inferencing on batch 4: 100%|██████████| 4/4 [00:00<00:00, 25.22it/s]\n",
            "Inferencing on batch 4: 100%|██████████| 4/4 [00:00<00:00, 24.46it/s]\n",
            "Inferencing on batch 4: 100%|██████████| 4/4 [00:00<00:00, 18.84it/s]\n",
            "Inferencing on batch 4: 100%|██████████| 4/4 [00:00<00:00, 23.49it/s]\n",
            "Inferencing on batch 4: 100%|██████████| 4/4 [00:00<00:00, 21.44it/s]\n",
            "Inferencing on batch 4: 100%|██████████| 4/4 [00:00<00:00, 26.49it/s]\n",
            "Inferencing on batch 4: 100%|██████████| 4/4 [00:00<00:00, 23.56it/s]\n",
            "Inferencing on batch 4: 100%|██████████| 4/4 [00:00<00:00, 27.57it/s]\n",
            "Inferencing on batch 4: 100%|██████████| 4/4 [00:00<00:00, 18.14it/s]\n",
            "Inferencing on batch 4: 100%|██████████| 4/4 [00:00<00:00, 24.89it/s]\n",
            "Inferencing on batch 4: 100%|██████████| 4/4 [00:00<00:00, 24.57it/s]\n",
            "Inferencing on batch 4: 100%|██████████| 4/4 [00:00<00:00, 40.44it/s]\n",
            "Inferencing on batch 4: 100%|██████████| 4/4 [00:00<00:00, 16.68it/s]\n",
            "Inferencing on batch 4: 100%|██████████| 4/4 [00:00<00:00, 25.48it/s]\n",
            "Inferencing on batch 4: 100%|██████████| 4/4 [00:00<00:00, 17.76it/s]\n",
            "Inferencing on batch 4: 100%|██████████| 4/4 [00:00<00:00, 17.38it/s]\n",
            "Inferencing on batch 4: 100%|██████████| 4/4 [00:00<00:00, 16.69it/s]\n",
            "Inferencing on batch 4: 100%|██████████| 4/4 [00:00<00:00, 27.36it/s]\n",
            "Inferencing on batch 4: 100%|██████████| 4/4 [00:00<00:00, 37.77it/s]\n",
            "Inferencing on batch 4: 100%|██████████| 4/4 [00:00<00:00, 20.69it/s]\n",
            "Inferencing on batch 4: 100%|██████████| 4/4 [00:00<00:00, 16.48it/s]\n",
            "Inferencing on batch 4: 100%|██████████| 4/4 [00:00<00:00, 23.17it/s]\n",
            "Inferencing on batch 4: 100%|██████████| 4/4 [00:00<00:00, 31.69it/s]\n",
            "Inferencing on batch 4: 100%|██████████| 4/4 [00:00<00:00, 26.42it/s]\n",
            "Inferencing on batch 4: 100%|██████████| 4/4 [00:00<00:00, 29.93it/s]\n",
            "Inferencing on batch 4: 100%|██████████| 4/4 [00:00<00:00, 22.92it/s]\n",
            "Inferencing on batch 4: 100%|██████████| 4/4 [00:00<00:00, 33.32it/s]\n",
            "Inferencing on batch 4: 100%|██████████| 4/4 [00:00<00:00, 30.64it/s]\n",
            "Inferencing on batch 4: 100%|██████████| 4/4 [00:00<00:00, 21.86it/s]\n",
            "Inferencing on batch 4: 100%|██████████| 4/4 [00:00<00:00, 18.39it/s]\n",
            "Inferencing on batch 4: 100%|██████████| 4/4 [00:00<00:00, 22.68it/s]\n",
            "Inferencing on batch 4: 100%|██████████| 4/4 [00:00<00:00, 20.53it/s]\n",
            "Inferencing on batch 4: 100%|██████████| 4/4 [00:00<00:00, 27.82it/s]\n",
            "Inferencing on batch 4: 100%|██████████| 4/4 [00:00<00:00, 29.55it/s]\n",
            "Inferencing on batch 4: 100%|██████████| 4/4 [00:00<00:00, 19.53it/s]\n",
            "Inferencing on batch 4: 100%|██████████| 4/4 [00:00<00:00, 25.72it/s]\n",
            "Inferencing on batch 4: 100%|██████████| 4/4 [00:00<00:00, 28.69it/s]\n",
            "Inferencing on batch 4: 100%|██████████| 4/4 [00:00<00:00, 23.95it/s]\n",
            "Inferencing on batch 4: 100%|██████████| 4/4 [00:00<00:00, 37.89it/s]\n",
            "Inferencing on batch 4: 100%|██████████| 4/4 [00:00<00:00, 22.71it/s]\n",
            "Inferencing on batch 4: 100%|██████████| 4/4 [00:00<00:00, 27.89it/s]\n",
            "Inferencing on batch 4: 100%|██████████| 4/4 [00:00<00:00, 27.70it/s]\n",
            "Inferencing on batch 4: 100%|██████████| 4/4 [00:00<00:00, 22.24it/s]\n",
            "Inferencing on batch 4: 100%|██████████| 4/4 [00:00<00:00, 40.14it/s]\n",
            "Inferencing on batch 4: 100%|██████████| 4/4 [00:00<00:00, 29.40it/s]\n",
            "Inferencing on batch 4: 100%|██████████| 4/4 [00:00<00:00, 31.54it/s]\n",
            "Inferencing on batch 4: 100%|██████████| 4/4 [00:00<00:00, 37.35it/s]\n",
            "Inferencing on batch 4: 100%|██████████| 4/4 [00:00<00:00, 26.71it/s]\n",
            "Inferencing on batch 4: 100%|██████████| 4/4 [00:00<00:00, 31.72it/s]\n",
            "Inferencing on batch 4: 100%|██████████| 4/4 [00:00<00:00, 25.73it/s]\n",
            "Inferencing on batch 4: 100%|██████████| 4/4 [00:00<00:00, 33.77it/s]\n",
            "Inferencing on batch 4: 100%|██████████| 4/4 [00:00<00:00, 29.70it/s]\n",
            "Inferencing on batch 4: 100%|██████████| 4/4 [00:00<00:00, 22.57it/s]\n",
            "Inferencing on batch 4: 100%|██████████| 4/4 [00:00<00:00, 23.51it/s]\n",
            "Inferencing on batch 4: 100%|██████████| 4/4 [00:00<00:00, 21.06it/s]\n",
            "Inferencing on batch 4: 100%|██████████| 4/4 [00:00<00:00, 26.03it/s]\n",
            "Inferencing on batch 4: 100%|██████████| 4/4 [00:00<00:00, 32.83it/s]\n",
            "Inferencing on batch 4: 100%|██████████| 4/4 [00:00<00:00, 40.90it/s]\n",
            "Inferencing on batch 4: 100%|██████████| 4/4 [00:00<00:00, 28.66it/s]\n",
            "Inferencing on batch 4: 100%|██████████| 4/4 [00:00<00:00, 24.33it/s]\n",
            "Inferencing on batch 4: 100%|██████████| 4/4 [00:00<00:00, 25.35it/s]\n",
            "Inferencing on batch 4: 100%|██████████| 4/4 [00:00<00:00, 20.95it/s]\n",
            "Inferencing on batch 4: 100%|██████████| 4/4 [00:00<00:00, 18.24it/s]\n",
            "Inferencing on batch 4: 100%|██████████| 4/4 [00:00<00:00, 24.33it/s]\n",
            "Inferencing on batch 4: 100%|██████████| 4/4 [00:00<00:00, 22.34it/s]\n",
            "Inferencing on batch 4: 100%|██████████| 4/4 [00:00<00:00, 23.57it/s]\n",
            "Inferencing on batch 4: 100%|██████████| 4/4 [00:00<00:00, 27.38it/s]\n",
            "Inferencing on batch 4: 100%|██████████| 4/4 [00:00<00:00, 23.45it/s]\n",
            "Inferencing on batch 4: 100%|██████████| 4/4 [00:00<00:00, 23.05it/s]\n",
            "Inferencing on batch 4: 100%|██████████| 4/4 [00:00<00:00, 20.44it/s]\n",
            "Inferencing on batch 4: 100%|██████████| 4/4 [00:00<00:00, 21.98it/s]\n",
            "Inferencing on batch 4: 100%|██████████| 4/4 [00:00<00:00, 31.92it/s]\n",
            "Inferencing on batch 4: 100%|██████████| 4/4 [00:00<00:00, 21.42it/s]\n",
            "Inferencing on batch 4: 100%|██████████| 4/4 [00:00<00:00, 21.63it/s]\n",
            "Inferencing on batch 4: 100%|██████████| 4/4 [00:00<00:00, 32.29it/s]\n",
            "Inferencing on batch 4: 100%|██████████| 4/4 [00:00<00:00, 21.84it/s]\n",
            "Inferencing on batch 4: 100%|██████████| 4/4 [00:00<00:00, 21.46it/s]\n",
            "Inferencing on batch 4: 100%|██████████| 4/4 [00:00<00:00, 20.37it/s]\n",
            "Inferencing on batch 4: 100%|██████████| 4/4 [00:00<00:00, 15.81it/s]\n",
            "Inferencing on batch 4: 100%|██████████| 4/4 [00:00<00:00, 15.64it/s]\n",
            "Inferencing on batch 4: 100%|██████████| 4/4 [00:00<00:00, 14.57it/s]\n",
            "Inferencing on batch 4: 100%|██████████| 4/4 [00:00<00:00, 19.82it/s]\n",
            "Inferencing on batch 4: 100%|██████████| 4/4 [00:00<00:00, 14.71it/s]\n",
            "Inferencing on batch 4: 100%|██████████| 4/4 [00:00<00:00, 21.01it/s]\n",
            "Inferencing on batch 4: 100%|██████████| 4/4 [00:00<00:00, 13.23it/s]\n",
            "Inferencing on batch 4: 100%|██████████| 4/4 [00:00<00:00, 13.68it/s]\n",
            "Inferencing on batch 4: 100%|██████████| 4/4 [00:00<00:00, 15.15it/s]\n",
            "Inferencing on batch 4: 100%|██████████| 4/4 [00:00<00:00, 19.59it/s]\n",
            "Inferencing on batch 4: 100%|██████████| 4/4 [00:00<00:00, 12.72it/s]\n",
            "Inferencing on batch 4: 100%|██████████| 4/4 [00:00<00:00, 16.53it/s]\n",
            "Inferencing on batch 4: 100%|██████████| 4/4 [00:00<00:00, 12.34it/s]\n",
            "Inferencing on batch 4: 100%|██████████| 4/4 [00:00<00:00, 17.62it/s]\n",
            "Inferencing on batch 4: 100%|██████████| 4/4 [00:00<00:00, 13.40it/s]\n",
            "Inferencing on batch 4: 100%|██████████| 4/4 [00:00<00:00, 15.21it/s]\n",
            "Inferencing on batch 4: 100%|██████████| 4/4 [00:00<00:00, 15.87it/s]\n",
            "Inferencing on batch 4: 100%|██████████| 4/4 [00:00<00:00, 13.78it/s]\n",
            "Inferencing on batch 4: 100%|██████████| 4/4 [00:00<00:00, 14.22it/s]\n",
            "Inferencing on batch 4: 100%|██████████| 4/4 [00:00<00:00, 12.79it/s]\n",
            "Inferencing on batch 4: 100%|██████████| 4/4 [00:00<00:00, 13.99it/s]\n",
            "Inferencing on batch 4: 100%|██████████| 4/4 [00:00<00:00, 12.38it/s]\n",
            "Inferencing on batch 4: 100%|██████████| 4/4 [00:00<00:00, 20.06it/s]\n",
            "Inferencing on batch 4: 100%|██████████| 4/4 [00:00<00:00, 10.82it/s]\n",
            "Inferencing on batch 4: 100%|██████████| 4/4 [00:00<00:00, 15.56it/s]\n",
            "Inferencing on batch 4: 100%|██████████| 4/4 [00:00<00:00, 17.79it/s]\n",
            "Inferencing on batch 4: 100%|██████████| 4/4 [00:00<00:00, 14.21it/s]\n",
            "Inferencing on batch 4: 100%|██████████| 4/4 [00:00<00:00, 15.94it/s]\n",
            "Inferencing on batch 4: 100%|██████████| 4/4 [00:00<00:00, 17.20it/s]\n",
            "Inferencing on batch 4: 100%|██████████| 4/4 [00:00<00:00, 18.46it/s]\n",
            "Inferencing on batch 4: 100%|██████████| 4/4 [00:00<00:00, 18.92it/s]\n",
            "Inferencing on batch 4: 100%|██████████| 4/4 [00:00<00:00, 16.53it/s]\n",
            "Inferencing on batch 4: 100%|██████████| 4/4 [00:00<00:00, 13.95it/s]\n",
            "Inferencing on batch 4: 100%|██████████| 4/4 [00:00<00:00, 18.34it/s]\n",
            "Inferencing on batch 4: 100%|██████████| 4/4 [00:00<00:00, 16.14it/s]\n",
            "Inferencing on batch 4: 100%|██████████| 4/4 [00:00<00:00, 12.81it/s]\n",
            "Inferencing on batch 4: 100%|██████████| 4/4 [00:00<00:00, 19.20it/s]\n",
            "Inferencing on batch 4: 100%|██████████| 4/4 [00:00<00:00, 14.79it/s]\n",
            "Inferencing on batch 4: 100%|██████████| 4/4 [00:00<00:00, 13.70it/s]\n",
            "Inferencing on batch 4: 100%|██████████| 4/4 [00:00<00:00, 17.63it/s]\n",
            "Inferencing on batch 4: 100%|██████████| 4/4 [00:00<00:00, 15.98it/s]\n",
            "Inferencing on batch 4: 100%|██████████| 4/4 [00:00<00:00, 15.12it/s]\n",
            "Inferencing on batch 4: 100%|██████████| 4/4 [00:00<00:00, 11.69it/s]\n",
            "Inferencing on batch 4: 100%|██████████| 4/4 [00:00<00:00, 14.63it/s]\n",
            "Inferencing on batch 4: 100%|██████████| 4/4 [00:00<00:00, 14.41it/s]\n",
            "Inferencing on batch 4: 100%|██████████| 4/4 [00:00<00:00, 16.04it/s]\n",
            "Inferencing on batch 4: 100%|██████████| 4/4 [00:00<00:00, 12.50it/s]\n",
            "Inferencing on batch 4: 100%|██████████| 4/4 [00:00<00:00, 15.13it/s]\n",
            "Inferencing on batch 4: 100%|██████████| 4/4 [00:00<00:00, 18.14it/s]\n",
            "Inferencing on batch 4: 100%|██████████| 4/4 [00:00<00:00, 12.51it/s]\n",
            "Inferencing on batch 4: 100%|██████████| 4/4 [00:00<00:00, 17.27it/s]\n",
            "Inferencing on batch 4: 100%|██████████| 4/4 [00:00<00:00, 15.23it/s]\n",
            "Inferencing on batch 4: 100%|██████████| 4/4 [00:00<00:00, 18.37it/s]\n",
            "Inferencing on batch 4: 100%|██████████| 4/4 [00:00<00:00, 16.67it/s]\n",
            "Inferencing on batch 4: 100%|██████████| 4/4 [00:00<00:00, 12.74it/s]\n",
            "Inferencing on batch 4: 100%|██████████| 4/4 [00:00<00:00, 10.30it/s]\n",
            "Inferencing on batch 4: 100%|██████████| 4/4 [00:00<00:00, 14.15it/s]\n",
            "Inferencing on batch 4: 100%|██████████| 4/4 [00:00<00:00, 14.16it/s]\n",
            "Inferencing on batch 4: 100%|██████████| 4/4 [00:00<00:00, 13.36it/s]\n",
            "Inferencing on batch 4: 100%|██████████| 4/4 [00:00<00:00, 17.72it/s]\n",
            "Inferencing on batch 4: 100%|██████████| 4/4 [00:00<00:00, 20.75it/s]\n",
            "Inferencing on batch 4: 100%|██████████| 4/4 [00:00<00:00, 13.47it/s]\n",
            "Inferencing on batch 4: 100%|██████████| 4/4 [00:00<00:00, 16.10it/s]\n",
            "Inferencing on batch 4: 100%|██████████| 4/4 [00:00<00:00, 16.71it/s]\n",
            "Inferencing on batch 4: 100%|██████████| 4/4 [00:00<00:00, 16.60it/s]\n",
            "Inferencing on batch 4: 100%|██████████| 4/4 [00:00<00:00, 18.73it/s]\n",
            "Inferencing on batch 4: 100%|██████████| 4/4 [00:00<00:00, 15.33it/s]\n",
            "Inferencing on batch 4: 100%|██████████| 4/4 [00:00<00:00, 20.78it/s]\n",
            "Inferencing on batch 4: 100%|██████████| 4/4 [00:00<00:00, 19.39it/s]\n",
            "Inferencing on batch 4: 100%|██████████| 4/4 [00:00<00:00, 17.09it/s]\n",
            "Inferencing on batch 4: 100%|██████████| 4/4 [00:00<00:00, 10.77it/s]\n",
            "Inferencing on batch 4: 100%|██████████| 4/4 [00:00<00:00, 18.01it/s]\n",
            "Inferencing on batch 4: 100%|██████████| 4/4 [00:00<00:00, 21.12it/s]\n",
            "Inferencing on batch 4: 100%|██████████| 4/4 [00:00<00:00, 18.51it/s]\n",
            "Inferencing on batch 4: 100%|██████████| 4/4 [00:00<00:00, 18.90it/s]\n",
            "Inferencing on batch 4: 100%|██████████| 4/4 [00:00<00:00, 21.54it/s]\n",
            "Inferencing on batch 4: 100%|██████████| 4/4 [00:00<00:00, 15.24it/s]\n",
            "Inferencing on batch 4: 100%|██████████| 4/4 [00:00<00:00, 17.84it/s]\n",
            "Inferencing on batch 4: 100%|██████████| 4/4 [00:00<00:00, 17.21it/s]\n",
            "Inferencing on batch 4: 100%|██████████| 4/4 [00:00<00:00, 16.19it/s]\n",
            "Inferencing on batch 4: 100%|██████████| 4/4 [00:00<00:00, 10.51it/s]\n",
            "Inferencing on batch 4: 100%|██████████| 4/4 [00:00<00:00, 19.19it/s]\n",
            "Inferencing on batch 4: 100%|██████████| 4/4 [00:00<00:00, 15.53it/s]\n",
            "Inferencing on batch 4: 100%|██████████| 4/4 [00:00<00:00, 18.65it/s]\n",
            "Inferencing on batch 4: 100%|██████████| 4/4 [00:00<00:00, 20.50it/s]\n",
            "Inferencing on batch 4: 100%|██████████| 4/4 [00:00<00:00, 16.56it/s]\n",
            "Inferencing on batch 4: 100%|██████████| 4/4 [00:00<00:00, 20.11it/s]\n",
            "Inferencing on batch 4: 100%|██████████| 4/4 [00:00<00:00, 21.15it/s]\n",
            "Inferencing on batch 4: 100%|██████████| 4/4 [00:00<00:00, 17.31it/s]\n",
            "Inferencing on batch 4: 100%|██████████| 4/4 [00:00<00:00, 15.25it/s]\n",
            "Inferencing on batch 4: 100%|██████████| 4/4 [00:00<00:00, 21.23it/s]\n",
            "Inferencing on batch 4: 100%|██████████| 4/4 [00:00<00:00, 15.57it/s]\n",
            "Inferencing on batch 4: 100%|██████████| 4/4 [00:00<00:00, 14.73it/s]\n",
            "Inferencing on batch 4: 100%|██████████| 4/4 [00:00<00:00, 12.24it/s]\n",
            "Inferencing on batch 4: 100%|██████████| 4/4 [00:00<00:00, 13.77it/s]\n",
            "Inferencing on batch 4: 100%|██████████| 4/4 [00:00<00:00, 13.69it/s]\n",
            "Inferencing on batch 4: 100%|██████████| 4/4 [00:00<00:00, 15.24it/s]\n",
            "Inferencing on batch 4: 100%|██████████| 4/4 [00:00<00:00, 15.44it/s]\n",
            "Inferencing on batch 4: 100%|██████████| 4/4 [00:00<00:00, 15.40it/s]\n",
            "Inferencing on batch 4: 100%|██████████| 4/4 [00:00<00:00, 19.64it/s]\n",
            "Inferencing on batch 4: 100%|██████████| 4/4 [00:00<00:00, 15.43it/s]\n",
            "Inferencing on batch 4: 100%|██████████| 4/4 [00:00<00:00, 15.26it/s]\n",
            "Inferencing on batch 4: 100%|██████████| 4/4 [00:00<00:00, 18.77it/s]\n",
            "Inferencing on batch 4: 100%|██████████| 4/4 [00:00<00:00, 17.16it/s]\n",
            "Inferencing on batch 4: 100%|██████████| 4/4 [00:00<00:00, 15.37it/s]\n",
            "Inferencing on batch 4: 100%|██████████| 4/4 [00:00<00:00, 18.36it/s]\n",
            "Inferencing on batch 4: 100%|██████████| 4/4 [00:00<00:00, 17.39it/s]\n",
            "Inferencing on batch 4: 100%|██████████| 4/4 [00:00<00:00, 17.38it/s]\n",
            "Inferencing on batch 4: 100%|██████████| 4/4 [00:00<00:00, 16.48it/s]\n",
            "Inferencing on batch 4: 100%|██████████| 4/4 [00:00<00:00, 16.48it/s]\n",
            "Inferencing on batch 4: 100%|██████████| 4/4 [00:00<00:00, 18.08it/s]\n",
            "Inferencing on batch 4: 100%|██████████| 4/4 [00:00<00:00, 19.00it/s]\n",
            "Inferencing on batch 4: 100%|██████████| 4/4 [00:00<00:00, 16.45it/s]\n",
            "Inferencing on batch 4: 100%|██████████| 4/4 [00:00<00:00, 19.50it/s]\n",
            "Inferencing on batch 4: 100%|██████████| 4/4 [00:00<00:00, 17.52it/s]\n",
            "Inferencing on batch 4: 100%|██████████| 4/4 [00:00<00:00, 19.48it/s]\n",
            "Inferencing on batch 4: 100%|██████████| 4/4 [00:00<00:00, 19.62it/s]\n",
            "Inferencing on batch 4: 100%|██████████| 4/4 [00:00<00:00, 18.82it/s]\n",
            "Inferencing on batch 4: 100%|██████████| 4/4 [00:00<00:00, 17.39it/s]\n",
            "Inferencing on batch 4: 100%|██████████| 4/4 [00:00<00:00, 17.78it/s]\n",
            "Inferencing on batch 4: 100%|██████████| 4/4 [00:00<00:00, 18.88it/s]\n",
            "Inferencing on batch 4: 100%|██████████| 4/4 [00:00<00:00, 20.25it/s]\n",
            "Inferencing on batch 4: 100%|██████████| 4/4 [00:00<00:00, 18.87it/s]\n",
            "Inferencing on batch 4: 100%|██████████| 4/4 [00:00<00:00, 18.12it/s]\n",
            "Inferencing on batch 4: 100%|██████████| 4/4 [00:00<00:00, 17.28it/s]\n",
            "Inferencing on batch 4: 100%|██████████| 4/4 [00:00<00:00, 19.02it/s]\n",
            "Inferencing on batch 4: 100%|██████████| 4/4 [00:00<00:00, 19.05it/s]\n",
            "Inferencing on batch 4: 100%|██████████| 4/4 [00:00<00:00, 21.28it/s]\n",
            "Inferencing on batch 4: 100%|██████████| 4/4 [00:00<00:00, 15.97it/s]\n",
            "Inferencing on batch 4: 100%|██████████| 4/4 [00:00<00:00, 18.22it/s]\n",
            "Inferencing on batch 4: 100%|██████████| 4/4 [00:00<00:00, 17.63it/s]\n",
            "Inferencing on batch 4: 100%|██████████| 4/4 [00:00<00:00, 20.14it/s]\n",
            "Inferencing on batch 4: 100%|██████████| 4/4 [00:00<00:00, 16.39it/s]\n",
            "Inferencing on batch 4: 100%|██████████| 4/4 [00:00<00:00, 17.18it/s]\n",
            "Inferencing on batch 4: 100%|██████████| 4/4 [00:00<00:00, 14.04it/s]\n",
            "Inferencing on batch 4: 100%|██████████| 4/4 [00:00<00:00, 17.50it/s]\n",
            "Inferencing on batch 4: 100%|██████████| 4/4 [00:00<00:00, 17.52it/s]\n",
            "Inferencing on batch 4: 100%|██████████| 4/4 [00:00<00:00, 13.29it/s]\n",
            "Inferencing on batch 4: 100%|██████████| 4/4 [00:00<00:00, 17.00it/s]\n",
            "Inferencing on batch 4: 100%|██████████| 4/4 [00:00<00:00, 12.67it/s]\n",
            "Inferencing on batch 4: 100%|██████████| 4/4 [00:00<00:00, 13.88it/s]\n",
            "Inferencing on batch 4: 100%|██████████| 4/4 [00:00<00:00, 15.38it/s]\n",
            "Inferencing on batch 4: 100%|██████████| 4/4 [00:00<00:00, 16.30it/s]\n",
            "Inferencing on batch 4: 100%|██████████| 4/4 [00:00<00:00, 15.34it/s]\n",
            "Inferencing on batch 4: 100%|██████████| 4/4 [00:00<00:00, 18.63it/s]\n",
            "Inferencing on batch 4: 100%|██████████| 4/4 [00:00<00:00, 14.38it/s]\n",
            "Inferencing on batch 4: 100%|██████████| 4/4 [00:00<00:00, 15.54it/s]\n",
            "Inferencing on batch 4: 100%|██████████| 4/4 [00:00<00:00, 18.12it/s]\n",
            "Inferencing on batch 4: 100%|██████████| 4/4 [00:00<00:00, 18.12it/s]\n",
            "Inferencing on batch 4: 100%|██████████| 4/4 [00:00<00:00, 15.34it/s]\n",
            "Inferencing on batch 4: 100%|██████████| 4/4 [00:00<00:00, 18.23it/s]\n",
            "Inferencing on batch 4: 100%|██████████| 4/4 [00:00<00:00, 13.49it/s]\n",
            "Inferencing on batch 4: 100%|██████████| 4/4 [00:00<00:00, 13.42it/s]\n",
            "Inferencing on batch 4: 100%|██████████| 4/4 [00:00<00:00, 14.28it/s]\n",
            "Inferencing on batch 4: 100%|██████████| 4/4 [00:00<00:00, 17.91it/s]\n",
            "Inferencing on batch 4: 100%|██████████| 4/4 [00:00<00:00, 18.03it/s]\n",
            "Inferencing on batch 4: 100%|██████████| 4/4 [00:00<00:00, 15.24it/s]\n",
            "Inferencing on batch 4: 100%|██████████| 4/4 [00:00<00:00, 16.70it/s]\n",
            "Inferencing on batch 4: 100%|██████████| 4/4 [00:00<00:00, 18.47it/s]\n",
            "Inferencing on batch 4: 100%|██████████| 4/4 [00:00<00:00, 17.84it/s]\n",
            "Inferencing on batch 4: 100%|██████████| 4/4 [00:00<00:00, 15.29it/s]\n",
            "Inferencing on batch 4: 100%|██████████| 4/4 [00:00<00:00, 17.14it/s]\n",
            "Inferencing on batch 4: 100%|██████████| 4/4 [00:00<00:00, 14.24it/s]\n",
            "Inferencing on batch 4: 100%|██████████| 4/4 [00:00<00:00, 15.73it/s]\n",
            "Inferencing on batch 4: 100%|██████████| 4/4 [00:00<00:00, 18.75it/s]\n",
            "Inferencing on batch 4: 100%|██████████| 4/4 [00:00<00:00, 18.09it/s]\n",
            "Inferencing on batch 4: 100%|██████████| 4/4 [00:00<00:00, 15.21it/s]\n",
            "Inferencing on batch 4: 100%|██████████| 4/4 [00:00<00:00, 19.09it/s]\n",
            "Inferencing on batch 4: 100%|██████████| 4/4 [00:00<00:00, 21.28it/s]\n",
            "Inferencing on batch 4: 100%|██████████| 4/4 [00:00<00:00, 18.41it/s]\n",
            "Inferencing on batch 4: 100%|██████████| 4/4 [00:00<00:00, 16.69it/s]\n",
            "Inferencing on batch 4: 100%|██████████| 4/4 [00:00<00:00, 16.93it/s]\n",
            "Inferencing on batch 4: 100%|██████████| 4/4 [00:00<00:00, 12.26it/s]\n",
            "Inferencing on batch 4: 100%|██████████| 4/4 [00:00<00:00, 13.83it/s]\n",
            "Inferencing on batch 4: 100%|██████████| 4/4 [00:00<00:00, 15.09it/s]\n",
            "Inferencing on batch 4: 100%|██████████| 4/4 [00:00<00:00, 17.61it/s]\n",
            "Inferencing on batch 4: 100%|██████████| 4/4 [00:00<00:00, 13.86it/s]\n",
            "Inferencing on batch 4: 100%|██████████| 4/4 [00:00<00:00, 15.71it/s]\n",
            "Inferencing on batch 4: 100%|██████████| 4/4 [00:00<00:00, 14.88it/s]\n",
            "Inferencing on batch 4: 100%|██████████| 4/4 [00:00<00:00, 15.57it/s]\n",
            "Inferencing on batch 4: 100%|██████████| 4/4 [00:00<00:00, 14.69it/s]\n",
            "Inferencing on batch 4: 100%|██████████| 4/4 [00:00<00:00, 16.01it/s]\n",
            "Inferencing on batch 4: 100%|██████████| 4/4 [00:00<00:00, 12.46it/s]\n",
            "Inferencing on batch 4: 100%|██████████| 4/4 [00:00<00:00, 13.12it/s]\n",
            "Inferencing on batch 4: 100%|██████████| 4/4 [00:00<00:00, 15.11it/s]\n",
            "Inferencing on batch 4: 100%|██████████| 4/4 [00:00<00:00, 16.96it/s]\n",
            "Inferencing on batch 4: 100%|██████████| 4/4 [00:00<00:00, 14.72it/s]\n",
            "Inferencing on batch 4: 100%|██████████| 4/4 [00:00<00:00, 15.82it/s]\n",
            "Inferencing on batch 4: 100%|██████████| 4/4 [00:00<00:00, 16.33it/s]\n",
            "Inferencing on batch 4: 100%|██████████| 4/4 [00:00<00:00, 16.00it/s]\n",
            "Inferencing on batch 4: 100%|██████████| 4/4 [00:00<00:00, 14.06it/s]\n",
            "Inferencing on batch 4: 100%|██████████| 4/4 [00:00<00:00, 17.63it/s]\n",
            "Inferencing on batch 4: 100%|██████████| 4/4 [00:00<00:00, 13.95it/s]\n",
            "Inferencing on batch 4: 100%|██████████| 4/4 [00:00<00:00, 14.45it/s]\n",
            "Inferencing on batch 4: 100%|██████████| 4/4 [00:00<00:00, 13.50it/s]\n",
            "Inferencing on batch 4: 100%|██████████| 4/4 [00:00<00:00, 10.45it/s]\n",
            "Inferencing on batch 4: 100%|██████████| 4/4 [00:00<00:00, 14.91it/s]\n",
            "Inferencing on batch 4: 100%|██████████| 4/4 [00:00<00:00, 15.87it/s]\n",
            "Inferencing on batch 4: 100%|██████████| 4/4 [00:00<00:00, 13.08it/s]\n",
            "Inferencing on batch 4: 100%|██████████| 4/4 [00:00<00:00, 15.36it/s]\n",
            "Inferencing on batch 4: 100%|██████████| 4/4 [00:00<00:00, 14.65it/s]\n",
            "Inferencing on batch 4: 100%|██████████| 4/4 [00:00<00:00, 14.36it/s]\n",
            "Inferencing on batch 4: 100%|██████████| 4/4 [00:00<00:00, 13.38it/s]\n",
            "Inferencing on batch 4: 100%|██████████| 4/4 [00:00<00:00, 18.07it/s]\n",
            "Inferencing on batch 4: 100%|██████████| 4/4 [00:00<00:00, 17.65it/s]\n",
            "Inferencing on batch 4: 100%|██████████| 4/4 [00:00<00:00, 13.04it/s]\n",
            "Inferencing on batch 4: 100%|██████████| 4/4 [00:00<00:00, 18.47it/s]\n",
            "Inferencing on batch 4: 100%|██████████| 4/4 [00:00<00:00, 16.01it/s]\n",
            "Inferencing on batch 4: 100%|██████████| 4/4 [00:00<00:00, 15.22it/s]\n",
            "Inferencing on batch 4: 100%|██████████| 4/4 [00:00<00:00, 15.65it/s]\n",
            "Inferencing on batch 4: 100%|██████████| 4/4 [00:00<00:00, 18.27it/s]\n",
            "Inferencing on batch 4: 100%|██████████| 4/4 [00:00<00:00, 15.77it/s]\n",
            "Inferencing on batch 4: 100%|██████████| 4/4 [00:00<00:00, 13.91it/s]\n",
            "Inferencing on batch 4: 100%|██████████| 4/4 [00:00<00:00, 13.62it/s]\n",
            "Inferencing on batch 4: 100%|██████████| 4/4 [00:00<00:00, 18.33it/s]\n",
            "Inferencing on batch 4: 100%|██████████| 4/4 [00:00<00:00, 17.05it/s]\n",
            "Inferencing on batch 4: 100%|██████████| 4/4 [00:00<00:00, 13.18it/s]\n",
            "Inferencing on batch 4: 100%|██████████| 4/4 [00:00<00:00, 14.38it/s]\n",
            "Inferencing on batch 4: 100%|██████████| 4/4 [00:00<00:00, 14.39it/s]\n",
            "Inferencing on batch 4: 100%|██████████| 4/4 [00:00<00:00, 10.78it/s]\n",
            "Inferencing on batch 4: 100%|██████████| 4/4 [00:00<00:00, 11.79it/s]\n",
            "Inferencing on batch 4: 100%|██████████| 4/4 [00:00<00:00, 14.77it/s]\n",
            "Inferencing on batch 4: 100%|██████████| 4/4 [00:00<00:00, 14.89it/s]\n",
            "Inferencing on batch 4: 100%|██████████| 4/4 [00:00<00:00, 12.22it/s]\n",
            "Inferencing on batch 4: 100%|██████████| 4/4 [00:00<00:00, 12.80it/s]\n",
            "Inferencing on batch 4: 100%|██████████| 4/4 [00:00<00:00, 12.16it/s]\n",
            "Inferencing on batch 4: 100%|██████████| 4/4 [00:00<00:00, 16.07it/s]\n",
            "Inferencing on batch 4: 100%|██████████| 4/4 [00:00<00:00, 16.29it/s]\n",
            "Inferencing on batch 4: 100%|██████████| 4/4 [00:00<00:00, 15.41it/s]\n",
            "Inferencing on batch 4: 100%|██████████| 4/4 [00:00<00:00, 16.37it/s]\n",
            "Inferencing on batch 4: 100%|██████████| 4/4 [00:00<00:00, 18.37it/s]\n",
            "Inferencing on batch 4: 100%|██████████| 4/4 [00:00<00:00, 12.78it/s]\n",
            "Inferencing on batch 4: 100%|██████████| 4/4 [00:00<00:00, 17.73it/s]\n",
            "Inferencing on batch 4: 100%|██████████| 4/4 [00:00<00:00, 15.75it/s]\n",
            "Inferencing on batch 4: 100%|██████████| 4/4 [00:00<00:00, 19.80it/s]\n",
            "Inferencing on batch 4: 100%|██████████| 4/4 [00:00<00:00, 18.88it/s]\n",
            "Inferencing on batch 4: 100%|██████████| 4/4 [00:00<00:00, 14.49it/s]\n",
            "Inferencing on batch 4: 100%|██████████| 4/4 [00:00<00:00, 13.27it/s]\n",
            "Inferencing on batch 4: 100%|██████████| 4/4 [00:00<00:00, 15.36it/s]\n",
            "Inferencing on batch 4: 100%|██████████| 4/4 [00:00<00:00, 17.55it/s]\n",
            "Inferencing on batch 4: 100%|██████████| 4/4 [00:00<00:00, 19.22it/s]\n",
            "Inferencing on batch 4: 100%|██████████| 4/4 [00:00<00:00, 16.55it/s]\n",
            "Inferencing on batch 4: 100%|██████████| 4/4 [00:00<00:00, 17.17it/s]\n",
            "Inferencing on batch 4: 100%|██████████| 4/4 [00:00<00:00, 14.72it/s]\n",
            "Inferencing on batch 4: 100%|██████████| 4/4 [00:00<00:00, 20.26it/s]\n",
            "Inferencing on batch 4: 100%|██████████| 4/4 [00:00<00:00, 17.37it/s]\n",
            "Inferencing on batch 4: 100%|██████████| 4/4 [00:00<00:00, 21.31it/s]\n",
            "Inferencing on batch 4: 100%|██████████| 4/4 [00:00<00:00, 15.32it/s]\n",
            "Inferencing on batch 4: 100%|██████████| 4/4 [00:00<00:00, 15.55it/s]\n",
            "Inferencing on batch 4: 100%|██████████| 4/4 [00:00<00:00, 19.13it/s]\n",
            "Inferencing on batch 4: 100%|██████████| 4/4 [00:00<00:00, 14.82it/s]\n",
            "Inferencing on batch 4: 100%|██████████| 4/4 [00:00<00:00, 14.86it/s]\n",
            "Inferencing on batch 4: 100%|██████████| 4/4 [00:00<00:00, 17.53it/s]\n",
            "Inferencing on batch 4: 100%|██████████| 4/4 [00:00<00:00, 14.63it/s]\n",
            "Inferencing on batch 4: 100%|██████████| 4/4 [00:00<00:00, 18.38it/s]\n",
            "Inferencing on batch 4: 100%|██████████| 4/4 [00:00<00:00, 16.23it/s]\n",
            "Inferencing on batch 4: 100%|██████████| 4/4 [00:00<00:00, 19.34it/s]\n",
            "Inferencing on batch 4: 100%|██████████| 4/4 [00:00<00:00, 18.21it/s]\n",
            "Inferencing on batch 4: 100%|██████████| 4/4 [00:00<00:00, 16.48it/s]\n",
            "Inferencing on batch 4: 100%|██████████| 4/4 [00:00<00:00, 16.67it/s]\n",
            "Inferencing on batch 4: 100%|██████████| 4/4 [00:00<00:00, 13.27it/s]\n",
            "Inferencing on batch 4: 100%|██████████| 4/4 [00:00<00:00, 19.49it/s]\n",
            "Inferencing on batch 4: 100%|██████████| 4/4 [00:00<00:00, 12.36it/s]\n",
            "Inferencing on batch 4: 100%|██████████| 4/4 [00:00<00:00, 16.19it/s]\n",
            "Inferencing on batch 4: 100%|██████████| 4/4 [00:00<00:00, 14.09it/s]\n",
            "Inferencing on batch 4: 100%|██████████| 4/4 [00:00<00:00, 14.92it/s]\n",
            "Inferencing on batch 4: 100%|██████████| 4/4 [00:00<00:00, 15.14it/s]\n",
            "Inferencing on batch 4: 100%|██████████| 4/4 [00:00<00:00, 16.55it/s]\n",
            "Inferencing on batch 4: 100%|██████████| 4/4 [00:00<00:00, 16.69it/s]\n",
            "Inferencing on batch 4: 100%|██████████| 4/4 [00:00<00:00, 11.59it/s]\n",
            "Inferencing on batch 4: 100%|██████████| 4/4 [00:00<00:00, 14.95it/s]\n",
            "Inferencing on batch 4: 100%|██████████| 4/4 [00:00<00:00, 10.85it/s]\n",
            "Inferencing on batch 4: 100%|██████████| 4/4 [00:00<00:00, 10.47it/s]\n",
            "Inferencing on batch 4: 100%|██████████| 4/4 [00:00<00:00, 15.05it/s]\n",
            "Inferencing on batch 4: 100%|██████████| 4/4 [00:00<00:00, 18.92it/s]\n",
            "Inferencing on batch 4: 100%|██████████| 4/4 [00:00<00:00, 21.44it/s]\n",
            "Inferencing on batch 4: 100%|██████████| 4/4 [00:00<00:00, 14.69it/s]\n",
            "Inferencing on batch 4: 100%|██████████| 4/4 [00:00<00:00, 12.46it/s]\n",
            "Inferencing on batch 4: 100%|██████████| 4/4 [00:00<00:00, 19.21it/s]\n",
            "Inferencing on batch 4: 100%|██████████| 4/4 [00:00<00:00, 16.11it/s]\n",
            "Inferencing on batch 4: 100%|██████████| 4/4 [00:00<00:00, 17.55it/s]\n",
            "Inferencing on batch 4: 100%|██████████| 4/4 [00:00<00:00, 19.71it/s]\n",
            "Inferencing on batch 4: 100%|██████████| 4/4 [00:00<00:00, 14.48it/s]\n",
            "Inferencing on batch 4: 100%|██████████| 4/4 [00:00<00:00, 15.71it/s]\n",
            "Inferencing on batch 4: 100%|██████████| 4/4 [00:00<00:00, 18.04it/s]\n",
            "Inferencing on batch 4: 100%|██████████| 4/4 [00:00<00:00, 20.37it/s]\n",
            "Inferencing on batch 4: 100%|██████████| 4/4 [00:00<00:00, 17.08it/s]\n",
            "Inferencing on batch 4: 100%|██████████| 4/4 [00:00<00:00, 18.22it/s]\n",
            "Inferencing on batch 4: 100%|██████████| 4/4 [00:00<00:00, 15.45it/s]\n",
            "Inferencing on batch 4: 100%|██████████| 4/4 [00:00<00:00, 17.66it/s]\n",
            "Inferencing on batch 4: 100%|██████████| 4/4 [00:00<00:00, 18.16it/s]\n",
            "Inferencing on batch 4: 100%|██████████| 4/4 [00:00<00:00, 20.95it/s]\n",
            "Inferencing on batch 4: 100%|██████████| 4/4 [00:00<00:00, 18.01it/s]\n",
            "Inferencing on batch 4: 100%|██████████| 4/4 [00:00<00:00, 17.55it/s]\n",
            "Inferencing on batch 4: 100%|██████████| 4/4 [00:00<00:00, 15.08it/s]\n",
            "Inferencing on batch 4: 100%|██████████| 4/4 [00:00<00:00, 23.66it/s]\n",
            "Inferencing on batch 4: 100%|██████████| 4/4 [00:00<00:00, 13.47it/s]\n",
            "Inferencing on batch 4: 100%|██████████| 4/4 [00:00<00:00, 15.53it/s]\n",
            "Inferencing on batch 4: 100%|██████████| 4/4 [00:00<00:00, 13.26it/s]\n",
            "Inferencing on batch 4: 100%|██████████| 4/4 [00:00<00:00, 14.64it/s]\n",
            "Inferencing on batch 4: 100%|██████████| 4/4 [00:00<00:00, 16.58it/s]\n",
            "Inferencing on batch 4: 100%|██████████| 4/4 [00:00<00:00, 14.22it/s]\n",
            "Inferencing on batch 4: 100%|██████████| 4/4 [00:00<00:00, 17.47it/s]\n",
            "Inferencing on batch 4: 100%|██████████| 4/4 [00:00<00:00, 13.85it/s]\n",
            "Inferencing on batch 4: 100%|██████████| 4/4 [00:00<00:00, 15.91it/s]\n",
            "Inferencing on batch 4: 100%|██████████| 4/4 [00:00<00:00, 19.16it/s]\n",
            "Inferencing on batch 4: 100%|██████████| 4/4 [00:00<00:00, 23.16it/s]\n",
            "Inferencing on batch 4: 100%|██████████| 4/4 [00:00<00:00, 16.11it/s]\n",
            "Inferencing on batch 4: 100%|██████████| 4/4 [00:00<00:00, 11.34it/s]\n",
            "Inferencing on batch 4: 100%|██████████| 4/4 [00:00<00:00, 16.91it/s]\n",
            "Inferencing on batch 4: 100%|██████████| 4/4 [00:00<00:00, 15.02it/s]\n",
            "Inferencing on batch 4: 100%|██████████| 4/4 [00:00<00:00, 14.38it/s]\n",
            "Inferencing on batch 4: 100%|██████████| 4/4 [00:00<00:00, 15.57it/s]\n",
            "Inferencing on batch 4: 100%|██████████| 4/4 [00:00<00:00, 16.09it/s]\n",
            "Inferencing on batch 4: 100%|██████████| 4/4 [00:00<00:00, 15.21it/s]\n",
            "Inferencing on batch 4: 100%|██████████| 4/4 [00:00<00:00, 12.57it/s]\n",
            "Inferencing on batch 4: 100%|██████████| 4/4 [00:00<00:00, 18.18it/s]\n",
            "Inferencing on batch 4: 100%|██████████| 4/4 [00:00<00:00, 14.39it/s]\n",
            "Inferencing on batch 4: 100%|██████████| 4/4 [00:00<00:00, 12.22it/s]\n",
            "Inferencing on batch 4: 100%|██████████| 4/4 [00:00<00:00, 15.76it/s]\n",
            "Inferencing on batch 4: 100%|██████████| 4/4 [00:00<00:00, 13.19it/s]\n",
            "Inferencing on batch 4: 100%|██████████| 4/4 [00:00<00:00, 15.87it/s]\n",
            "Inferencing on batch 4: 100%|██████████| 4/4 [00:00<00:00, 15.61it/s]\n",
            "Inferencing on batch 4: 100%|██████████| 4/4 [00:00<00:00, 12.60it/s]\n",
            "Inferencing on batch 4: 100%|██████████| 4/4 [00:00<00:00, 14.74it/s]\n",
            "Inferencing on batch 4: 100%|██████████| 4/4 [00:00<00:00, 14.64it/s]\n",
            "Inferencing on batch 4: 100%|██████████| 4/4 [00:00<00:00, 16.08it/s]\n",
            "Inferencing on batch 4: 100%|██████████| 4/4 [00:00<00:00, 15.24it/s]\n",
            "Inferencing on batch 4: 100%|██████████| 4/4 [00:00<00:00, 17.18it/s]\n",
            "Inferencing on batch 4: 100%|██████████| 4/4 [00:00<00:00, 16.50it/s]\n",
            "Inferencing on batch 4: 100%|██████████| 4/4 [00:00<00:00, 17.79it/s]\n",
            "Inferencing on batch 4: 100%|██████████| 4/4 [00:00<00:00, 18.33it/s]\n",
            "Inferencing on batch 4: 100%|██████████| 4/4 [00:00<00:00, 14.83it/s]\n",
            "Inferencing on batch 4: 100%|██████████| 4/4 [00:00<00:00, 15.63it/s]\n",
            "Inferencing on batch 4: 100%|██████████| 4/4 [00:00<00:00, 16.80it/s]\n",
            "Inferencing on batch 4: 100%|██████████| 4/4 [00:00<00:00, 15.15it/s]\n",
            "Inferencing on batch 4: 100%|██████████| 4/4 [00:00<00:00, 15.68it/s]\n",
            "Inferencing on batch 4: 100%|██████████| 4/4 [00:00<00:00, 14.79it/s]\n",
            "Inferencing on batch 4: 100%|██████████| 4/4 [00:00<00:00, 15.76it/s]\n",
            "Inferencing on batch 4: 100%|██████████| 4/4 [00:00<00:00, 16.14it/s]\n",
            "Inferencing on batch 4: 100%|██████████| 4/4 [00:00<00:00, 16.14it/s]\n",
            "Inferencing on batch 4: 100%|██████████| 4/4 [00:00<00:00, 18.75it/s]\n",
            "Inferencing on batch 4: 100%|██████████| 4/4 [00:00<00:00, 11.37it/s]\n",
            "Inferencing on batch 4: 100%|██████████| 4/4 [00:00<00:00, 11.01it/s]\n",
            "Inferencing on batch 4: 100%|██████████| 4/4 [00:00<00:00, 15.19it/s]\n",
            "Inferencing on batch 4: 100%|██████████| 4/4 [00:00<00:00, 10.95it/s]\n",
            "Inferencing on batch 4: 100%|██████████| 4/4 [00:00<00:00, 12.65it/s]\n",
            "Inferencing on batch 4: 100%|██████████| 4/4 [00:00<00:00, 10.28it/s]\n",
            "Inferencing on batch 4: 100%|██████████| 4/4 [00:00<00:00, 14.49it/s]\n",
            "Inferencing on batch 4: 100%|██████████| 4/4 [00:00<00:00, 17.51it/s]\n",
            "Inferencing on batch 4: 100%|██████████| 4/4 [00:00<00:00, 13.11it/s]\n",
            "Inferencing on batch 4: 100%|██████████| 4/4 [00:00<00:00, 12.46it/s]\n",
            "Inferencing on batch 4: 100%|██████████| 4/4 [00:00<00:00, 16.95it/s]\n",
            "Inferencing on batch 4: 100%|██████████| 4/4 [00:00<00:00, 14.18it/s]\n",
            "Inferencing on batch 4: 100%|██████████| 4/4 [00:00<00:00, 13.18it/s]\n",
            "Inferencing on batch 4: 100%|██████████| 4/4 [00:00<00:00, 13.30it/s]\n",
            "Inferencing on batch 4: 100%|██████████| 4/4 [00:00<00:00, 16.29it/s]\n",
            "Inferencing on batch 4: 100%|██████████| 4/4 [00:00<00:00, 12.81it/s]\n",
            "Inferencing on batch 4: 100%|██████████| 4/4 [00:00<00:00, 16.22it/s]\n",
            "Inferencing on batch 4: 100%|██████████| 4/4 [00:00<00:00, 16.45it/s]\n",
            "Inferencing on batch 4: 100%|██████████| 4/4 [00:00<00:00, 16.31it/s]\n",
            "Inferencing on batch 4: 100%|██████████| 4/4 [00:00<00:00, 16.32it/s]\n",
            "Inferencing on batch 4: 100%|██████████| 4/4 [00:00<00:00, 18.51it/s]\n",
            "Inferencing on batch 4: 100%|██████████| 4/4 [00:00<00:00, 19.18it/s]\n",
            "Inferencing on batch 4: 100%|██████████| 4/4 [00:00<00:00, 17.04it/s]\n",
            "Inferencing on batch 4: 100%|██████████| 4/4 [00:00<00:00, 13.89it/s]\n",
            "Inferencing on batch 4: 100%|██████████| 4/4 [00:00<00:00, 15.68it/s]\n",
            "Inferencing on batch 4: 100%|██████████| 4/4 [00:00<00:00,  7.36it/s]\n",
            "Inferencing on batch 4: 100%|██████████| 4/4 [00:00<00:00, 13.73it/s]\n",
            "Inferencing on batch 4: 100%|██████████| 4/4 [00:00<00:00, 13.15it/s]\n",
            "Inferencing on batch 4: 100%|██████████| 4/4 [00:00<00:00, 14.90it/s]\n",
            "Inferencing on batch 4: 100%|██████████| 4/4 [00:00<00:00, 17.52it/s]\n",
            "Inferencing on batch 4: 100%|██████████| 4/4 [00:00<00:00, 16.84it/s]\n",
            "Inferencing on batch 4: 100%|██████████| 4/4 [00:00<00:00, 12.97it/s]\n",
            "Inferencing on batch 4: 100%|██████████| 4/4 [00:00<00:00, 13.38it/s]\n",
            "Inferencing on batch 4: 100%|██████████| 4/4 [00:00<00:00, 13.16it/s]\n",
            "Inferencing on batch 4: 100%|██████████| 4/4 [00:00<00:00, 14.95it/s]\n",
            "Inferencing on batch 4: 100%|██████████| 4/4 [00:00<00:00, 15.44it/s]\n",
            "Inferencing on batch 4: 100%|██████████| 4/4 [00:00<00:00, 16.03it/s]\n",
            "Inferencing on batch 4: 100%|██████████| 4/4 [00:00<00:00, 12.40it/s]\n",
            "Inferencing on batch 4: 100%|██████████| 4/4 [00:00<00:00, 14.65it/s]\n",
            "Inferencing on batch 4: 100%|██████████| 4/4 [00:00<00:00, 12.03it/s]\n",
            "Inferencing on batch 4: 100%|██████████| 4/4 [00:00<00:00, 12.89it/s]\n",
            "Inferencing on batch 4: 100%|██████████| 4/4 [00:00<00:00,  9.65it/s]\n",
            "Inferencing on batch 4: 100%|██████████| 4/4 [00:00<00:00, 17.33it/s]\n",
            "Inferencing on batch 4: 100%|██████████| 4/4 [00:00<00:00, 14.58it/s]\n",
            "Inferencing on batch 4: 100%|██████████| 4/4 [00:00<00:00, 15.24it/s]\n",
            "Inferencing on batch 4: 100%|██████████| 4/4 [00:00<00:00, 14.36it/s]\n",
            "Inferencing on batch 4: 100%|██████████| 4/4 [00:00<00:00, 13.60it/s]\n",
            "Inferencing on batch 4: 100%|██████████| 4/4 [00:00<00:00, 11.32it/s]\n",
            "Inferencing on batch 4: 100%|██████████| 4/4 [00:00<00:00, 13.28it/s]\n",
            "Inferencing on batch 4: 100%|██████████| 4/4 [00:00<00:00, 14.17it/s]\n",
            "Inferencing on batch 4: 100%|██████████| 4/4 [00:00<00:00, 14.06it/s]\n",
            "Inferencing on batch 4: 100%|██████████| 4/4 [00:00<00:00,  9.75it/s]\n",
            "Inferencing on batch 4: 100%|██████████| 4/4 [00:00<00:00, 12.20it/s]\n",
            "Inferencing on batch 4: 100%|██████████| 4/4 [00:00<00:00, 10.39it/s]\n",
            "Inferencing on batch 4: 100%|██████████| 4/4 [00:00<00:00, 11.84it/s]\n",
            "Inferencing on batch 4: 100%|██████████| 4/4 [00:00<00:00, 13.95it/s]\n",
            "Inferencing on batch 4: 100%|██████████| 4/4 [00:00<00:00, 12.12it/s]\n",
            "Inferencing on batch 4: 100%|██████████| 4/4 [00:00<00:00, 16.66it/s]\n",
            "Inferencing on batch 4: 100%|██████████| 4/4 [00:00<00:00, 11.45it/s]\n",
            "Inferencing on batch 4: 100%|██████████| 4/4 [00:00<00:00, 14.55it/s]\n",
            "Inferencing on batch 4: 100%|██████████| 4/4 [00:00<00:00, 14.62it/s]\n",
            "Inferencing on batch 4: 100%|██████████| 4/4 [00:00<00:00, 11.76it/s]\n",
            "Inferencing on batch 4: 100%|██████████| 4/4 [00:00<00:00, 12.15it/s]\n",
            "Inferencing on batch 4: 100%|██████████| 4/4 [00:00<00:00, 15.63it/s]\n",
            "Inferencing on batch 4: 100%|██████████| 4/4 [00:00<00:00, 13.66it/s]\n",
            "Inferencing on batch 4: 100%|██████████| 4/4 [00:00<00:00, 15.04it/s]\n",
            "Inferencing on batch 4: 100%|██████████| 4/4 [00:00<00:00, 12.77it/s]\n",
            "Inferencing on batch 4: 100%|██████████| 4/4 [00:00<00:00, 14.23it/s]\n",
            "Inferencing on batch 4: 100%|██████████| 4/4 [00:00<00:00, 11.72it/s]\n",
            "Inferencing on batch 4: 100%|██████████| 4/4 [00:00<00:00, 10.62it/s]\n",
            "Inferencing on batch 4: 100%|██████████| 4/4 [00:00<00:00, 13.35it/s]\n",
            "Inferencing on batch 4: 100%|██████████| 4/4 [00:00<00:00, 12.70it/s]\n",
            "Inferencing on batch 4: 100%|██████████| 4/4 [00:00<00:00, 11.39it/s]\n",
            "Inferencing on batch 4: 100%|██████████| 4/4 [00:00<00:00, 14.15it/s]\n",
            "Inferencing on batch 4: 100%|██████████| 4/4 [00:00<00:00, 11.75it/s]\n",
            "Inferencing on batch 4: 100%|██████████| 4/4 [00:00<00:00, 13.58it/s]\n",
            "Inferencing on batch 4: 100%|██████████| 4/4 [00:00<00:00, 10.58it/s]\n",
            "Inferencing on batch 4: 100%|██████████| 4/4 [00:00<00:00, 10.65it/s]\n",
            "Inferencing on batch 4: 100%|██████████| 4/4 [00:00<00:00, 11.70it/s]\n",
            "Inferencing on batch 4: 100%|██████████| 4/4 [00:00<00:00, 10.93it/s]\n",
            "Inferencing on batch 4: 100%|██████████| 4/4 [00:00<00:00, 10.07it/s]\n",
            "Inferencing on batch 4: 100%|██████████| 4/4 [00:00<00:00, 12.38it/s]\n",
            "Inferencing on batch 4: 100%|██████████| 4/4 [00:00<00:00, 12.02it/s]\n",
            "Inferencing on batch 4: 100%|██████████| 4/4 [00:00<00:00, 11.50it/s]\n",
            "Inferencing on batch 4: 100%|██████████| 4/4 [00:00<00:00, 12.82it/s]\n",
            "Inferencing on batch 4: 100%|██████████| 4/4 [00:00<00:00, 11.59it/s]\n",
            "Inferencing on batch 4: 100%|██████████| 4/4 [00:00<00:00, 11.45it/s]\n",
            "Inferencing on batch 4: 100%|██████████| 4/4 [00:00<00:00,  9.26it/s]\n",
            "Inferencing on batch 4: 100%|██████████| 4/4 [00:00<00:00, 10.01it/s]\n",
            "Inferencing on batch 4: 100%|██████████| 4/4 [00:00<00:00, 11.21it/s]\n",
            "Inferencing on batch 4: 100%|██████████| 4/4 [00:00<00:00, 10.32it/s]\n",
            "Inferencing on batch 4: 100%|██████████| 4/4 [00:00<00:00,  8.92it/s]\n",
            "Inferencing on batch 4: 100%|██████████| 4/4 [00:00<00:00,  8.99it/s]\n",
            "Inferencing on batch 4: 100%|██████████| 4/4 [00:00<00:00,  9.67it/s]\n",
            "Inferencing on batch 4: 100%|██████████| 4/4 [00:00<00:00,  9.92it/s]\n",
            "Inferencing on batch 4: 100%|██████████| 4/4 [00:00<00:00,  9.52it/s]\n",
            "Inferencing on batch 4: 100%|██████████| 4/4 [00:00<00:00, 12.41it/s]\n",
            "Inferencing on batch 4: 100%|██████████| 4/4 [00:00<00:00, 12.90it/s]\n",
            "Inferencing on batch 4: 100%|██████████| 4/4 [00:00<00:00, 15.92it/s]\n",
            "Inferencing on batch 4: 100%|██████████| 4/4 [00:00<00:00, 15.06it/s]\n",
            "Inferencing on batch 4: 100%|██████████| 4/4 [00:00<00:00, 14.04it/s]\n",
            "Inferencing on batch 4: 100%|██████████| 4/4 [00:00<00:00, 17.62it/s]\n",
            "Inferencing on batch 4: 100%|██████████| 4/4 [00:00<00:00, 11.56it/s]\n",
            "Inferencing on batch 4: 100%|██████████| 4/4 [00:00<00:00, 15.42it/s]\n",
            "Inferencing on batch 4: 100%|██████████| 4/4 [00:00<00:00, 16.66it/s]\n",
            "Inferencing on batch 4: 100%|██████████| 4/4 [00:00<00:00, 13.90it/s]\n",
            "Inferencing on batch 4: 100%|██████████| 4/4 [00:00<00:00, 10.99it/s]\n",
            "Inferencing on batch 4: 100%|██████████| 4/4 [00:00<00:00, 14.44it/s]\n",
            "Inferencing on batch 4: 100%|██████████| 4/4 [00:00<00:00, 12.96it/s]\n",
            "Inferencing on batch 4: 100%|██████████| 4/4 [00:00<00:00, 16.22it/s]\n",
            "Inferencing on batch 4: 100%|██████████| 4/4 [00:00<00:00, 14.68it/s]\n",
            "Inferencing on batch 4: 100%|██████████| 4/4 [00:00<00:00, 13.89it/s]\n",
            "Inferencing on batch 4: 100%|██████████| 4/4 [00:00<00:00, 22.10it/s]\n",
            "Inferencing on batch 4: 100%|██████████| 4/4 [00:00<00:00, 14.06it/s]\n",
            "Inferencing on batch 4: 100%|██████████| 4/4 [00:00<00:00, 13.51it/s]\n",
            "Inferencing on batch 4: 100%|██████████| 4/4 [00:00<00:00, 11.94it/s]\n",
            "Inferencing on batch 4: 100%|██████████| 4/4 [00:00<00:00, 14.59it/s]\n",
            "Inferencing on batch 4: 100%|██████████| 4/4 [00:00<00:00, 13.28it/s]\n",
            "Inferencing on batch 4: 100%|██████████| 4/4 [00:00<00:00, 14.66it/s]\n",
            "Inferencing on batch 4: 100%|██████████| 4/4 [00:00<00:00, 12.93it/s]\n",
            "Inferencing on batch 4: 100%|██████████| 4/4 [00:00<00:00, 16.15it/s]\n",
            "Inferencing on batch 4: 100%|██████████| 4/4 [00:00<00:00, 15.72it/s]\n",
            "Inferencing on batch 4: 100%|██████████| 4/4 [00:00<00:00, 15.65it/s]\n",
            "Inferencing on batch 4: 100%|██████████| 4/4 [00:00<00:00, 14.99it/s]\n",
            "Inferencing on batch 4: 100%|██████████| 4/4 [00:00<00:00, 13.32it/s]\n",
            "Inferencing on batch 4: 100%|██████████| 4/4 [00:00<00:00, 16.54it/s]\n",
            "Inferencing on batch 4: 100%|██████████| 4/4 [00:00<00:00, 16.24it/s]\n",
            "Inferencing on batch 4: 100%|██████████| 4/4 [00:00<00:00, 16.36it/s]\n",
            "Inferencing on batch 4: 100%|██████████| 4/4 [00:00<00:00, 12.56it/s]\n",
            "Inferencing on batch 4: 100%|██████████| 4/4 [00:00<00:00, 12.56it/s]\n",
            "Inferencing on batch 4: 100%|██████████| 4/4 [00:00<00:00, 13.62it/s]\n",
            "Inferencing on batch 4: 100%|██████████| 4/4 [00:00<00:00, 15.00it/s]\n",
            "Inferencing on batch 4: 100%|██████████| 4/4 [00:00<00:00, 12.68it/s]\n",
            "Inferencing on batch 4: 100%|██████████| 4/4 [00:00<00:00, 16.13it/s]\n",
            "Inferencing on batch 4: 100%|██████████| 4/4 [00:00<00:00, 14.88it/s]\n",
            "Inferencing on batch 4: 100%|██████████| 4/4 [00:00<00:00, 12.64it/s]\n",
            "Inferencing on batch 4: 100%|██████████| 4/4 [00:00<00:00, 13.99it/s]\n",
            "Inferencing on batch 4: 100%|██████████| 4/4 [00:00<00:00, 17.02it/s]\n",
            "Inferencing on batch 4: 100%|██████████| 4/4 [00:00<00:00, 13.27it/s]\n",
            "Inferencing on batch 4: 100%|██████████| 4/4 [00:00<00:00, 15.54it/s]\n",
            "Inferencing on batch 4: 100%|██████████| 4/4 [00:00<00:00, 13.49it/s]\n",
            "Inferencing on batch 4: 100%|██████████| 4/4 [00:00<00:00, 16.23it/s]\n",
            "Inferencing on batch 4: 100%|██████████| 4/4 [00:00<00:00, 17.30it/s]\n",
            "Inferencing on batch 4: 100%|██████████| 4/4 [00:00<00:00, 17.42it/s]\n",
            "Inferencing on batch 4: 100%|██████████| 4/4 [00:00<00:00, 11.41it/s]\n",
            "Inferencing on batch 4: 100%|██████████| 4/4 [00:00<00:00, 10.86it/s]\n",
            "Inferencing on batch 4: 100%|██████████| 4/4 [00:00<00:00, 13.83it/s]\n",
            "Inferencing on batch 4: 100%|██████████| 4/4 [00:00<00:00, 13.69it/s]\n",
            "Inferencing on batch 4: 100%|██████████| 4/4 [00:00<00:00, 13.65it/s]\n",
            "Inferencing on batch 4: 100%|██████████| 4/4 [00:00<00:00, 14.00it/s]\n",
            "Inferencing on batch 4: 100%|██████████| 4/4 [00:00<00:00, 13.37it/s]\n",
            "Inferencing on batch 4: 100%|██████████| 4/4 [00:00<00:00, 15.04it/s]\n",
            "Inferencing on batch 4: 100%|██████████| 4/4 [00:00<00:00, 13.01it/s]\n",
            "Inferencing on batch 4: 100%|██████████| 4/4 [00:00<00:00, 11.44it/s]\n",
            "Inferencing on batch 4: 100%|██████████| 4/4 [00:00<00:00, 10.71it/s]\n",
            "Inferencing on batch 4: 100%|██████████| 4/4 [00:00<00:00, 13.88it/s]\n",
            "Inferencing on batch 4: 100%|██████████| 4/4 [00:00<00:00, 15.47it/s]\n",
            "Inferencing on batch 4: 100%|██████████| 4/4 [00:00<00:00, 14.14it/s]\n",
            "Inferencing on batch 4: 100%|██████████| 4/4 [00:00<00:00, 11.09it/s]\n",
            "Inferencing on batch 4: 100%|██████████| 4/4 [00:00<00:00, 15.37it/s]\n",
            "Inferencing on batch 4: 100%|██████████| 4/4 [00:00<00:00, 12.75it/s]\n",
            "Inferencing on batch 4: 100%|██████████| 4/4 [00:00<00:00, 15.58it/s]\n",
            "Inferencing on batch 4: 100%|██████████| 4/4 [00:00<00:00, 11.41it/s]\n",
            "Inferencing on batch 4: 100%|██████████| 4/4 [00:00<00:00,  9.10it/s]\n",
            "Inferencing on batch 4: 100%|██████████| 4/4 [00:00<00:00, 14.10it/s]\n",
            "Inferencing on batch 4: 100%|██████████| 4/4 [00:00<00:00, 15.35it/s]\n",
            "Inferencing on batch 4: 100%|██████████| 4/4 [00:00<00:00, 13.35it/s]\n",
            "Inferencing on batch 4: 100%|██████████| 4/4 [00:00<00:00, 17.83it/s]\n",
            "Inferencing on batch 4: 100%|██████████| 4/4 [00:00<00:00, 18.13it/s]\n",
            "Inferencing on batch 4: 100%|██████████| 4/4 [00:00<00:00, 14.31it/s]\n",
            "Inferencing on batch 4: 100%|██████████| 4/4 [00:00<00:00, 12.05it/s]\n",
            "Inferencing on batch 4: 100%|██████████| 4/4 [00:00<00:00, 14.41it/s]\n",
            "Inferencing on batch 4: 100%|██████████| 4/4 [00:00<00:00, 15.30it/s]\n",
            "Inferencing on batch 4: 100%|██████████| 4/4 [00:00<00:00, 12.75it/s]\n",
            "Inferencing on batch 4: 100%|██████████| 4/4 [00:00<00:00, 11.21it/s]\n",
            "Inferencing on batch 4: 100%|██████████| 4/4 [00:00<00:00, 16.01it/s]\n",
            "Inferencing on batch 4: 100%|██████████| 4/4 [00:00<00:00, 13.60it/s]\n",
            "Inferencing on batch 4: 100%|██████████| 4/4 [00:00<00:00, 15.03it/s]\n",
            "Inferencing on batch 4: 100%|██████████| 4/4 [00:00<00:00, 18.05it/s]\n",
            "Inferencing on batch 4: 100%|██████████| 4/4 [00:00<00:00, 16.58it/s]\n",
            "Inferencing on batch 4: 100%|██████████| 4/4 [00:00<00:00, 17.07it/s]\n",
            "Inferencing on batch 4: 100%|██████████| 4/4 [00:00<00:00, 13.56it/s]\n",
            "Inferencing on batch 4: 100%|██████████| 4/4 [00:00<00:00, 14.51it/s]\n",
            "Inferencing on batch 4: 100%|██████████| 4/4 [00:00<00:00, 14.79it/s]\n",
            "Inferencing on batch 4: 100%|██████████| 4/4 [00:00<00:00, 14.44it/s]\n",
            "Inferencing on batch 4: 100%|██████████| 4/4 [00:00<00:00, 13.27it/s]\n",
            "Inferencing on batch 4: 100%|██████████| 4/4 [00:00<00:00, 13.83it/s]\n",
            "Inferencing on batch 4: 100%|██████████| 4/4 [00:00<00:00, 12.27it/s]\n",
            "Inferencing on batch 4: 100%|██████████| 4/4 [00:00<00:00, 12.49it/s]\n",
            "Inferencing on batch 4: 100%|██████████| 4/4 [00:00<00:00, 11.37it/s]\n",
            "Inferencing on batch 4: 100%|██████████| 4/4 [00:00<00:00, 17.08it/s]\n",
            "Inferencing on batch 4: 100%|██████████| 4/4 [00:00<00:00, 14.05it/s]\n",
            "Inferencing on batch 4: 100%|██████████| 4/4 [00:00<00:00, 10.25it/s]\n",
            "Inferencing on batch 4: 100%|██████████| 4/4 [00:00<00:00, 11.11it/s]\n",
            "Inferencing on batch 4: 100%|██████████| 4/4 [00:00<00:00, 10.65it/s]\n",
            "Inferencing on batch 4: 100%|██████████| 4/4 [00:00<00:00, 10.96it/s]\n",
            "Inferencing on batch 4: 100%|██████████| 4/4 [00:00<00:00, 12.45it/s]\n",
            "Inferencing on batch 4: 100%|██████████| 4/4 [00:00<00:00, 10.56it/s]\n",
            "Inferencing on batch 4: 100%|██████████| 4/4 [00:00<00:00, 15.93it/s]\n",
            "Inferencing on batch 4: 100%|██████████| 4/4 [00:00<00:00, 14.62it/s]\n",
            "Inferencing on batch 4: 100%|██████████| 4/4 [00:00<00:00, 11.52it/s]\n",
            "Inferencing on batch 4: 100%|██████████| 4/4 [00:00<00:00, 11.99it/s]\n",
            "Inferencing on batch 4: 100%|██████████| 4/4 [00:00<00:00, 13.30it/s]\n",
            "Inferencing on batch 4: 100%|██████████| 4/4 [00:00<00:00, 11.53it/s]\n",
            "Inferencing on batch 4: 100%|██████████| 4/4 [00:00<00:00,  9.42it/s]\n",
            "Inferencing on batch 4: 100%|██████████| 4/4 [00:00<00:00, 10.29it/s]\n",
            "Inferencing on batch 4: 100%|██████████| 4/4 [00:00<00:00, 10.41it/s]\n",
            "Inferencing on batch 4: 100%|██████████| 4/4 [00:00<00:00, 10.61it/s]\n",
            "Inferencing on batch 4: 100%|██████████| 4/4 [00:00<00:00, 12.34it/s]\n",
            "Inferencing on batch 4: 100%|██████████| 4/4 [00:00<00:00, 10.00it/s]\n",
            "Inferencing on batch 4: 100%|██████████| 4/4 [00:00<00:00, 10.24it/s]\n",
            "Inferencing on batch 4: 100%|██████████| 4/4 [00:00<00:00, 10.21it/s]\n",
            "Inferencing on batch 4: 100%|██████████| 4/4 [00:00<00:00,  9.55it/s]\n",
            "Inferencing on batch 4: 100%|██████████| 4/4 [00:00<00:00,  9.46it/s]\n",
            "Inferencing on batch 4: 100%|██████████| 4/4 [00:00<00:00, 13.20it/s]\n",
            "Inferencing on batch 4: 100%|██████████| 4/4 [00:00<00:00, 11.32it/s]\n",
            "Inferencing on batch 4: 100%|██████████| 4/4 [00:00<00:00,  9.84it/s]\n",
            "Inferencing on batch 4: 100%|██████████| 4/4 [00:00<00:00, 11.43it/s]\n",
            "Inferencing on batch 4: 100%|██████████| 4/4 [00:00<00:00, 13.10it/s]\n",
            "Inferencing on batch 4: 100%|██████████| 4/4 [00:00<00:00,  8.87it/s]\n",
            "Inferencing on batch 4: 100%|██████████| 4/4 [00:00<00:00, 10.59it/s]\n",
            "Inferencing on batch 4: 100%|██████████| 4/4 [00:00<00:00,  9.26it/s]\n",
            "Inferencing on batch 4: 100%|██████████| 4/4 [00:00<00:00,  9.78it/s]\n",
            "Inferencing on batch 4: 100%|██████████| 4/4 [00:00<00:00,  8.60it/s]\n",
            "Inferencing on batch 4: 100%|██████████| 4/4 [00:00<00:00,  9.21it/s]\n",
            "Inferencing on batch 4: 100%|██████████| 4/4 [00:00<00:00,  8.63it/s]\n",
            "Inferencing on batch 4: 100%|██████████| 4/4 [00:00<00:00,  6.59it/s]\n",
            "Inferencing on batch 4: 100%|██████████| 4/4 [00:00<00:00, 11.29it/s]\n",
            "Inferencing on batch 4: 100%|██████████| 4/4 [00:00<00:00,  9.68it/s]\n",
            "Inferencing on batch 4: 100%|██████████| 4/4 [00:00<00:00, 12.22it/s]\n",
            "Inferencing on batch 4: 100%|██████████| 4/4 [00:00<00:00, 12.66it/s]\n",
            "Inferencing on batch 4: 100%|██████████| 4/4 [00:00<00:00, 10.86it/s]\n",
            "Inferencing on batch 4: 100%|██████████| 4/4 [00:00<00:00,  9.79it/s]\n",
            "Inferencing on batch 4: 100%|██████████| 4/4 [00:00<00:00,  8.94it/s]\n",
            "Inferencing on batch 4: 100%|██████████| 4/4 [00:00<00:00,  9.37it/s]\n",
            "Inferencing on batch 4: 100%|██████████| 4/4 [00:00<00:00, 11.21it/s]\n",
            "Inferencing on batch 4: 100%|██████████| 4/4 [00:00<00:00,  9.54it/s]\n",
            "Inferencing on batch 4: 100%|██████████| 4/4 [00:00<00:00,  8.47it/s]\n",
            "Inferencing on batch 4: 100%|██████████| 4/4 [00:00<00:00,  9.64it/s]\n",
            "Inferencing on batch 4: 100%|██████████| 4/4 [00:00<00:00, 11.84it/s]\n",
            "Inferencing on batch 4: 100%|██████████| 4/4 [00:00<00:00,  9.33it/s]\n",
            "Inferencing on batch 4: 100%|██████████| 4/4 [00:00<00:00,  9.85it/s]\n",
            "Inferencing on batch 4: 100%|██████████| 4/4 [00:00<00:00,  9.14it/s]\n",
            "Inferencing on batch 4: 100%|██████████| 4/4 [00:00<00:00, 12.57it/s]\n",
            "Inferencing on batch 4: 100%|██████████| 4/4 [00:00<00:00, 12.28it/s]\n",
            "Inferencing on batch 4: 100%|██████████| 4/4 [00:00<00:00, 10.47it/s]\n",
            "Inferencing on batch 4: 100%|██████████| 4/4 [00:00<00:00, 10.63it/s]\n",
            "Inferencing on batch 4: 100%|██████████| 4/4 [00:00<00:00, 12.02it/s]\n",
            "Inferencing on batch 4: 100%|██████████| 4/4 [00:00<00:00, 10.05it/s]\n",
            "Inferencing on batch 4: 100%|██████████| 4/4 [00:00<00:00, 10.06it/s]\n",
            "Inferencing on batch 4: 100%|██████████| 4/4 [00:00<00:00, 11.14it/s]\n",
            "Inferencing on batch 4: 100%|██████████| 4/4 [00:00<00:00,  9.56it/s]\n",
            "Inferencing on batch 4: 100%|██████████| 4/4 [00:00<00:00,  9.85it/s]\n",
            "Inferencing on batch 4: 100%|██████████| 4/4 [00:00<00:00, 11.61it/s]\n",
            "Inferencing on batch 4: 100%|██████████| 4/4 [00:00<00:00,  9.47it/s]\n",
            "Inferencing on batch 4: 100%|██████████| 4/4 [00:00<00:00,  9.86it/s]\n",
            "Inferencing on batch 4: 100%|██████████| 4/4 [00:00<00:00,  8.57it/s]\n",
            "Inferencing on batch 4: 100%|██████████| 4/4 [00:00<00:00,  9.58it/s]\n",
            "Inferencing on batch 4: 100%|██████████| 4/4 [00:00<00:00,  9.47it/s]\n",
            "Inferencing on batch 4: 100%|██████████| 4/4 [00:00<00:00,  8.99it/s]\n",
            "Inferencing on batch 4: 100%|██████████| 4/4 [00:00<00:00, 11.39it/s]\n",
            "Inferencing on batch 4: 100%|██████████| 4/4 [00:00<00:00, 11.59it/s]\n",
            "Inferencing on batch 4: 100%|██████████| 4/4 [00:00<00:00,  9.24it/s]\n",
            "Inferencing on batch 4: 100%|██████████| 4/4 [00:00<00:00, 11.35it/s]\n",
            "Inferencing on batch 4: 100%|██████████| 4/4 [00:00<00:00, 10.45it/s]\n",
            "Inferencing on batch 4: 100%|██████████| 4/4 [00:00<00:00,  9.94it/s]\n",
            "Inferencing on batch 4: 100%|██████████| 4/4 [00:00<00:00,  5.96it/s]\n",
            "Inferencing on batch 4: 100%|██████████| 4/4 [00:00<00:00, 10.72it/s]\n",
            "Inferencing on batch 4: 100%|██████████| 4/4 [00:00<00:00,  7.98it/s]\n",
            "Inferencing on batch 4: 100%|██████████| 4/4 [00:00<00:00, 11.19it/s]\n",
            "Inferencing on batch 4: 100%|██████████| 4/4 [00:00<00:00, 10.33it/s]\n",
            "Inferencing on batch 4: 100%|██████████| 4/4 [00:00<00:00,  9.18it/s]\n",
            "Inferencing on batch 4: 100%|██████████| 4/4 [00:00<00:00,  9.17it/s]\n",
            "Inferencing on batch 4: 100%|██████████| 4/4 [00:00<00:00,  9.77it/s]\n",
            "Inferencing on batch 4: 100%|██████████| 4/4 [00:00<00:00, 11.73it/s]\n",
            "Inferencing on batch 4: 100%|██████████| 4/4 [00:00<00:00, 10.54it/s]\n",
            "Inferencing on batch 4: 100%|██████████| 4/4 [00:00<00:00, 11.42it/s]\n",
            "Inferencing on batch 4: 100%|██████████| 4/4 [00:00<00:00,  9.54it/s]\n",
            "Inferencing on batch 4: 100%|██████████| 4/4 [00:00<00:00, 10.18it/s]\n",
            "Inferencing on batch 4: 100%|██████████| 4/4 [00:00<00:00, 11.32it/s]\n",
            "Inferencing on batch 4: 100%|██████████| 4/4 [00:00<00:00, 11.56it/s]\n",
            "Inferencing on batch 4: 100%|██████████| 4/4 [00:00<00:00,  9.24it/s]\n",
            "Inferencing on batch 4: 100%|██████████| 4/4 [00:00<00:00, 12.48it/s]\n",
            "Inferencing on batch 4: 100%|██████████| 4/4 [00:00<00:00,  8.29it/s]\n",
            "Inferencing on batch 4: 100%|██████████| 4/4 [00:00<00:00, 10.41it/s]\n",
            "Inferencing on batch 4: 100%|██████████| 4/4 [00:00<00:00, 12.22it/s]\n",
            "Inferencing on batch 4: 100%|██████████| 4/4 [00:00<00:00,  9.32it/s]\n",
            "Inferencing on batch 4: 100%|██████████| 4/4 [00:00<00:00,  9.85it/s]\n",
            "Inferencing on batch 4: 100%|██████████| 4/4 [00:00<00:00,  9.70it/s]\n",
            "Inferencing on batch 4: 100%|██████████| 4/4 [00:00<00:00, 12.02it/s]\n",
            "Inferencing on batch 4: 100%|██████████| 4/4 [00:00<00:00, 12.13it/s]\n",
            "Inferencing on batch 4: 100%|██████████| 4/4 [00:00<00:00, 10.80it/s]\n",
            "Inferencing on batch 4: 100%|██████████| 4/4 [00:00<00:00, 10.23it/s]\n",
            "Inferencing on batch 4: 100%|██████████| 4/4 [00:00<00:00, 13.05it/s]\n",
            "Inferencing on batch 4: 100%|██████████| 4/4 [00:00<00:00, 10.08it/s]\n",
            "Inferencing on batch 4: 100%|██████████| 4/4 [00:00<00:00, 11.25it/s]\n",
            "Inferencing on batch 4: 100%|██████████| 4/4 [00:00<00:00, 12.06it/s]\n",
            "Inferencing on batch 4: 100%|██████████| 4/4 [00:00<00:00,  9.26it/s]\n",
            "Inferencing on batch 4: 100%|██████████| 4/4 [00:00<00:00, 11.66it/s]\n",
            "Inferencing on batch 4: 100%|██████████| 4/4 [00:03<00:00,  1.06it/s]\n",
            "Inferencing on batch 4: 100%|██████████| 4/4 [00:00<00:00,  9.25it/s]\n",
            "Inferencing on batch 4: 100%|██████████| 4/4 [00:00<00:00,  9.65it/s]\n",
            "Inferencing on batch 4: 100%|██████████| 4/4 [00:00<00:00,  9.40it/s]\n",
            "Inferencing on batch 4: 100%|██████████| 4/4 [00:00<00:00,  9.50it/s]\n",
            "Inferencing on batch 4: 100%|██████████| 4/4 [00:00<00:00,  9.07it/s]\n",
            "Inferencing on batch 4: 100%|██████████| 4/4 [00:00<00:00, 10.13it/s]\n",
            "Inferencing on batch 4: 100%|██████████| 4/4 [00:00<00:00, 10.74it/s]\n",
            "Inferencing on batch 4: 100%|██████████| 4/4 [00:00<00:00, 10.78it/s]\n",
            "Inferencing on batch 4: 100%|██████████| 4/4 [00:00<00:00, 10.95it/s]\n",
            "Inferencing on batch 4: 100%|██████████| 4/4 [00:00<00:00,  9.87it/s]\n",
            "Inferencing on batch 4: 100%|██████████| 4/4 [00:00<00:00, 12.25it/s]\n",
            "Inferencing on batch 4: 100%|██████████| 4/4 [00:00<00:00,  9.77it/s]\n",
            "Inferencing on batch 4: 100%|██████████| 4/4 [00:00<00:00, 10.47it/s]\n",
            "Inferencing on batch 4: 100%|██████████| 4/4 [00:00<00:00,  9.74it/s]\n",
            "Inferencing on batch 4: 100%|██████████| 4/4 [00:00<00:00,  9.10it/s]\n",
            "Inferencing on batch 4: 100%|██████████| 4/4 [00:00<00:00,  9.85it/s]\n",
            "Inferencing on batch 4: 100%|██████████| 4/4 [00:00<00:00, 10.32it/s]\n",
            "Inferencing on batch 4: 100%|██████████| 4/4 [00:00<00:00, 12.85it/s]\n",
            "Inferencing on batch 4: 100%|██████████| 4/4 [00:00<00:00, 10.57it/s]\n",
            "Inferencing on batch 4: 100%|██████████| 4/4 [00:00<00:00, 10.48it/s]\n",
            "Inferencing on batch 4: 100%|██████████| 4/4 [00:00<00:00, 10.15it/s]\n",
            "Inferencing on batch 4: 100%|██████████| 4/4 [00:00<00:00, 11.67it/s]\n",
            "Inferencing on batch 4: 100%|██████████| 4/4 [00:00<00:00, 11.83it/s]\n",
            "Inferencing on batch 4: 100%|██████████| 4/4 [00:00<00:00, 12.04it/s]\n",
            "Inferencing on batch 4: 100%|██████████| 4/4 [00:00<00:00,  8.87it/s]\n",
            "Inferencing on batch 4: 100%|██████████| 4/4 [00:00<00:00, 10.87it/s]\n",
            "Inferencing on batch 4: 100%|██████████| 4/4 [00:00<00:00,  8.26it/s]\n",
            "Inferencing on batch 4: 100%|██████████| 4/4 [00:00<00:00,  9.67it/s]\n",
            "Inferencing on batch 4: 100%|██████████| 4/4 [00:00<00:00, 11.04it/s]\n",
            "Inferencing on batch 4: 100%|██████████| 4/4 [00:00<00:00, 10.38it/s]\n",
            "Inferencing on batch 4: 100%|██████████| 4/4 [00:00<00:00, 11.35it/s]\n",
            "Inferencing on batch 4: 100%|██████████| 4/4 [00:00<00:00, 11.76it/s]\n",
            "Inferencing on batch 4: 100%|██████████| 4/4 [00:00<00:00, 10.44it/s]\n",
            "Inferencing on batch 4: 100%|██████████| 4/4 [00:00<00:00, 10.04it/s]\n",
            "Inferencing on batch 4: 100%|██████████| 4/4 [00:00<00:00, 11.12it/s]\n",
            "Inferencing on batch 4: 100%|██████████| 4/4 [00:00<00:00, 11.46it/s]\n",
            "Inferencing on batch 4: 100%|██████████| 4/4 [00:00<00:00,  9.44it/s]\n",
            "Inferencing on batch 4: 100%|██████████| 4/4 [00:00<00:00,  9.96it/s]\n",
            "Inferencing on batch 4: 100%|██████████| 4/4 [00:00<00:00,  9.84it/s]\n",
            "Inferencing on batch 4: 100%|██████████| 4/4 [00:00<00:00,  7.75it/s]\n",
            "Inferencing on batch 4: 100%|██████████| 4/4 [00:00<00:00,  9.62it/s]\n",
            "Inferencing on batch 4: 100%|██████████| 4/4 [00:00<00:00,  9.71it/s]\n",
            "Inferencing on batch 4: 100%|██████████| 4/4 [00:00<00:00,  8.28it/s]\n",
            "Inferencing on batch 4: 100%|██████████| 4/4 [00:00<00:00, 11.29it/s]\n",
            "Inferencing on batch 4: 100%|██████████| 4/4 [00:00<00:00, 11.56it/s]\n",
            "Inferencing on batch 4: 100%|██████████| 4/4 [00:00<00:00,  9.29it/s]\n",
            "Inferencing on batch 4: 100%|██████████| 4/4 [00:00<00:00, 10.63it/s]\n",
            "Inferencing on batch 4: 100%|██████████| 4/4 [00:00<00:00, 10.26it/s]\n",
            "Inferencing on batch 4: 100%|██████████| 4/4 [00:00<00:00, 11.57it/s]\n",
            "Inferencing on batch 4: 100%|██████████| 4/4 [00:00<00:00,  9.42it/s]\n",
            "Inferencing on batch 4: 100%|██████████| 4/4 [00:00<00:00, 11.30it/s]\n",
            "Inferencing on batch 4: 100%|██████████| 4/4 [00:00<00:00,  9.81it/s]\n",
            "Inferencing on batch 4: 100%|██████████| 4/4 [00:00<00:00, 11.84it/s]\n",
            "Inferencing on batch 4: 100%|██████████| 4/4 [00:00<00:00, 10.48it/s]\n",
            "Inferencing on batch 4: 100%|██████████| 4/4 [00:00<00:00,  9.31it/s]\n",
            "Inferencing on batch 4: 100%|██████████| 4/4 [00:00<00:00, 10.95it/s]\n",
            "Inferencing on batch 4: 100%|██████████| 4/4 [00:00<00:00, 10.85it/s]\n",
            "Inferencing on batch 4: 100%|██████████| 4/4 [00:00<00:00, 10.85it/s]\n",
            "Inferencing on batch 4: 100%|██████████| 4/4 [00:00<00:00,  9.79it/s]\n",
            "Inferencing on batch 4: 100%|██████████| 4/4 [00:00<00:00,  8.60it/s]\n",
            "Inferencing on batch 4: 100%|██████████| 4/4 [00:00<00:00,  9.83it/s]\n",
            "Inferencing on batch 4: 100%|██████████| 4/4 [00:00<00:00,  9.06it/s]\n",
            "Inferencing on batch 4: 100%|██████████| 4/4 [00:00<00:00,  9.67it/s]\n",
            "Inferencing on batch 4: 100%|██████████| 4/4 [00:00<00:00,  9.60it/s]\n",
            "Inferencing on batch 4: 100%|██████████| 4/4 [00:00<00:00,  9.58it/s]\n",
            "Inferencing on batch 4: 100%|██████████| 4/4 [00:00<00:00, 10.26it/s]\n",
            "Inferencing on batch 4: 100%|██████████| 4/4 [00:00<00:00, 11.35it/s]\n",
            "Inferencing on batch 4: 100%|██████████| 4/4 [00:00<00:00,  9.48it/s]\n",
            "Inferencing on batch 4: 100%|██████████| 4/4 [00:00<00:00, 10.23it/s]\n",
            "Inferencing on batch 4: 100%|██████████| 4/4 [00:00<00:00, 11.01it/s]\n",
            "Inferencing on batch 4: 100%|██████████| 4/4 [00:00<00:00,  9.66it/s]\n",
            "Inferencing on batch 4: 100%|██████████| 4/4 [00:00<00:00,  9.86it/s]\n",
            "Inferencing on batch 4: 100%|██████████| 4/4 [00:00<00:00, 10.84it/s]\n",
            "Inferencing on batch 4: 100%|██████████| 4/4 [00:00<00:00, 10.74it/s]\n",
            "Inferencing on batch 4: 100%|██████████| 4/4 [00:00<00:00,  9.37it/s]\n",
            "Inferencing on batch 4: 100%|██████████| 4/4 [00:00<00:00, 11.89it/s]\n",
            "Inferencing on batch 4: 100%|██████████| 4/4 [00:00<00:00, 12.03it/s]\n",
            "Inferencing on batch 4: 100%|██████████| 4/4 [00:00<00:00, 12.29it/s]\n",
            "Inferencing on batch 4: 100%|██████████| 4/4 [00:00<00:00,  9.77it/s]\n",
            "Inferencing on batch 4: 100%|██████████| 4/4 [00:00<00:00, 10.97it/s]\n",
            "Inferencing on batch 4: 100%|██████████| 4/4 [00:00<00:00, 12.63it/s]\n"
          ]
        }
      ]
    },
    {
      "cell_type": "code",
      "metadata": {
        "colab": {
          "base_uri": "https://localhost:8080/",
          "height": 1000
        },
        "id": "kt1DVJsk37EJ",
        "outputId": "2ffee0a2-983a-43b8-dbbe-d863e60646d5"
      },
      "source": [
        "###adding the appropriate columns\n",
        "df['sent_score']=sentiment_cols[0]\n",
        "df['sent_value']=sentiment_cols[1]\n",
        "df.head(20)"
      ],
      "execution_count": 16,
      "outputs": [
        {
          "output_type": "execute_result",
          "data": {
            "text/html": [
              "<div>\n",
              "<style scoped>\n",
              "    .dataframe tbody tr th:only-of-type {\n",
              "        vertical-align: middle;\n",
              "    }\n",
              "\n",
              "    .dataframe tbody tr th {\n",
              "        vertical-align: top;\n",
              "    }\n",
              "\n",
              "    .dataframe thead th {\n",
              "        text-align: right;\n",
              "    }\n",
              "</style>\n",
              "<table border=\"1\" class=\"dataframe\">\n",
              "  <thead>\n",
              "    <tr style=\"text-align: right;\">\n",
              "      <th></th>\n",
              "      <th>marketplace</th>\n",
              "      <th>customer_id</th>\n",
              "      <th>review_id</th>\n",
              "      <th>product_id</th>\n",
              "      <th>product_parent</th>\n",
              "      <th>product_title</th>\n",
              "      <th>product_category</th>\n",
              "      <th>star_rating</th>\n",
              "      <th>helpful_votes</th>\n",
              "      <th>total_votes</th>\n",
              "      <th>vine</th>\n",
              "      <th>verified_purchase</th>\n",
              "      <th>review_headline</th>\n",
              "      <th>review_body</th>\n",
              "      <th>review_date</th>\n",
              "      <th>reviews_processed</th>\n",
              "      <th>sent_score</th>\n",
              "      <th>sent_value</th>\n",
              "    </tr>\n",
              "  </thead>\n",
              "  <tbody>\n",
              "    <tr>\n",
              "      <th>0</th>\n",
              "      <td>US</td>\n",
              "      <td>21269168</td>\n",
              "      <td>RSH1OZ87OYK92</td>\n",
              "      <td>B013PURRZW</td>\n",
              "      <td>603406193</td>\n",
              "      <td>Madden NFL 16 - Xbox One Digital Code</td>\n",
              "      <td>Digital_Video_Games</td>\n",
              "      <td>2</td>\n",
              "      <td>2</td>\n",
              "      <td>3</td>\n",
              "      <td>N</td>\n",
              "      <td>N</td>\n",
              "      <td>A slight improvement from last year.</td>\n",
              "      <td>I keep buying madden every year hoping they ge...</td>\n",
              "      <td>2015-08-31</td>\n",
              "      <td>keep buying madden every year hoping get back ...</td>\n",
              "      <td>0.999926</td>\n",
              "      <td>NEGATIVE</td>\n",
              "    </tr>\n",
              "    <tr>\n",
              "      <th>1</th>\n",
              "      <td>US</td>\n",
              "      <td>133437</td>\n",
              "      <td>R1WFOQ3N9BO65I</td>\n",
              "      <td>B00F4CEHNK</td>\n",
              "      <td>341969535</td>\n",
              "      <td>Xbox Live Gift Card</td>\n",
              "      <td>Digital_Video_Games</td>\n",
              "      <td>5</td>\n",
              "      <td>0</td>\n",
              "      <td>0</td>\n",
              "      <td>N</td>\n",
              "      <td>Y</td>\n",
              "      <td>Five Stars</td>\n",
              "      <td>Awesome</td>\n",
              "      <td>2015-08-31</td>\n",
              "      <td>awesome</td>\n",
              "      <td>0.997095</td>\n",
              "      <td>POSITIVE</td>\n",
              "    </tr>\n",
              "    <tr>\n",
              "      <th>2</th>\n",
              "      <td>US</td>\n",
              "      <td>45765011</td>\n",
              "      <td>R3YOOS71KM5M9</td>\n",
              "      <td>B00DNHLFQA</td>\n",
              "      <td>951665344</td>\n",
              "      <td>Command &amp; Conquer The Ultimate Collection [Ins...</td>\n",
              "      <td>Digital_Video_Games</td>\n",
              "      <td>5</td>\n",
              "      <td>0</td>\n",
              "      <td>0</td>\n",
              "      <td>N</td>\n",
              "      <td>Y</td>\n",
              "      <td>Hail to the great Yuri!</td>\n",
              "      <td>If you are prepping for the end of the world t...</td>\n",
              "      <td>2015-08-31</td>\n",
              "      <td>prepping end world one thing installed pc hail...</td>\n",
              "      <td>0.851653</td>\n",
              "      <td>POSITIVE</td>\n",
              "    </tr>\n",
              "    <tr>\n",
              "      <th>3</th>\n",
              "      <td>US</td>\n",
              "      <td>113118</td>\n",
              "      <td>R3R14UATT3OUFU</td>\n",
              "      <td>B004RMK5QG</td>\n",
              "      <td>395682204</td>\n",
              "      <td>Playstation Plus Subscription</td>\n",
              "      <td>Digital_Video_Games</td>\n",
              "      <td>5</td>\n",
              "      <td>0</td>\n",
              "      <td>0</td>\n",
              "      <td>N</td>\n",
              "      <td>Y</td>\n",
              "      <td>Five Stars</td>\n",
              "      <td>Perfect</td>\n",
              "      <td>2015-08-31</td>\n",
              "      <td>perfect</td>\n",
              "      <td>0.994086</td>\n",
              "      <td>POSITIVE</td>\n",
              "    </tr>\n",
              "    <tr>\n",
              "      <th>4</th>\n",
              "      <td>US</td>\n",
              "      <td>22151364</td>\n",
              "      <td>RV2W9SGDNQA2C</td>\n",
              "      <td>B00G9BNLQE</td>\n",
              "      <td>640460561</td>\n",
              "      <td>Saints Row IV - Enter The Dominatrix [Online G...</td>\n",
              "      <td>Digital_Video_Games</td>\n",
              "      <td>5</td>\n",
              "      <td>0</td>\n",
              "      <td>0</td>\n",
              "      <td>N</td>\n",
              "      <td>Y</td>\n",
              "      <td>Five Stars</td>\n",
              "      <td>Awesome!</td>\n",
              "      <td>2015-08-31</td>\n",
              "      <td>awesome</td>\n",
              "      <td>0.997095</td>\n",
              "      <td>POSITIVE</td>\n",
              "    </tr>\n",
              "    <tr>\n",
              "      <th>5</th>\n",
              "      <td>US</td>\n",
              "      <td>22151364</td>\n",
              "      <td>R3CFKLIZ0I2KOB</td>\n",
              "      <td>B00IMIL498</td>\n",
              "      <td>621922192</td>\n",
              "      <td>Double Dragon: Neon [Online Game Code]</td>\n",
              "      <td>Digital_Video_Games</td>\n",
              "      <td>5</td>\n",
              "      <td>0</td>\n",
              "      <td>0</td>\n",
              "      <td>N</td>\n",
              "      <td>Y</td>\n",
              "      <td>Five Stars</td>\n",
              "      <td>Awesome!</td>\n",
              "      <td>2015-08-31</td>\n",
              "      <td>awesome</td>\n",
              "      <td>0.997095</td>\n",
              "      <td>POSITIVE</td>\n",
              "    </tr>\n",
              "    <tr>\n",
              "      <th>6</th>\n",
              "      <td>US</td>\n",
              "      <td>38426028</td>\n",
              "      <td>R1LRYU1V0T3O38</td>\n",
              "      <td>B00S00IJH8</td>\n",
              "      <td>215163395</td>\n",
              "      <td>Sims 4</td>\n",
              "      <td>Digital_Video_Games</td>\n",
              "      <td>4</td>\n",
              "      <td>0</td>\n",
              "      <td>0</td>\n",
              "      <td>N</td>\n",
              "      <td>Y</td>\n",
              "      <td>i like the new skills like herbalism in this</td>\n",
              "      <td>i like the new skills like herbalism in this, ...</td>\n",
              "      <td>2015-08-31</td>\n",
              "      <td>like new skill herbalism camping fun also buil...</td>\n",
              "      <td>0.970928</td>\n",
              "      <td>POSITIVE</td>\n",
              "    </tr>\n",
              "    <tr>\n",
              "      <th>7</th>\n",
              "      <td>US</td>\n",
              "      <td>6057518</td>\n",
              "      <td>R44QKV6FE5CJ2</td>\n",
              "      <td>B004RMK4BC</td>\n",
              "      <td>384246568</td>\n",
              "      <td>Playstation Network Card</td>\n",
              "      <td>Digital_Video_Games</td>\n",
              "      <td>5</td>\n",
              "      <td>0</td>\n",
              "      <td>0</td>\n",
              "      <td>N</td>\n",
              "      <td>Y</td>\n",
              "      <td>Five Stars</td>\n",
              "      <td>Super</td>\n",
              "      <td>2015-08-31</td>\n",
              "      <td>super</td>\n",
              "      <td>0.950873</td>\n",
              "      <td>POSITIVE</td>\n",
              "    </tr>\n",
              "    <tr>\n",
              "      <th>8</th>\n",
              "      <td>US</td>\n",
              "      <td>20715661</td>\n",
              "      <td>R2TX1KLPXXXNYS</td>\n",
              "      <td>B00K59HKIQ</td>\n",
              "      <td>384246568</td>\n",
              "      <td>Playstation Network Card</td>\n",
              "      <td>Digital_Video_Games</td>\n",
              "      <td>5</td>\n",
              "      <td>0</td>\n",
              "      <td>0</td>\n",
              "      <td>N</td>\n",
              "      <td>Y</td>\n",
              "      <td>Easy &amp; Fast</td>\n",
              "      <td>Excellent, fast and secure!!!</td>\n",
              "      <td>2015-08-31</td>\n",
              "      <td>excellent fast secure</td>\n",
              "      <td>0.997535</td>\n",
              "      <td>POSITIVE</td>\n",
              "    </tr>\n",
              "    <tr>\n",
              "      <th>9</th>\n",
              "      <td>US</td>\n",
              "      <td>26540306</td>\n",
              "      <td>R1JEEW4C6R89BA</td>\n",
              "      <td>B00K59HKIQ</td>\n",
              "      <td>384246568</td>\n",
              "      <td>Playstation Network Card</td>\n",
              "      <td>Digital_Video_Games</td>\n",
              "      <td>5</td>\n",
              "      <td>0</td>\n",
              "      <td>0</td>\n",
              "      <td>N</td>\n",
              "      <td>Y</td>\n",
              "      <td>Five Stars</td>\n",
              "      <td>Ok</td>\n",
              "      <td>2015-08-31</td>\n",
              "      <td>ok</td>\n",
              "      <td>0.563957</td>\n",
              "      <td>POSITIVE</td>\n",
              "    </tr>\n",
              "    <tr>\n",
              "      <th>10</th>\n",
              "      <td>US</td>\n",
              "      <td>8926809</td>\n",
              "      <td>R3B3UHK1FO0ERS</td>\n",
              "      <td>B004774IPU</td>\n",
              "      <td>151985175</td>\n",
              "      <td>Sid Meier's Civilization V</td>\n",
              "      <td>Digital_Video_Games</td>\n",
              "      <td>1</td>\n",
              "      <td>0</td>\n",
              "      <td>0</td>\n",
              "      <td>N</td>\n",
              "      <td>N</td>\n",
              "      <td>I am still playing Civ 4 and love it. It's a s...</td>\n",
              "      <td>As has been written by so many others, I quick...</td>\n",
              "      <td>2015-08-31</td>\n",
              "      <td>ha written many others quickly lost interest g...</td>\n",
              "      <td>0.994880</td>\n",
              "      <td>NEGATIVE</td>\n",
              "    </tr>\n",
              "    <tr>\n",
              "      <th>11</th>\n",
              "      <td>US</td>\n",
              "      <td>31525534</td>\n",
              "      <td>R2GVSDHW513SS1</td>\n",
              "      <td>B002LIT9EC</td>\n",
              "      <td>695277014</td>\n",
              "      <td>Build-a-lot 4: Power Source [Download]</td>\n",
              "      <td>Digital_Video_Games</td>\n",
              "      <td>5</td>\n",
              "      <td>0</td>\n",
              "      <td>0</td>\n",
              "      <td>N</td>\n",
              "      <td>Y</td>\n",
              "      <td>Probably the best game for learning aspects of...</td>\n",
              "      <td>Probably the best game for learning aspects of...</td>\n",
              "      <td>2015-08-31</td>\n",
              "      <td>probably best game learning aspect real estate...</td>\n",
              "      <td>0.998430</td>\n",
              "      <td>POSITIVE</td>\n",
              "    </tr>\n",
              "    <tr>\n",
              "      <th>12</th>\n",
              "      <td>US</td>\n",
              "      <td>22151364</td>\n",
              "      <td>R1R1NT516PYT73</td>\n",
              "      <td>B008ALUBYQ</td>\n",
              "      <td>112160022</td>\n",
              "      <td>Borderlands 2</td>\n",
              "      <td>Digital_Video_Games</td>\n",
              "      <td>5</td>\n",
              "      <td>0</td>\n",
              "      <td>0</td>\n",
              "      <td>N</td>\n",
              "      <td>Y</td>\n",
              "      <td>Five Stars</td>\n",
              "      <td>Awesome!</td>\n",
              "      <td>2015-08-31</td>\n",
              "      <td>awesome</td>\n",
              "      <td>0.997095</td>\n",
              "      <td>POSITIVE</td>\n",
              "    </tr>\n",
              "    <tr>\n",
              "      <th>13</th>\n",
              "      <td>US</td>\n",
              "      <td>22977584</td>\n",
              "      <td>R3K624QDQKENN9</td>\n",
              "      <td>B010KYDNDG</td>\n",
              "      <td>835376637</td>\n",
              "      <td>Minecraft for PC/Mac [Online Game Code]</td>\n",
              "      <td>Digital_Video_Games</td>\n",
              "      <td>4</td>\n",
              "      <td>0</td>\n",
              "      <td>0</td>\n",
              "      <td>N</td>\n",
              "      <td>Y</td>\n",
              "      <td>FUN</td>\n",
              "      <td>COOL BUT IT LAGES ALOT OF THE TIME</td>\n",
              "      <td>2015-08-31</td>\n",
              "      <td>cool lages alot time</td>\n",
              "      <td>0.973602</td>\n",
              "      <td>POSITIVE</td>\n",
              "    </tr>\n",
              "    <tr>\n",
              "      <th>14</th>\n",
              "      <td>US</td>\n",
              "      <td>45765011</td>\n",
              "      <td>R1FOXH7PCJX3V</td>\n",
              "      <td>B008ALUBYQ</td>\n",
              "      <td>112160022</td>\n",
              "      <td>Borderlands 2</td>\n",
              "      <td>Digital_Video_Games</td>\n",
              "      <td>1</td>\n",
              "      <td>0</td>\n",
              "      <td>2</td>\n",
              "      <td>N</td>\n",
              "      <td>Y</td>\n",
              "      <td>One Star</td>\n",
              "      <td>Lames purchase I almost never made...</td>\n",
              "      <td>2015-08-31</td>\n",
              "      <td>lame purchase almost never made</td>\n",
              "      <td>0.999180</td>\n",
              "      <td>NEGATIVE</td>\n",
              "    </tr>\n",
              "    <tr>\n",
              "      <th>15</th>\n",
              "      <td>US</td>\n",
              "      <td>2239522</td>\n",
              "      <td>RA1246M1OMDWC</td>\n",
              "      <td>B004RMK4P8</td>\n",
              "      <td>384246568</td>\n",
              "      <td>Playstation Network Card</td>\n",
              "      <td>Digital_Video_Games</td>\n",
              "      <td>5</td>\n",
              "      <td>0</td>\n",
              "      <td>0</td>\n",
              "      <td>N</td>\n",
              "      <td>Y</td>\n",
              "      <td>Five Stars</td>\n",
              "      <td>Great</td>\n",
              "      <td>2015-08-31</td>\n",
              "      <td>great</td>\n",
              "      <td>0.992227</td>\n",
              "      <td>POSITIVE</td>\n",
              "    </tr>\n",
              "    <tr>\n",
              "      <th>16</th>\n",
              "      <td>US</td>\n",
              "      <td>48805811</td>\n",
              "      <td>R2I9SXWB0PAEKQ</td>\n",
              "      <td>B004RMK5QG</td>\n",
              "      <td>395682204</td>\n",
              "      <td>Playstation Plus Subscription</td>\n",
              "      <td>Digital_Video_Games</td>\n",
              "      <td>5</td>\n",
              "      <td>0</td>\n",
              "      <td>0</td>\n",
              "      <td>N</td>\n",
              "      <td>Y</td>\n",
              "      <td>Five Stars</td>\n",
              "      <td>Awesome!!!</td>\n",
              "      <td>2015-08-31</td>\n",
              "      <td>awesome</td>\n",
              "      <td>0.997095</td>\n",
              "      <td>POSITIVE</td>\n",
              "    </tr>\n",
              "    <tr>\n",
              "      <th>17</th>\n",
              "      <td>US</td>\n",
              "      <td>18646481</td>\n",
              "      <td>R3UGL544NA0G9C</td>\n",
              "      <td>B00BI16Z22</td>\n",
              "      <td>552981447</td>\n",
              "      <td>Brink of Consciousness: Lonely Hearts Murders ...</td>\n",
              "      <td>Digital_Video_Games</td>\n",
              "      <td>4</td>\n",
              "      <td>0</td>\n",
              "      <td>0</td>\n",
              "      <td>N</td>\n",
              "      <td>Y</td>\n",
              "      <td>worth playing</td>\n",
              "      <td>pretty good but not as good as the first Brink...</td>\n",
              "      <td>2015-08-31</td>\n",
              "      <td>pretty good first brink consciousness game dor...</td>\n",
              "      <td>0.982713</td>\n",
              "      <td>POSITIVE</td>\n",
              "    </tr>\n",
              "    <tr>\n",
              "      <th>18</th>\n",
              "      <td>US</td>\n",
              "      <td>10310935</td>\n",
              "      <td>R1CBA4Y92GVAVM</td>\n",
              "      <td>B004VSTQ2A</td>\n",
              "      <td>232803743</td>\n",
              "      <td>Xbox Live Subscription</td>\n",
              "      <td>Digital_Video_Games</td>\n",
              "      <td>5</td>\n",
              "      <td>0</td>\n",
              "      <td>0</td>\n",
              "      <td>N</td>\n",
              "      <td>Y</td>\n",
              "      <td>Five Stars</td>\n",
              "      <td>What can I say...xbox live!</td>\n",
              "      <td>2015-08-31</td>\n",
              "      <td>say xbox live</td>\n",
              "      <td>0.617814</td>\n",
              "      <td>POSITIVE</td>\n",
              "    </tr>\n",
              "    <tr>\n",
              "      <th>19</th>\n",
              "      <td>US</td>\n",
              "      <td>5587610</td>\n",
              "      <td>R24NEKNR01VEHU</td>\n",
              "      <td>B00GAC1D2G</td>\n",
              "      <td>384246568</td>\n",
              "      <td>Playstation Network Card</td>\n",
              "      <td>Digital_Video_Games</td>\n",
              "      <td>5</td>\n",
              "      <td>0</td>\n",
              "      <td>0</td>\n",
              "      <td>N</td>\n",
              "      <td>Y</td>\n",
              "      <td>Just amazing</td>\n",
              "      <td>Very fast to receive, and ofc a trustworthy an...</td>\n",
              "      <td>2015-08-31</td>\n",
              "      <td>fast receive ofc trustworthy safe place buy us...</td>\n",
              "      <td>0.996360</td>\n",
              "      <td>POSITIVE</td>\n",
              "    </tr>\n",
              "  </tbody>\n",
              "</table>\n",
              "</div>"
            ],
            "text/plain": [
              "   marketplace customer_id  ... sent_score sent_value\n",
              "0           US    21269168  ...   0.999926   NEGATIVE\n",
              "1           US      133437  ...   0.997095   POSITIVE\n",
              "2           US    45765011  ...   0.851653   POSITIVE\n",
              "3           US      113118  ...   0.994086   POSITIVE\n",
              "4           US    22151364  ...   0.997095   POSITIVE\n",
              "5           US    22151364  ...   0.997095   POSITIVE\n",
              "6           US    38426028  ...   0.970928   POSITIVE\n",
              "7           US     6057518  ...   0.950873   POSITIVE\n",
              "8           US    20715661  ...   0.997535   POSITIVE\n",
              "9           US    26540306  ...   0.563957   POSITIVE\n",
              "10          US     8926809  ...   0.994880   NEGATIVE\n",
              "11          US    31525534  ...   0.998430   POSITIVE\n",
              "12          US    22151364  ...   0.997095   POSITIVE\n",
              "13          US    22977584  ...   0.973602   POSITIVE\n",
              "14          US    45765011  ...   0.999180   NEGATIVE\n",
              "15          US     2239522  ...   0.992227   POSITIVE\n",
              "16          US    48805811  ...   0.997095   POSITIVE\n",
              "17          US    18646481  ...   0.982713   POSITIVE\n",
              "18          US    10310935  ...   0.617814   POSITIVE\n",
              "19          US     5587610  ...   0.996360   POSITIVE\n",
              "\n",
              "[20 rows x 18 columns]"
            ]
          },
          "metadata": {},
          "execution_count": 16
        }
      ]
    },
    {
      "cell_type": "markdown",
      "metadata": {
        "id": "ujy1iLZp7BNQ"
      },
      "source": [
        "I want to do some Logistic Regression using this data. I will set the star ratings of 1,2 to be zero and star ratings of 4,5 to be one. Neutral ratings of 3 will be ignored. I will remove bad values such as nans and infinities. Additionally, I will make sure that every feature has the right \".astype()\" value. Let's define the function _modifix_ to do that and apply it to our data frame df."
      ]
    },
    {
      "cell_type": "code",
      "metadata": {
        "colab": {
          "base_uri": "https://localhost:8080/",
          "height": 434
        },
        "id": "FwK0OZlG7m9C",
        "outputId": "5ffcacf9-463c-4c92-8584-22736a31db7c"
      },
      "source": [
        "def modifix(pandata):\n",
        "  binstar=[]\n",
        "  bin_purch=[]\n",
        "  \n",
        "  pandata['marketplace']=pandata['marketplace'].astype(str)\n",
        "  pandata['customer_id']=pandata['customer_id'].astype(str)\n",
        "  pandata['review_id']=pandata['review_id'].astype(str)\n",
        "  pandata['product_id']=pandata['product_id'].astype(str)\n",
        "  pandata['product_parent']=pandata['product_parent'].astype(str)\n",
        "  pandata['product_title']=pandata['product_title'].astype(str)\n",
        "  pandata['product_category']=pandata['product_category'].astype(str)\n",
        "  pandata['star_rating']=pandata['star_rating'].astype(int)\n",
        "  pandata['helpful_votes']=pandata['helpful_votes'].astype(int)\n",
        "  pandata['total_votes']=pandata['total_votes'].astype(int)\n",
        "  pandata['vine']=pandata['vine'].astype(str)\n",
        "  pandata['verified_purchase']=pandata['verified_purchase'].astype(str)\n",
        "  \n",
        "  for purchase in range(len(pandata)):\n",
        "    if pandata.verified_purchase[purchase]=='Y':\n",
        "      bin_purch.append(1)\n",
        "    else:\n",
        "      bin_purch.append(0)\n",
        "  ### 1 verified, 0 not verified purchase.\n",
        "  pandata['binverified']=bin_purch\n",
        "  pandata['binverified']=pandata['binverified'].astype(int)\n",
        "  \n",
        "  pandata['review_headline']=pandata['review_headline'].astype(str)\n",
        "  pandata['review_body']=pandata['review_body'].astype(str)\n",
        "  pandata['review_date']=pandata['review_date'].astype(str)\n",
        "  pandata['reviews_processed']=pandata['reviews_processed'].astype(str)\n",
        "  pandata['sent_score']=pandata['sent_score'].astype(float)\n",
        "  pandata['sent_value']=pandata['sent_value'].astype(str)\n",
        "  # binary sentiments 0 for negative 1 for positive.\n",
        "  binsent=[]\n",
        "  for val in range(len(pandata)):\n",
        "    if pandata.sent_value[val]==\"NEGATIVE\":\n",
        "      binsent.append(0)\n",
        "    else:\n",
        "      binsent.append(1)\n",
        "  pandata['binsent']=binsent\n",
        "\n",
        "  ### LOW STAR 0 HIGH STAR 1\n",
        "  for rating in range(len(pandata)):\n",
        "    if pandata.star_rating[rating]==1 or pandata.star_rating[rating]==2:\n",
        "      binstar.append(0)\n",
        "    elif pandata.star_rating[rating]==4 or pandata.star_rating[rating]==5:\n",
        "      binstar.append(1)\n",
        "    else:\n",
        "      binstar.append(np.nan)\n",
        "\n",
        "  pandata['binstar']=binstar\n",
        "\n",
        "  ##pandata['helpful_percent']=pandata['helpful_votes']/pandata['total_votes']\n",
        "\n",
        "  ### getting rid of np.inf, -np.inf and np.nan.\n",
        "  pandata.replace([np.inf, -np.inf], np.nan)\n",
        "  pandata.dropna(inplace=True)\n",
        "  #can only do that after we drop the np.nans\n",
        "  pandata['binstar']=pandata['binstar'].astype(int)\n",
        "  pandata.reset_index(drop=True, inplace=True)\n",
        "  return pandata\n",
        "\n",
        "\n",
        "\n",
        "df=modifix(df)\n",
        "df.head()"
      ],
      "execution_count": 17,
      "outputs": [
        {
          "output_type": "execute_result",
          "data": {
            "text/html": [
              "<div>\n",
              "<style scoped>\n",
              "    .dataframe tbody tr th:only-of-type {\n",
              "        vertical-align: middle;\n",
              "    }\n",
              "\n",
              "    .dataframe tbody tr th {\n",
              "        vertical-align: top;\n",
              "    }\n",
              "\n",
              "    .dataframe thead th {\n",
              "        text-align: right;\n",
              "    }\n",
              "</style>\n",
              "<table border=\"1\" class=\"dataframe\">\n",
              "  <thead>\n",
              "    <tr style=\"text-align: right;\">\n",
              "      <th></th>\n",
              "      <th>marketplace</th>\n",
              "      <th>customer_id</th>\n",
              "      <th>review_id</th>\n",
              "      <th>product_id</th>\n",
              "      <th>product_parent</th>\n",
              "      <th>product_title</th>\n",
              "      <th>product_category</th>\n",
              "      <th>star_rating</th>\n",
              "      <th>helpful_votes</th>\n",
              "      <th>total_votes</th>\n",
              "      <th>vine</th>\n",
              "      <th>verified_purchase</th>\n",
              "      <th>review_headline</th>\n",
              "      <th>review_body</th>\n",
              "      <th>review_date</th>\n",
              "      <th>reviews_processed</th>\n",
              "      <th>sent_score</th>\n",
              "      <th>sent_value</th>\n",
              "      <th>binverified</th>\n",
              "      <th>binsent</th>\n",
              "      <th>binstar</th>\n",
              "    </tr>\n",
              "  </thead>\n",
              "  <tbody>\n",
              "    <tr>\n",
              "      <th>0</th>\n",
              "      <td>US</td>\n",
              "      <td>21269168</td>\n",
              "      <td>RSH1OZ87OYK92</td>\n",
              "      <td>B013PURRZW</td>\n",
              "      <td>603406193</td>\n",
              "      <td>Madden NFL 16 - Xbox One Digital Code</td>\n",
              "      <td>Digital_Video_Games</td>\n",
              "      <td>2</td>\n",
              "      <td>2</td>\n",
              "      <td>3</td>\n",
              "      <td>N</td>\n",
              "      <td>N</td>\n",
              "      <td>A slight improvement from last year.</td>\n",
              "      <td>I keep buying madden every year hoping they ge...</td>\n",
              "      <td>2015-08-31</td>\n",
              "      <td>keep buying madden every year hoping get back ...</td>\n",
              "      <td>0.999926</td>\n",
              "      <td>NEGATIVE</td>\n",
              "      <td>0</td>\n",
              "      <td>0</td>\n",
              "      <td>0</td>\n",
              "    </tr>\n",
              "    <tr>\n",
              "      <th>1</th>\n",
              "      <td>US</td>\n",
              "      <td>133437</td>\n",
              "      <td>R1WFOQ3N9BO65I</td>\n",
              "      <td>B00F4CEHNK</td>\n",
              "      <td>341969535</td>\n",
              "      <td>Xbox Live Gift Card</td>\n",
              "      <td>Digital_Video_Games</td>\n",
              "      <td>5</td>\n",
              "      <td>0</td>\n",
              "      <td>0</td>\n",
              "      <td>N</td>\n",
              "      <td>Y</td>\n",
              "      <td>Five Stars</td>\n",
              "      <td>Awesome</td>\n",
              "      <td>2015-08-31</td>\n",
              "      <td>awesome</td>\n",
              "      <td>0.997095</td>\n",
              "      <td>POSITIVE</td>\n",
              "      <td>1</td>\n",
              "      <td>1</td>\n",
              "      <td>1</td>\n",
              "    </tr>\n",
              "    <tr>\n",
              "      <th>2</th>\n",
              "      <td>US</td>\n",
              "      <td>45765011</td>\n",
              "      <td>R3YOOS71KM5M9</td>\n",
              "      <td>B00DNHLFQA</td>\n",
              "      <td>951665344</td>\n",
              "      <td>Command &amp; Conquer The Ultimate Collection [Ins...</td>\n",
              "      <td>Digital_Video_Games</td>\n",
              "      <td>5</td>\n",
              "      <td>0</td>\n",
              "      <td>0</td>\n",
              "      <td>N</td>\n",
              "      <td>Y</td>\n",
              "      <td>Hail to the great Yuri!</td>\n",
              "      <td>If you are prepping for the end of the world t...</td>\n",
              "      <td>2015-08-31</td>\n",
              "      <td>prepping end world one thing installed pc hail...</td>\n",
              "      <td>0.851653</td>\n",
              "      <td>POSITIVE</td>\n",
              "      <td>1</td>\n",
              "      <td>1</td>\n",
              "      <td>1</td>\n",
              "    </tr>\n",
              "    <tr>\n",
              "      <th>3</th>\n",
              "      <td>US</td>\n",
              "      <td>113118</td>\n",
              "      <td>R3R14UATT3OUFU</td>\n",
              "      <td>B004RMK5QG</td>\n",
              "      <td>395682204</td>\n",
              "      <td>Playstation Plus Subscription</td>\n",
              "      <td>Digital_Video_Games</td>\n",
              "      <td>5</td>\n",
              "      <td>0</td>\n",
              "      <td>0</td>\n",
              "      <td>N</td>\n",
              "      <td>Y</td>\n",
              "      <td>Five Stars</td>\n",
              "      <td>Perfect</td>\n",
              "      <td>2015-08-31</td>\n",
              "      <td>perfect</td>\n",
              "      <td>0.994086</td>\n",
              "      <td>POSITIVE</td>\n",
              "      <td>1</td>\n",
              "      <td>1</td>\n",
              "      <td>1</td>\n",
              "    </tr>\n",
              "    <tr>\n",
              "      <th>4</th>\n",
              "      <td>US</td>\n",
              "      <td>22151364</td>\n",
              "      <td>RV2W9SGDNQA2C</td>\n",
              "      <td>B00G9BNLQE</td>\n",
              "      <td>640460561</td>\n",
              "      <td>Saints Row IV - Enter The Dominatrix [Online G...</td>\n",
              "      <td>Digital_Video_Games</td>\n",
              "      <td>5</td>\n",
              "      <td>0</td>\n",
              "      <td>0</td>\n",
              "      <td>N</td>\n",
              "      <td>Y</td>\n",
              "      <td>Five Stars</td>\n",
              "      <td>Awesome!</td>\n",
              "      <td>2015-08-31</td>\n",
              "      <td>awesome</td>\n",
              "      <td>0.997095</td>\n",
              "      <td>POSITIVE</td>\n",
              "      <td>1</td>\n",
              "      <td>1</td>\n",
              "      <td>1</td>\n",
              "    </tr>\n",
              "  </tbody>\n",
              "</table>\n",
              "</div>"
            ],
            "text/plain": [
              "  marketplace customer_id       review_id  ... binverified binsent binstar\n",
              "0          US    21269168   RSH1OZ87OYK92  ...           0       0       0\n",
              "1          US      133437  R1WFOQ3N9BO65I  ...           1       1       1\n",
              "2          US    45765011   R3YOOS71KM5M9  ...           1       1       1\n",
              "3          US      113118  R3R14UATT3OUFU  ...           1       1       1\n",
              "4          US    22151364   RV2W9SGDNQA2C  ...           1       1       1\n",
              "\n",
              "[5 rows x 21 columns]"
            ]
          },
          "metadata": {},
          "execution_count": 17
        }
      ]
    },
    {
      "cell_type": "markdown",
      "metadata": {
        "id": "wIxIxC308E1K"
      },
      "source": [
        "Since im about to use logistic regression:\n",
        "Reminder: one of the assumption of logistic regression is that the feature columns are independent of eachother. Therefore, multicollinearity is obviously violating the assumption. \n",
        "I could get a model with high accuracy, but it would not be reliable on real world data. Notice the correlation between the two columns helpful_votes and total_votes.\n"
      ]
    },
    {
      "cell_type": "code",
      "metadata": {
        "colab": {
          "base_uri": "https://localhost:8080/"
        },
        "id": "hOSkff9J7rHm",
        "outputId": "056b2d71-a430-4c20-93e9-ff5c84eb5e6c"
      },
      "source": [
        "print(\"The Correlation between helpful_votes and total votes is \",round((df['helpful_votes'].astype(int)).corr((df['total_votes']).astype(int)),5))\n"
      ],
      "execution_count": 18,
      "outputs": [
        {
          "output_type": "stream",
          "name": "stdout",
          "text": [
            "The Correlation between helpful_votes and total votes is  0.96537\n"
          ]
        }
      ]
    },
    {
      "cell_type": "markdown",
      "metadata": {
        "id": "bn5wm8NX8fjE"
      },
      "source": [
        "I think that the best way to get rid of this problem is to only use the helpful votes."
      ]
    },
    {
      "cell_type": "markdown",
      "metadata": {
        "id": "NWvgKezV8jyR"
      },
      "source": [
        "Since Idk what's going on with the mapper, I'll let the mapper do it's thing on everything and I will hard-code the part for reviews_processed myself.\n",
        "Additionally, I will have the column names appropriate for the new columns for each word in 'words'. Additionally, I decided to use instead of sent_value, the binsent column I created, so we dont have to worry about \"NEGATIVE\" and \"POSITIVE\" strings and we have 1s and 0s. I also decided to use binverified column too. I think it makes sense to take into account if a review has been made by an actual customer."
      ]
    },
    {
      "cell_type": "code",
      "metadata": {
        "colab": {
          "base_uri": "https://localhost:8080/"
        },
        "id": "_HSDGfaW8tWw",
        "outputId": "0d4508a0-4ed0-4f66-92c7-335d58f7f01c"
      },
      "source": [
        "#### since idk what'ss going on with the mapper, i'll let the mapper do it's thing on everything else, and i will Hard-code the reviews_processed part myself\n",
        "vectorizer=TfidfVectorizer(max_features=100)\n",
        "tfidf=vectorizer.fit_transform(df['reviews_processed'])\n",
        "## okay now I have it in the same format as the shit i need for the final_array\n",
        "tfidf=tfidf.toarray()\n",
        "### The top 100 words will be stored in 'words'\n",
        "words=vectorizer.get_feature_names()\n",
        "#### now tfidf is a nparray with .shape of (133373, 100) ill concatenate and im done.\n",
        "\n",
        "mapper = DataFrameMapper([\n",
        "     ('helpful_votes', None),\n",
        "     ('sent_score', None),\n",
        "     ('binsent',None),\n",
        "     ('binverified',None),\n",
        "\n",
        " ], df_out=False)\n",
        "mapper_fit = mapper.fit(df)\n",
        "final_df = mapper.transform(df) # a numpy array \n",
        "\n",
        "final_df=np.concatenate((final_df, tfidf), axis=1)\n",
        "final_df.shape"
      ],
      "execution_count": 19,
      "outputs": [
        {
          "output_type": "execute_result",
          "data": {
            "text/plain": [
              "(133373, 104)"
            ]
          },
          "metadata": {},
          "execution_count": 19
        }
      ]
    },
    {
      "cell_type": "markdown",
      "metadata": {
        "id": "QK-X76jm91jm"
      },
      "source": [
        "Now we can fit a Logistic Regression Model."
      ]
    },
    {
      "cell_type": "markdown",
      "metadata": {
        "id": "Va_BejFP9-wv"
      },
      "source": [
        "#**Chapter 3: Modeling and Predictions**"
      ]
    },
    {
      "cell_type": "markdown",
      "metadata": {
        "id": "s6aw5ZJg-CiM"
      },
      "source": [
        "I want to predict the star rating binstar using the other features. I will create a train/test split of the final_df dataframe and have the target variable be binstar. But first, I would like to normalize the helpful votes, to make the logistic regression work better."
      ]
    },
    {
      "cell_type": "markdown",
      "metadata": {
        "id": "kb2a-EtWzAil"
      },
      "source": [
        "###Naive Logistic Regression\n"
      ]
    },
    {
      "cell_type": "code",
      "metadata": {
        "id": "DACyZDQ7-T00"
      },
      "source": [
        "#sum(final_Df[:,0]<0)\n",
        "## since there are no negative helpful votes all we have to do is just divide by the max to scale \n",
        "#the idea is ---> final_df[:,0]=final_df[:,0] / final_df[:0].max()\n",
        "max_helpful_votes=final_df[:,0].max()\n",
        "for i in range(len(final_df[:,0])):\n",
        "  final_df[i,0]=final_df[i,0]/max_helpful_votes\n",
        "y=np.array(df['binstar'])\n",
        "x_train_q3,x_test_q3,y_train_q3,y_test_q3=train_test_split(final_df,y,test_size=0.2,random_state=42)"
      ],
      "execution_count": 20,
      "outputs": []
    },
    {
      "cell_type": "markdown",
      "metadata": {
        "id": "7xVWwDVB-Z5u"
      },
      "source": [
        "Now let's fit a Logistic Regression Model to the training set and get the accuracies and errors."
      ]
    },
    {
      "cell_type": "code",
      "metadata": {
        "colab": {
          "base_uri": "https://localhost:8080/"
        },
        "id": "ewxqK4Mk-lDF",
        "outputId": "6a496fba-ec92-41cd-8cb1-6713a1413509"
      },
      "source": [
        "logistic_model=LogisticRegression()\n",
        "logistic_model.fit(x_train_q3,y_train_q3)\n",
        "logistic_model_preds=logistic_model.predict(x_test_q3)\n",
        "training_score=logistic_model.score(x_train_q3,y_train_q3)\n",
        "testing_score=logistic_model.score(x_test_q3,y_test_q3)\n",
        "print(\"The train model accuracy is: \",training_score,\"    The test model accuracy is:  \", testing_score)\n",
        "print(\"The train model error is: \",1-training_score,\"    The test model error is:  \", 1-testing_score)"
      ],
      "execution_count": 21,
      "outputs": [
        {
          "output_type": "stream",
          "name": "stdout",
          "text": [
            "The train model accuracy is:  0.878263884983786     The test model accuracy is:   0.8797000937207122\n",
            "The train model error is:  0.12173611501621395     The test model error is:   0.12029990627928777\n"
          ]
        }
      ]
    },
    {
      "cell_type": "markdown",
      "metadata": {
        "id": "V0PiRzU3xr84"
      },
      "source": [
        "### Can I get better accuracy than this?"
      ]
    },
    {
      "cell_type": "markdown",
      "metadata": {
        "id": "4KnpFE-BxwrN"
      },
      "source": [
        "Let's create a voting system of 3 different ML algorithms to try and increase the accuracy.\n",
        "\n",
        "The voting system will consist of the following algorithms:\n",
        "\n",
        "\n",
        "* Logistic Regression.\n",
        "I will choose this algorithm as one of my \"voters\" because first of all, it was pretty much designed for classification especially [0,1]\n",
        "\n",
        "\n",
        "* On-Line SVM with Stochastic Gradient Descent\n",
        "this algorithm is simple and very efficient. Additionally it appears to be extremely useful with the data set has many samples. I'll use the hinge loss for SGDClassifier to get an online SVM classifier\n",
        "\n",
        "* Naive Bayes:\n",
        "I really like this algorithm, even though this is a weak learner. The good news about this classifier is that it is super fast O(nk), n=number of features, k=number of label classes\n",
        "\n",
        "\n",
        "\n",
        "I will use sklearn to fit the algorithms. And then I will do some coding for the voting mechanism. I will then calculate the accuracy. \n",
        "The already-split data is in x_train_q3,x_test_q3,y_train_q3,y_test_q3"
      ]
    },
    {
      "cell_type": "code",
      "metadata": {
        "id": "t2_LYqkFyNBj"
      },
      "source": [
        "## importing naive bayes\n",
        "from sklearn.naive_bayes import GaussianNB"
      ],
      "execution_count": 22,
      "outputs": []
    },
    {
      "cell_type": "markdown",
      "metadata": {
        "id": "C39HTRcpyPaC"
      },
      "source": [
        "Creating a voting model that will classify each sample by the majority vote. The function will return the predictions. as a list the length of input of test data."
      ]
    },
    {
      "cell_type": "code",
      "metadata": {
        "id": "0HzxEmWtyR54"
      },
      "source": [
        "def voted_predictions(x_train,x_test,y_train,y_test):\n",
        "  ### declaring three vote models.\n",
        "  final_preds=[]\n",
        "  #logistic regression\n",
        "  lr=LogisticRegression()\n",
        "  lr.fit(x_train,y_train)\n",
        "  lr_prediction=lr.predict(x_test)\n",
        "  #on line support vector machine\n",
        "  on_line_svm=SGDClassifier(loss='hinge')\n",
        "  on_line_svm.fit(x_train,y_train)\n",
        "  on_line_svm_prediction=on_line_svm.predict(x_test)\n",
        "  #naive bayes\n",
        "  gauss=GaussianNB()\n",
        "  gauss.fit(x_train_q3,y_train_q3)\n",
        "  gauss_prediction=gauss.predict(x_test)\n",
        "\n",
        "  voters_predictions=gauss_prediction+on_line_svm_prediction+lr_prediction\n",
        "  for i in range(len(voters_predictions)):\n",
        "    if voters_predictions[i]>1:\n",
        "      final_preds.append(1)\n",
        "    else:\n",
        "      final_preds.append(0)\n",
        "\n",
        "  return final_preds\n"
      ],
      "execution_count": 23,
      "outputs": []
    },
    {
      "cell_type": "markdown",
      "metadata": {
        "id": "LYuym9QfyT7K"
      },
      "source": [
        "Now, Since i can't use the .score method, i will have to create a function that will calculate the accuracy. \n",
        "As we Know, accuracy is calculated as follows: \n",
        "\n",
        "\n",
        "Accuracy=(TP+TN)/(TP+TN+FP+FN)\n"
      ]
    },
    {
      "cell_type": "code",
      "metadata": {
        "id": "SJqYpKRlyYyW"
      },
      "source": [
        "def voted_accuracy(real_list,predicted_list):\n",
        "  tp=0\n",
        "  tn=0\n",
        "  fp=0\n",
        "  fn=0\n",
        "  for i in range(len(real_list)):\n",
        "    if predicted_list[i]==1 & real_list[i]==1:\n",
        "      tp=tp+1\n",
        "    elif predicted_list[i]==0 & real_list[i]==0:\n",
        "      tn=tn+1  \n",
        "    elif predicted_list[i]==1 & real_list[i]==0:\n",
        "      fp=fp+1\n",
        "    else:\n",
        "      fn=fn+1\n",
        "    accuracy=(tp+tn)/(tp+tn+fp+fn)\n",
        "  return accuracy\n"
      ],
      "execution_count": 24,
      "outputs": []
    },
    {
      "cell_type": "markdown",
      "metadata": {
        "id": "szMXPBhEycIr"
      },
      "source": [
        "My algorithm will consist of both voted_accuracy and the voted_predictions functions. Let's time them and see what we get:"
      ]
    },
    {
      "cell_type": "code",
      "metadata": {
        "colab": {
          "base_uri": "https://localhost:8080/"
        },
        "id": "MuyjTNmkydrK",
        "outputId": "4d5a1024-63e6-43ee-d87a-f174dc812bac"
      },
      "source": [
        "start_time_vote=time.time()\n",
        "vote_winners=voted_predictions(x_train_q3,x_test_q3,y_train_q3,y_test_q3)\n",
        "accuracy_is=voted_accuracy(y_test_q3,vote_winners)\n",
        "endtime_vote=time.time()-start_time_vote\n",
        "\n",
        "print(\"The accuracy for my algorithm is: \",accuracy_is,\" and the runtime was: \",round(endtime_vote,4),\" Seconds.\")"
      ],
      "execution_count": 25,
      "outputs": [
        {
          "output_type": "stream",
          "name": "stdout",
          "text": [
            "The accuracy for my algorithm is:  0.9355951265229616  and the runtime was:  4.8448  Seconds.\n"
          ]
        }
      ]
    },
    {
      "cell_type": "markdown",
      "metadata": {
        "id": "79pkzL4ey2V8"
      },
      "source": [
        "Okay so I can get better accuracy if I were to use a voting system.\n"
      ]
    },
    {
      "cell_type": "markdown",
      "metadata": {
        "id": "xEpxFZhzy7NA"
      },
      "source": [
        "###Back To logistic Regression:"
      ]
    },
    {
      "cell_type": "markdown",
      "metadata": {
        "id": "UgyAX4xe-0zn"
      },
      "source": [
        "Let's see the change in error with increase in sample size. Note: Im only using logistic regression from now untill the end of this chapter to do some analysis."
      ]
    },
    {
      "cell_type": "code",
      "metadata": {
        "colab": {
          "base_uri": "https://localhost:8080/",
          "height": 324
        },
        "id": "ZM1-2GCh-6R7",
        "outputId": "18db3bec-7eaf-4e26-a130-042f5798c5db"
      },
      "source": [
        "test_errors=[]\n",
        "train_errors=[]\n",
        "test_acc=[]\n",
        "train_acc=[]\n",
        "length_list = [ 10 * 2**j for j in range(0,14+1) ]\n",
        "if length_list[-1]>len(final_df):\n",
        "  length_list[-1]=len(final_df)\n",
        "\n",
        "comparison_model=LogisticRegression(random_state=42)\n",
        "\n",
        "for n in range(len(length_list)):\n",
        "  comparison_model=LogisticRegression()\n",
        "  temp_feature_size=final_df[:length_list[n],:]\n",
        "  temp_y=y[:length_list[n]]\n",
        "  x_train,x_test,y_train,y_test=train_test_split(temp_feature_size,temp_y,test_size=0.2,random_state=42)\n",
        "  comparison_model.fit(x_train,y_train)\n",
        "  \n",
        "  train_errors.append(1-comparison_model.score(x_train,y_train))\n",
        "  test_errors.append(1-comparison_model.score(x_test,y_test))\n",
        "  train_acc.append(comparison_model.score(x_train,y_train))\n",
        "  test_acc.append(comparison_model.score(x_test,y_test))\n",
        "\n",
        "plt.title(\"Change in error with increase in Sample Size\",size=17)\n",
        "plt.xlabel(\"Sample Size N\",size=12)\n",
        "plt.ylabel(\"Error\",size=12)\n",
        "plt.plot(length_list,test_errors)\n",
        "plt.plot(length_list,train_errors)\n",
        "plt.xscale('log')\n",
        "plt.legend(['Test Error','Train Error'])"
      ],
      "execution_count": 26,
      "outputs": [
        {
          "output_type": "execute_result",
          "data": {
            "text/plain": [
              "<matplotlib.legend.Legend at 0x7fcd9f45f750>"
            ]
          },
          "metadata": {},
          "execution_count": 26
        },
        {
          "output_type": "display_data",
          "data": {
            "image/png": "[encoded data removed]",
            "text/plain": [
              "<Figure size 432x288 with 1 Axes>"
            ]
          },
          "metadata": {
            "needs_background": "light"
          }
        }
      ]
    },
    {
      "cell_type": "markdown",
      "metadata": {
        "id": "JkBL20-d-_V7"
      },
      "source": [
        "We can see an overall improvement in test error when increasing the sample size. We can also see that both the test and train error converge to around the same number about 0.12"
      ]
    },
    {
      "cell_type": "markdown",
      "metadata": {
        "id": "17d1dxYi_DWQ"
      },
      "source": [
        "Let's see the Change in Accuracy with Increase in Sample Size:"
      ]
    },
    {
      "cell_type": "code",
      "metadata": {
        "colab": {
          "base_uri": "https://localhost:8080/",
          "height": 324
        },
        "id": "ykNg7I-g_Ilr",
        "outputId": "25956bed-794e-4a66-cfff-e508d53aeb91"
      },
      "source": [
        "plt.title(\"Change in Accuracy with increase in Sample Size\",size=17)\n",
        "plt.xlabel(\"Sample Size N\",size=12)\n",
        "plt.ylabel(\"Accuracy\",size=12)\n",
        "plt.plot(length_list,test_acc)\n",
        "plt.plot(length_list,train_acc)\n",
        "plt.xscale('log')\n",
        "plt.legend(['Test Accuracy','Train Accuracy'])"
      ],
      "execution_count": 27,
      "outputs": [
        {
          "output_type": "execute_result",
          "data": {
            "text/plain": [
              "<matplotlib.legend.Legend at 0x7fcd9f01f350>"
            ]
          },
          "metadata": {},
          "execution_count": 27
        },
        {
          "output_type": "display_data",
          "data": {
            "image/png": "[encoded data removed]",
            "text/plain": [
              "<Figure size 432x288 with 1 Axes>"
            ]
          },
          "metadata": {
            "needs_background": "light"
          }
        }
      ]
    },
    {
      "cell_type": "markdown",
      "metadata": {
        "id": "N8ObxSjG_fZb"
      },
      "source": [
        "So far, We've only used a single dataset from the Amazon Reviews Dataset.\n",
        "What I would like to do is to use more categories from the Amazon Reviews Dataset.\n",
        "Specifically, I would like to see what would happen if I would create a combined model:\n",
        "Firstly, I will run 10 different Logistic Regression models on 10 different Amazon Reviews categories, and examine the accuracies.\n",
        "The combined model will be created by averaging these 10 Logisic Regression Models (both coeffs and intercepts). What would have higher accuracy? The combiend model which was created by averaging 10 different data categories? or the model that was fitted on its appropriate category alone by itself?\n",
        "Ill create two tables which will be used to compare the two ideas."
      ]
    },
    {
      "cell_type": "markdown",
      "metadata": {
        "id": "RW0phl1vDZid"
      },
      "source": [
        "let's pick some random categories from the filtered_list."
      ]
    },
    {
      "cell_type": "code",
      "metadata": {
        "colab": {
          "base_uri": "https://localhost:8080/"
        },
        "id": "KNT7hyr3DBpL",
        "outputId": "d39817e6-6043-411b-9789-6ee657c15482"
      },
      "source": [
        "filtered_list[16],filtered_list[34],filtered_list[11],filtered_list[28],filtered_list[26],filtered_list[13],filtered_list[25],filtered_list[37],filtered_list[43],filtered_list[15]"
      ],
      "execution_count": 28,
      "outputs": [
        {
          "output_type": "execute_result",
          "data": {
            "text/plain": [
              "(['tsv/amazon_reviews_us_Gift_Card_v1_00.tsv.gz', 12134676],\n",
              " ['tsv/amazon_reviews_us_Personal_Care_Appliances_v1_00.tsv.gz', 17634794],\n",
              " ['tsv/amazon_reviews_us_Digital_Software_v1_00.tsv.gz', 18997559],\n",
              " ['tsv/amazon_reviews_us_Mobile_Electronics_v1_00.tsv.gz', 22870508],\n",
              " ['tsv/amazon_reviews_us_Major_Appliances_v1_00.tsv.gz', 24359816],\n",
              " ['tsv/amazon_reviews_us_Digital_Video_Games_v1_00.tsv.gz', 27442648],\n",
              " ['tsv/amazon_reviews_us_Luggage_v1_00.tsv.gz', 60320191],\n",
              " ['tsv/amazon_reviews_us_Software_v1_00.tsv.gz', 94010685],\n",
              " ['tsv/amazon_reviews_us_Video_v1_00.tsv.gz', 138929896],\n",
              " ['tsv/amazon_reviews_us_Furniture_v1_00.tsv.gz', 148982796])"
            ]
          },
          "metadata": {},
          "execution_count": 28
        }
      ]
    },
    {
      "cell_type": "markdown",
      "metadata": {
        "id": "LhHCFBZyAChK"
      },
      "source": [
        "Let's try this with 10 categories:\n",
        "Gift_Card, Personal_Care_Appliances,Digital_Software\t,Mobile_Electronics,Major_Appliances,Digital_Video_Games,Luggage,Software,Video,Furniture."
      ]
    },
    {
      "cell_type": "markdown",
      "metadata": {
        "id": "SzgkLMagAk5K"
      },
      "source": [
        "Now I will do ALL of the preprocessing and feature engineering that I have done above on every category. I will try to make it clearer using functions, but this is gonna be kind of ugly."
      ]
    },
    {
      "cell_type": "code",
      "metadata": {
        "id": "Q_uRssWnA6lH"
      },
      "source": [
        "## creating a function that will download the data, and turn it into a pandas data frame.\n",
        "### input will be the category index which is the category's filtered_list row index\n",
        "### second input is the number of rows for the OUTPUT DF! \n",
        "def download_and_pandatize(category_index,num_rows):\n",
        "  num_rows=num_rows+1\n",
        "  fileToStream = keys_list[category_index][0]\n",
        "  s3conn.Bucket('amazon-reviews-pds').download_file(fileToStream, 'tmp.gz')\n",
        "  % ls /content/ -lah\n",
        "  with gzip.open('/content/tmp.gz', 'rb') as f_in:\n",
        "    ### downloading 10001 rows because the first row is the column names!\n",
        "      downloaded_data = [next(f_in) for x in range(num_rows)] # Reading lines into a python object\n",
        "  data_set=[]\n",
        "  for row in range(len(downloaded_data)):\n",
        "    curr_row=str(downloaded_data[row])\n",
        "    trimmed_row=curr_row.strip().split(\"\\\\t\")\n",
        "    trimmed_row[0]=trimmed_row[0].replace(\"b'\",'')\n",
        "    trimmed_row[0]=trimmed_row[0].replace('b\"','')\n",
        "    trimmed_row[-1]=trimmed_row[-1].replace('\\\\n\"','')\n",
        "    trimmed_row[-1]=trimmed_row[-1].replace(\"\\\\n'\",'')\n",
        "    ### the if gets rid of outlier rows with problematic syntax.\n",
        "    if (len(trimmed_row)==15):\n",
        "      data_set.append(trimmed_row)\n",
        "  output_data=pd.DataFrame(data=data_set[1:],columns=data_set[0])\n",
        "  return output_data\n",
        "\n",
        "\n",
        "#### adding the sent_score and sent_value columns to the data frame, by function.\n",
        "### input should be the whole data frame.\n",
        "def sentiment_score_value_cols(df):\n",
        "  sentiments=get_sentiment(batch(Sentifier(df.reviews_processed),128))\n",
        "  df['sent_score']=sentiments[0]\n",
        "  df['sent_value']=sentiments[1]\n",
        "  return df\n",
        "\n",
        "\n",
        "def df_to_nparray(df):\n",
        "  vectorizer=TfidfVectorizer(max_features=100)\n",
        "  tfidf=vectorizer.fit_transform(df['reviews_processed']) \n",
        "  tfidf=tfidf.toarray()\n",
        "   \n",
        "  mapper = DataFrameMapper([\n",
        "      ('helpful_votes', None),\n",
        "      ('sent_score', None),\n",
        "      ('binsent',None),\n",
        "      ('binverified',None),\n",
        "\n",
        "  ], df_out=False)\n",
        "  mapper_fit = mapper.fit(df)\n",
        "  final_df = mapper.transform(df) # a numpy array \n",
        "  ### Reminder: first 4 cols will be from the DataFrameMapper and the last 100 will be from the tfidfe\n",
        "  final_df=np.concatenate((final_df, tfidf), axis=1)\n",
        "  return final_df \n",
        "\n",
        "\n",
        "\n",
        "\n",
        "\n",
        "  ### X_vals and Y_vals must both be np arrays.\n",
        "def learn_LogisticRegression(X_vals,Y_vals):\n",
        "  #### accuracies[0]= train accuracy,  accuracies[1] = test accuracy\n",
        "  accuracies=[]\n",
        "\n",
        "  x_train,x_test,y_train,y_test=train_test_split(X_vals,Y_vals,test_size=0.2)\n",
        "  logistic_model=LogisticRegression()\n",
        "  logistic_model.fit(x_train,y_train)\n",
        "  training_score=logistic_model.score(x_train,y_train)\n",
        "  testing_score=logistic_model.score(x_test,y_test)\n",
        "  accuracies.append(training_score)\n",
        "  accuracies.append(testing_score)\n",
        "  return logistic_model,accuracies\n",
        "\n",
        "\n",
        "### normalizing the helpful votes function\n",
        "### gets an np array according to how I pre-made it and normalizes to appropriate column.\n",
        "def normalize_helpful_votes(final_df):\n",
        "  max_helpful_votes=final_df[:,0].max()\n",
        "  for i in range(len(final_df[:,0])):\n",
        "    final_df[i,0]=final_df[i,0]/max_helpful_votes\n",
        "  return final_df"
      ],
      "execution_count": 29,
      "outputs": []
    },
    {
      "cell_type": "code",
      "metadata": {
        "colab": {
          "base_uri": "https://localhost:8080/"
        },
        "id": "LG7q0E1REGoS",
        "outputId": "fd3529d5-aee1-43e4-a440-5ac27973ca5b"
      },
      "source": [
        "### each of these is a pandas dataframe with 10000 rows. \n",
        "Gift_Card=download_and_pandatize(16,10000)\n",
        "Personal_Care_Appliances=download_and_pandatize(34,10000)\n",
        "Digital_Software=download_and_pandatize(11,10000)\n",
        "Mobile_Electronics=download_and_pandatize(28,10000)\n",
        "Major_Appliances=download_and_pandatize(26,10000)\n",
        "Luggage=download_and_pandatize(25,10000)\n",
        "Software=download_and_pandatize(37,10000)\n",
        "Video=download_and_pandatize(43,10000)\n",
        "Furniture=download_and_pandatize(15,10000)\n",
        "Digital_Video_Games=download_and_pandatize(13,10000)"
      ],
      "execution_count": 30,
      "outputs": [
        {
          "output_type": "stream",
          "name": "stdout",
          "text": [
            "total 12M\n",
            "drwxr-xr-x 1 root root 4.0K Oct  4 11:22 \u001b[0m\u001b[01;34m.\u001b[0m/\n",
            "drwxr-xr-x 1 root root 4.0K Oct  4 10:56 \u001b[01;34m..\u001b[0m/\n",
            "drwxr-xr-x 4 root root 4.0K Sep 30 17:11 \u001b[01;34m.config\u001b[0m/\n",
            "drwxr-xr-x 1 root root 4.0K Sep 30 17:12 \u001b[01;34msample_data\u001b[0m/\n",
            "-rw-r--r-- 1 root root  12M Oct  4 11:22 tmp.gz\n",
            "total 17M\n",
            "drwxr-xr-x 1 root root 4.0K Oct  4 11:22 \u001b[0m\u001b[01;34m.\u001b[0m/\n",
            "drwxr-xr-x 1 root root 4.0K Oct  4 10:56 \u001b[01;34m..\u001b[0m/\n",
            "drwxr-xr-x 4 root root 4.0K Sep 30 17:11 \u001b[01;34m.config\u001b[0m/\n",
            "drwxr-xr-x 1 root root 4.0K Sep 30 17:12 \u001b[01;34msample_data\u001b[0m/\n",
            "-rw-r--r-- 1 root root  17M Oct  4 11:22 tmp.gz\n",
            "total 19M\n",
            "drwxr-xr-x 1 root root 4.0K Oct  4 11:22 \u001b[0m\u001b[01;34m.\u001b[0m/\n",
            "drwxr-xr-x 1 root root 4.0K Oct  4 10:56 \u001b[01;34m..\u001b[0m/\n",
            "drwxr-xr-x 4 root root 4.0K Sep 30 17:11 \u001b[01;34m.config\u001b[0m/\n",
            "drwxr-xr-x 1 root root 4.0K Sep 30 17:12 \u001b[01;34msample_data\u001b[0m/\n",
            "-rw-r--r-- 1 root root  19M Oct  4 11:22 tmp.gz\n",
            "total 22M\n",
            "drwxr-xr-x 1 root root 4.0K Oct  4 11:22 \u001b[0m\u001b[01;34m.\u001b[0m/\n",
            "drwxr-xr-x 1 root root 4.0K Oct  4 10:56 \u001b[01;34m..\u001b[0m/\n",
            "drwxr-xr-x 4 root root 4.0K Sep 30 17:11 \u001b[01;34m.config\u001b[0m/\n",
            "drwxr-xr-x 1 root root 4.0K Sep 30 17:12 \u001b[01;34msample_data\u001b[0m/\n",
            "-rw-r--r-- 1 root root  22M Oct  4 11:22 tmp.gz\n",
            "total 24M\n",
            "drwxr-xr-x 1 root root 4.0K Oct  4 11:22 \u001b[0m\u001b[01;34m.\u001b[0m/\n",
            "drwxr-xr-x 1 root root 4.0K Oct  4 10:56 \u001b[01;34m..\u001b[0m/\n",
            "drwxr-xr-x 4 root root 4.0K Sep 30 17:11 \u001b[01;34m.config\u001b[0m/\n",
            "drwxr-xr-x 1 root root 4.0K Sep 30 17:12 \u001b[01;34msample_data\u001b[0m/\n",
            "-rw-r--r-- 1 root root  24M Oct  4 11:22 tmp.gz\n",
            "total 58M\n",
            "drwxr-xr-x 1 root root 4.0K Oct  4 11:22 \u001b[0m\u001b[01;34m.\u001b[0m/\n",
            "drwxr-xr-x 1 root root 4.0K Oct  4 10:56 \u001b[01;34m..\u001b[0m/\n",
            "drwxr-xr-x 4 root root 4.0K Sep 30 17:11 \u001b[01;34m.config\u001b[0m/\n",
            "drwxr-xr-x 1 root root 4.0K Sep 30 17:12 \u001b[01;34msample_data\u001b[0m/\n",
            "-rw-r--r-- 1 root root  58M Oct  4 11:22 tmp.gz\n",
            "total 90M\n",
            "drwxr-xr-x 1 root root 4.0K Oct  4 11:22 \u001b[0m\u001b[01;34m.\u001b[0m/\n",
            "drwxr-xr-x 1 root root 4.0K Oct  4 10:56 \u001b[01;34m..\u001b[0m/\n",
            "drwxr-xr-x 4 root root 4.0K Sep 30 17:11 \u001b[01;34m.config\u001b[0m/\n",
            "drwxr-xr-x 1 root root 4.0K Sep 30 17:12 \u001b[01;34msample_data\u001b[0m/\n",
            "-rw-r--r-- 1 root root  90M Oct  4 11:22 tmp.gz\n",
            "total 133M\n",
            "drwxr-xr-x 1 root root 4.0K Oct  4 11:22 \u001b[0m\u001b[01;34m.\u001b[0m/\n",
            "drwxr-xr-x 1 root root 4.0K Oct  4 10:56 \u001b[01;34m..\u001b[0m/\n",
            "drwxr-xr-x 4 root root 4.0K Sep 30 17:11 \u001b[01;34m.config\u001b[0m/\n",
            "drwxr-xr-x 1 root root 4.0K Sep 30 17:12 \u001b[01;34msample_data\u001b[0m/\n",
            "-rw-r--r-- 1 root root 133M Oct  4 11:22 tmp.gz\n",
            "total 143M\n",
            "drwxr-xr-x 1 root root 4.0K Oct  4 11:22 \u001b[0m\u001b[01;34m.\u001b[0m/\n",
            "drwxr-xr-x 1 root root 4.0K Oct  4 10:56 \u001b[01;34m..\u001b[0m/\n",
            "drwxr-xr-x 4 root root 4.0K Sep 30 17:11 \u001b[01;34m.config\u001b[0m/\n",
            "drwxr-xr-x 1 root root 4.0K Sep 30 17:12 \u001b[01;34msample_data\u001b[0m/\n",
            "-rw-r--r-- 1 root root 143M Oct  4 11:22 tmp.gz\n",
            "total 27M\n",
            "drwxr-xr-x 1 root root 4.0K Oct  4 11:22 \u001b[0m\u001b[01;34m.\u001b[0m/\n",
            "drwxr-xr-x 1 root root 4.0K Oct  4 10:56 \u001b[01;34m..\u001b[0m/\n",
            "drwxr-xr-x 4 root root 4.0K Sep 30 17:11 \u001b[01;34m.config\u001b[0m/\n",
            "drwxr-xr-x 1 root root 4.0K Sep 30 17:12 \u001b[01;34msample_data\u001b[0m/\n",
            "-rw-r--r-- 1 root root  27M Oct  4 11:22 tmp.gz\n"
          ]
        }
      ]
    },
    {
      "cell_type": "code",
      "metadata": {
        "id": "Likrtvf1EK8z"
      },
      "source": [
        "### processing...\n",
        "Gift_Card=nlp_proc(Gift_Card)\n",
        "Personal_Care_Appliances=nlp_proc(Personal_Care_Appliances)\n",
        "Digital_Software=nlp_proc(Digital_Software)\n",
        "Mobile_Electronics=nlp_proc(Mobile_Electronics)\n",
        "Major_Appliances=nlp_proc(Major_Appliances)\n",
        "Luggage=nlp_proc(Luggage)\n",
        "Software=nlp_proc(Software)\n",
        "Video=nlp_proc(Video)\n",
        "Furniture=nlp_proc(Furniture)\n",
        "Digital_Video_Games=nlp_proc(Digital_Video_Games)"
      ],
      "execution_count": 31,
      "outputs": []
    },
    {
      "cell_type": "code",
      "metadata": {
        "colab": {
          "base_uri": "https://localhost:8080/"
        },
        "id": "yStxXe5MEM-5",
        "outputId": "5ce39514-2532-4f9e-a927-e9df33820820"
      },
      "source": [
        "## adding sentiments score and value columns...\n",
        "Gift_Card=sentiment_score_value_cols(Gift_Card)\n",
        "Personal_Care_Appliances=sentiment_score_value_cols(Personal_Care_Appliances)\n",
        "Digital_Software=sentiment_score_value_cols(Digital_Software)\n",
        "Mobile_Electronics=sentiment_score_value_cols(Mobile_Electronics)\n",
        "Major_Appliances=sentiment_score_value_cols(Major_Appliances)\n",
        "Luggage=sentiment_score_value_cols(Luggage)\n",
        "Software=sentiment_score_value_cols(Software)\n",
        "Video=sentiment_score_value_cols(Video)\n",
        "Furniture=sentiment_score_value_cols(Furniture)\n",
        "Digital_Video_Games=sentiment_score_value_cols(Digital_Video_Games)"
      ],
      "execution_count": 32,
      "outputs": [
        {
          "output_type": "stream",
          "name": "stderr",
          "text": [
            "Inferencing on batch 2: 100%|██████████| 2/2 [00:00<00:00, 40.88it/s]\n",
            "Inferencing on batch 4: 100%|██████████| 4/4 [00:00<00:00, 46.11it/s]\n",
            "Inferencing on batch 4: 100%|██████████| 4/4 [00:00<00:00, 54.44it/s]\n",
            "Inferencing on batch 4: 100%|██████████| 4/4 [00:00<00:00, 52.59it/s]\n",
            "Inferencing on batch 4: 100%|██████████| 4/4 [00:00<00:00, 44.02it/s]\n",
            "Inferencing on batch 4: 100%|██████████| 4/4 [00:00<00:00, 46.42it/s]\n",
            "Inferencing on batch 4: 100%|██████████| 4/4 [00:00<00:00, 49.20it/s]\n",
            "Inferencing on batch 4: 100%|██████████| 4/4 [00:00<00:00, 56.19it/s]\n",
            "Inferencing on batch 4: 100%|██████████| 4/4 [00:00<00:00, 46.62it/s]\n",
            "Inferencing on batch 4: 100%|██████████| 4/4 [00:00<00:00, 53.17it/s]\n",
            "Inferencing on batch 4: 100%|██████████| 4/4 [00:00<00:00, 62.28it/s]\n",
            "Inferencing on batch 4: 100%|██████████| 4/4 [00:00<00:00, 48.98it/s]\n",
            "Inferencing on batch 4: 100%|██████████| 4/4 [00:00<00:00, 55.92it/s]\n",
            "Inferencing on batch 4: 100%|██████████| 4/4 [00:00<00:00, 55.13it/s]\n",
            "Inferencing on batch 4: 100%|██████████| 4/4 [00:00<00:00, 49.16it/s]\n",
            "Inferencing on batch 4: 100%|██████████| 4/4 [00:00<00:00, 47.28it/s]\n",
            "Inferencing on batch 4: 100%|██████████| 4/4 [00:00<00:00, 50.72it/s]\n",
            "Inferencing on batch 4: 100%|██████████| 4/4 [00:00<00:00, 60.35it/s]\n",
            "Inferencing on batch 4: 100%|██████████| 4/4 [00:00<00:00, 55.96it/s]\n",
            "Inferencing on batch 4: 100%|██████████| 4/4 [00:00<00:00, 49.47it/s]\n",
            "Inferencing on batch 4: 100%|██████████| 4/4 [00:00<00:00, 52.01it/s]\n",
            "Inferencing on batch 4: 100%|██████████| 4/4 [00:00<00:00, 51.73it/s]\n",
            "Inferencing on batch 4: 100%|██████████| 4/4 [00:00<00:00, 43.65it/s]\n",
            "Inferencing on batch 4: 100%|██████████| 4/4 [00:00<00:00, 47.71it/s]\n",
            "Inferencing on batch 4: 100%|██████████| 4/4 [00:00<00:00, 53.20it/s]\n",
            "Inferencing on batch 4: 100%|██████████| 4/4 [00:00<00:00, 50.05it/s]\n",
            "Inferencing on batch 4: 100%|██████████| 4/4 [00:00<00:00, 50.01it/s]\n",
            "Inferencing on batch 4: 100%|██████████| 4/4 [00:00<00:00, 51.93it/s]\n",
            "Inferencing on batch 4: 100%|██████████| 4/4 [00:00<00:00, 49.28it/s]\n",
            "Inferencing on batch 4: 100%|██████████| 4/4 [00:00<00:00, 56.88it/s]\n",
            "Inferencing on batch 4: 100%|██████████| 4/4 [00:00<00:00, 41.22it/s]\n",
            "Inferencing on batch 4: 100%|██████████| 4/4 [00:00<00:00, 42.89it/s]\n",
            "Inferencing on batch 4: 100%|██████████| 4/4 [00:00<00:00, 49.71it/s]\n",
            "Inferencing on batch 4: 100%|██████████| 4/4 [00:00<00:00, 51.18it/s]\n",
            "Inferencing on batch 4: 100%|██████████| 4/4 [00:00<00:00, 54.92it/s]\n",
            "Inferencing on batch 4: 100%|██████████| 4/4 [00:00<00:00, 44.44it/s]\n",
            "Inferencing on batch 4: 100%|██████████| 4/4 [00:00<00:00, 56.22it/s]\n",
            "Inferencing on batch 4: 100%|██████████| 4/4 [00:00<00:00, 47.83it/s]\n",
            "Inferencing on batch 4: 100%|██████████| 4/4 [00:00<00:00, 48.99it/s]\n",
            "Inferencing on batch 4: 100%|██████████| 4/4 [00:00<00:00, 42.54it/s]\n",
            "Inferencing on batch 4: 100%|██████████| 4/4 [00:00<00:00, 59.98it/s]\n",
            "Inferencing on batch 4: 100%|██████████| 4/4 [00:00<00:00, 59.96it/s]\n",
            "Inferencing on batch 4: 100%|██████████| 4/4 [00:00<00:00, 64.79it/s]\n",
            "Inferencing on batch 4: 100%|██████████| 4/4 [00:00<00:00, 51.35it/s]\n",
            "Inferencing on batch 4: 100%|██████████| 4/4 [00:00<00:00, 50.18it/s]\n",
            "Inferencing on batch 4: 100%|██████████| 4/4 [00:00<00:00, 51.18it/s]\n",
            "Inferencing on batch 4: 100%|██████████| 4/4 [00:00<00:00, 41.40it/s]\n",
            "Inferencing on batch 4: 100%|██████████| 4/4 [00:00<00:00, 45.10it/s]\n",
            "Inferencing on batch 4: 100%|██████████| 4/4 [00:00<00:00, 55.27it/s]\n",
            "Inferencing on batch 4: 100%|██████████| 4/4 [00:00<00:00, 49.51it/s]\n",
            "Inferencing on batch 4: 100%|██████████| 4/4 [00:00<00:00, 52.37it/s]\n",
            "Inferencing on batch 4: 100%|██████████| 4/4 [00:00<00:00, 47.54it/s]\n",
            "Inferencing on batch 4: 100%|██████████| 4/4 [00:00<00:00, 42.08it/s]\n",
            "Inferencing on batch 4: 100%|██████████| 4/4 [00:00<00:00, 54.48it/s]\n",
            "Inferencing on batch 4: 100%|██████████| 4/4 [00:00<00:00, 33.83it/s]\n",
            "Inferencing on batch 4: 100%|██████████| 4/4 [00:00<00:00, 46.82it/s]\n",
            "Inferencing on batch 4: 100%|██████████| 4/4 [00:00<00:00, 51.19it/s]\n",
            "Inferencing on batch 4: 100%|██████████| 4/4 [00:00<00:00, 41.18it/s]\n",
            "Inferencing on batch 4: 100%|██████████| 4/4 [00:00<00:00, 53.73it/s]\n",
            "Inferencing on batch 4: 100%|██████████| 4/4 [00:00<00:00, 54.91it/s]\n",
            "Inferencing on batch 4: 100%|██████████| 4/4 [00:00<00:00, 44.19it/s]\n",
            "Inferencing on batch 4: 100%|██████████| 4/4 [00:00<00:00, 44.78it/s]\n",
            "Inferencing on batch 4: 100%|██████████| 4/4 [00:00<00:00, 58.63it/s]\n",
            "Inferencing on batch 4: 100%|██████████| 4/4 [00:00<00:00, 59.18it/s]\n",
            "Inferencing on batch 4: 100%|██████████| 4/4 [00:00<00:00, 55.85it/s]\n",
            "Inferencing on batch 4: 100%|██████████| 4/4 [00:00<00:00, 48.32it/s]\n",
            "Inferencing on batch 4: 100%|██████████| 4/4 [00:00<00:00, 48.36it/s]\n",
            "Inferencing on batch 4: 100%|██████████| 4/4 [00:00<00:00, 48.40it/s]\n",
            "Inferencing on batch 4: 100%|██████████| 4/4 [00:00<00:00, 48.42it/s]\n",
            "Inferencing on batch 4: 100%|██████████| 4/4 [00:00<00:00, 59.63it/s]\n",
            "Inferencing on batch 4: 100%|██████████| 4/4 [00:00<00:00, 43.09it/s]\n",
            "Inferencing on batch 4: 100%|██████████| 4/4 [00:00<00:00, 46.36it/s]\n",
            "Inferencing on batch 4: 100%|██████████| 4/4 [00:00<00:00, 43.76it/s]\n",
            "Inferencing on batch 4: 100%|██████████| 4/4 [00:00<00:00, 48.33it/s]\n",
            "Inferencing on batch 4: 100%|██████████| 4/4 [00:00<00:00, 61.79it/s]\n",
            "Inferencing on batch 4: 100%|██████████| 4/4 [00:00<00:00, 40.90it/s]\n",
            "Inferencing on batch 4: 100%|██████████| 4/4 [00:00<00:00, 49.48it/s]\n",
            "Inferencing on batch 4: 100%|██████████| 4/4 [00:00<00:00, 53.81it/s]\n",
            "Inferencing on batch 4: 100%|██████████| 4/4 [00:00<00:00, 30.41it/s]\n",
            "Inferencing on batch 4: 100%|██████████| 4/4 [00:00<00:00, 25.26it/s]\n",
            "Inferencing on batch 4: 100%|██████████| 4/4 [00:00<00:00, 35.96it/s]\n",
            "Inferencing on batch 4: 100%|██████████| 4/4 [00:00<00:00, 29.06it/s]\n",
            "Inferencing on batch 4: 100%|██████████| 4/4 [00:00<00:00, 19.76it/s]\n",
            "Inferencing on batch 4: 100%|██████████| 4/4 [00:00<00:00, 29.13it/s]\n",
            "Inferencing on batch 4: 100%|██████████| 4/4 [00:00<00:00, 27.20it/s]\n",
            "Inferencing on batch 4: 100%|██████████| 4/4 [00:00<00:00, 27.77it/s]\n",
            "Inferencing on batch 4: 100%|██████████| 4/4 [00:00<00:00, 28.37it/s]\n",
            "Inferencing on batch 4: 100%|██████████| 4/4 [00:00<00:00, 19.78it/s]\n",
            "Inferencing on batch 4: 100%|██████████| 4/4 [00:00<00:00, 33.26it/s]\n",
            "Inferencing on batch 4: 100%|██████████| 4/4 [00:00<00:00, 30.30it/s]\n",
            "Inferencing on batch 4: 100%|██████████| 4/4 [00:00<00:00, 27.66it/s]\n",
            "Inferencing on batch 4: 100%|██████████| 4/4 [00:00<00:00, 32.03it/s]\n",
            "Inferencing on batch 4: 100%|██████████| 4/4 [00:00<00:00, 25.40it/s]\n",
            "Inferencing on batch 4: 100%|██████████| 4/4 [00:00<00:00, 26.71it/s]\n",
            "Inferencing on batch 4: 100%|██████████| 4/4 [00:00<00:00, 33.07it/s]\n",
            "Inferencing on batch 4: 100%|██████████| 4/4 [00:00<00:00, 34.19it/s]\n",
            "Inferencing on batch 4: 100%|██████████| 4/4 [00:00<00:00, 35.38it/s]\n",
            "Inferencing on batch 4: 100%|██████████| 4/4 [00:00<00:00, 34.28it/s]\n",
            "Inferencing on batch 4: 100%|██████████| 4/4 [00:00<00:00, 32.39it/s]\n",
            "Inferencing on batch 4: 100%|██████████| 4/4 [00:00<00:00, 27.22it/s]\n",
            "Inferencing on batch 4: 100%|██████████| 4/4 [00:00<00:00, 28.40it/s]\n",
            "Inferencing on batch 4: 100%|██████████| 4/4 [00:00<00:00, 33.23it/s]\n",
            "Inferencing on batch 4: 100%|██████████| 4/4 [00:00<00:00, 30.68it/s]\n",
            "Inferencing on batch 4: 100%|██████████| 4/4 [00:00<00:00, 24.20it/s]\n",
            "Inferencing on batch 4: 100%|██████████| 4/4 [00:00<00:00, 22.23it/s]\n",
            "Inferencing on batch 4: 100%|██████████| 4/4 [00:00<00:00, 34.07it/s]\n",
            "Inferencing on batch 4: 100%|██████████| 4/4 [00:00<00:00, 34.19it/s]\n",
            "Inferencing on batch 4: 100%|██████████| 4/4 [00:00<00:00, 27.92it/s]\n",
            "Inferencing on batch 4: 100%|██████████| 4/4 [00:00<00:00, 33.83it/s]\n",
            "Inferencing on batch 4: 100%|██████████| 4/4 [00:00<00:00, 29.18it/s]\n",
            "Inferencing on batch 4: 100%|██████████| 4/4 [00:00<00:00, 27.89it/s]\n",
            "Inferencing on batch 4: 100%|██████████| 4/4 [00:00<00:00, 24.47it/s]\n",
            "Inferencing on batch 4: 100%|██████████| 4/4 [00:00<00:00, 28.87it/s]\n",
            "Inferencing on batch 4: 100%|██████████| 4/4 [00:00<00:00, 29.94it/s]\n",
            "Inferencing on batch 4: 100%|██████████| 4/4 [00:00<00:00, 30.31it/s]\n",
            "Inferencing on batch 4: 100%|██████████| 4/4 [00:00<00:00, 33.07it/s]\n",
            "Inferencing on batch 4: 100%|██████████| 4/4 [00:00<00:00, 27.25it/s]\n",
            "Inferencing on batch 4: 100%|██████████| 4/4 [00:00<00:00, 30.94it/s]\n",
            "Inferencing on batch 4: 100%|██████████| 4/4 [00:00<00:00, 28.58it/s]\n",
            "Inferencing on batch 4: 100%|██████████| 4/4 [00:00<00:00, 33.67it/s]\n",
            "Inferencing on batch 4: 100%|██████████| 4/4 [00:00<00:00, 29.95it/s]\n",
            "Inferencing on batch 4: 100%|██████████| 4/4 [00:00<00:00, 28.14it/s]\n",
            "Inferencing on batch 4: 100%|██████████| 4/4 [00:00<00:00, 34.58it/s]\n",
            "Inferencing on batch 4: 100%|██████████| 4/4 [00:00<00:00, 30.40it/s]\n",
            "Inferencing on batch 4: 100%|██████████| 4/4 [00:00<00:00, 22.29it/s]\n",
            "Inferencing on batch 4: 100%|██████████| 4/4 [00:00<00:00, 29.35it/s]\n",
            "Inferencing on batch 4: 100%|██████████| 4/4 [00:00<00:00, 26.25it/s]\n",
            "Inferencing on batch 4: 100%|██████████| 4/4 [00:00<00:00, 30.31it/s]\n",
            "Inferencing on batch 4: 100%|██████████| 4/4 [00:00<00:00, 31.34it/s]\n",
            "Inferencing on batch 4: 100%|██████████| 4/4 [00:00<00:00, 31.29it/s]\n",
            "Inferencing on batch 4: 100%|██████████| 4/4 [00:00<00:00, 31.95it/s]\n",
            "Inferencing on batch 4: 100%|██████████| 4/4 [00:00<00:00, 30.46it/s]\n",
            "Inferencing on batch 4: 100%|██████████| 4/4 [00:00<00:00, 29.65it/s]\n",
            "Inferencing on batch 4: 100%|██████████| 4/4 [00:00<00:00, 33.59it/s]\n",
            "Inferencing on batch 4: 100%|██████████| 4/4 [00:00<00:00, 30.84it/s]\n",
            "Inferencing on batch 4: 100%|██████████| 4/4 [00:00<00:00, 31.93it/s]\n",
            "Inferencing on batch 4: 100%|██████████| 4/4 [00:00<00:00, 33.87it/s]\n",
            "Inferencing on batch 4: 100%|██████████| 4/4 [00:00<00:00, 27.08it/s]\n",
            "Inferencing on batch 4: 100%|██████████| 4/4 [00:00<00:00, 27.55it/s]\n",
            "Inferencing on batch 4: 100%|██████████| 4/4 [00:00<00:00, 29.93it/s]\n",
            "Inferencing on batch 4: 100%|██████████| 4/4 [00:00<00:00, 31.36it/s]\n",
            "Inferencing on batch 4: 100%|██████████| 4/4 [00:00<00:00, 28.30it/s]\n",
            "Inferencing on batch 4: 100%|██████████| 4/4 [00:00<00:00, 33.50it/s]\n",
            "Inferencing on batch 4: 100%|██████████| 4/4 [00:00<00:00, 26.77it/s]\n",
            "Inferencing on batch 4: 100%|██████████| 4/4 [00:00<00:00, 30.39it/s]\n",
            "Inferencing on batch 4: 100%|██████████| 4/4 [00:00<00:00, 27.49it/s]\n",
            "Inferencing on batch 4: 100%|██████████| 4/4 [00:00<00:00, 29.40it/s]\n",
            "Inferencing on batch 4: 100%|██████████| 4/4 [00:00<00:00, 24.45it/s]\n",
            "Inferencing on batch 4: 100%|██████████| 4/4 [00:00<00:00, 26.24it/s]\n",
            "Inferencing on batch 4: 100%|██████████| 4/4 [00:00<00:00, 28.22it/s]\n",
            "Inferencing on batch 4: 100%|██████████| 4/4 [00:00<00:00, 30.35it/s]\n",
            "Inferencing on batch 4: 100%|██████████| 4/4 [00:00<00:00, 36.56it/s]\n",
            "Inferencing on batch 4: 100%|██████████| 4/4 [00:00<00:00, 32.88it/s]\n",
            "Inferencing on batch 4: 100%|██████████| 4/4 [00:00<00:00, 27.31it/s]\n",
            "Inferencing on batch 4: 100%|██████████| 4/4 [00:00<00:00, 32.07it/s]\n",
            "Inferencing on batch 4: 100%|██████████| 4/4 [00:00<00:00, 34.16it/s]\n",
            "Inferencing on batch 4: 100%|██████████| 4/4 [00:00<00:00, 32.30it/s]\n",
            "Inferencing on batch 4: 100%|██████████| 4/4 [00:00<00:00, 20.26it/s]\n",
            "Inferencing on batch 4: 100%|██████████| 4/4 [00:00<00:00, 22.36it/s]\n",
            "Inferencing on batch 4: 100%|██████████| 4/4 [00:00<00:00, 21.58it/s]\n",
            "Inferencing on batch 4: 100%|██████████| 4/4 [00:00<00:00, 24.64it/s]\n",
            "Inferencing on batch 4: 100%|██████████| 4/4 [00:00<00:00, 19.37it/s]\n",
            "Inferencing on batch 4: 100%|██████████| 4/4 [00:00<00:00, 22.93it/s]\n",
            "Inferencing on batch 4: 100%|██████████| 4/4 [00:00<00:00, 18.46it/s]\n",
            "Inferencing on batch 4: 100%|██████████| 4/4 [00:00<00:00, 26.68it/s]\n",
            "Inferencing on batch 4: 100%|██████████| 4/4 [00:00<00:00, 25.41it/s]\n",
            "Inferencing on batch 4: 100%|██████████| 4/4 [00:00<00:00, 13.96it/s]\n",
            "Inferencing on batch 4: 100%|██████████| 4/4 [00:00<00:00, 21.90it/s]\n",
            "Inferencing on batch 4: 100%|██████████| 4/4 [00:00<00:00, 21.68it/s]\n",
            "Inferencing on batch 4: 100%|██████████| 4/4 [00:00<00:00, 18.42it/s]\n",
            "Inferencing on batch 4: 100%|██████████| 4/4 [00:00<00:00, 18.79it/s]\n",
            "Inferencing on batch 4: 100%|██████████| 4/4 [00:00<00:00, 24.12it/s]\n",
            "Inferencing on batch 4: 100%|██████████| 4/4 [00:00<00:00, 22.42it/s]\n",
            "Inferencing on batch 4: 100%|██████████| 4/4 [00:00<00:00, 23.86it/s]\n",
            "Inferencing on batch 4: 100%|██████████| 4/4 [00:00<00:00, 14.94it/s]\n",
            "Inferencing on batch 4: 100%|██████████| 4/4 [00:00<00:00, 15.77it/s]\n",
            "Inferencing on batch 4: 100%|██████████| 4/4 [00:00<00:00, 15.89it/s]\n",
            "Inferencing on batch 4: 100%|██████████| 4/4 [00:00<00:00, 24.52it/s]\n",
            "Inferencing on batch 4: 100%|██████████| 4/4 [00:00<00:00, 24.35it/s]\n",
            "Inferencing on batch 4: 100%|██████████| 4/4 [00:00<00:00, 24.29it/s]\n",
            "Inferencing on batch 4: 100%|██████████| 4/4 [00:00<00:00, 22.13it/s]\n",
            "Inferencing on batch 4: 100%|██████████| 4/4 [00:00<00:00, 22.98it/s]\n",
            "Inferencing on batch 4: 100%|██████████| 4/4 [00:00<00:00, 29.48it/s]\n",
            "Inferencing on batch 4: 100%|██████████| 4/4 [00:00<00:00, 20.28it/s]\n",
            "Inferencing on batch 4: 100%|██████████| 4/4 [00:00<00:00, 16.32it/s]\n",
            "Inferencing on batch 4: 100%|██████████| 4/4 [00:00<00:00, 21.21it/s]\n",
            "Inferencing on batch 4: 100%|██████████| 4/4 [00:00<00:00, 21.90it/s]\n",
            "Inferencing on batch 4: 100%|██████████| 4/4 [00:00<00:00, 23.51it/s]\n",
            "Inferencing on batch 4: 100%|██████████| 4/4 [00:00<00:00, 25.00it/s]\n",
            "Inferencing on batch 4: 100%|██████████| 4/4 [00:00<00:00, 28.24it/s]\n",
            "Inferencing on batch 4: 100%|██████████| 4/4 [00:00<00:00, 14.97it/s]\n",
            "Inferencing on batch 4: 100%|██████████| 4/4 [00:00<00:00, 18.82it/s]\n",
            "Inferencing on batch 4: 100%|██████████| 4/4 [00:00<00:00, 24.36it/s]\n",
            "Inferencing on batch 4: 100%|██████████| 4/4 [00:00<00:00, 23.89it/s]\n",
            "Inferencing on batch 4: 100%|██████████| 4/4 [00:00<00:00, 22.99it/s]\n",
            "Inferencing on batch 4: 100%|██████████| 4/4 [00:00<00:00, 18.85it/s]\n",
            "Inferencing on batch 4: 100%|██████████| 4/4 [00:00<00:00, 24.13it/s]\n",
            "Inferencing on batch 4: 100%|██████████| 4/4 [00:00<00:00, 27.21it/s]\n",
            "Inferencing on batch 4: 100%|██████████| 4/4 [00:00<00:00, 21.32it/s]\n",
            "Inferencing on batch 4: 100%|██████████| 4/4 [00:00<00:00, 18.76it/s]\n",
            "Inferencing on batch 4: 100%|██████████| 4/4 [00:00<00:00, 23.02it/s]\n",
            "Inferencing on batch 4: 100%|██████████| 4/4 [00:00<00:00, 21.17it/s]\n",
            "Inferencing on batch 4: 100%|██████████| 4/4 [00:00<00:00, 20.59it/s]\n",
            "Inferencing on batch 4: 100%|██████████| 4/4 [00:00<00:00, 22.63it/s]\n",
            "Inferencing on batch 4: 100%|██████████| 4/4 [00:00<00:00, 19.95it/s]\n",
            "Inferencing on batch 4: 100%|██████████| 4/4 [00:00<00:00, 18.31it/s]\n",
            "Inferencing on batch 4: 100%|██████████| 4/4 [00:00<00:00, 17.41it/s]\n",
            "Inferencing on batch 4: 100%|██████████| 4/4 [00:00<00:00, 23.53it/s]\n",
            "Inferencing on batch 4: 100%|██████████| 4/4 [00:00<00:00, 21.91it/s]\n",
            "Inferencing on batch 4: 100%|██████████| 4/4 [00:00<00:00, 27.07it/s]\n",
            "Inferencing on batch 4: 100%|██████████| 4/4 [00:00<00:00, 20.66it/s]\n",
            "Inferencing on batch 4: 100%|██████████| 4/4 [00:00<00:00, 16.47it/s]\n",
            "Inferencing on batch 4: 100%|██████████| 4/4 [00:00<00:00, 27.23it/s]\n",
            "Inferencing on batch 4: 100%|██████████| 4/4 [00:00<00:00, 19.83it/s]\n",
            "Inferencing on batch 4: 100%|██████████| 4/4 [00:00<00:00, 18.49it/s]\n",
            "Inferencing on batch 4: 100%|██████████| 4/4 [00:00<00:00, 30.77it/s]\n",
            "Inferencing on batch 4: 100%|██████████| 4/4 [00:00<00:00, 24.72it/s]\n",
            "Inferencing on batch 4: 100%|██████████| 4/4 [00:00<00:00, 22.99it/s]\n",
            "Inferencing on batch 4: 100%|██████████| 4/4 [00:00<00:00, 23.57it/s]\n",
            "Inferencing on batch 4: 100%|██████████| 4/4 [00:00<00:00, 25.32it/s]\n",
            "Inferencing on batch 4: 100%|██████████| 4/4 [00:00<00:00, 20.57it/s]\n",
            "Inferencing on batch 4: 100%|██████████| 4/4 [00:00<00:00, 20.39it/s]\n",
            "Inferencing on batch 4: 100%|██████████| 4/4 [00:00<00:00, 19.92it/s]\n",
            "Inferencing on batch 4: 100%|██████████| 4/4 [00:00<00:00, 21.48it/s]\n",
            "Inferencing on batch 4: 100%|██████████| 4/4 [00:00<00:00, 22.53it/s]\n",
            "Inferencing on batch 4: 100%|██████████| 4/4 [00:00<00:00, 21.35it/s]\n",
            "Inferencing on batch 4: 100%|██████████| 4/4 [00:00<00:00, 21.77it/s]\n",
            "Inferencing on batch 4: 100%|██████████| 4/4 [00:00<00:00, 19.95it/s]\n",
            "Inferencing on batch 4: 100%|██████████| 4/4 [00:00<00:00, 17.32it/s]\n",
            "Inferencing on batch 4: 100%|██████████| 4/4 [00:00<00:00, 14.53it/s]\n",
            "Inferencing on batch 4: 100%|██████████| 4/4 [00:00<00:00, 24.76it/s]\n",
            "Inferencing on batch 4: 100%|██████████| 4/4 [00:00<00:00, 22.40it/s]\n",
            "Inferencing on batch 4: 100%|██████████| 4/4 [00:00<00:00, 18.25it/s]\n",
            "Inferencing on batch 4: 100%|██████████| 4/4 [00:00<00:00, 23.04it/s]\n",
            "Inferencing on batch 4: 100%|██████████| 4/4 [00:00<00:00, 32.62it/s]\n",
            "Inferencing on batch 4: 100%|██████████| 4/4 [00:00<00:00, 28.10it/s]\n",
            "Inferencing on batch 4: 100%|██████████| 4/4 [00:00<00:00, 25.15it/s]\n",
            "Inferencing on batch 4: 100%|██████████| 4/4 [00:00<00:00, 29.75it/s]\n",
            "Inferencing on batch 4: 100%|██████████| 4/4 [00:00<00:00, 28.54it/s]\n",
            "Inferencing on batch 4: 100%|██████████| 4/4 [00:00<00:00, 24.42it/s]\n",
            "Inferencing on batch 4: 100%|██████████| 4/4 [00:00<00:00, 30.47it/s]\n",
            "Inferencing on batch 4: 100%|██████████| 4/4 [00:00<00:00, 18.85it/s]\n",
            "Inferencing on batch 4: 100%|██████████| 4/4 [00:00<00:00, 25.61it/s]\n",
            "Inferencing on batch 4: 100%|██████████| 4/4 [00:00<00:00, 27.16it/s]\n",
            "Inferencing on batch 4: 100%|██████████| 4/4 [00:00<00:00, 25.15it/s]\n",
            "Inferencing on batch 4: 100%|██████████| 4/4 [00:00<00:00, 18.51it/s]\n",
            "Inferencing on batch 4: 100%|██████████| 4/4 [00:00<00:00, 19.07it/s]\n",
            "Inferencing on batch 4: 100%|██████████| 4/4 [00:00<00:00, 30.95it/s]\n",
            "Inferencing on batch 4: 100%|██████████| 4/4 [00:00<00:00, 19.98it/s]\n",
            "Inferencing on batch 4: 100%|██████████| 4/4 [00:00<00:00, 21.49it/s]\n",
            "Inferencing on batch 4: 100%|██████████| 4/4 [00:00<00:00, 24.11it/s]\n",
            "Inferencing on batch 4: 100%|██████████| 4/4 [00:00<00:00, 24.17it/s]\n",
            "Inferencing on batch 4: 100%|██████████| 4/4 [00:00<00:00, 25.54it/s]\n",
            "Inferencing on batch 4: 100%|██████████| 4/4 [00:00<00:00, 25.27it/s]\n",
            "Inferencing on batch 4: 100%|██████████| 4/4 [00:00<00:00, 23.75it/s]\n",
            "Inferencing on batch 4: 100%|██████████| 4/4 [00:00<00:00, 22.81it/s]\n",
            "Inferencing on batch 4: 100%|██████████| 4/4 [00:00<00:00, 21.14it/s]\n",
            "Inferencing on batch 4: 100%|██████████| 4/4 [00:00<00:00, 23.90it/s]\n",
            "Inferencing on batch 4: 100%|██████████| 4/4 [00:00<00:00, 25.45it/s]\n",
            "Inferencing on batch 4: 100%|██████████| 4/4 [00:00<00:00, 21.85it/s]\n",
            "Inferencing on batch 4: 100%|██████████| 4/4 [00:00<00:00, 28.00it/s]\n",
            "Inferencing on batch 4: 100%|██████████| 4/4 [00:00<00:00, 24.89it/s]\n",
            "Inferencing on batch 4: 100%|██████████| 4/4 [00:00<00:00, 27.86it/s]\n",
            "Inferencing on batch 4: 100%|██████████| 4/4 [00:00<00:00, 26.46it/s]\n",
            "Inferencing on batch 4: 100%|██████████| 4/4 [00:00<00:00, 27.32it/s]\n",
            "Inferencing on batch 4: 100%|██████████| 4/4 [00:00<00:00, 25.99it/s]\n",
            "Inferencing on batch 4: 100%|██████████| 4/4 [00:00<00:00, 20.55it/s]\n",
            "Inferencing on batch 4: 100%|██████████| 4/4 [00:00<00:00, 25.03it/s]\n",
            "Inferencing on batch 4: 100%|██████████| 4/4 [00:00<00:00, 27.23it/s]\n",
            "Inferencing on batch 4: 100%|██████████| 4/4 [00:00<00:00, 19.92it/s]\n",
            "Inferencing on batch 4: 100%|██████████| 4/4 [00:00<00:00, 20.18it/s]\n",
            "Inferencing on batch 4: 100%|██████████| 4/4 [00:00<00:00, 20.67it/s]\n",
            "Inferencing on batch 4: 100%|██████████| 4/4 [00:00<00:00, 22.79it/s]\n",
            "Inferencing on batch 4: 100%|██████████| 4/4 [00:00<00:00, 22.08it/s]\n",
            "Inferencing on batch 4: 100%|██████████| 4/4 [00:00<00:00, 24.42it/s]\n",
            "Inferencing on batch 4: 100%|██████████| 4/4 [00:00<00:00, 22.72it/s]\n",
            "Inferencing on batch 4: 100%|██████████| 4/4 [00:00<00:00, 15.33it/s]\n",
            "Inferencing on batch 4: 100%|██████████| 4/4 [00:00<00:00, 26.49it/s]\n",
            "Inferencing on batch 4: 100%|██████████| 4/4 [00:00<00:00, 23.31it/s]\n",
            "Inferencing on batch 4: 100%|██████████| 4/4 [00:00<00:00, 24.64it/s]\n",
            "Inferencing on batch 4: 100%|██████████| 4/4 [00:00<00:00, 28.43it/s]\n",
            "Inferencing on batch 4: 100%|██████████| 4/4 [00:00<00:00, 19.95it/s]\n",
            "Inferencing on batch 4: 100%|██████████| 4/4 [00:00<00:00, 25.90it/s]\n",
            "Inferencing on batch 4: 100%|██████████| 4/4 [00:00<00:00, 23.36it/s]\n",
            "Inferencing on batch 4: 100%|██████████| 4/4 [00:00<00:00, 33.27it/s]\n",
            "Inferencing on batch 4: 100%|██████████| 4/4 [00:00<00:00, 19.60it/s]\n",
            "Inferencing on batch 4: 100%|██████████| 4/4 [00:00<00:00, 28.00it/s]\n",
            "Inferencing on batch 4: 100%|██████████| 4/4 [00:00<00:00, 24.21it/s]\n",
            "Inferencing on batch 4: 100%|██████████| 4/4 [00:00<00:00, 23.05it/s]\n",
            "Inferencing on batch 4: 100%|██████████| 4/4 [00:00<00:00, 25.20it/s]\n",
            "Inferencing on batch 4: 100%|██████████| 4/4 [00:00<00:00, 23.50it/s]\n",
            "Inferencing on batch 4: 100%|██████████| 4/4 [00:00<00:00, 21.85it/s]\n",
            "Inferencing on batch 4: 100%|██████████| 4/4 [00:00<00:00, 26.16it/s]\n",
            "Inferencing on batch 4: 100%|██████████| 4/4 [00:00<00:00, 26.92it/s]\n",
            "Inferencing on batch 4: 100%|██████████| 4/4 [00:00<00:00, 19.71it/s]\n",
            "Inferencing on batch 4: 100%|██████████| 4/4 [00:00<00:00, 21.43it/s]\n",
            "Inferencing on batch 4: 100%|██████████| 4/4 [00:00<00:00, 29.03it/s]\n",
            "Inferencing on batch 4: 100%|██████████| 4/4 [00:00<00:00, 26.51it/s]\n",
            "Inferencing on batch 4: 100%|██████████| 4/4 [00:00<00:00, 25.65it/s]\n",
            "Inferencing on batch 4: 100%|██████████| 4/4 [00:00<00:00, 25.59it/s]\n",
            "Inferencing on batch 4: 100%|██████████| 4/4 [00:00<00:00, 26.41it/s]\n",
            "Inferencing on batch 4: 100%|██████████| 4/4 [00:00<00:00, 24.97it/s]\n",
            "Inferencing on batch 4: 100%|██████████| 4/4 [00:00<00:00, 24.10it/s]\n",
            "Inferencing on batch 4: 100%|██████████| 4/4 [00:00<00:00, 22.15it/s]\n",
            "Inferencing on batch 4: 100%|██████████| 4/4 [00:00<00:00, 29.51it/s]\n",
            "Inferencing on batch 4: 100%|██████████| 4/4 [00:00<00:00, 23.84it/s]\n",
            "Inferencing on batch 4: 100%|██████████| 4/4 [00:00<00:00, 23.36it/s]\n",
            "Inferencing on batch 4: 100%|██████████| 4/4 [00:00<00:00, 27.69it/s]\n",
            "Inferencing on batch 4: 100%|██████████| 4/4 [00:00<00:00, 24.32it/s]\n",
            "Inferencing on batch 4: 100%|██████████| 4/4 [00:00<00:00, 24.54it/s]\n",
            "Inferencing on batch 4: 100%|██████████| 4/4 [00:00<00:00, 28.29it/s]\n",
            "Inferencing on batch 4: 100%|██████████| 4/4 [00:00<00:00, 31.75it/s]\n",
            "Inferencing on batch 4: 100%|██████████| 4/4 [00:00<00:00, 17.84it/s]\n",
            "Inferencing on batch 4: 100%|██████████| 4/4 [00:00<00:00, 22.98it/s]\n",
            "Inferencing on batch 4: 100%|██████████| 4/4 [00:00<00:00, 19.80it/s]\n",
            "Inferencing on batch 4: 100%|██████████| 4/4 [00:00<00:00, 17.91it/s]\n",
            "Inferencing on batch 4: 100%|██████████| 4/4 [00:00<00:00, 20.54it/s]\n",
            "Inferencing on batch 4: 100%|██████████| 4/4 [00:00<00:00, 23.00it/s]\n",
            "Inferencing on batch 4: 100%|██████████| 4/4 [00:00<00:00, 24.25it/s]\n",
            "Inferencing on batch 4: 100%|██████████| 4/4 [00:00<00:00, 24.19it/s]\n",
            "Inferencing on batch 4: 100%|██████████| 4/4 [00:00<00:00, 18.80it/s]\n",
            "Inferencing on batch 4: 100%|██████████| 4/4 [00:00<00:00, 23.49it/s]\n",
            "Inferencing on batch 4: 100%|██████████| 4/4 [00:00<00:00, 22.02it/s]\n",
            "Inferencing on batch 4: 100%|██████████| 4/4 [00:00<00:00, 22.27it/s]\n",
            "Inferencing on batch 4: 100%|██████████| 4/4 [00:00<00:00, 27.00it/s]\n",
            "Inferencing on batch 4: 100%|██████████| 4/4 [00:00<00:00, 21.49it/s]\n",
            "Inferencing on batch 4: 100%|██████████| 4/4 [00:00<00:00, 20.13it/s]\n",
            "Inferencing on batch 4: 100%|██████████| 4/4 [00:00<00:00, 19.61it/s]\n",
            "Inferencing on batch 4: 100%|██████████| 4/4 [00:00<00:00, 17.49it/s]\n",
            "Inferencing on batch 4: 100%|██████████| 4/4 [00:00<00:00, 20.15it/s]\n",
            "Inferencing on batch 4: 100%|██████████| 4/4 [00:00<00:00, 22.44it/s]\n",
            "Inferencing on batch 4: 100%|██████████| 4/4 [00:00<00:00, 16.68it/s]\n",
            "Inferencing on batch 4: 100%|██████████| 4/4 [00:00<00:00, 18.61it/s]\n",
            "Inferencing on batch 4: 100%|██████████| 4/4 [00:00<00:00, 17.92it/s]\n",
            "Inferencing on batch 4: 100%|██████████| 4/4 [00:00<00:00, 17.78it/s]\n",
            "Inferencing on batch 4: 100%|██████████| 4/4 [00:00<00:00, 15.83it/s]\n",
            "Inferencing on batch 4: 100%|██████████| 4/4 [00:00<00:00, 18.66it/s]\n",
            "Inferencing on batch 4: 100%|██████████| 4/4 [00:00<00:00, 18.90it/s]\n",
            "Inferencing on batch 4: 100%|██████████| 4/4 [00:00<00:00, 21.80it/s]\n",
            "Inferencing on batch 4: 100%|██████████| 4/4 [00:00<00:00, 23.39it/s]\n",
            "Inferencing on batch 4: 100%|██████████| 4/4 [00:00<00:00, 14.51it/s]\n",
            "Inferencing on batch 4: 100%|██████████| 4/4 [00:00<00:00, 13.87it/s]\n",
            "Inferencing on batch 4: 100%|██████████| 4/4 [00:00<00:00, 16.84it/s]\n",
            "Inferencing on batch 4: 100%|██████████| 4/4 [00:00<00:00, 18.94it/s]\n",
            "Inferencing on batch 4: 100%|██████████| 4/4 [00:00<00:00, 17.32it/s]\n",
            "Inferencing on batch 4: 100%|██████████| 4/4 [00:00<00:00, 20.51it/s]\n",
            "Inferencing on batch 4: 100%|██████████| 4/4 [00:00<00:00, 19.60it/s]\n",
            "Inferencing on batch 4: 100%|██████████| 4/4 [00:00<00:00, 22.78it/s]\n",
            "Inferencing on batch 4: 100%|██████████| 4/4 [00:00<00:00, 25.89it/s]\n",
            "Inferencing on batch 4: 100%|██████████| 4/4 [00:00<00:00, 18.98it/s]\n",
            "Inferencing on batch 4: 100%|██████████| 4/4 [00:00<00:00, 20.80it/s]\n",
            "Inferencing on batch 4: 100%|██████████| 4/4 [00:00<00:00, 24.18it/s]\n",
            "Inferencing on batch 4: 100%|██████████| 4/4 [00:00<00:00, 21.82it/s]\n",
            "Inferencing on batch 4: 100%|██████████| 4/4 [00:00<00:00, 23.67it/s]\n",
            "Inferencing on batch 4: 100%|██████████| 4/4 [00:00<00:00, 18.26it/s]\n",
            "Inferencing on batch 4: 100%|██████████| 4/4 [00:00<00:00, 13.68it/s]\n",
            "Inferencing on batch 4: 100%|██████████| 4/4 [00:00<00:00, 19.99it/s]\n",
            "Inferencing on batch 4: 100%|██████████| 4/4 [00:00<00:00, 20.73it/s]\n",
            "Inferencing on batch 4: 100%|██████████| 4/4 [00:00<00:00, 16.19it/s]\n",
            "Inferencing on batch 4: 100%|██████████| 4/4 [00:00<00:00, 22.46it/s]\n",
            "Inferencing on batch 4: 100%|██████████| 4/4 [00:00<00:00, 17.62it/s]\n",
            "Inferencing on batch 4: 100%|██████████| 4/4 [00:00<00:00, 20.63it/s]\n",
            "Inferencing on batch 4: 100%|██████████| 4/4 [00:00<00:00, 18.34it/s]\n",
            "Inferencing on batch 4: 100%|██████████| 4/4 [00:00<00:00, 19.08it/s]\n",
            "Inferencing on batch 4: 100%|██████████| 4/4 [00:00<00:00, 19.88it/s]\n",
            "Inferencing on batch 4: 100%|██████████| 4/4 [00:00<00:00, 18.62it/s]\n",
            "Inferencing on batch 4: 100%|██████████| 4/4 [00:00<00:00, 21.92it/s]\n",
            "Inferencing on batch 4: 100%|██████████| 4/4 [00:00<00:00, 16.82it/s]\n",
            "Inferencing on batch 4: 100%|██████████| 4/4 [00:00<00:00, 18.41it/s]\n",
            "Inferencing on batch 4: 100%|██████████| 4/4 [00:00<00:00, 16.49it/s]\n",
            "Inferencing on batch 4: 100%|██████████| 4/4 [00:00<00:00, 17.79it/s]\n",
            "Inferencing on batch 4: 100%|██████████| 4/4 [00:00<00:00, 19.63it/s]\n",
            "Inferencing on batch 4: 100%|██████████| 4/4 [00:00<00:00, 15.39it/s]\n",
            "Inferencing on batch 4: 100%|██████████| 4/4 [00:00<00:00, 21.05it/s]\n",
            "Inferencing on batch 4: 100%|██████████| 4/4 [00:00<00:00, 22.28it/s]\n",
            "Inferencing on batch 4: 100%|██████████| 4/4 [00:00<00:00, 18.06it/s]\n",
            "Inferencing on batch 4: 100%|██████████| 4/4 [00:00<00:00, 23.72it/s]\n",
            "Inferencing on batch 4: 100%|██████████| 4/4 [00:00<00:00, 24.54it/s]\n",
            "Inferencing on batch 4: 100%|██████████| 4/4 [00:00<00:00, 19.09it/s]\n",
            "Inferencing on batch 4: 100%|██████████| 4/4 [00:00<00:00, 18.41it/s]\n",
            "Inferencing on batch 4: 100%|██████████| 4/4 [00:00<00:00, 20.22it/s]\n",
            "Inferencing on batch 4: 100%|██████████| 4/4 [00:00<00:00, 15.98it/s]\n",
            "Inferencing on batch 4: 100%|██████████| 4/4 [00:00<00:00, 14.61it/s]\n",
            "Inferencing on batch 4: 100%|██████████| 4/4 [00:00<00:00, 22.25it/s]\n",
            "Inferencing on batch 4: 100%|██████████| 4/4 [00:00<00:00, 22.88it/s]\n",
            "Inferencing on batch 4: 100%|██████████| 4/4 [00:00<00:00, 16.86it/s]\n",
            "Inferencing on batch 4: 100%|██████████| 4/4 [00:00<00:00, 17.14it/s]\n",
            "Inferencing on batch 4: 100%|██████████| 4/4 [00:00<00:00, 20.49it/s]\n",
            "Inferencing on batch 4: 100%|██████████| 4/4 [00:00<00:00, 17.21it/s]\n",
            "Inferencing on batch 4: 100%|██████████| 4/4 [00:00<00:00, 23.33it/s]\n",
            "Inferencing on batch 4: 100%|██████████| 4/4 [00:00<00:00, 30.01it/s]\n",
            "Inferencing on batch 4: 100%|██████████| 4/4 [00:00<00:00, 20.61it/s]\n",
            "Inferencing on batch 4: 100%|██████████| 4/4 [00:00<00:00, 23.54it/s]\n",
            "Inferencing on batch 4: 100%|██████████| 4/4 [00:00<00:00, 22.10it/s]\n",
            "Inferencing on batch 4: 100%|██████████| 4/4 [00:00<00:00, 19.71it/s]\n",
            "Inferencing on batch 4: 100%|██████████| 4/4 [00:00<00:00, 24.40it/s]\n",
            "Inferencing on batch 4: 100%|██████████| 4/4 [00:00<00:00, 31.65it/s]\n",
            "Inferencing on batch 4: 100%|██████████| 4/4 [00:00<00:00, 24.56it/s]\n",
            "Inferencing on batch 4: 100%|██████████| 4/4 [00:00<00:00, 25.28it/s]\n",
            "Inferencing on batch 4: 100%|██████████| 4/4 [00:00<00:00, 26.68it/s]\n",
            "Inferencing on batch 4: 100%|██████████| 4/4 [00:00<00:00, 28.86it/s]\n",
            "Inferencing on batch 4: 100%|██████████| 4/4 [00:00<00:00, 26.38it/s]\n",
            "Inferencing on batch 4: 100%|██████████| 4/4 [00:00<00:00, 27.17it/s]\n",
            "Inferencing on batch 4: 100%|██████████| 4/4 [00:00<00:00, 24.97it/s]\n",
            "Inferencing on batch 4: 100%|██████████| 4/4 [00:00<00:00, 25.04it/s]\n",
            "Inferencing on batch 4: 100%|██████████| 4/4 [00:00<00:00, 21.90it/s]\n",
            "Inferencing on batch 4: 100%|██████████| 4/4 [00:00<00:00, 23.88it/s]\n",
            "Inferencing on batch 4: 100%|██████████| 4/4 [00:00<00:00, 30.60it/s]\n",
            "Inferencing on batch 4: 100%|██████████| 4/4 [00:00<00:00, 24.96it/s]\n",
            "Inferencing on batch 4: 100%|██████████| 4/4 [00:00<00:00, 22.93it/s]\n",
            "Inferencing on batch 4: 100%|██████████| 4/4 [00:00<00:00, 28.25it/s]\n",
            "Inferencing on batch 4: 100%|██████████| 4/4 [00:00<00:00, 27.28it/s]\n",
            "Inferencing on batch 4: 100%|██████████| 4/4 [00:00<00:00, 24.19it/s]\n",
            "Inferencing on batch 4: 100%|██████████| 4/4 [00:00<00:00, 26.41it/s]\n",
            "Inferencing on batch 4: 100%|██████████| 4/4 [00:00<00:00, 29.63it/s]\n",
            "Inferencing on batch 4: 100%|██████████| 4/4 [00:00<00:00, 24.99it/s]\n",
            "Inferencing on batch 4: 100%|██████████| 4/4 [00:00<00:00, 20.68it/s]\n",
            "Inferencing on batch 4: 100%|██████████| 4/4 [00:00<00:00, 24.93it/s]\n",
            "Inferencing on batch 4: 100%|██████████| 4/4 [00:00<00:00, 26.51it/s]\n",
            "Inferencing on batch 4: 100%|██████████| 4/4 [00:00<00:00, 28.74it/s]\n",
            "Inferencing on batch 4: 100%|██████████| 4/4 [00:00<00:00, 23.23it/s]\n",
            "Inferencing on batch 4: 100%|██████████| 4/4 [00:00<00:00, 24.24it/s]\n",
            "Inferencing on batch 4: 100%|██████████| 4/4 [00:00<00:00, 26.89it/s]\n",
            "Inferencing on batch 4: 100%|██████████| 4/4 [00:00<00:00, 23.73it/s]\n",
            "Inferencing on batch 4: 100%|██████████| 4/4 [00:00<00:00, 23.45it/s]\n",
            "Inferencing on batch 4: 100%|██████████| 4/4 [00:00<00:00, 25.07it/s]\n",
            "Inferencing on batch 4: 100%|██████████| 4/4 [00:00<00:00, 26.93it/s]\n",
            "Inferencing on batch 4: 100%|██████████| 4/4 [00:00<00:00, 21.82it/s]\n",
            "Inferencing on batch 4: 100%|██████████| 4/4 [00:00<00:00, 22.59it/s]\n",
            "Inferencing on batch 4: 100%|██████████| 4/4 [00:00<00:00, 25.87it/s]\n",
            "Inferencing on batch 4: 100%|██████████| 4/4 [00:00<00:00, 24.68it/s]\n",
            "Inferencing on batch 4: 100%|██████████| 4/4 [00:00<00:00, 26.19it/s]\n",
            "Inferencing on batch 4: 100%|██████████| 4/4 [00:00<00:00, 25.94it/s]\n",
            "Inferencing on batch 4: 100%|██████████| 4/4 [00:00<00:00, 22.52it/s]\n",
            "Inferencing on batch 4: 100%|██████████| 4/4 [00:00<00:00, 25.12it/s]\n",
            "Inferencing on batch 4: 100%|██████████| 4/4 [00:00<00:00, 20.32it/s]\n",
            "Inferencing on batch 4: 100%|██████████| 4/4 [00:00<00:00, 26.37it/s]\n",
            "Inferencing on batch 4: 100%|██████████| 4/4 [00:00<00:00, 27.77it/s]\n",
            "Inferencing on batch 4: 100%|██████████| 4/4 [00:00<00:00, 21.34it/s]\n",
            "Inferencing on batch 4: 100%|██████████| 4/4 [00:00<00:00, 26.33it/s]\n",
            "Inferencing on batch 4: 100%|██████████| 4/4 [00:00<00:00, 23.69it/s]\n",
            "Inferencing on batch 4: 100%|██████████| 4/4 [00:00<00:00, 22.11it/s]\n",
            "Inferencing on batch 4: 100%|██████████| 4/4 [00:00<00:00, 26.65it/s]\n",
            "Inferencing on batch 4: 100%|██████████| 4/4 [00:00<00:00, 23.05it/s]\n",
            "Inferencing on batch 4: 100%|██████████| 4/4 [00:00<00:00, 23.84it/s]\n",
            "Inferencing on batch 4: 100%|██████████| 4/4 [00:00<00:00, 22.42it/s]\n",
            "Inferencing on batch 4: 100%|██████████| 4/4 [00:00<00:00, 27.55it/s]\n",
            "Inferencing on batch 4: 100%|██████████| 4/4 [00:00<00:00, 23.78it/s]\n",
            "Inferencing on batch 4: 100%|██████████| 4/4 [00:00<00:00, 21.06it/s]\n",
            "Inferencing on batch 4: 100%|██████████| 4/4 [00:00<00:00, 23.57it/s]\n",
            "Inferencing on batch 4: 100%|██████████| 4/4 [00:00<00:00, 27.82it/s]\n",
            "Inferencing on batch 4: 100%|██████████| 4/4 [00:00<00:00, 23.23it/s]\n",
            "Inferencing on batch 4: 100%|██████████| 4/4 [00:00<00:00, 27.95it/s]\n",
            "Inferencing on batch 4: 100%|██████████| 4/4 [00:00<00:00, 24.28it/s]\n",
            "Inferencing on batch 4: 100%|██████████| 4/4 [00:00<00:00, 24.77it/s]\n",
            "Inferencing on batch 4: 100%|██████████| 4/4 [00:00<00:00, 27.64it/s]\n",
            "Inferencing on batch 4: 100%|██████████| 4/4 [00:00<00:00, 23.48it/s]\n",
            "Inferencing on batch 4: 100%|██████████| 4/4 [00:00<00:00, 29.31it/s]\n",
            "Inferencing on batch 4: 100%|██████████| 4/4 [00:00<00:00, 21.72it/s]\n",
            "Inferencing on batch 4: 100%|██████████| 4/4 [00:00<00:00, 21.82it/s]\n",
            "Inferencing on batch 4: 100%|██████████| 4/4 [00:00<00:00, 26.05it/s]\n",
            "Inferencing on batch 4: 100%|██████████| 4/4 [00:00<00:00, 27.08it/s]\n",
            "Inferencing on batch 4: 100%|██████████| 4/4 [00:00<00:00, 19.51it/s]\n",
            "Inferencing on batch 4: 100%|██████████| 4/4 [00:00<00:00, 23.42it/s]\n",
            "Inferencing on batch 4: 100%|██████████| 4/4 [00:00<00:00, 23.27it/s]\n",
            "Inferencing on batch 4: 100%|██████████| 4/4 [00:00<00:00, 26.40it/s]\n",
            "Inferencing on batch 4: 100%|██████████| 4/4 [00:00<00:00, 24.28it/s]\n",
            "Inferencing on batch 4: 100%|██████████| 4/4 [00:00<00:00, 25.48it/s]\n",
            "Inferencing on batch 4: 100%|██████████| 4/4 [00:00<00:00, 25.44it/s]\n",
            "Inferencing on batch 4: 100%|██████████| 4/4 [00:00<00:00, 16.41it/s]\n",
            "Inferencing on batch 4: 100%|██████████| 4/4 [00:00<00:00, 21.10it/s]\n",
            "Inferencing on batch 4: 100%|██████████| 4/4 [00:00<00:00, 19.75it/s]\n",
            "Inferencing on batch 4: 100%|██████████| 4/4 [00:00<00:00, 21.20it/s]\n",
            "Inferencing on batch 4: 100%|██████████| 4/4 [00:00<00:00, 19.89it/s]\n",
            "Inferencing on batch 4: 100%|██████████| 4/4 [00:00<00:00, 21.37it/s]\n",
            "Inferencing on batch 4: 100%|██████████| 4/4 [00:00<00:00, 19.16it/s]\n",
            "Inferencing on batch 4: 100%|██████████| 4/4 [00:00<00:00, 19.23it/s]\n",
            "Inferencing on batch 4: 100%|██████████| 4/4 [00:00<00:00, 14.52it/s]\n",
            "Inferencing on batch 4: 100%|██████████| 4/4 [00:00<00:00, 20.77it/s]\n",
            "Inferencing on batch 4: 100%|██████████| 4/4 [00:00<00:00, 21.98it/s]\n",
            "Inferencing on batch 4: 100%|██████████| 4/4 [00:00<00:00, 15.81it/s]\n",
            "Inferencing on batch 4: 100%|██████████| 4/4 [00:00<00:00, 22.31it/s]\n",
            "Inferencing on batch 4: 100%|██████████| 4/4 [00:00<00:00, 20.91it/s]\n",
            "Inferencing on batch 4: 100%|██████████| 4/4 [00:00<00:00, 25.61it/s]\n",
            "Inferencing on batch 4: 100%|██████████| 4/4 [00:00<00:00, 24.40it/s]\n",
            "Inferencing on batch 4: 100%|██████████| 4/4 [00:00<00:00, 18.83it/s]\n",
            "Inferencing on batch 4: 100%|██████████| 4/4 [00:00<00:00, 22.13it/s]\n",
            "Inferencing on batch 4: 100%|██████████| 4/4 [00:00<00:00, 18.07it/s]\n",
            "Inferencing on batch 4: 100%|██████████| 4/4 [00:00<00:00, 10.59it/s]\n",
            "Inferencing on batch 4: 100%|██████████| 4/4 [00:00<00:00, 13.37it/s]\n",
            "Inferencing on batch 4: 100%|██████████| 4/4 [00:00<00:00, 20.23it/s]\n",
            "Inferencing on batch 4: 100%|██████████| 4/4 [00:00<00:00, 19.50it/s]\n",
            "Inferencing on batch 4: 100%|██████████| 4/4 [00:00<00:00, 15.84it/s]\n",
            "Inferencing on batch 4: 100%|██████████| 4/4 [00:00<00:00, 21.86it/s]\n",
            "Inferencing on batch 4: 100%|██████████| 4/4 [00:00<00:00, 15.65it/s]\n",
            "Inferencing on batch 4: 100%|██████████| 4/4 [00:00<00:00, 18.63it/s]\n",
            "Inferencing on batch 4: 100%|██████████| 4/4 [00:00<00:00, 15.18it/s]\n",
            "Inferencing on batch 4: 100%|██████████| 4/4 [00:00<00:00, 13.19it/s]\n",
            "Inferencing on batch 4: 100%|██████████| 4/4 [00:00<00:00, 24.39it/s]\n",
            "Inferencing on batch 4: 100%|██████████| 4/4 [00:00<00:00, 18.97it/s]\n",
            "Inferencing on batch 4: 100%|██████████| 4/4 [00:00<00:00, 13.64it/s]\n",
            "Inferencing on batch 4: 100%|██████████| 4/4 [00:00<00:00, 12.73it/s]\n",
            "Inferencing on batch 4: 100%|██████████| 4/4 [00:00<00:00, 23.08it/s]\n",
            "Inferencing on batch 4: 100%|██████████| 4/4 [00:00<00:00, 17.24it/s]\n",
            "Inferencing on batch 4: 100%|██████████| 4/4 [00:00<00:00, 13.16it/s]\n",
            "Inferencing on batch 4: 100%|██████████| 4/4 [00:00<00:00, 18.22it/s]\n",
            "Inferencing on batch 4: 100%|██████████| 4/4 [00:00<00:00, 14.70it/s]\n",
            "Inferencing on batch 4: 100%|██████████| 4/4 [00:00<00:00, 23.18it/s]\n",
            "Inferencing on batch 4: 100%|██████████| 4/4 [00:00<00:00, 25.37it/s]\n",
            "Inferencing on batch 4: 100%|██████████| 4/4 [00:00<00:00, 26.47it/s]\n",
            "Inferencing on batch 4: 100%|██████████| 4/4 [00:00<00:00, 16.81it/s]\n",
            "Inferencing on batch 4: 100%|██████████| 4/4 [00:00<00:00, 24.23it/s]\n",
            "Inferencing on batch 4: 100%|██████████| 4/4 [00:00<00:00, 19.30it/s]\n",
            "Inferencing on batch 4: 100%|██████████| 4/4 [00:00<00:00, 26.79it/s]\n",
            "Inferencing on batch 4: 100%|██████████| 4/4 [00:00<00:00, 17.67it/s]\n",
            "Inferencing on batch 4: 100%|██████████| 4/4 [00:00<00:00, 19.25it/s]\n",
            "Inferencing on batch 4: 100%|██████████| 4/4 [00:00<00:00, 22.48it/s]\n",
            "Inferencing on batch 4: 100%|██████████| 4/4 [00:00<00:00, 15.33it/s]\n",
            "Inferencing on batch 4: 100%|██████████| 4/4 [00:00<00:00, 18.80it/s]\n",
            "Inferencing on batch 4: 100%|██████████| 4/4 [00:00<00:00, 23.97it/s]\n",
            "Inferencing on batch 4: 100%|██████████| 4/4 [00:00<00:00, 21.04it/s]\n",
            "Inferencing on batch 4: 100%|██████████| 4/4 [00:00<00:00, 17.75it/s]\n",
            "Inferencing on batch 4: 100%|██████████| 4/4 [00:00<00:00, 23.44it/s]\n",
            "Inferencing on batch 4: 100%|██████████| 4/4 [00:00<00:00, 26.25it/s]\n",
            "Inferencing on batch 4: 100%|██████████| 4/4 [00:00<00:00, 16.35it/s]\n",
            "Inferencing on batch 4: 100%|██████████| 4/4 [00:00<00:00, 27.66it/s]\n",
            "Inferencing on batch 4: 100%|██████████| 4/4 [00:00<00:00, 18.59it/s]\n",
            "Inferencing on batch 4: 100%|██████████| 4/4 [00:00<00:00, 19.17it/s]\n",
            "Inferencing on batch 4: 100%|██████████| 4/4 [00:00<00:00, 23.84it/s]\n",
            "Inferencing on batch 4: 100%|██████████| 4/4 [00:00<00:00, 17.45it/s]\n",
            "Inferencing on batch 4: 100%|██████████| 4/4 [00:00<00:00, 28.65it/s]\n",
            "Inferencing on batch 4: 100%|██████████| 4/4 [00:00<00:00, 19.51it/s]\n",
            "Inferencing on batch 4: 100%|██████████| 4/4 [00:00<00:00, 21.26it/s]\n",
            "Inferencing on batch 4: 100%|██████████| 4/4 [00:00<00:00, 19.30it/s]\n",
            "Inferencing on batch 4: 100%|██████████| 4/4 [00:00<00:00, 27.16it/s]\n",
            "Inferencing on batch 4: 100%|██████████| 4/4 [00:00<00:00, 20.28it/s]\n",
            "Inferencing on batch 4: 100%|██████████| 4/4 [00:00<00:00, 19.43it/s]\n",
            "Inferencing on batch 4: 100%|██████████| 4/4 [00:00<00:00, 20.89it/s]\n",
            "Inferencing on batch 4: 100%|██████████| 4/4 [00:00<00:00, 21.33it/s]\n",
            "Inferencing on batch 4: 100%|██████████| 4/4 [00:00<00:00, 20.57it/s]\n",
            "Inferencing on batch 4: 100%|██████████| 4/4 [00:00<00:00, 17.82it/s]\n",
            "Inferencing on batch 4: 100%|██████████| 4/4 [00:00<00:00, 23.68it/s]\n",
            "Inferencing on batch 4: 100%|██████████| 4/4 [00:00<00:00, 20.74it/s]\n",
            "Inferencing on batch 4: 100%|██████████| 4/4 [00:00<00:00, 24.51it/s]\n",
            "Inferencing on batch 4: 100%|██████████| 4/4 [00:00<00:00, 14.34it/s]\n",
            "Inferencing on batch 4: 100%|██████████| 4/4 [00:00<00:00, 24.65it/s]\n",
            "Inferencing on batch 4: 100%|██████████| 4/4 [00:00<00:00, 26.72it/s]\n",
            "Inferencing on batch 4: 100%|██████████| 4/4 [00:00<00:00, 13.53it/s]\n",
            "Inferencing on batch 4: 100%|██████████| 4/4 [00:00<00:00, 20.20it/s]\n",
            "Inferencing on batch 4: 100%|██████████| 4/4 [00:00<00:00, 16.25it/s]\n",
            "Inferencing on batch 4: 100%|██████████| 4/4 [00:00<00:00, 20.83it/s]\n",
            "Inferencing on batch 4: 100%|██████████| 4/4 [00:00<00:00, 18.11it/s]\n",
            "Inferencing on batch 4: 100%|██████████| 4/4 [00:00<00:00, 25.36it/s]\n",
            "Inferencing on batch 4: 100%|██████████| 4/4 [00:00<00:00, 30.14it/s]\n",
            "Inferencing on batch 4: 100%|██████████| 4/4 [00:00<00:00, 18.10it/s]\n",
            "Inferencing on batch 4: 100%|██████████| 4/4 [00:00<00:00, 20.94it/s]\n",
            "Inferencing on batch 4: 100%|██████████| 4/4 [00:00<00:00, 27.23it/s]\n",
            "Inferencing on batch 4: 100%|██████████| 4/4 [00:00<00:00, 21.66it/s]\n",
            "Inferencing on batch 4: 100%|██████████| 4/4 [00:00<00:00, 22.85it/s]\n",
            "Inferencing on batch 4: 100%|██████████| 4/4 [00:00<00:00, 18.65it/s]\n",
            "Inferencing on batch 4: 100%|██████████| 4/4 [00:00<00:00, 17.94it/s]\n",
            "Inferencing on batch 4: 100%|██████████| 4/4 [00:00<00:00, 11.95it/s]\n",
            "Inferencing on batch 4: 100%|██████████| 4/4 [00:00<00:00, 27.08it/s]\n",
            "Inferencing on batch 4: 100%|██████████| 4/4 [00:00<00:00, 28.02it/s]\n",
            "Inferencing on batch 4: 100%|██████████| 4/4 [00:00<00:00, 22.58it/s]\n",
            "Inferencing on batch 4: 100%|██████████| 4/4 [00:00<00:00, 19.77it/s]\n",
            "Inferencing on batch 4: 100%|██████████| 4/4 [00:00<00:00, 23.23it/s]\n",
            "Inferencing on batch 4: 100%|██████████| 4/4 [00:00<00:00, 23.95it/s]\n",
            "Inferencing on batch 4: 100%|██████████| 4/4 [00:00<00:00, 16.98it/s]\n",
            "Inferencing on batch 4: 100%|██████████| 4/4 [00:00<00:00, 24.74it/s]\n",
            "Inferencing on batch 4: 100%|██████████| 4/4 [00:00<00:00, 17.71it/s]\n",
            "Inferencing on batch 4: 100%|██████████| 4/4 [00:00<00:00, 30.00it/s]\n",
            "Inferencing on batch 4: 100%|██████████| 4/4 [00:00<00:00, 31.46it/s]\n",
            "Inferencing on batch 4: 100%|██████████| 4/4 [00:00<00:00, 27.21it/s]\n",
            "Inferencing on batch 4: 100%|██████████| 4/4 [00:00<00:00, 27.82it/s]\n",
            "Inferencing on batch 4: 100%|██████████| 4/4 [00:00<00:00, 15.21it/s]\n",
            "Inferencing on batch 4: 100%|██████████| 4/4 [00:00<00:00, 30.93it/s]\n",
            "Inferencing on batch 4: 100%|██████████| 4/4 [00:00<00:00, 23.48it/s]\n",
            "Inferencing on batch 4: 100%|██████████| 4/4 [00:00<00:00, 21.75it/s]\n",
            "Inferencing on batch 4: 100%|██████████| 4/4 [00:00<00:00, 20.47it/s]\n",
            "Inferencing on batch 4: 100%|██████████| 4/4 [00:00<00:00, 13.82it/s]\n",
            "Inferencing on batch 4: 100%|██████████| 4/4 [00:00<00:00, 14.47it/s]\n",
            "Inferencing on batch 4: 100%|██████████| 4/4 [00:00<00:00,  6.68it/s]\n",
            "Inferencing on batch 4: 100%|██████████| 4/4 [00:00<00:00, 10.77it/s]\n",
            "Inferencing on batch 4: 100%|██████████| 4/4 [00:00<00:00, 13.11it/s]\n",
            "Inferencing on batch 4: 100%|██████████| 4/4 [00:00<00:00,  8.30it/s]\n",
            "Inferencing on batch 4: 100%|██████████| 4/4 [00:00<00:00,  9.22it/s]\n",
            "Inferencing on batch 4: 100%|██████████| 4/4 [00:00<00:00, 14.21it/s]\n",
            "Inferencing on batch 4: 100%|██████████| 4/4 [00:00<00:00, 22.09it/s]\n",
            "Inferencing on batch 4: 100%|██████████| 4/4 [00:00<00:00, 18.90it/s]\n",
            "Inferencing on batch 4: 100%|██████████| 4/4 [00:00<00:00, 23.59it/s]\n",
            "Inferencing on batch 4: 100%|██████████| 4/4 [00:00<00:00, 19.88it/s]\n",
            "Inferencing on batch 4: 100%|██████████| 4/4 [00:00<00:00, 16.20it/s]\n",
            "Inferencing on batch 4: 100%|██████████| 4/4 [00:00<00:00, 21.73it/s]\n",
            "Inferencing on batch 4: 100%|██████████| 4/4 [00:00<00:00, 32.06it/s]\n",
            "Inferencing on batch 4: 100%|██████████| 4/4 [00:00<00:00, 21.23it/s]\n",
            "Inferencing on batch 4: 100%|██████████| 4/4 [00:00<00:00, 19.21it/s]\n",
            "Inferencing on batch 4: 100%|██████████| 4/4 [00:00<00:00, 23.86it/s]\n",
            "Inferencing on batch 4: 100%|██████████| 4/4 [00:00<00:00, 18.66it/s]\n",
            "Inferencing on batch 4: 100%|██████████| 4/4 [00:00<00:00, 21.01it/s]\n",
            "Inferencing on batch 4: 100%|██████████| 4/4 [00:00<00:00, 18.42it/s]\n",
            "Inferencing on batch 4: 100%|██████████| 4/4 [00:00<00:00, 29.76it/s]\n",
            "Inferencing on batch 4: 100%|██████████| 4/4 [00:00<00:00, 14.67it/s]\n",
            "Inferencing on batch 4: 100%|██████████| 4/4 [00:00<00:00, 14.65it/s]\n",
            "Inferencing on batch 4: 100%|██████████| 4/4 [00:00<00:00, 23.96it/s]\n",
            "Inferencing on batch 4: 100%|██████████| 4/4 [00:00<00:00, 21.80it/s]\n",
            "Inferencing on batch 4: 100%|██████████| 4/4 [00:00<00:00, 24.61it/s]\n",
            "Inferencing on batch 4: 100%|██████████| 4/4 [00:00<00:00, 22.40it/s]\n",
            "Inferencing on batch 4: 100%|██████████| 4/4 [00:00<00:00, 24.02it/s]\n",
            "Inferencing on batch 4: 100%|██████████| 4/4 [00:00<00:00, 19.22it/s]\n",
            "Inferencing on batch 4: 100%|██████████| 4/4 [00:00<00:00, 16.56it/s]\n",
            "Inferencing on batch 4: 100%|██████████| 4/4 [00:00<00:00, 24.32it/s]\n",
            "Inferencing on batch 4: 100%|██████████| 4/4 [00:00<00:00, 22.58it/s]\n",
            "Inferencing on batch 4: 100%|██████████| 4/4 [00:00<00:00, 28.58it/s]\n",
            "Inferencing on batch 4: 100%|██████████| 4/4 [00:00<00:00, 30.07it/s]\n",
            "Inferencing on batch 4: 100%|██████████| 4/4 [00:00<00:00, 30.48it/s]\n",
            "Inferencing on batch 4: 100%|██████████| 4/4 [00:00<00:00, 15.52it/s]\n",
            "Inferencing on batch 4: 100%|██████████| 4/4 [00:00<00:00,  9.49it/s]\n",
            "Inferencing on batch 4: 100%|██████████| 4/4 [00:00<00:00, 20.01it/s]\n",
            "Inferencing on batch 4: 100%|██████████| 4/4 [00:00<00:00, 22.49it/s]\n",
            "Inferencing on batch 4: 100%|██████████| 4/4 [00:00<00:00, 19.64it/s]\n",
            "Inferencing on batch 4: 100%|██████████| 4/4 [00:00<00:00, 16.87it/s]\n",
            "Inferencing on batch 4: 100%|██████████| 4/4 [00:00<00:00, 17.37it/s]\n",
            "Inferencing on batch 4: 100%|██████████| 4/4 [00:00<00:00, 19.20it/s]\n",
            "Inferencing on batch 4: 100%|██████████| 4/4 [00:00<00:00, 21.56it/s]\n",
            "Inferencing on batch 4: 100%|██████████| 4/4 [00:00<00:00, 19.90it/s]\n",
            "Inferencing on batch 4: 100%|██████████| 4/4 [00:00<00:00, 24.56it/s]\n",
            "Inferencing on batch 4: 100%|██████████| 4/4 [00:00<00:00, 25.59it/s]\n",
            "Inferencing on batch 4: 100%|██████████| 4/4 [00:00<00:00, 21.54it/s]\n",
            "Inferencing on batch 4: 100%|██████████| 4/4 [00:00<00:00, 23.92it/s]\n",
            "Inferencing on batch 4: 100%|██████████| 4/4 [00:00<00:00, 18.91it/s]\n",
            "Inferencing on batch 4: 100%|██████████| 4/4 [00:00<00:00, 18.48it/s]\n",
            "Inferencing on batch 4: 100%|██████████| 4/4 [00:00<00:00, 21.98it/s]\n",
            "Inferencing on batch 4: 100%|██████████| 4/4 [00:00<00:00, 26.40it/s]\n",
            "Inferencing on batch 4: 100%|██████████| 4/4 [00:00<00:00, 23.11it/s]\n",
            "Inferencing on batch 4: 100%|██████████| 4/4 [00:00<00:00, 25.98it/s]\n",
            "Inferencing on batch 4: 100%|██████████| 4/4 [00:00<00:00, 23.79it/s]\n",
            "Inferencing on batch 4: 100%|██████████| 4/4 [00:00<00:00, 22.29it/s]\n",
            "Inferencing on batch 4: 100%|██████████| 4/4 [00:00<00:00, 21.11it/s]\n",
            "Inferencing on batch 4: 100%|██████████| 4/4 [00:00<00:00, 25.29it/s]\n",
            "Inferencing on batch 4: 100%|██████████| 4/4 [00:00<00:00, 25.42it/s]\n",
            "Inferencing on batch 4: 100%|██████████| 4/4 [00:00<00:00, 22.47it/s]\n",
            "Inferencing on batch 4: 100%|██████████| 4/4 [00:00<00:00, 24.04it/s]\n",
            "Inferencing on batch 4: 100%|██████████| 4/4 [00:00<00:00, 23.92it/s]\n",
            "Inferencing on batch 4: 100%|██████████| 4/4 [00:00<00:00, 19.06it/s]\n",
            "Inferencing on batch 4: 100%|██████████| 4/4 [00:00<00:00, 25.91it/s]\n",
            "Inferencing on batch 4: 100%|██████████| 4/4 [00:00<00:00, 24.32it/s]\n",
            "Inferencing on batch 4: 100%|██████████| 4/4 [00:00<00:00, 23.39it/s]\n",
            "Inferencing on batch 4: 100%|██████████| 4/4 [00:00<00:00, 20.74it/s]\n",
            "Inferencing on batch 4: 100%|██████████| 4/4 [00:00<00:00, 21.08it/s]\n",
            "Inferencing on batch 4: 100%|██████████| 4/4 [00:00<00:00, 22.94it/s]\n",
            "Inferencing on batch 4: 100%|██████████| 4/4 [00:00<00:00, 20.43it/s]\n",
            "Inferencing on batch 4: 100%|██████████| 4/4 [00:00<00:00, 21.35it/s]\n",
            "Inferencing on batch 4: 100%|██████████| 4/4 [00:00<00:00, 21.03it/s]\n",
            "Inferencing on batch 4: 100%|██████████| 4/4 [00:00<00:00, 17.68it/s]\n",
            "Inferencing on batch 4: 100%|██████████| 4/4 [00:00<00:00, 23.56it/s]\n",
            "Inferencing on batch 4: 100%|██████████| 4/4 [00:00<00:00, 23.64it/s]\n",
            "Inferencing on batch 4: 100%|██████████| 4/4 [00:00<00:00, 27.22it/s]\n",
            "Inferencing on batch 4: 100%|██████████| 4/4 [00:00<00:00, 24.87it/s]\n",
            "Inferencing on batch 4: 100%|██████████| 4/4 [00:00<00:00, 18.07it/s]\n",
            "Inferencing on batch 4: 100%|██████████| 4/4 [00:00<00:00, 23.99it/s]\n",
            "Inferencing on batch 4: 100%|██████████| 4/4 [00:00<00:00, 20.16it/s]\n",
            "Inferencing on batch 4: 100%|██████████| 4/4 [00:00<00:00, 20.86it/s]\n",
            "Inferencing on batch 4: 100%|██████████| 4/4 [00:00<00:00, 22.62it/s]\n",
            "Inferencing on batch 4: 100%|██████████| 4/4 [00:00<00:00, 19.75it/s]\n",
            "Inferencing on batch 4: 100%|██████████| 4/4 [00:00<00:00, 23.93it/s]\n",
            "Inferencing on batch 4: 100%|██████████| 4/4 [00:00<00:00, 20.31it/s]\n",
            "Inferencing on batch 4: 100%|██████████| 4/4 [00:00<00:00, 21.59it/s]\n",
            "Inferencing on batch 4: 100%|██████████| 4/4 [00:00<00:00, 21.67it/s]\n",
            "Inferencing on batch 4: 100%|██████████| 4/4 [00:00<00:00, 26.07it/s]\n",
            "Inferencing on batch 4: 100%|██████████| 4/4 [00:00<00:00, 25.46it/s]\n",
            "Inferencing on batch 4: 100%|██████████| 4/4 [00:00<00:00, 25.04it/s]\n",
            "Inferencing on batch 4: 100%|██████████| 4/4 [00:00<00:00, 23.18it/s]\n",
            "Inferencing on batch 4: 100%|██████████| 4/4 [00:00<00:00, 18.82it/s]\n",
            "Inferencing on batch 4: 100%|██████████| 4/4 [00:00<00:00, 20.99it/s]\n",
            "Inferencing on batch 4: 100%|██████████| 4/4 [00:00<00:00, 26.60it/s]\n",
            "Inferencing on batch 4: 100%|██████████| 4/4 [00:00<00:00, 24.29it/s]\n",
            "Inferencing on batch 4: 100%|██████████| 4/4 [00:00<00:00, 24.35it/s]\n",
            "Inferencing on batch 4: 100%|██████████| 4/4 [00:00<00:00, 22.12it/s]\n",
            "Inferencing on batch 4: 100%|██████████| 4/4 [00:00<00:00, 24.80it/s]\n",
            "Inferencing on batch 4: 100%|██████████| 4/4 [00:00<00:00, 22.56it/s]\n",
            "Inferencing on batch 4: 100%|██████████| 4/4 [00:00<00:00, 19.98it/s]\n",
            "Inferencing on batch 4: 100%|██████████| 4/4 [00:00<00:00, 22.32it/s]\n",
            "Inferencing on batch 4: 100%|██████████| 4/4 [00:00<00:00, 20.20it/s]\n",
            "Inferencing on batch 4: 100%|██████████| 4/4 [00:00<00:00, 21.37it/s]\n",
            "Inferencing on batch 4: 100%|██████████| 4/4 [00:00<00:00, 23.74it/s]\n",
            "Inferencing on batch 4: 100%|██████████| 4/4 [00:00<00:00, 25.14it/s]\n",
            "Inferencing on batch 4: 100%|██████████| 4/4 [00:00<00:00, 25.33it/s]\n",
            "Inferencing on batch 4: 100%|██████████| 4/4 [00:00<00:00, 23.34it/s]\n",
            "Inferencing on batch 4: 100%|██████████| 4/4 [00:00<00:00, 22.13it/s]\n",
            "Inferencing on batch 4: 100%|██████████| 4/4 [00:00<00:00, 20.89it/s]\n",
            "Inferencing on batch 4: 100%|██████████| 4/4 [00:00<00:00, 21.46it/s]\n",
            "Inferencing on batch 4: 100%|██████████| 4/4 [00:00<00:00, 21.72it/s]\n",
            "Inferencing on batch 4: 100%|██████████| 4/4 [00:00<00:00, 25.52it/s]\n",
            "Inferencing on batch 4: 100%|██████████| 4/4 [00:00<00:00, 22.53it/s]\n",
            "Inferencing on batch 4: 100%|██████████| 4/4 [00:00<00:00, 22.69it/s]\n",
            "Inferencing on batch 4: 100%|██████████| 4/4 [00:00<00:00, 18.27it/s]\n",
            "Inferencing on batch 4: 100%|██████████| 4/4 [00:00<00:00, 26.21it/s]\n",
            "Inferencing on batch 4: 100%|██████████| 4/4 [00:00<00:00, 22.93it/s]\n",
            "Inferencing on batch 4: 100%|██████████| 4/4 [00:00<00:00, 21.83it/s]\n",
            "Inferencing on batch 4: 100%|██████████| 4/4 [00:00<00:00, 24.78it/s]\n",
            "Inferencing on batch 4: 100%|██████████| 4/4 [00:00<00:00, 23.44it/s]\n",
            "Inferencing on batch 3: 100%|██████████| 3/3 [00:00<00:00, 45.03it/s]\n",
            "Inferencing on batch 4: 100%|██████████| 4/4 [00:00<00:00, 26.83it/s]\n",
            "Inferencing on batch 4: 100%|██████████| 4/4 [00:00<00:00, 21.98it/s]\n",
            "Inferencing on batch 4: 100%|██████████| 4/4 [00:00<00:00, 27.30it/s]\n",
            "Inferencing on batch 4: 100%|██████████| 4/4 [00:00<00:00, 29.71it/s]\n",
            "Inferencing on batch 4: 100%|██████████| 4/4 [00:00<00:00, 22.99it/s]\n",
            "Inferencing on batch 4: 100%|██████████| 4/4 [00:00<00:00, 19.57it/s]\n",
            "Inferencing on batch 4: 100%|██████████| 4/4 [00:00<00:00, 22.87it/s]\n",
            "Inferencing on batch 4: 100%|██████████| 4/4 [00:00<00:00, 24.67it/s]\n",
            "Inferencing on batch 4: 100%|██████████| 4/4 [00:00<00:00, 19.62it/s]\n",
            "Inferencing on batch 4: 100%|██████████| 4/4 [00:00<00:00, 23.87it/s]\n",
            "Inferencing on batch 4: 100%|██████████| 4/4 [00:00<00:00, 26.17it/s]\n",
            "Inferencing on batch 4: 100%|██████████| 4/4 [00:00<00:00, 33.53it/s]\n",
            "Inferencing on batch 4: 100%|██████████| 4/4 [00:00<00:00, 24.17it/s]\n",
            "Inferencing on batch 4: 100%|██████████| 4/4 [00:00<00:00, 20.41it/s]\n",
            "Inferencing on batch 4: 100%|██████████| 4/4 [00:00<00:00, 22.02it/s]\n",
            "Inferencing on batch 4: 100%|██████████| 4/4 [00:00<00:00, 33.38it/s]\n",
            "Inferencing on batch 4: 100%|██████████| 4/4 [00:00<00:00, 25.93it/s]\n",
            "Inferencing on batch 4: 100%|██████████| 4/4 [00:00<00:00, 21.21it/s]\n",
            "Inferencing on batch 4: 100%|██████████| 4/4 [00:00<00:00, 32.84it/s]\n",
            "Inferencing on batch 4: 100%|██████████| 4/4 [00:00<00:00, 25.66it/s]\n",
            "Inferencing on batch 4: 100%|██████████| 4/4 [00:00<00:00, 25.57it/s]\n",
            "Inferencing on batch 4: 100%|██████████| 4/4 [00:00<00:00, 31.18it/s]\n",
            "Inferencing on batch 4: 100%|██████████| 4/4 [00:00<00:00, 14.97it/s]\n",
            "Inferencing on batch 4: 100%|██████████| 4/4 [00:00<00:00, 22.09it/s]\n",
            "Inferencing on batch 4: 100%|██████████| 4/4 [00:00<00:00, 22.71it/s]\n",
            "Inferencing on batch 4: 100%|██████████| 4/4 [00:00<00:00, 24.66it/s]\n",
            "Inferencing on batch 4: 100%|██████████| 4/4 [00:00<00:00, 23.52it/s]\n",
            "Inferencing on batch 4: 100%|██████████| 4/4 [00:00<00:00, 19.73it/s]\n",
            "Inferencing on batch 4: 100%|██████████| 4/4 [00:00<00:00, 28.59it/s]\n",
            "Inferencing on batch 4: 100%|██████████| 4/4 [00:00<00:00, 23.37it/s]\n",
            "Inferencing on batch 4: 100%|██████████| 4/4 [00:00<00:00, 25.44it/s]\n",
            "Inferencing on batch 4: 100%|██████████| 4/4 [00:00<00:00, 14.12it/s]\n",
            "Inferencing on batch 4: 100%|██████████| 4/4 [00:00<00:00, 15.74it/s]\n",
            "Inferencing on batch 4: 100%|██████████| 4/4 [00:00<00:00, 21.53it/s]\n",
            "Inferencing on batch 4: 100%|██████████| 4/4 [00:00<00:00, 29.77it/s]\n",
            "Inferencing on batch 4: 100%|██████████| 4/4 [00:00<00:00, 34.05it/s]\n",
            "Inferencing on batch 4: 100%|██████████| 4/4 [00:00<00:00, 27.67it/s]\n",
            "Inferencing on batch 4: 100%|██████████| 4/4 [00:00<00:00, 17.26it/s]\n",
            "Inferencing on batch 4: 100%|██████████| 4/4 [00:00<00:00, 29.30it/s]\n",
            "Inferencing on batch 4: 100%|██████████| 4/4 [00:00<00:00, 20.54it/s]\n",
            "Inferencing on batch 4: 100%|██████████| 4/4 [00:00<00:00, 21.60it/s]\n",
            "Inferencing on batch 4: 100%|██████████| 4/4 [00:00<00:00, 26.03it/s]\n",
            "Inferencing on batch 4: 100%|██████████| 4/4 [00:00<00:00, 27.69it/s]\n",
            "Inferencing on batch 4: 100%|██████████| 4/4 [00:00<00:00, 26.43it/s]\n",
            "Inferencing on batch 4: 100%|██████████| 4/4 [00:00<00:00, 32.79it/s]\n",
            "Inferencing on batch 4: 100%|██████████| 4/4 [00:00<00:00, 20.11it/s]\n",
            "Inferencing on batch 4: 100%|██████████| 4/4 [00:00<00:00, 14.93it/s]\n",
            "Inferencing on batch 4: 100%|██████████| 4/4 [00:00<00:00, 32.89it/s]\n",
            "Inferencing on batch 4: 100%|██████████| 4/4 [00:00<00:00, 29.93it/s]\n",
            "Inferencing on batch 4: 100%|██████████| 4/4 [00:00<00:00, 20.18it/s]\n",
            "Inferencing on batch 4: 100%|██████████| 4/4 [00:00<00:00, 23.22it/s]\n",
            "Inferencing on batch 4: 100%|██████████| 4/4 [00:00<00:00, 29.42it/s]\n",
            "Inferencing on batch 4: 100%|██████████| 4/4 [00:00<00:00, 19.01it/s]\n",
            "Inferencing on batch 4: 100%|██████████| 4/4 [00:00<00:00, 20.39it/s]\n",
            "Inferencing on batch 4: 100%|██████████| 4/4 [00:00<00:00, 19.90it/s]\n",
            "Inferencing on batch 4: 100%|██████████| 4/4 [00:00<00:00, 16.20it/s]\n",
            "Inferencing on batch 4: 100%|██████████| 4/4 [00:00<00:00, 18.41it/s]\n",
            "Inferencing on batch 4: 100%|██████████| 4/4 [00:00<00:00, 29.07it/s]\n",
            "Inferencing on batch 4: 100%|██████████| 4/4 [00:00<00:00, 31.88it/s]\n",
            "Inferencing on batch 4: 100%|██████████| 4/4 [00:00<00:00, 22.30it/s]\n",
            "Inferencing on batch 4: 100%|██████████| 4/4 [00:00<00:00, 21.40it/s]\n",
            "Inferencing on batch 4: 100%|██████████| 4/4 [00:00<00:00, 26.42it/s]\n",
            "Inferencing on batch 4: 100%|██████████| 4/4 [00:00<00:00, 24.40it/s]\n",
            "Inferencing on batch 4: 100%|██████████| 4/4 [00:00<00:00, 17.54it/s]\n",
            "Inferencing on batch 4: 100%|██████████| 4/4 [00:00<00:00, 27.49it/s]\n",
            "Inferencing on batch 4: 100%|██████████| 4/4 [00:00<00:00, 27.42it/s]\n",
            "Inferencing on batch 4: 100%|██████████| 4/4 [00:00<00:00, 20.04it/s]\n",
            "Inferencing on batch 4: 100%|██████████| 4/4 [00:00<00:00, 24.72it/s]\n",
            "Inferencing on batch 4: 100%|██████████| 4/4 [00:00<00:00, 28.24it/s]\n",
            "Inferencing on batch 4: 100%|██████████| 4/4 [00:00<00:00, 26.59it/s]\n",
            "Inferencing on batch 4: 100%|██████████| 4/4 [00:00<00:00, 27.20it/s]\n",
            "Inferencing on batch 4: 100%|██████████| 4/4 [00:00<00:00, 19.39it/s]\n",
            "Inferencing on batch 4: 100%|██████████| 4/4 [00:00<00:00, 24.58it/s]\n",
            "Inferencing on batch 4: 100%|██████████| 4/4 [00:00<00:00, 29.13it/s]\n",
            "Inferencing on batch 4: 100%|██████████| 4/4 [00:00<00:00, 19.22it/s]\n",
            "Inferencing on batch 4: 100%|██████████| 4/4 [00:00<00:00, 27.77it/s]\n",
            "Inferencing on batch 4: 100%|██████████| 4/4 [00:00<00:00, 25.04it/s]\n"
          ]
        }
      ]
    },
    {
      "cell_type": "code",
      "metadata": {
        "id": "lNEbIs-tGPaa"
      },
      "source": [
        "### preparing the data frames for the DataFrameMapper and the tfidf vectorizer \n",
        "Gift_Card=modifix(Gift_Card)\n",
        "Personal_Care_Appliances=modifix(Personal_Care_Appliances)\n",
        "Digital_Software=modifix(Digital_Software)\n",
        "Mobile_Electronics=modifix(Mobile_Electronics)\n",
        "Major_Appliances=modifix(Major_Appliances)\n",
        "Luggage=modifix(Luggage)\n",
        "Software=modifix(Software)\n",
        "Video=modifix(Video)\n",
        "Furniture=modifix(Furniture)\n",
        "Digital_Video_Games=modifix(Digital_Video_Games)"
      ],
      "execution_count": 33,
      "outputs": []
    },
    {
      "cell_type": "code",
      "metadata": {
        "id": "M58R1tWRGTn7"
      },
      "source": [
        "### saving all the Y values\n",
        "Y_Gift_Card=Gift_Card['binstar']\n",
        "Y_Personal_Care_Appliances=Personal_Care_Appliances['binstar']\n",
        "Y_Digital_Software=Digital_Software['binstar']\n",
        "Y_Mobile_Electronics=Mobile_Electronics['binstar']\n",
        "Y_Major_Appliances=Major_Appliances['binstar']\n",
        "Y_Luggage=Luggage['binstar']\n",
        "Y_Software=Software['binstar']\n",
        "Y_Video=Video['binstar']\n",
        "Y_Furniture=Furniture['binstar']\n",
        "Y_Digital_Video_Games=Digital_Video_Games['binstar']"
      ],
      "execution_count": 34,
      "outputs": []
    },
    {
      "cell_type": "markdown",
      "metadata": {
        "id": "R14oE5oSGWQn"
      },
      "source": [
        "Creating a function that will get a data frame as input, compute the tfidf vectorizer, then Use the dataframe mapper then output an np.array ready for regression."
      ]
    },
    {
      "cell_type": "code",
      "metadata": {
        "id": "hMC-AuLFGX35"
      },
      "source": [
        "\n",
        "### turning every data frame into an nparray ready for the LogisticRegression.\n",
        "Gift_Card=df_to_nparray(Gift_Card)\n",
        "Personal_Care_Appliances=df_to_nparray(Personal_Care_Appliances)\n",
        "Digital_Software=df_to_nparray(Digital_Software)\n",
        "Mobile_Electronics=df_to_nparray(Mobile_Electronics)\n",
        "Major_Appliances=df_to_nparray(Major_Appliances)\n",
        "Luggage=df_to_nparray(Luggage)\n",
        "Software=df_to_nparray(Software)\n",
        "Video=df_to_nparray(Video)\n",
        "Furniture=df_to_nparray(Furniture)\n",
        "Digital_Video_Games=df_to_nparray(Digital_Video_Games)"
      ],
      "execution_count": 35,
      "outputs": []
    },
    {
      "cell_type": "code",
      "metadata": {
        "id": "AgwfcZy-GaxD"
      },
      "source": [
        "### applying normalization to the  helpful votes column.\n",
        "\n",
        "Gift_Card=normalize_helpful_votes(Gift_Card)\n",
        "Personal_Care_Appliances=normalize_helpful_votes(Personal_Care_Appliances)\n",
        "Digital_Software=normalize_helpful_votes(Digital_Software)\n",
        "Mobile_Electronics=normalize_helpful_votes(Mobile_Electronics)\n",
        "Major_Appliances=normalize_helpful_votes(Major_Appliances)\n",
        "Luggage=normalize_helpful_votes(Luggage)\n",
        "Software=normalize_helpful_votes(Software)\n",
        "Video=normalize_helpful_votes(Video)\n",
        "Furniture=normalize_helpful_votes(Furniture)\n",
        "Digital_Video_Games=normalize_helpful_votes(Digital_Video_Games)"
      ],
      "execution_count": 36,
      "outputs": []
    },
    {
      "cell_type": "markdown",
      "metadata": {
        "id": "H_2zSRilGfbB"
      },
      "source": [
        "Time For the Logistic Regression!\n",
        "learn_LogisticRegression is  a Function that takes the nparray and the y value and trains a logistic regression model, then returns it. This will help me save a few lines of code."
      ]
    },
    {
      "cell_type": "code",
      "metadata": {
        "id": "49n_yIMwGiQj"
      },
      "source": [
        "Gift_Card_Model,Gift_Card_Acc=learn_LogisticRegression(Gift_Card,Y_Gift_Card)\n",
        "Personal_Care_Appliances_Model,Personal_Care_Appliances_Acc=learn_LogisticRegression(Personal_Care_Appliances,Y_Personal_Care_Appliances)\n",
        "Digital_Software_Model,Digital_Software_Acc=learn_LogisticRegression(Digital_Software,Y_Digital_Software)\n",
        "Mobile_Electronics_Model,Mobile_Electronics_Acc=learn_LogisticRegression(Mobile_Electronics,Y_Mobile_Electronics)\n",
        "Major_Appliances_Model,Major_Appliances_Acc=learn_LogisticRegression(Major_Appliances,Y_Major_Appliances)\n",
        "Luggage_Model,Luggage_Acc=learn_LogisticRegression(Luggage,Y_Luggage)\n",
        "Software_Model,Software_Acc=learn_LogisticRegression(Software,Y_Software)\n",
        "Video_Model,Video_Acc=learn_LogisticRegression(Video,Y_Video)\n",
        "Furniture_Model,Furniture_Acc=learn_LogisticRegression(Furniture,Y_Furniture)\n",
        "Digital_Video_Games_Model,Digital_Video_Games_Acc=learn_LogisticRegression(Digital_Video_Games,Y_Digital_Video_Games)"
      ],
      "execution_count": 37,
      "outputs": []
    },
    {
      "cell_type": "code",
      "metadata": {
        "id": "j-EXpKyNGm28"
      },
      "source": [
        "Accuracies_Table = pd.DataFrame(\n",
        "    {'Gift_Card': Gift_Card_Acc,\n",
        "     'Personal_Care_Appliances': Personal_Care_Appliances_Acc,\n",
        "     'Digital_Software': Digital_Software_Acc,\n",
        "     'Mobile_Electronics': Mobile_Electronics_Acc,\n",
        "     'Major_Appliances':Major_Appliances_Acc,\n",
        "     'Luggage':Luggage_Acc,\n",
        "     'Software':Software_Acc,\n",
        "     'Video':Video_Acc,\n",
        "     'Furniture':Furniture_Acc,\n",
        "     'Digital_Video_Games':Digital_Video_Games_Acc,\n",
        "    },\n",
        "    index=['Train_Accuracies', 'Test_Accuracies'])\n"
      ],
      "execution_count": 38,
      "outputs": []
    },
    {
      "cell_type": "markdown",
      "metadata": {
        "id": "oNqtzMi6HCXt"
      },
      "source": [
        "Averaging the fitted models coefficients and intercepts from all categories to create a combined model."
      ]
    },
    {
      "cell_type": "code",
      "metadata": {
        "id": "WVZM2ZWxHCK3"
      },
      "source": [
        "total_coeffs=Gift_Card_Model.coef_+Personal_Care_Appliances_Model.coef_+Digital_Software_Model.coef_+Mobile_Electronics_Model.coef_+Major_Appliances_Model.coef_+Luggage_Model.coef_+Software_Model.coef_+Video_Model.coef_+Furniture_Model.coef_+Digital_Video_Games_Model.coef_\n",
        "total_coeffs=total_coeffs/10\n",
        "total_intercepts=Gift_Card_Model.intercept_+Personal_Care_Appliances_Model.intercept_+Digital_Software_Model.intercept_+Mobile_Electronics_Model.intercept_+Major_Appliances_Model.intercept_+Luggage_Model.intercept_+Software_Model.intercept_+Video_Model.intercept_+Furniture_Model.intercept_+Digital_Video_Games_Model.intercept_\n",
        "total_intercepts_avg=total_intercepts/10\n",
        "combined_model=LogisticRegression()\n",
        "combined_model.coef_=total_coeffs\n",
        "combined_model.intercept_=total_intercepts_avg\n",
        "combined_model.classes_=np.array([0,1])"
      ],
      "execution_count": 39,
      "outputs": []
    },
    {
      "cell_type": "markdown",
      "metadata": {
        "id": "0jbkNjJOHIf_"
      },
      "source": [
        "Testing the combined model on each category."
      ]
    },
    {
      "cell_type": "code",
      "metadata": {
        "id": "7I20-PRQHHJy"
      },
      "source": [
        "x_train,x_test,y_train,y_test=train_test_split(Gift_Card,Y_Gift_Card,test_size=0.2)\n",
        "Gift_Card_scores=[]\n",
        "Gift_Card_scores.append(combined_model.score(x_train,y_train))\n",
        "Gift_Card_scores.append(combined_model.score(x_test,y_test))\n",
        "\n",
        "\n",
        "\n",
        "\n",
        "x_train,x_test,y_train,y_test=train_test_split(Personal_Care_Appliances,Y_Personal_Care_Appliances,test_size=0.2)\n",
        "Personal_Care_Appliances_scores=[]\n",
        "Personal_Care_Appliances_scores.append(combined_model.score(x_train,y_train))\n",
        "Personal_Care_Appliances_scores.append(combined_model.score(x_test,y_test))\n",
        "\n",
        "\n",
        "\n",
        "x_train,x_test,y_train,y_test=train_test_split(Digital_Software,Y_Digital_Software,test_size=0.2)\n",
        "Digital_Software_scores=[]\n",
        "Digital_Software_scores.append(combined_model.score(x_train,y_train))\n",
        "Digital_Software_scores.append(combined_model.score(x_test,y_test))\n",
        "\n",
        "\n",
        "\n",
        "\n",
        "x_train,x_test,y_train,y_test=train_test_split(Mobile_Electronics,Y_Mobile_Electronics,test_size=0.2)\n",
        "Mobile_Electronics_scores=[]\n",
        "Mobile_Electronics_scores.append(combined_model.score(x_train,y_train))\n",
        "Mobile_Electronics_scores.append(combined_model.score(x_test,y_test))\n",
        "\n",
        "\n",
        "\n",
        "x_train,x_test,y_train,y_test=train_test_split(Major_Appliances,Y_Major_Appliances,test_size=0.2)\n",
        "Major_Appliances_scores=[]\n",
        "Major_Appliances_scores.append(combined_model.score(x_train,y_train))\n",
        "Major_Appliances_scores.append(combined_model.score(x_test,y_test))\n",
        "\n",
        "\n",
        "\n",
        "x_train,x_test,y_train,y_test=train_test_split(Luggage,Y_Luggage,test_size=0.2)\n",
        "Luggage_scores=[]\n",
        "Luggage_scores.append(combined_model.score(x_train,y_train))\n",
        "Luggage_scores.append(combined_model.score(x_test,y_test))\n",
        "\n",
        "\n",
        "\n",
        "\n",
        "x_train,x_test,y_train,y_test=train_test_split(Software,Y_Software,test_size=0.2)\n",
        "Software_scores=[]\n",
        "Software_scores.append(combined_model.score(x_train,y_train))\n",
        "Software_scores.append(combined_model.score(x_test,y_test))\n",
        "\n",
        "\n",
        "\n",
        "\n",
        "x_train,x_test,y_train,y_test=train_test_split(Video,Y_Video,test_size=0.2)\n",
        "Video_scores=[]\n",
        "Video_scores.append(combined_model.score(x_train,y_train))\n",
        "Video_scores.append(combined_model.score(x_test,y_test))\n",
        "\n",
        "\n",
        "\n",
        "x_train,x_test,y_train,y_test=train_test_split(Furniture,Y_Furniture,test_size=0.2)\n",
        "Furniture_scores=[]\n",
        "Furniture_scores.append(combined_model.score(x_train,y_train))\n",
        "Furniture_scores.append(combined_model.score(x_test,y_test))\n",
        "\n",
        "\n",
        "\n",
        "\n",
        "\n",
        "x_train,x_test,y_train,y_test=train_test_split(Digital_Video_Games,Y_Digital_Video_Games,test_size=0.2)\n",
        "Digital_Video_Games_scores=[]\n",
        "Digital_Video_Games_scores.append(combined_model.score(x_train,y_train))\n",
        "Digital_Video_Games_scores.append(combined_model.score(x_test,y_test))"
      ],
      "execution_count": 40,
      "outputs": []
    },
    {
      "cell_type": "code",
      "metadata": {
        "id": "w0eg1GAqHLRh"
      },
      "source": [
        "combined_model_Table = pd.DataFrame(\n",
        "    {'Gift_Card': Gift_Card_scores,\n",
        "     'Personal_Care_Appliances': Personal_Care_Appliances_scores,\n",
        "     'Digital_Software': Digital_Software_scores,\n",
        "     'Mobile_Electronics': Mobile_Electronics_scores,\n",
        "     'Major_Appliances':Major_Appliances_scores,\n",
        "     'Luggage':Luggage_scores,\n",
        "     'Software':Software_scores,\n",
        "     'Video':Video_scores,\n",
        "     'Furniture':Furniture_scores,\n",
        "     'Digital_Video_Games':Digital_Video_Games_scores,\n",
        "    },\n",
        "    index=['Train_Accuracies', 'Test_Accuracies'])\n"
      ],
      "execution_count": 41,
      "outputs": []
    },
    {
      "cell_type": "markdown",
      "metadata": {
        "id": "YMdJUNXeGpQe"
      },
      "source": [
        "Accuracies when running a logistic regression model on each category separately:"
      ]
    },
    {
      "cell_type": "code",
      "metadata": {
        "colab": {
          "base_uri": "https://localhost:8080/",
          "height": 132
        },
        "id": "ndrhZ0kqGqMl",
        "outputId": "f2bb55d1-3d50-46dc-f384-8e1fea150a2d"
      },
      "source": [
        "Accuracies_Table"
      ],
      "execution_count": 42,
      "outputs": [
        {
          "output_type": "execute_result",
          "data": {
            "text/html": [
              "<div>\n",
              "<style scoped>\n",
              "    .dataframe tbody tr th:only-of-type {\n",
              "        vertical-align: middle;\n",
              "    }\n",
              "\n",
              "    .dataframe tbody tr th {\n",
              "        vertical-align: top;\n",
              "    }\n",
              "\n",
              "    .dataframe thead th {\n",
              "        text-align: right;\n",
              "    }\n",
              "</style>\n",
              "<table border=\"1\" class=\"dataframe\">\n",
              "  <thead>\n",
              "    <tr style=\"text-align: right;\">\n",
              "      <th></th>\n",
              "      <th>Gift_Card</th>\n",
              "      <th>Personal_Care_Appliances</th>\n",
              "      <th>Digital_Software</th>\n",
              "      <th>Mobile_Electronics</th>\n",
              "      <th>Major_Appliances</th>\n",
              "      <th>Luggage</th>\n",
              "      <th>Software</th>\n",
              "      <th>Video</th>\n",
              "      <th>Furniture</th>\n",
              "      <th>Digital_Video_Games</th>\n",
              "    </tr>\n",
              "  </thead>\n",
              "  <tbody>\n",
              "    <tr>\n",
              "      <th>Train_Accuracies</th>\n",
              "      <td>0.96573</td>\n",
              "      <td>0.920595</td>\n",
              "      <td>0.869333</td>\n",
              "      <td>0.890480</td>\n",
              "      <td>0.912594</td>\n",
              "      <td>0.945058</td>\n",
              "      <td>0.870893</td>\n",
              "      <td>0.943621</td>\n",
              "      <td>0.927148</td>\n",
              "      <td>0.896964</td>\n",
              "    </tr>\n",
              "    <tr>\n",
              "      <th>Test_Accuracies</th>\n",
              "      <td>0.96136</td>\n",
              "      <td>0.914882</td>\n",
              "      <td>0.870756</td>\n",
              "      <td>0.885979</td>\n",
              "      <td>0.910849</td>\n",
              "      <td>0.933226</td>\n",
              "      <td>0.855969</td>\n",
              "      <td>0.942308</td>\n",
              "      <td>0.908191</td>\n",
              "      <td>0.904352</td>\n",
              "    </tr>\n",
              "  </tbody>\n",
              "</table>\n",
              "</div>"
            ],
            "text/plain": [
              "                  Gift_Card  ...  Digital_Video_Games\n",
              "Train_Accuracies    0.96573  ...             0.896964\n",
              "Test_Accuracies     0.96136  ...             0.904352\n",
              "\n",
              "[2 rows x 10 columns]"
            ]
          },
          "metadata": {},
          "execution_count": 42
        }
      ]
    },
    {
      "cell_type": "markdown",
      "metadata": {
        "id": "oLbARGx-HMrz"
      },
      "source": [
        "Accuracies for the Combined Model, for each category."
      ]
    },
    {
      "cell_type": "code",
      "metadata": {
        "colab": {
          "base_uri": "https://localhost:8080/",
          "height": 132
        },
        "id": "z21mAVevHNEt",
        "outputId": "5b87bb5f-f0a0-4a99-f83e-986a53a7b65e"
      },
      "source": [
        "combined_model_Table"
      ],
      "execution_count": 43,
      "outputs": [
        {
          "output_type": "execute_result",
          "data": {
            "text/html": [
              "<div>\n",
              "<style scoped>\n",
              "    .dataframe tbody tr th:only-of-type {\n",
              "        vertical-align: middle;\n",
              "    }\n",
              "\n",
              "    .dataframe tbody tr th {\n",
              "        vertical-align: top;\n",
              "    }\n",
              "\n",
              "    .dataframe thead th {\n",
              "        text-align: right;\n",
              "    }\n",
              "</style>\n",
              "<table border=\"1\" class=\"dataframe\">\n",
              "  <thead>\n",
              "    <tr style=\"text-align: right;\">\n",
              "      <th></th>\n",
              "      <th>Gift_Card</th>\n",
              "      <th>Personal_Care_Appliances</th>\n",
              "      <th>Digital_Software</th>\n",
              "      <th>Mobile_Electronics</th>\n",
              "      <th>Major_Appliances</th>\n",
              "      <th>Luggage</th>\n",
              "      <th>Software</th>\n",
              "      <th>Video</th>\n",
              "      <th>Furniture</th>\n",
              "      <th>Digital_Video_Games</th>\n",
              "    </tr>\n",
              "  </thead>\n",
              "  <tbody>\n",
              "    <tr>\n",
              "      <th>Train_Accuracies</th>\n",
              "      <td>0.955553</td>\n",
              "      <td>0.896893</td>\n",
              "      <td>0.745377</td>\n",
              "      <td>0.835243</td>\n",
              "      <td>0.824382</td>\n",
              "      <td>0.913816</td>\n",
              "      <td>0.799836</td>\n",
              "      <td>0.926787</td>\n",
              "      <td>0.892646</td>\n",
              "      <td>0.828318</td>\n",
              "    </tr>\n",
              "    <tr>\n",
              "      <th>Test_Accuracies</th>\n",
              "      <td>0.954147</td>\n",
              "      <td>0.907388</td>\n",
              "      <td>0.722344</td>\n",
              "      <td>0.826514</td>\n",
              "      <td>0.824382</td>\n",
              "      <td>0.915455</td>\n",
              "      <td>0.803943</td>\n",
              "      <td>0.926282</td>\n",
              "      <td>0.904343</td>\n",
              "      <td>0.836110</td>\n",
              "    </tr>\n",
              "  </tbody>\n",
              "</table>\n",
              "</div>"
            ],
            "text/plain": [
              "                  Gift_Card  ...  Digital_Video_Games\n",
              "Train_Accuracies   0.955553  ...             0.828318\n",
              "Test_Accuracies    0.954147  ...             0.836110\n",
              "\n",
              "[2 rows x 10 columns]"
            ]
          },
          "metadata": {},
          "execution_count": 43
        }
      ]
    },
    {
      "cell_type": "markdown",
      "metadata": {
        "id": "zBGofp0cHXUE"
      },
      "source": [
        "The accuracies are worse for all categories, I think its because the words we get from the tfidfvectorizer are not the same for all sub models. I also think that there's probably a different \"review - culture\" for each type of data set. \n",
        "It is important to note that the accuracies are not that worse than each category fitted to itself. This might be useful if we want just one final model to make predictions for all the different data sets. if we dont mind having 10 different models, then I think it would be better to use each one of the ten for its specific category."
      ]
    },
    {
      "cell_type": "markdown",
      "metadata": {
        "id": "yeHlxQtPdGNi"
      },
      "source": [
        "#**Chapter4: Streaming & fitting using batches:**"
      ]
    },
    {
      "cell_type": "markdown",
      "metadata": {
        "id": "ZByZMHkadQLp"
      },
      "source": [
        "So far I was able to create a prediction model using a small subset of the data,that is because there's a limit on google colab's resources(memory). I can get around this problem by using the stochastic gradient descent classifier to train a model on a subset (batch) per epoch."
      ]
    },
    {
      "cell_type": "markdown",
      "metadata": {
        "id": "cmU5V_PmfPUB"
      },
      "source": [
        "I will now use the same train/test split from chapter 3 to try out the partial fit method of the stochastic gradient descent classifier. I will also compute the AVG of the log loss, with the equations provided below, which were taken from wikipedia. For every partial fit I will calculate the avg. of the log loss for the given epoch, and save it into a list. Finally, I will plot the avg. log loss as a function of the epochs.\n",
        "The equations for the loss are as follows:"
      ]
    },
    {
      "cell_type": "markdown",
      "metadata": {
        "id": "Hu_4nH7FfuRn"
      },
      "source": [
        " \\begin{aligned}J(\\mathbf {w} )\\ =\\ {\\frac {1}{N}}\\sum _{n=1}^{N}H(p_{n},q_{n})\\ =\\ -{\\frac {1}{N}}\\sum _{n=1}^{N}\\ {\\bigg [}y_{n}\\log {\\hat {y}}_{n}+(1-y_{n})\\log(1-{\\hat {y}}_{n}){\\bigg ]}\\,,\\end{aligned}"
      ]
    },
    {
      "cell_type": "markdown",
      "metadata": {
        "id": "NTwDFq5-fwEd"
      },
      "source": [
        "Where y hat of n is defined as:"
      ]
    },
    {
      "cell_type": "markdown",
      "metadata": {
        "id": "d288hGsifyH4"
      },
      "source": [
        "\\begin{aligned} {\\hat {y}}_{n}\\equiv g(\\mathbf {w} \\cdot \\mathbf {x} _{n})=1/(1+e^{-\\mathbf {w} \\cdot \\mathbf {x} _{n}})\\end{aligned}"
      ]
    },
    {
      "cell_type": "code",
      "metadata": {
        "colab": {
          "base_uri": "https://localhost:8080/",
          "height": 320
        },
        "id": "Mfq8wRgddtxT",
        "outputId": "af2bd469-ed0a-4e7c-e488-d957c2fb64c8"
      },
      "source": [
        "## random state for reproducibility:\n",
        "GSDlogred = SGDClassifier(loss='log',random_state=42)\n",
        "epoque=30\n",
        "timelist=[x for x in range(1,epoque+1)]\n",
        "logistic_loss_array=[]\n",
        "for epo in range(0,epoque):\n",
        "  GSDlogred.partial_fit(x_train_q3,y_train_q3,classes=np.array(y),)\n",
        "  f_of_x=np.sum(GSDlogred.coef_)\n",
        "  ### denominator and numerator of y hat.\n",
        "  denominator=1+math.e**(-f_of_x)\n",
        "  numerator=1\n",
        "  ### yhat:\n",
        "  estimate=numerator/denominator\n",
        "  ### the cross entroy loss function\n",
        "  current_loss=(-1/len(x_train_q3)) * np.sum((y_train_q3*math.log(estimate)+(1-y_train_q3)*math.log(1-estimate)))\n",
        "  logistic_loss_array.append(current_loss)\n",
        "#### plotting loss over epochs\n",
        "plt.title(\"Average Log-Loss Over Epochs\",size=17)\n",
        "plt.xlabel(\"Epoch\",size=12)\n",
        "plt.ylabel(\"Loss\",size=12)\n",
        "plt.plot(timelist,logistic_loss_array)\n",
        "plt.legend(['loss'])"
      ],
      "execution_count": 44,
      "outputs": [
        {
          "output_type": "execute_result",
          "data": {
            "text/plain": [
              "<matplotlib.legend.Legend at 0x7fcd5dd01290>"
            ]
          },
          "metadata": {},
          "execution_count": 44
        },
        {
          "output_type": "display_data",
          "data": {
            "image/png": "[encoded data removed]",
            "text/plain": [
              "<Figure size 432x288 with 1 Axes>"
            ]
          },
          "metadata": {
            "needs_background": "light"
          }
        }
      ]
    },
    {
      "cell_type": "markdown",
      "metadata": {
        "id": "Q4pu2ArTrV6i"
      },
      "source": [
        "we can see a convergence."
      ]
    },
    {
      "cell_type": "markdown",
      "metadata": {
        "id": "dI6IIFrJrZv_"
      },
      "source": [
        "Now let's see the train and test error of that classifier."
      ]
    },
    {
      "cell_type": "code",
      "metadata": {
        "colab": {
          "base_uri": "https://localhost:8080/"
        },
        "id": "HMYi8-mQrcYf",
        "outputId": "6af1b608-be0f-428b-9c78-3eab43f7d650"
      },
      "source": [
        "foc_sgd_training=GSDlogred.score(x_train_q3,y_train_q3)\n",
        "foc_sgd_testing=GSDlogred.score(x_test_q3,y_test_q3)\n",
        "\n",
        "print(\"The final output classifier (training) error is: \",1-foc_sgd_training,\"    The final output classifier (testing) error is \", 1-foc_sgd_testing)"
      ],
      "execution_count": 45,
      "outputs": [
        {
          "output_type": "stream",
          "name": "stdout",
          "text": [
            "The final output classifier (training) error is:  0.12177360400382387     The final output classifier (testing) error is  0.12018744142455484\n"
          ]
        }
      ]
    },
    {
      "cell_type": "markdown",
      "metadata": {
        "id": "IohqPT6BrsIL"
      },
      "source": [
        "We can see that the errors are pretty similar to the Logisitc Regression above in chapter 3."
      ]
    },
    {
      "cell_type": "markdown",
      "metadata": {
        "id": "XmDC5X7Qr03-"
      },
      "source": [
        "As you probably already know, Amazon is pretty popular for selling books. I will do the following analysis on the Books_00 category data set.\n",
        "Since it's too big for google colab, I will download batches of it and run partial_fit on said batch, and i will update the model batch by batch. I will calculate the test accuracy for every batch AND the average test accuracy for the batches so far up to the current epoch. Let's see what we get:"
      ]
    },
    {
      "cell_type": "code",
      "metadata": {
        "colab": {
          "base_uri": "https://localhost:8080/"
        },
        "id": "gdzJb23atUmu",
        "outputId": "c7d055e1-e2a1-4385-f88e-9ca34c35ff8d"
      },
      "source": [
        "maxCount = 100\n",
        "batch_size = 100000 #bytes \n",
        "counter=1\n",
        "all_accuracies_list=[]\n",
        "avg_accuracies_list=[]\n",
        "### category=Books_00 aka index 4\n",
        "fileToStream = keys_list[4][0]\n",
        "obj = s3conn.Object('amazon-reviews-pds', fileToStream) \n",
        "\n",
        "\n",
        "### RE-INITIALIZING THE GSDlogred model.\n",
        "## 909656\n",
        "GSDlogred = SGDClassifier(loss='log',random_state=4526543)\n",
        "\n",
        "\n",
        "\n",
        "with gzip.GzipFile(fileobj=obj.get()[\"Body\"]) as gzipfile:\n",
        "    while counter <= maxCount:\n",
        "        batch_temp = [i.decode().replace('\"\"','\"').strip().split('\\t') for i in gzipfile.readlines(batch_size)]  \n",
        "        print(\"===========================================================================\")\n",
        "        if counter==1:\n",
        "          current_batch=pd.DataFrame(batch_temp)\n",
        "          current_batch = current_batch.iloc[1:]\n",
        "          current_batch.reset_index(drop=True, inplace=True)\n",
        "          ### if this is the top of the data frame, the first row is useless as it is the column names and not the actual data iself.\n",
        "          print(\"Batch NUMBER\", counter)\n",
        "          print(\"Current Batch ROWS :\",current_batch.shape[0])\n",
        "        ## changing column names\n",
        "        else:\n",
        "          current_batch=pd.DataFrame(batch_temp)\n",
        "          print(\"Batch NUMBER\", counter)\n",
        "          print(\"Current Batch ROWS :\",current_batch.shape[0])\n",
        "        current_batch.columns=df.columns[:15]\n",
        "\n",
        "        ### Preprocessing, ill keep it short \n",
        "        current_batch=modifix(sentiment_score_value_cols(nlp_proc(current_batch)))\n",
        "        Y_FOR_MODEL=current_batch['binstar']\n",
        "        X_FOR_MODEL=normalize_helpful_votes(df_to_nparray(current_batch))\n",
        "        x_train_GSD,x_test_GSD,y_train_GSD,y_test_GSD=train_test_split(X_FOR_MODEL,Y_FOR_MODEL,test_size=0.2,random_state=42456243)\n",
        "        GSDlogred.partial_fit(x_train_GSD,y_train_GSD,classes=np.array([0,1]))\n",
        "        current_accuracy=GSDlogred.score(x_test_GSD,y_test_GSD)\n",
        "        print(\"The Test Accuracy for batch number\", counter,\"is:\",current_accuracy)\n",
        "        all_accuracies_list.append(current_accuracy)\n",
        "        avg_accuracies_list.append(np.sum(all_accuracies_list)/counter)\n",
        "        print(\"The Average Test accuracy for the batches so far is \",np.sum(all_accuracies_list)/counter)\n",
        "        print(\"===========================================================================\")\n",
        "        counter+=1\n",
        "\n"
      ],
      "execution_count": 46,
      "outputs": [
        {
          "output_type": "stream",
          "name": "stdout",
          "text": [
            "===========================================================================\n",
            "Batch NUMBER 1\n",
            "Current Batch ROWS : 240\n"
          ]
        },
        {
          "output_type": "stream",
          "name": "stderr",
          "text": [
            "Inferencing on batch 4: 100%|██████████| 4/4 [00:00<00:00, 24.05it/s]\n",
            "Inferencing on batch 4: 100%|██████████| 4/4 [00:00<00:00, 22.21it/s]\n"
          ]
        },
        {
          "output_type": "stream",
          "name": "stdout",
          "text": [
            "The Test Accuracy for batch number 1 is: 0.8666666666666667\n",
            "The Average Test accuracy for the batches so far is  0.8666666666666667\n",
            "===========================================================================\n",
            "===========================================================================\n",
            "Batch NUMBER 2\n",
            "Current Batch ROWS : 215\n"
          ]
        },
        {
          "output_type": "stream",
          "name": "stderr",
          "text": [
            "Inferencing on batch 3: 100%|██████████| 3/3 [00:00<00:00, 22.93it/s]\n",
            "Inferencing on batch 4: 100%|██████████| 4/4 [00:00<00:00, 16.02it/s]\n"
          ]
        },
        {
          "output_type": "stream",
          "name": "stdout",
          "text": [
            "The Test Accuracy for batch number 2 is: 0.926829268292683\n",
            "The Average Test accuracy for the batches so far is  0.8967479674796748\n",
            "===========================================================================\n",
            "===========================================================================\n",
            "Batch NUMBER 3\n",
            "Current Batch ROWS : 186\n"
          ]
        },
        {
          "output_type": "stream",
          "name": "stderr",
          "text": [
            "Inferencing on batch 2: 100%|██████████| 2/2 [00:00<00:00, 11.57it/s]\n",
            "Inferencing on batch 4: 100%|██████████| 4/4 [00:00<00:00, 16.91it/s]\n"
          ]
        },
        {
          "output_type": "stream",
          "name": "stdout",
          "text": [
            "The Test Accuracy for batch number 3 is: 0.7941176470588235\n",
            "The Average Test accuracy for the batches so far is  0.8625378606727243\n",
            "===========================================================================\n",
            "===========================================================================\n",
            "Batch NUMBER 4\n",
            "Current Batch ROWS : 167\n"
          ]
        },
        {
          "output_type": "stream",
          "name": "stderr",
          "text": [
            "Inferencing on batch 2: 100%|██████████| 2/2 [00:00<00:00, 20.69it/s]\n",
            "Inferencing on batch 4: 100%|██████████| 4/4 [00:00<00:00, 13.49it/s]\n"
          ]
        },
        {
          "output_type": "stream",
          "name": "stdout",
          "text": [
            "The Test Accuracy for batch number 4 is: 0.8125\n",
            "The Average Test accuracy for the batches so far is  0.8500283955045432\n",
            "===========================================================================\n",
            "===========================================================================\n",
            "Batch NUMBER 5\n",
            "Current Batch ROWS : 183\n"
          ]
        },
        {
          "output_type": "stream",
          "name": "stderr",
          "text": [
            "Inferencing on batch 2: 100%|██████████| 2/2 [00:00<00:00, 19.98it/s]\n",
            "Inferencing on batch 4: 100%|██████████| 4/4 [00:00<00:00, 13.31it/s]\n"
          ]
        },
        {
          "output_type": "stream",
          "name": "stdout",
          "text": [
            "The Test Accuracy for batch number 5 is: 0.9411764705882353\n",
            "The Average Test accuracy for the batches so far is  0.8682580105212816\n",
            "===========================================================================\n",
            "===========================================================================\n",
            "Batch NUMBER 6\n",
            "Current Batch ROWS : 184\n"
          ]
        },
        {
          "output_type": "stream",
          "name": "stderr",
          "text": [
            "Inferencing on batch 2: 100%|██████████| 2/2 [00:00<00:00, 10.64it/s]\n",
            "Inferencing on batch 4: 100%|██████████| 4/4 [00:00<00:00, 15.66it/s]\n"
          ]
        },
        {
          "output_type": "stream",
          "name": "stdout",
          "text": [
            "The Test Accuracy for batch number 6 is: 0.9428571428571428\n",
            "The Average Test accuracy for the batches so far is  0.8806911992439251\n",
            "===========================================================================\n",
            "===========================================================================\n",
            "Batch NUMBER 7\n",
            "Current Batch ROWS : 211\n"
          ]
        },
        {
          "output_type": "stream",
          "name": "stderr",
          "text": [
            "Inferencing on batch 3: 100%|██████████| 3/3 [00:00<00:00, 21.61it/s]\n",
            "Inferencing on batch 4: 100%|██████████| 4/4 [00:00<00:00, 19.01it/s]\n"
          ]
        },
        {
          "output_type": "stream",
          "name": "stdout",
          "text": [
            "The Test Accuracy for batch number 7 is: 0.925\n",
            "The Average Test accuracy for the batches so far is  0.8870210279233645\n",
            "===========================================================================\n",
            "===========================================================================\n",
            "Batch NUMBER 8\n",
            "Current Batch ROWS : 215\n"
          ]
        },
        {
          "output_type": "stream",
          "name": "stderr",
          "text": [
            "Inferencing on batch 3: 100%|██████████| 3/3 [00:00<00:00, 17.36it/s]\n",
            "Inferencing on batch 4: 100%|██████████| 4/4 [00:00<00:00, 19.04it/s]\n"
          ]
        },
        {
          "output_type": "stream",
          "name": "stdout",
          "text": [
            "The Test Accuracy for batch number 8 is: 0.8780487804878049\n",
            "The Average Test accuracy for the batches so far is  0.8858994969939196\n",
            "===========================================================================\n",
            "===========================================================================\n",
            "Batch NUMBER 9\n",
            "Current Batch ROWS : 226\n"
          ]
        },
        {
          "output_type": "stream",
          "name": "stderr",
          "text": [
            "Inferencing on batch 4: 100%|██████████| 4/4 [00:00<00:00, 21.89it/s]\n",
            "Inferencing on batch 4: 100%|██████████| 4/4 [00:00<00:00, 24.82it/s]\n"
          ]
        },
        {
          "output_type": "stream",
          "name": "stdout",
          "text": [
            "The Test Accuracy for batch number 9 is: 0.8604651162790697\n",
            "The Average Test accuracy for the batches so far is  0.8830734546922696\n",
            "===========================================================================\n",
            "===========================================================================\n",
            "Batch NUMBER 10\n",
            "Current Batch ROWS : 183\n"
          ]
        },
        {
          "output_type": "stream",
          "name": "stderr",
          "text": [
            "Inferencing on batch 2: 100%|██████████| 2/2 [00:00<00:00, 11.15it/s]\n",
            "Inferencing on batch 4: 100%|██████████| 4/4 [00:00<00:00, 18.18it/s]\n"
          ]
        },
        {
          "output_type": "stream",
          "name": "stdout",
          "text": [
            "The Test Accuracy for batch number 10 is: 0.9411764705882353\n",
            "The Average Test accuracy for the batches so far is  0.8888837562818661\n",
            "===========================================================================\n",
            "===========================================================================\n",
            "Batch NUMBER 11\n",
            "Current Batch ROWS : 209\n"
          ]
        },
        {
          "output_type": "stream",
          "name": "stderr",
          "text": [
            "Inferencing on batch 3: 100%|██████████| 3/3 [00:00<00:00, 17.58it/s]\n",
            "Inferencing on batch 4: 100%|██████████| 4/4 [00:00<00:00, 18.64it/s]\n"
          ]
        },
        {
          "output_type": "stream",
          "name": "stdout",
          "text": [
            "The Test Accuracy for batch number 11 is: 0.975\n",
            "The Average Test accuracy for the batches so far is  0.8967125057107874\n",
            "===========================================================================\n",
            "===========================================================================\n",
            "Batch NUMBER 12\n",
            "Current Batch ROWS : 220\n"
          ]
        },
        {
          "output_type": "stream",
          "name": "stderr",
          "text": [
            "Inferencing on batch 3: 100%|██████████| 3/3 [00:00<00:00, 18.44it/s]\n",
            "Inferencing on batch 4: 100%|██████████| 4/4 [00:00<00:00, 20.62it/s]\n"
          ]
        },
        {
          "output_type": "stream",
          "name": "stdout",
          "text": [
            "The Test Accuracy for batch number 12 is: 0.8571428571428571\n",
            "The Average Test accuracy for the batches so far is  0.8934150349967932\n",
            "===========================================================================\n",
            "===========================================================================\n",
            "Batch NUMBER 13\n",
            "Current Batch ROWS : 207\n"
          ]
        },
        {
          "output_type": "stream",
          "name": "stderr",
          "text": [
            "Inferencing on batch 3: 100%|██████████| 3/3 [00:00<00:00, 18.78it/s]\n",
            "Inferencing on batch 4: 100%|██████████| 4/4 [00:00<00:00, 17.27it/s]\n"
          ]
        },
        {
          "output_type": "stream",
          "name": "stdout",
          "text": [
            "The Test Accuracy for batch number 13 is: 1.0\n",
            "The Average Test accuracy for the batches so far is  0.9016138784585783\n",
            "===========================================================================\n",
            "===========================================================================\n",
            "Batch NUMBER 14\n",
            "Current Batch ROWS : 195\n"
          ]
        },
        {
          "output_type": "stream",
          "name": "stderr",
          "text": [
            "Inferencing on batch 3: 100%|██████████| 3/3 [00:00<00:00, 22.59it/s]\n",
            "Inferencing on batch 4: 100%|██████████| 4/4 [00:00<00:00, 17.98it/s]\n"
          ]
        },
        {
          "output_type": "stream",
          "name": "stdout",
          "text": [
            "The Test Accuracy for batch number 14 is: 0.868421052631579\n",
            "The Average Test accuracy for the batches so far is  0.8992429623280784\n",
            "===========================================================================\n",
            "===========================================================================\n",
            "Batch NUMBER 15\n",
            "Current Batch ROWS : 232\n"
          ]
        },
        {
          "output_type": "stream",
          "name": "stderr",
          "text": [
            "Inferencing on batch 4: 100%|██████████| 4/4 [00:00<00:00, 19.25it/s]\n",
            "Inferencing on batch 4: 100%|██████████| 4/4 [00:00<00:00, 22.36it/s]\n"
          ]
        },
        {
          "output_type": "stream",
          "name": "stdout",
          "text": [
            "The Test Accuracy for batch number 15 is: 0.9318181818181818\n",
            "The Average Test accuracy for the batches so far is  0.9014146436274186\n",
            "===========================================================================\n",
            "===========================================================================\n",
            "Batch NUMBER 16\n",
            "Current Batch ROWS : 182\n"
          ]
        },
        {
          "output_type": "stream",
          "name": "stderr",
          "text": [
            "Inferencing on batch 2: 100%|██████████| 2/2 [00:00<00:00, 16.53it/s]\n",
            "Inferencing on batch 4: 100%|██████████| 4/4 [00:00<00:00, 15.02it/s]\n"
          ]
        },
        {
          "output_type": "stream",
          "name": "stdout",
          "text": [
            "The Test Accuracy for batch number 16 is: 0.8857142857142857\n",
            "The Average Test accuracy for the batches so far is  0.9004333712578478\n",
            "===========================================================================\n",
            "===========================================================================\n",
            "Batch NUMBER 17\n",
            "Current Batch ROWS : 210\n"
          ]
        },
        {
          "output_type": "stream",
          "name": "stderr",
          "text": [
            "Inferencing on batch 3: 100%|██████████| 3/3 [00:00<00:00, 17.74it/s]\n",
            "Inferencing on batch 4: 100%|██████████| 4/4 [00:00<00:00, 14.51it/s]\n"
          ]
        },
        {
          "output_type": "stream",
          "name": "stdout",
          "text": [
            "The Test Accuracy for batch number 17 is: 0.95\n",
            "The Average Test accuracy for the batches so far is  0.9033490553015038\n",
            "===========================================================================\n",
            "===========================================================================\n",
            "Batch NUMBER 18\n",
            "Current Batch ROWS : 243\n"
          ]
        },
        {
          "output_type": "stream",
          "name": "stderr",
          "text": [
            "Inferencing on batch 4: 100%|██████████| 4/4 [00:00<00:00, 22.77it/s]\n",
            "Inferencing on batch 4: 100%|██████████| 4/4 [00:00<00:00, 25.48it/s]\n"
          ]
        },
        {
          "output_type": "stream",
          "name": "stdout",
          "text": [
            "The Test Accuracy for batch number 18 is: 0.9347826086956522\n",
            "The Average Test accuracy for the batches so far is  0.905095363823401\n",
            "===========================================================================\n",
            "===========================================================================\n",
            "Batch NUMBER 19\n",
            "Current Batch ROWS : 212\n"
          ]
        },
        {
          "output_type": "stream",
          "name": "stderr",
          "text": [
            "Inferencing on batch 3: 100%|██████████| 3/3 [00:00<00:00, 18.70it/s]\n",
            "Inferencing on batch 4: 100%|██████████| 4/4 [00:00<00:00, 18.81it/s]\n"
          ]
        },
        {
          "output_type": "stream",
          "name": "stdout",
          "text": [
            "The Test Accuracy for batch number 19 is: 0.975609756097561\n",
            "The Average Test accuracy for the batches so far is  0.9088066476273041\n",
            "===========================================================================\n",
            "===========================================================================\n",
            "Batch NUMBER 20\n",
            "Current Batch ROWS : 238\n"
          ]
        },
        {
          "output_type": "stream",
          "name": "stderr",
          "text": [
            "Inferencing on batch 4: 100%|██████████| 4/4 [00:00<00:00, 26.97it/s]\n",
            "Inferencing on batch 4: 100%|██████████| 4/4 [00:00<00:00, 22.10it/s]\n"
          ]
        },
        {
          "output_type": "stream",
          "name": "stdout",
          "text": [
            "The Test Accuracy for batch number 20 is: 0.9555555555555556\n",
            "The Average Test accuracy for the batches so far is  0.9111440930237167\n",
            "===========================================================================\n",
            "===========================================================================\n",
            "Batch NUMBER 21\n",
            "Current Batch ROWS : 210\n"
          ]
        },
        {
          "output_type": "stream",
          "name": "stderr",
          "text": [
            "Inferencing on batch 3: 100%|██████████| 3/3 [00:00<00:00, 25.72it/s]\n",
            "Inferencing on batch 4: 100%|██████████| 4/4 [00:00<00:00, 18.03it/s]\n"
          ]
        },
        {
          "output_type": "stream",
          "name": "stdout",
          "text": [
            "The Test Accuracy for batch number 21 is: 0.925\n",
            "The Average Test accuracy for the batches so far is  0.9118038981178255\n",
            "===========================================================================\n",
            "===========================================================================\n",
            "Batch NUMBER 22\n",
            "Current Batch ROWS : 165\n"
          ]
        },
        {
          "output_type": "stream",
          "name": "stderr",
          "text": [
            "Inferencing on batch 2: 100%|██████████| 2/2 [00:00<00:00, 16.82it/s]\n",
            "Inferencing on batch 4: 100%|██████████| 4/4 [00:00<00:00, 14.45it/s]\n"
          ]
        },
        {
          "output_type": "stream",
          "name": "stdout",
          "text": [
            "The Test Accuracy for batch number 22 is: 0.967741935483871\n",
            "The Average Test accuracy for the batches so far is  0.9143465361799185\n",
            "===========================================================================\n",
            "===========================================================================\n",
            "Batch NUMBER 23\n",
            "Current Batch ROWS : 219\n"
          ]
        },
        {
          "output_type": "stream",
          "name": "stderr",
          "text": [
            "Inferencing on batch 3: 100%|██████████| 3/3 [00:00<00:00, 26.61it/s]\n",
            "Inferencing on batch 4: 100%|██████████| 4/4 [00:00<00:00, 15.22it/s]\n"
          ]
        },
        {
          "output_type": "stream",
          "name": "stdout",
          "text": [
            "The Test Accuracy for batch number 23 is: 0.9285714285714286\n",
            "The Average Test accuracy for the batches so far is  0.914965009762158\n",
            "===========================================================================\n",
            "===========================================================================\n",
            "Batch NUMBER 24\n",
            "Current Batch ROWS : 237\n"
          ]
        },
        {
          "output_type": "stream",
          "name": "stderr",
          "text": [
            "Inferencing on batch 4: 100%|██████████| 4/4 [00:00<00:00, 24.85it/s]\n",
            "Inferencing on batch 4: 100%|██████████| 4/4 [00:00<00:00, 20.29it/s]\n"
          ]
        },
        {
          "output_type": "stream",
          "name": "stdout",
          "text": [
            "The Test Accuracy for batch number 24 is: 0.9787234042553191\n",
            "The Average Test accuracy for the batches so far is  0.9176216095327064\n",
            "===========================================================================\n",
            "===========================================================================\n",
            "Batch NUMBER 25\n",
            "Current Batch ROWS : 165\n"
          ]
        },
        {
          "output_type": "stream",
          "name": "stderr",
          "text": [
            "Inferencing on batch 2: 100%|██████████| 2/2 [00:00<00:00, 26.95it/s]\n",
            "Inferencing on batch 4: 100%|██████████| 4/4 [00:00<00:00, 11.46it/s]\n"
          ]
        },
        {
          "output_type": "stream",
          "name": "stdout",
          "text": [
            "The Test Accuracy for batch number 25 is: 0.9354838709677419\n",
            "The Average Test accuracy for the batches so far is  0.9183360999901078\n",
            "===========================================================================\n",
            "===========================================================================\n",
            "Batch NUMBER 26\n",
            "Current Batch ROWS : 200\n"
          ]
        },
        {
          "output_type": "stream",
          "name": "stderr",
          "text": [
            "Inferencing on batch 3: 100%|██████████| 3/3 [00:00<00:00, 23.71it/s]\n",
            "Inferencing on batch 4: 100%|██████████| 4/4 [00:00<00:00, 16.81it/s]\n"
          ]
        },
        {
          "output_type": "stream",
          "name": "stdout",
          "text": [
            "The Test Accuracy for batch number 26 is: 0.9459459459459459\n",
            "The Average Test accuracy for the batches so far is  0.9193980171422554\n",
            "===========================================================================\n",
            "===========================================================================\n",
            "Batch NUMBER 27\n",
            "Current Batch ROWS : 219\n"
          ]
        },
        {
          "output_type": "stream",
          "name": "stderr",
          "text": [
            "Inferencing on batch 3: 100%|██████████| 3/3 [00:00<00:00, 18.69it/s]\n",
            "Inferencing on batch 4: 100%|██████████| 4/4 [00:00<00:00, 17.13it/s]\n"
          ]
        },
        {
          "output_type": "stream",
          "name": "stdout",
          "text": [
            "The Test Accuracy for batch number 27 is: 0.9761904761904762\n",
            "The Average Test accuracy for the batches so far is  0.9215014415514488\n",
            "===========================================================================\n",
            "===========================================================================\n",
            "Batch NUMBER 28\n",
            "Current Batch ROWS : 236\n"
          ]
        },
        {
          "output_type": "stream",
          "name": "stderr",
          "text": [
            "Inferencing on batch 4: 100%|██████████| 4/4 [00:00<00:00, 22.76it/s]\n",
            "Inferencing on batch 4: 100%|██████████| 4/4 [00:00<00:00, 19.61it/s]\n"
          ]
        },
        {
          "output_type": "stream",
          "name": "stdout",
          "text": [
            "The Test Accuracy for batch number 28 is: 0.9318181818181818\n",
            "The Average Test accuracy for the batches so far is  0.921869896560975\n",
            "===========================================================================\n",
            "===========================================================================\n",
            "Batch NUMBER 29\n",
            "Current Batch ROWS : 175\n"
          ]
        },
        {
          "output_type": "stream",
          "name": "stderr",
          "text": [
            "Inferencing on batch 2: 100%|██████████| 2/2 [00:00<00:00, 12.57it/s]\n",
            "Inferencing on batch 4: 100%|██████████| 4/4 [00:00<00:00, 17.36it/s]\n"
          ]
        },
        {
          "output_type": "stream",
          "name": "stdout",
          "text": [
            "The Test Accuracy for batch number 29 is: 0.9411764705882353\n",
            "The Average Test accuracy for the batches so far is  0.9225356404929494\n",
            "===========================================================================\n",
            "===========================================================================\n",
            "Batch NUMBER 30\n",
            "Current Batch ROWS : 212\n"
          ]
        },
        {
          "output_type": "stream",
          "name": "stderr",
          "text": [
            "Inferencing on batch 3: 100%|██████████| 3/3 [00:00<00:00, 25.50it/s]\n",
            "Inferencing on batch 4: 100%|██████████| 4/4 [00:00<00:00, 17.95it/s]\n"
          ]
        },
        {
          "output_type": "stream",
          "name": "stdout",
          "text": [
            "The Test Accuracy for batch number 30 is: 0.925\n",
            "The Average Test accuracy for the batches so far is  0.9226177858098512\n",
            "===========================================================================\n",
            "===========================================================================\n",
            "Batch NUMBER 31\n",
            "Current Batch ROWS : 244\n"
          ]
        },
        {
          "output_type": "stream",
          "name": "stderr",
          "text": [
            "Inferencing on batch 4: 100%|██████████| 4/4 [00:00<00:00, 19.78it/s]\n",
            "Inferencing on batch 4: 100%|██████████| 4/4 [00:00<00:00, 23.71it/s]\n"
          ]
        },
        {
          "output_type": "stream",
          "name": "stdout",
          "text": [
            "The Test Accuracy for batch number 31 is: 0.9318181818181818\n",
            "The Average Test accuracy for the batches so far is  0.9229145727778619\n",
            "===========================================================================\n",
            "===========================================================================\n",
            "Batch NUMBER 32\n",
            "Current Batch ROWS : 173\n"
          ]
        },
        {
          "output_type": "stream",
          "name": "stderr",
          "text": [
            "Inferencing on batch 2: 100%|██████████| 2/2 [00:00<00:00, 13.00it/s]\n",
            "Inferencing on batch 4: 100%|██████████| 4/4 [00:00<00:00, 16.14it/s]\n"
          ]
        },
        {
          "output_type": "stream",
          "name": "stdout",
          "text": [
            "The Test Accuracy for batch number 32 is: 0.7878787878787878\n",
            "The Average Test accuracy for the batches so far is  0.9186947044997658\n",
            "===========================================================================\n",
            "===========================================================================\n",
            "Batch NUMBER 33\n",
            "Current Batch ROWS : 176\n"
          ]
        },
        {
          "output_type": "stream",
          "name": "stderr",
          "text": [
            "Inferencing on batch 2: 100%|██████████| 2/2 [00:00<00:00, 24.22it/s]\n",
            "Inferencing on batch 4: 100%|██████████| 4/4 [00:00<00:00, 13.91it/s]\n"
          ]
        },
        {
          "output_type": "stream",
          "name": "stdout",
          "text": [
            "The Test Accuracy for batch number 33 is: 0.8484848484848485\n",
            "The Average Test accuracy for the batches so far is  0.9165671331053743\n",
            "===========================================================================\n",
            "===========================================================================\n",
            "Batch NUMBER 34\n",
            "Current Batch ROWS : 201\n"
          ]
        },
        {
          "output_type": "stream",
          "name": "stderr",
          "text": [
            "Inferencing on batch 3: 100%|██████████| 3/3 [00:00<00:00, 22.52it/s]\n",
            "Inferencing on batch 4: 100%|██████████| 4/4 [00:00<00:00, 10.87it/s]\n"
          ]
        },
        {
          "output_type": "stream",
          "name": "stdout",
          "text": [
            "The Test Accuracy for batch number 34 is: 0.9473684210526315\n",
            "The Average Test accuracy for the batches so far is  0.9174730533391171\n",
            "===========================================================================\n",
            "===========================================================================\n",
            "Batch NUMBER 35\n",
            "Current Batch ROWS : 236\n"
          ]
        },
        {
          "output_type": "stream",
          "name": "stderr",
          "text": [
            "Inferencing on batch 4: 100%|██████████| 4/4 [00:00<00:00, 19.32it/s]\n",
            "Inferencing on batch 4: 100%|██████████| 4/4 [00:00<00:00, 18.10it/s]\n"
          ]
        },
        {
          "output_type": "stream",
          "name": "stdout",
          "text": [
            "The Test Accuracy for batch number 35 is: 0.9090909090909091\n",
            "The Average Test accuracy for the batches so far is  0.9172335635034541\n",
            "===========================================================================\n",
            "===========================================================================\n",
            "Batch NUMBER 36\n",
            "Current Batch ROWS : 161\n"
          ]
        },
        {
          "output_type": "stream",
          "name": "stderr",
          "text": [
            "Inferencing on batch 1: 100%|██████████| 1/1 [00:00<00:00, 13.39it/s]\n",
            "Inferencing on batch 4: 100%|██████████| 4/4 [00:00<00:00, 13.99it/s]\n"
          ]
        },
        {
          "output_type": "stream",
          "name": "stdout",
          "text": [
            "The Test Accuracy for batch number 36 is: 0.6\n",
            "The Average Test accuracy for the batches so far is  0.9084215200728026\n",
            "===========================================================================\n",
            "===========================================================================\n",
            "Batch NUMBER 37\n",
            "Current Batch ROWS : 218\n"
          ]
        },
        {
          "output_type": "stream",
          "name": "stderr",
          "text": [
            "Inferencing on batch 3: 100%|██████████| 3/3 [00:00<00:00, 17.80it/s]\n",
            "Inferencing on batch 4: 100%|██████████| 4/4 [00:00<00:00, 22.58it/s]\n"
          ]
        },
        {
          "output_type": "stream",
          "name": "stdout",
          "text": [
            "The Test Accuracy for batch number 37 is: 1.0\n",
            "The Average Test accuracy for the batches so far is  0.910896614124889\n",
            "===========================================================================\n",
            "===========================================================================\n",
            "Batch NUMBER 38\n",
            "Current Batch ROWS : 205\n"
          ]
        },
        {
          "output_type": "stream",
          "name": "stderr",
          "text": [
            "Inferencing on batch 3: 100%|██████████| 3/3 [00:00<00:00, 21.67it/s]\n",
            "Inferencing on batch 4: 100%|██████████| 4/4 [00:00<00:00, 16.23it/s]\n"
          ]
        },
        {
          "output_type": "stream",
          "name": "stdout",
          "text": [
            "The Test Accuracy for batch number 38 is: 0.9473684210526315\n",
            "The Average Test accuracy for the batches so far is  0.9118563985177243\n",
            "===========================================================================\n",
            "===========================================================================\n",
            "Batch NUMBER 39\n",
            "Current Batch ROWS : 267\n"
          ]
        },
        {
          "output_type": "stream",
          "name": "stderr",
          "text": [
            "Inferencing on batch 1: 100%|██████████| 1/1 [00:00<00:00, 29.59it/s]\n",
            "Inferencing on batch 4: 100%|██████████| 4/4 [00:00<00:00, 26.63it/s]\n",
            "Inferencing on batch 4: 100%|██████████| 4/4 [00:00<00:00, 20.69it/s]\n"
          ]
        },
        {
          "output_type": "stream",
          "name": "stdout",
          "text": [
            "The Test Accuracy for batch number 39 is: 0.94\n",
            "The Average Test accuracy for the batches so far is  0.9125780293249621\n",
            "===========================================================================\n",
            "===========================================================================\n",
            "Batch NUMBER 40\n",
            "Current Batch ROWS : 182\n"
          ]
        },
        {
          "output_type": "stream",
          "name": "stderr",
          "text": [
            "Inferencing on batch 2: 100%|██████████| 2/2 [00:00<00:00, 10.63it/s]\n",
            "Inferencing on batch 4: 100%|██████████| 4/4 [00:00<00:00, 18.93it/s]\n"
          ]
        },
        {
          "output_type": "stream",
          "name": "stdout",
          "text": [
            "The Test Accuracy for batch number 40 is: 0.9142857142857143\n",
            "The Average Test accuracy for the batches so far is  0.912620721448981\n",
            "===========================================================================\n",
            "===========================================================================\n",
            "Batch NUMBER 41\n",
            "Current Batch ROWS : 152\n"
          ]
        },
        {
          "output_type": "stream",
          "name": "stderr",
          "text": [
            "Inferencing on batch 1: 100%|██████████| 1/1 [00:00<00:00, 18.79it/s]\n",
            "Inferencing on batch 4: 100%|██████████| 4/4 [00:00<00:00,  9.04it/s]\n"
          ]
        },
        {
          "output_type": "stream",
          "name": "stdout",
          "text": [
            "The Test Accuracy for batch number 41 is: 0.9655172413793104\n",
            "The Average Test accuracy for the batches so far is  0.9139108804716719\n",
            "===========================================================================\n",
            "===========================================================================\n",
            "Batch NUMBER 42\n",
            "Current Batch ROWS : 231\n"
          ]
        },
        {
          "output_type": "stream",
          "name": "stderr",
          "text": [
            "Inferencing on batch 4: 100%|██████████| 4/4 [00:00<00:00, 28.30it/s]\n",
            "Inferencing on batch 4: 100%|██████████| 4/4 [00:00<00:00, 19.30it/s]\n"
          ]
        },
        {
          "output_type": "stream",
          "name": "stdout",
          "text": [
            "The Test Accuracy for batch number 42 is: 0.7674418604651163\n",
            "The Average Test accuracy for the batches so far is  0.9104235228524683\n",
            "===========================================================================\n",
            "===========================================================================\n",
            "Batch NUMBER 43\n",
            "Current Batch ROWS : 194\n"
          ]
        },
        {
          "output_type": "stream",
          "name": "stderr",
          "text": [
            "Inferencing on batch 3: 100%|██████████| 3/3 [00:00<00:00, 15.63it/s]\n",
            "Inferencing on batch 4: 100%|██████████| 4/4 [00:00<00:00, 23.34it/s]\n"
          ]
        },
        {
          "output_type": "stream",
          "name": "stdout",
          "text": [
            "The Test Accuracy for batch number 43 is: 0.9166666666666666\n",
            "The Average Test accuracy for the batches so far is  0.9105687122434961\n",
            "===========================================================================\n",
            "===========================================================================\n",
            "Batch NUMBER 44\n",
            "Current Batch ROWS : 225\n"
          ]
        },
        {
          "output_type": "stream",
          "name": "stderr",
          "text": [
            "Inferencing on batch 4: 100%|██████████| 4/4 [00:00<00:00, 29.42it/s]\n",
            "Inferencing on batch 4: 100%|██████████| 4/4 [00:00<00:00, 17.82it/s]\n"
          ]
        },
        {
          "output_type": "stream",
          "name": "stdout",
          "text": [
            "The Test Accuracy for batch number 44 is: 0.9761904761904762\n",
            "The Average Test accuracy for the batches so far is  0.9120601159695638\n",
            "===========================================================================\n",
            "===========================================================================\n",
            "Batch NUMBER 45\n",
            "Current Batch ROWS : 235\n"
          ]
        },
        {
          "output_type": "stream",
          "name": "stderr",
          "text": [
            "Inferencing on batch 4: 100%|██████████| 4/4 [00:00<00:00, 29.16it/s]\n",
            "Inferencing on batch 4: 100%|██████████| 4/4 [00:00<00:00, 17.96it/s]\n"
          ]
        },
        {
          "output_type": "stream",
          "name": "stdout",
          "text": [
            "The Test Accuracy for batch number 45 is: 0.8863636363636364\n",
            "The Average Test accuracy for the batches so far is  0.911489083089432\n",
            "===========================================================================\n",
            "===========================================================================\n",
            "Batch NUMBER 46\n",
            "Current Batch ROWS : 236\n"
          ]
        },
        {
          "output_type": "stream",
          "name": "stderr",
          "text": [
            "Inferencing on batch 4: 100%|██████████| 4/4 [00:00<00:00, 32.90it/s]\n",
            "Inferencing on batch 4: 100%|██████████| 4/4 [00:00<00:00, 19.57it/s]\n"
          ]
        },
        {
          "output_type": "stream",
          "name": "stdout",
          "text": [
            "The Test Accuracy for batch number 46 is: 0.9545454545454546\n",
            "The Average Test accuracy for the batches so far is  0.9124250911645629\n",
            "===========================================================================\n",
            "===========================================================================\n",
            "Batch NUMBER 47\n",
            "Current Batch ROWS : 210\n"
          ]
        },
        {
          "output_type": "stream",
          "name": "stderr",
          "text": [
            "Inferencing on batch 3: 100%|██████████| 3/3 [00:00<00:00, 19.47it/s]\n",
            "Inferencing on batch 4: 100%|██████████| 4/4 [00:00<00:00, 18.29it/s]\n"
          ]
        },
        {
          "output_type": "stream",
          "name": "stdout",
          "text": [
            "The Test Accuracy for batch number 47 is: 0.975\n",
            "The Average Test accuracy for the batches so far is  0.9137564722036148\n",
            "===========================================================================\n",
            "===========================================================================\n",
            "Batch NUMBER 48\n",
            "Current Batch ROWS : 215\n"
          ]
        },
        {
          "output_type": "stream",
          "name": "stderr",
          "text": [
            "Inferencing on batch 3: 100%|██████████| 3/3 [00:00<00:00, 19.50it/s]\n",
            "Inferencing on batch 4: 100%|██████████| 4/4 [00:00<00:00, 16.93it/s]\n"
          ]
        },
        {
          "output_type": "stream",
          "name": "stdout",
          "text": [
            "The Test Accuracy for batch number 48 is: 1.0\n",
            "The Average Test accuracy for the batches so far is  0.9155532123660395\n",
            "===========================================================================\n",
            "===========================================================================\n",
            "Batch NUMBER 49\n",
            "Current Batch ROWS : 214\n"
          ]
        },
        {
          "output_type": "stream",
          "name": "stderr",
          "text": [
            "Inferencing on batch 3: 100%|██████████| 3/3 [00:00<00:00, 18.34it/s]\n",
            "Inferencing on batch 4: 100%|██████████| 4/4 [00:00<00:00, 20.61it/s]\n"
          ]
        },
        {
          "output_type": "stream",
          "name": "stdout",
          "text": [
            "The Test Accuracy for batch number 49 is: 1.0\n",
            "The Average Test accuracy for the batches so far is  0.917276616195304\n",
            "===========================================================================\n",
            "===========================================================================\n",
            "Batch NUMBER 50\n",
            "Current Batch ROWS : 180\n"
          ]
        },
        {
          "output_type": "stream",
          "name": "stderr",
          "text": [
            "Inferencing on batch 2: 100%|██████████| 2/2 [00:00<00:00, 11.09it/s]\n",
            "Inferencing on batch 4: 100%|██████████| 4/4 [00:00<00:00, 18.68it/s]\n"
          ]
        },
        {
          "output_type": "stream",
          "name": "stdout",
          "text": [
            "The Test Accuracy for batch number 50 is: 0.9722222222222222\n",
            "The Average Test accuracy for the batches so far is  0.9183755283158423\n",
            "===========================================================================\n",
            "===========================================================================\n",
            "Batch NUMBER 51\n",
            "Current Batch ROWS : 262\n"
          ]
        },
        {
          "output_type": "stream",
          "name": "stderr",
          "text": [
            "Inferencing on batch 1: 100%|██████████| 1/1 [00:00<00:00, 50.42it/s]\n",
            "Inferencing on batch 4: 100%|██████████| 4/4 [00:00<00:00, 21.04it/s]\n",
            "Inferencing on batch 4: 100%|██████████| 4/4 [00:00<00:00, 19.30it/s]\n"
          ]
        },
        {
          "output_type": "stream",
          "name": "stdout",
          "text": [
            "The Test Accuracy for batch number 51 is: 0.96\n",
            "The Average Test accuracy for the batches so far is  0.9191916944272964\n",
            "===========================================================================\n",
            "===========================================================================\n",
            "Batch NUMBER 52\n",
            "Current Batch ROWS : 194\n"
          ]
        },
        {
          "output_type": "stream",
          "name": "stderr",
          "text": [
            "Inferencing on batch 3: 100%|██████████| 3/3 [00:00<00:00, 31.45it/s]\n",
            "Inferencing on batch 4: 100%|██████████| 4/4 [00:00<00:00, 14.35it/s]\n"
          ]
        },
        {
          "output_type": "stream",
          "name": "stdout",
          "text": [
            "The Test Accuracy for batch number 52 is: 0.972972972972973\n",
            "The Average Test accuracy for the batches so far is  0.9202259497839441\n",
            "===========================================================================\n",
            "===========================================================================\n",
            "Batch NUMBER 53\n",
            "Current Batch ROWS : 226\n"
          ]
        },
        {
          "output_type": "stream",
          "name": "stderr",
          "text": [
            "Inferencing on batch 4: 100%|██████████| 4/4 [00:00<00:00, 22.96it/s]\n",
            "Inferencing on batch 4: 100%|██████████| 4/4 [00:00<00:00, 18.48it/s]\n"
          ]
        },
        {
          "output_type": "stream",
          "name": "stdout",
          "text": [
            "The Test Accuracy for batch number 53 is: 0.9555555555555556\n",
            "The Average Test accuracy for the batches so far is  0.9208925461192575\n",
            "===========================================================================\n",
            "===========================================================================\n",
            "Batch NUMBER 54\n",
            "Current Batch ROWS : 185\n"
          ]
        },
        {
          "output_type": "stream",
          "name": "stderr",
          "text": [
            "Inferencing on batch 2: 100%|██████████| 2/2 [00:00<00:00, 11.49it/s]\n",
            "Inferencing on batch 4: 100%|██████████| 4/4 [00:00<00:00, 18.24it/s]\n"
          ]
        },
        {
          "output_type": "stream",
          "name": "stdout",
          "text": [
            "The Test Accuracy for batch number 54 is: 1.0\n",
            "The Average Test accuracy for the batches so far is  0.9223574989689008\n",
            "===========================================================================\n",
            "===========================================================================\n",
            "Batch NUMBER 55\n",
            "Current Batch ROWS : 185\n"
          ]
        },
        {
          "output_type": "stream",
          "name": "stderr",
          "text": [
            "Inferencing on batch 2: 100%|██████████| 2/2 [00:00<00:00, 22.21it/s]\n",
            "Inferencing on batch 4: 100%|██████████| 4/4 [00:00<00:00, 14.78it/s]\n"
          ]
        },
        {
          "output_type": "stream",
          "name": "stdout",
          "text": [
            "The Test Accuracy for batch number 55 is: 0.9714285714285714\n",
            "The Average Test accuracy for the batches so far is  0.9232497002863493\n",
            "===========================================================================\n",
            "===========================================================================\n",
            "Batch NUMBER 56\n",
            "Current Batch ROWS : 143\n"
          ]
        },
        {
          "output_type": "stream",
          "name": "stderr",
          "text": [
            "Inferencing on batch 1: 100%|██████████| 1/1 [00:00<00:00, 17.41it/s]\n",
            "Inferencing on batch 4: 100%|██████████| 4/4 [00:00<00:00, 12.27it/s]\n"
          ]
        },
        {
          "output_type": "stream",
          "name": "stdout",
          "text": [
            "The Test Accuracy for batch number 56 is: 0.8888888888888888\n",
            "The Average Test accuracy for the batches so far is  0.9226361143685377\n",
            "===========================================================================\n",
            "===========================================================================\n",
            "Batch NUMBER 57\n",
            "Current Batch ROWS : 188\n"
          ]
        },
        {
          "output_type": "stream",
          "name": "stderr",
          "text": [
            "Inferencing on batch 2: 100%|██████████| 2/2 [00:00<00:00, 12.78it/s]\n",
            "Inferencing on batch 4: 100%|██████████| 4/4 [00:00<00:00, 17.31it/s]\n"
          ]
        },
        {
          "output_type": "stream",
          "name": "stdout",
          "text": [
            "The Test Accuracy for batch number 57 is: 1.0\n",
            "The Average Test accuracy for the batches so far is  0.9239933755199669\n",
            "===========================================================================\n",
            "===========================================================================\n",
            "Batch NUMBER 58\n",
            "Current Batch ROWS : 220\n"
          ]
        },
        {
          "output_type": "stream",
          "name": "stderr",
          "text": [
            "Inferencing on batch 3: 100%|██████████| 3/3 [00:00<00:00, 22.40it/s]\n",
            "Inferencing on batch 4: 100%|██████████| 4/4 [00:00<00:00, 17.54it/s]\n"
          ]
        },
        {
          "output_type": "stream",
          "name": "stdout",
          "text": [
            "The Test Accuracy for batch number 58 is: 0.926829268292683\n",
            "The Average Test accuracy for the batches so far is  0.9240422702229447\n",
            "===========================================================================\n",
            "===========================================================================\n",
            "Batch NUMBER 59\n",
            "Current Batch ROWS : 195\n"
          ]
        },
        {
          "output_type": "stream",
          "name": "stderr",
          "text": [
            "Inferencing on batch 3: 100%|██████████| 3/3 [00:00<00:00, 20.93it/s]\n",
            "Inferencing on batch 4: 100%|██████████| 4/4 [00:00<00:00, 16.75it/s]\n"
          ]
        },
        {
          "output_type": "stream",
          "name": "stdout",
          "text": [
            "The Test Accuracy for batch number 59 is: 0.918918918918919\n",
            "The Average Test accuracy for the batches so far is  0.9239554337601646\n",
            "===========================================================================\n",
            "===========================================================================\n",
            "Batch NUMBER 60\n",
            "Current Batch ROWS : 180\n"
          ]
        },
        {
          "output_type": "stream",
          "name": "stderr",
          "text": [
            "Inferencing on batch 2: 100%|██████████| 2/2 [00:00<00:00, 20.04it/s]\n",
            "Inferencing on batch 4: 100%|██████████| 4/4 [00:00<00:00, 16.05it/s]\n"
          ]
        },
        {
          "output_type": "stream",
          "name": "stdout",
          "text": [
            "The Test Accuracy for batch number 60 is: 0.9117647058823529\n",
            "The Average Test accuracy for the batches so far is  0.9237522549622011\n",
            "===========================================================================\n",
            "===========================================================================\n",
            "Batch NUMBER 61\n",
            "Current Batch ROWS : 181\n"
          ]
        },
        {
          "output_type": "stream",
          "name": "stderr",
          "text": [
            "Inferencing on batch 2: 100%|██████████| 2/2 [00:00<00:00, 20.82it/s]\n",
            "Inferencing on batch 4: 100%|██████████| 4/4 [00:00<00:00, 14.30it/s]\n"
          ]
        },
        {
          "output_type": "stream",
          "name": "stdout",
          "text": [
            "The Test Accuracy for batch number 61 is: 0.8823529411764706\n",
            "The Average Test accuracy for the batches so far is  0.9230735776870252\n",
            "===========================================================================\n",
            "===========================================================================\n",
            "Batch NUMBER 62\n",
            "Current Batch ROWS : 218\n"
          ]
        },
        {
          "output_type": "stream",
          "name": "stderr",
          "text": [
            "Inferencing on batch 3: 100%|██████████| 3/3 [00:00<00:00, 16.61it/s]\n",
            "Inferencing on batch 4: 100%|██████████| 4/4 [00:00<00:00, 17.72it/s]\n"
          ]
        },
        {
          "output_type": "stream",
          "name": "stdout",
          "text": [
            "The Test Accuracy for batch number 62 is: 0.9069767441860465\n",
            "The Average Test accuracy for the batches so far is  0.9228139513402353\n",
            "===========================================================================\n",
            "===========================================================================\n",
            "Batch NUMBER 63\n",
            "Current Batch ROWS : 189\n"
          ]
        },
        {
          "output_type": "stream",
          "name": "stderr",
          "text": [
            "Inferencing on batch 2: 100%|██████████| 2/2 [00:00<00:00, 21.94it/s]\n",
            "Inferencing on batch 4: 100%|██████████| 4/4 [00:00<00:00, 12.96it/s]\n"
          ]
        },
        {
          "output_type": "stream",
          "name": "stdout",
          "text": [
            "The Test Accuracy for batch number 63 is: 0.9166666666666666\n",
            "The Average Test accuracy for the batches so far is  0.9227163753930357\n",
            "===========================================================================\n",
            "===========================================================================\n",
            "Batch NUMBER 64\n",
            "Current Batch ROWS : 270\n"
          ]
        },
        {
          "output_type": "stream",
          "name": "stderr",
          "text": [
            "Inferencing on batch 1: 100%|██████████| 1/1 [00:00<00:00, 35.97it/s]\n",
            "Inferencing on batch 4: 100%|██████████| 4/4 [00:00<00:00, 21.31it/s]\n",
            "Inferencing on batch 4: 100%|██████████| 4/4 [00:00<00:00, 22.83it/s]\n"
          ]
        },
        {
          "output_type": "stream",
          "name": "stdout",
          "text": [
            "The Test Accuracy for batch number 64 is: 0.9607843137254902\n",
            "The Average Test accuracy for the batches so far is  0.9233111869294803\n",
            "===========================================================================\n",
            "===========================================================================\n",
            "Batch NUMBER 65\n",
            "Current Batch ROWS : 249\n"
          ]
        },
        {
          "output_type": "stream",
          "name": "stderr",
          "text": [
            "Inferencing on batch 4: 100%|██████████| 4/4 [00:00<00:00, 22.05it/s]\n",
            "Inferencing on batch 4: 100%|██████████| 4/4 [00:00<00:00, 18.61it/s]\n"
          ]
        },
        {
          "output_type": "stream",
          "name": "stdout",
          "text": [
            "The Test Accuracy for batch number 65 is: 0.8958333333333334\n",
            "The Average Test accuracy for the batches so far is  0.9228884507203089\n",
            "===========================================================================\n",
            "===========================================================================\n",
            "Batch NUMBER 66\n",
            "Current Batch ROWS : 234\n"
          ]
        },
        {
          "output_type": "stream",
          "name": "stderr",
          "text": [
            "Inferencing on batch 4: 100%|██████████| 4/4 [00:00<00:00, 25.62it/s]\n",
            "Inferencing on batch 4: 100%|██████████| 4/4 [00:00<00:00, 19.98it/s]\n"
          ]
        },
        {
          "output_type": "stream",
          "name": "stdout",
          "text": [
            "The Test Accuracy for batch number 66 is: 0.9090909090909091\n",
            "The Average Test accuracy for the batches so far is  0.9226793970592573\n",
            "===========================================================================\n",
            "===========================================================================\n",
            "Batch NUMBER 67\n",
            "Current Batch ROWS : 208\n"
          ]
        },
        {
          "output_type": "stream",
          "name": "stderr",
          "text": [
            "Inferencing on batch 3: 100%|██████████| 3/3 [00:00<00:00, 15.80it/s]\n",
            "Inferencing on batch 4: 100%|██████████| 4/4 [00:00<00:00, 19.07it/s]\n"
          ]
        },
        {
          "output_type": "stream",
          "name": "stdout",
          "text": [
            "The Test Accuracy for batch number 67 is: 0.8974358974358975\n",
            "The Average Test accuracy for the batches so far is  0.9223026284081625\n",
            "===========================================================================\n",
            "===========================================================================\n",
            "Batch NUMBER 68\n",
            "Current Batch ROWS : 250\n"
          ]
        },
        {
          "output_type": "stream",
          "name": "stderr",
          "text": [
            "Inferencing on batch 4: 100%|██████████| 4/4 [00:00<00:00, 26.87it/s]\n",
            "Inferencing on batch 4: 100%|██████████| 4/4 [00:00<00:00, 19.01it/s]\n"
          ]
        },
        {
          "output_type": "stream",
          "name": "stdout",
          "text": [
            "The Test Accuracy for batch number 68 is: 1.0\n",
            "The Average Test accuracy for the batches so far is  0.9234452368139248\n",
            "===========================================================================\n",
            "===========================================================================\n",
            "Batch NUMBER 69\n",
            "Current Batch ROWS : 210\n"
          ]
        },
        {
          "output_type": "stream",
          "name": "stderr",
          "text": [
            "Inferencing on batch 3: 100%|██████████| 3/3 [00:00<00:00, 23.53it/s]\n",
            "Inferencing on batch 4: 100%|██████████| 4/4 [00:00<00:00, 17.52it/s]\n"
          ]
        },
        {
          "output_type": "stream",
          "name": "stdout",
          "text": [
            "The Test Accuracy for batch number 69 is: 0.9230769230769231\n",
            "The Average Test accuracy for the batches so far is  0.9234398989336783\n",
            "===========================================================================\n",
            "===========================================================================\n",
            "Batch NUMBER 70\n",
            "Current Batch ROWS : 179\n"
          ]
        },
        {
          "output_type": "stream",
          "name": "stderr",
          "text": [
            "Inferencing on batch 2: 100%|██████████| 2/2 [00:00<00:00, 14.96it/s]\n",
            "Inferencing on batch 4: 100%|██████████| 4/4 [00:00<00:00, 13.48it/s]\n"
          ]
        },
        {
          "output_type": "stream",
          "name": "stdout",
          "text": [
            "The Test Accuracy for batch number 70 is: 0.8529411764705882\n",
            "The Average Test accuracy for the batches so far is  0.9224327743270627\n",
            "===========================================================================\n",
            "===========================================================================\n",
            "Batch NUMBER 71\n",
            "Current Batch ROWS : 214\n"
          ]
        },
        {
          "output_type": "stream",
          "name": "stderr",
          "text": [
            "Inferencing on batch 3: 100%|██████████| 3/3 [00:00<00:00, 21.15it/s]\n",
            "Inferencing on batch 4: 100%|██████████| 4/4 [00:00<00:00, 17.35it/s]\n"
          ]
        },
        {
          "output_type": "stream",
          "name": "stdout",
          "text": [
            "The Test Accuracy for batch number 71 is: 0.925\n",
            "The Average Test accuracy for the batches so far is  0.9224689324351322\n",
            "===========================================================================\n",
            "===========================================================================\n",
            "Batch NUMBER 72\n",
            "Current Batch ROWS : 242\n"
          ]
        },
        {
          "output_type": "stream",
          "name": "stderr",
          "text": [
            "Inferencing on batch 4: 100%|██████████| 4/4 [00:00<00:00, 22.94it/s]\n",
            "Inferencing on batch 4: 100%|██████████| 4/4 [00:00<00:00, 22.34it/s]\n"
          ]
        },
        {
          "output_type": "stream",
          "name": "stdout",
          "text": [
            "The Test Accuracy for batch number 72 is: 0.8888888888888888\n",
            "The Average Test accuracy for the batches so far is  0.9220025429414345\n",
            "===========================================================================\n",
            "===========================================================================\n",
            "Batch NUMBER 73\n",
            "Current Batch ROWS : 210\n"
          ]
        },
        {
          "output_type": "stream",
          "name": "stderr",
          "text": [
            "Inferencing on batch 3: 100%|██████████| 3/3 [00:00<00:00, 23.37it/s]\n",
            "Inferencing on batch 4: 100%|██████████| 4/4 [00:00<00:00, 14.98it/s]\n"
          ]
        },
        {
          "output_type": "stream",
          "name": "stdout",
          "text": [
            "The Test Accuracy for batch number 73 is: 0.975\n",
            "The Average Test accuracy for the batches so far is  0.9227285355038806\n",
            "===========================================================================\n",
            "===========================================================================\n",
            "Batch NUMBER 74\n",
            "Current Batch ROWS : 193\n"
          ]
        },
        {
          "output_type": "stream",
          "name": "stderr",
          "text": [
            "Inferencing on batch 3: 100%|██████████| 3/3 [00:00<00:00, 16.11it/s]\n",
            "Inferencing on batch 4: 100%|██████████| 4/4 [00:00<00:00, 18.38it/s]\n"
          ]
        },
        {
          "output_type": "stream",
          "name": "stdout",
          "text": [
            "The Test Accuracy for batch number 74 is: 0.8648648648648649\n",
            "The Average Test accuracy for the batches so far is  0.9219465940087588\n",
            "===========================================================================\n",
            "===========================================================================\n",
            "Batch NUMBER 75\n",
            "Current Batch ROWS : 209\n"
          ]
        },
        {
          "output_type": "stream",
          "name": "stderr",
          "text": [
            "Inferencing on batch 3: 100%|██████████| 3/3 [00:00<00:00, 18.16it/s]\n",
            "Inferencing on batch 4: 100%|██████████| 4/4 [00:00<00:00, 19.24it/s]\n"
          ]
        },
        {
          "output_type": "stream",
          "name": "stdout",
          "text": [
            "The Test Accuracy for batch number 75 is: 0.9487179487179487\n",
            "The Average Test accuracy for the batches so far is  0.9223035454048812\n",
            "===========================================================================\n",
            "===========================================================================\n",
            "Batch NUMBER 76\n",
            "Current Batch ROWS : 258\n"
          ]
        },
        {
          "output_type": "stream",
          "name": "stderr",
          "text": [
            "Inferencing on batch 1: 100%|██████████| 1/1 [00:00<00:00, 114.61it/s]\n",
            "Inferencing on batch 4: 100%|██████████| 4/4 [00:00<00:00, 22.16it/s]\n",
            "Inferencing on batch 4: 100%|██████████| 4/4 [00:00<00:00, 20.63it/s]\n"
          ]
        },
        {
          "output_type": "stream",
          "name": "stdout",
          "text": [
            "The Test Accuracy for batch number 76 is: 0.9183673469387755\n",
            "The Average Test accuracy for the batches so far is  0.9222517533198009\n",
            "===========================================================================\n",
            "===========================================================================\n",
            "Batch NUMBER 77\n",
            "Current Batch ROWS : 187\n"
          ]
        },
        {
          "output_type": "stream",
          "name": "stderr",
          "text": [
            "Inferencing on batch 2: 100%|██████████| 2/2 [00:00<00:00, 18.78it/s]\n",
            "Inferencing on batch 4: 100%|██████████| 4/4 [00:00<00:00, 17.18it/s]\n"
          ]
        },
        {
          "output_type": "stream",
          "name": "stdout",
          "text": [
            "The Test Accuracy for batch number 77 is: 0.9428571428571428\n",
            "The Average Test accuracy for the batches so far is  0.9225193557813248\n",
            "===========================================================================\n",
            "===========================================================================\n",
            "Batch NUMBER 78\n",
            "Current Batch ROWS : 196\n"
          ]
        },
        {
          "output_type": "stream",
          "name": "stderr",
          "text": [
            "Inferencing on batch 3: 100%|██████████| 3/3 [00:00<00:00, 17.47it/s]\n",
            "Inferencing on batch 4: 100%|██████████| 4/4 [00:00<00:00, 16.43it/s]\n"
          ]
        },
        {
          "output_type": "stream",
          "name": "stdout",
          "text": [
            "The Test Accuracy for batch number 78 is: 0.8947368421052632\n",
            "The Average Test accuracy for the batches so far is  0.9221631697085547\n",
            "===========================================================================\n",
            "===========================================================================\n",
            "Batch NUMBER 79\n",
            "Current Batch ROWS : 201\n"
          ]
        },
        {
          "output_type": "stream",
          "name": "stderr",
          "text": [
            "Inferencing on batch 3: 100%|██████████| 3/3 [00:00<00:00, 27.96it/s]\n",
            "Inferencing on batch 4: 100%|██████████| 4/4 [00:00<00:00, 15.57it/s]\n"
          ]
        },
        {
          "output_type": "stream",
          "name": "stdout",
          "text": [
            "The Test Accuracy for batch number 79 is: 0.9459459459459459\n",
            "The Average Test accuracy for the batches so far is  0.9224642175090281\n",
            "===========================================================================\n",
            "===========================================================================\n",
            "Batch NUMBER 80\n",
            "Current Batch ROWS : 195\n"
          ]
        },
        {
          "output_type": "stream",
          "name": "stderr",
          "text": [
            "Inferencing on batch 3: 100%|██████████| 3/3 [00:00<00:00, 20.45it/s]\n",
            "Inferencing on batch 4: 100%|██████████| 4/4 [00:00<00:00, 17.35it/s]\n"
          ]
        },
        {
          "output_type": "stream",
          "name": "stdout",
          "text": [
            "The Test Accuracy for batch number 80 is: 0.8947368421052632\n",
            "The Average Test accuracy for the batches so far is  0.922117625316481\n",
            "===========================================================================\n",
            "===========================================================================\n",
            "Batch NUMBER 81\n",
            "Current Batch ROWS : 196\n"
          ]
        },
        {
          "output_type": "stream",
          "name": "stderr",
          "text": [
            "Inferencing on batch 3: 100%|██████████| 3/3 [00:00<00:00, 22.11it/s]\n",
            "Inferencing on batch 4: 100%|██████████| 4/4 [00:00<00:00, 14.82it/s]\n"
          ]
        },
        {
          "output_type": "stream",
          "name": "stdout",
          "text": [
            "The Test Accuracy for batch number 81 is: 0.8947368421052632\n",
            "The Average Test accuracy for the batches so far is  0.9217795909558486\n",
            "===========================================================================\n",
            "===========================================================================\n",
            "Batch NUMBER 82\n",
            "Current Batch ROWS : 193\n"
          ]
        },
        {
          "output_type": "stream",
          "name": "stderr",
          "text": [
            "Inferencing on batch 3: 100%|██████████| 3/3 [00:00<00:00, 17.43it/s]\n",
            "Inferencing on batch 4: 100%|██████████| 4/4 [00:00<00:00, 18.51it/s]\n"
          ]
        },
        {
          "output_type": "stream",
          "name": "stdout",
          "text": [
            "The Test Accuracy for batch number 82 is: 0.918918918918919\n",
            "The Average Test accuracy for the batches so far is  0.9217447047114958\n",
            "===========================================================================\n",
            "===========================================================================\n",
            "Batch NUMBER 83\n",
            "Current Batch ROWS : 176\n"
          ]
        },
        {
          "output_type": "stream",
          "name": "stderr",
          "text": [
            "Inferencing on batch 2: 100%|██████████| 2/2 [00:00<00:00, 26.56it/s]\n",
            "Inferencing on batch 4: 100%|██████████| 4/4 [00:00<00:00, 15.55it/s]\n"
          ]
        },
        {
          "output_type": "stream",
          "name": "stdout",
          "text": [
            "The Test Accuracy for batch number 83 is: 0.8571428571428571\n",
            "The Average Test accuracy for the batches so far is  0.9209663691986207\n",
            "===========================================================================\n",
            "===========================================================================\n",
            "Batch NUMBER 84\n",
            "Current Batch ROWS : 224\n"
          ]
        },
        {
          "output_type": "stream",
          "name": "stderr",
          "text": [
            "Inferencing on batch 3: 100%|██████████| 3/3 [00:00<00:00, 13.16it/s]\n",
            "Inferencing on batch 4: 100%|██████████| 4/4 [00:00<00:00, 19.98it/s]\n"
          ]
        },
        {
          "output_type": "stream",
          "name": "stdout",
          "text": [
            "The Test Accuracy for batch number 84 is: 0.9534883720930233\n",
            "The Average Test accuracy for the batches so far is  0.9213535358997446\n",
            "===========================================================================\n",
            "===========================================================================\n",
            "Batch NUMBER 85\n",
            "Current Batch ROWS : 210\n"
          ]
        },
        {
          "output_type": "stream",
          "name": "stderr",
          "text": [
            "Inferencing on batch 3: 100%|██████████| 3/3 [00:00<00:00, 28.15it/s]\n",
            "Inferencing on batch 4: 100%|██████████| 4/4 [00:00<00:00, 15.50it/s]\n"
          ]
        },
        {
          "output_type": "stream",
          "name": "stdout",
          "text": [
            "The Test Accuracy for batch number 85 is: 1.0\n",
            "The Average Test accuracy for the batches so far is  0.922278788418571\n",
            "===========================================================================\n",
            "===========================================================================\n",
            "Batch NUMBER 86\n",
            "Current Batch ROWS : 218\n"
          ]
        },
        {
          "output_type": "stream",
          "name": "stderr",
          "text": [
            "Inferencing on batch 3: 100%|██████████| 3/3 [00:00<00:00, 19.76it/s]\n",
            "Inferencing on batch 4: 100%|██████████| 4/4 [00:00<00:00, 19.48it/s]\n"
          ]
        },
        {
          "output_type": "stream",
          "name": "stdout",
          "text": [
            "The Test Accuracy for batch number 86 is: 0.85\n",
            "The Average Test accuracy for the batches so far is  0.9214383373904481\n",
            "===========================================================================\n",
            "===========================================================================\n",
            "Batch NUMBER 87\n",
            "Current Batch ROWS : 244\n"
          ]
        },
        {
          "output_type": "stream",
          "name": "stderr",
          "text": [
            "Inferencing on batch 4: 100%|██████████| 4/4 [00:00<00:00, 24.54it/s]\n",
            "Inferencing on batch 4: 100%|██████████| 4/4 [00:00<00:00, 19.63it/s]\n"
          ]
        },
        {
          "output_type": "stream",
          "name": "stdout",
          "text": [
            "The Test Accuracy for batch number 87 is: 0.8636363636363636\n",
            "The Average Test accuracy for the batches so far is  0.9207739468875275\n",
            "===========================================================================\n",
            "===========================================================================\n",
            "Batch NUMBER 88\n",
            "Current Batch ROWS : 197\n"
          ]
        },
        {
          "output_type": "stream",
          "name": "stderr",
          "text": [
            "Inferencing on batch 3: 100%|██████████| 3/3 [00:00<00:00, 20.73it/s]\n",
            "Inferencing on batch 4: 100%|██████████| 4/4 [00:00<00:00, 16.75it/s]\n"
          ]
        },
        {
          "output_type": "stream",
          "name": "stdout",
          "text": [
            "The Test Accuracy for batch number 88 is: 0.9473684210526315\n",
            "The Average Test accuracy for the batches so far is  0.921076156821222\n",
            "===========================================================================\n",
            "===========================================================================\n",
            "Batch NUMBER 89\n",
            "Current Batch ROWS : 179\n"
          ]
        },
        {
          "output_type": "stream",
          "name": "stderr",
          "text": [
            "Inferencing on batch 2: 100%|██████████| 2/2 [00:00<00:00, 14.61it/s]\n",
            "Inferencing on batch 4: 100%|██████████| 4/4 [00:00<00:00, 15.12it/s]\n"
          ]
        },
        {
          "output_type": "stream",
          "name": "stdout",
          "text": [
            "The Test Accuracy for batch number 89 is: 0.9090909090909091\n",
            "The Average Test accuracy for the batches so far is  0.920941491116387\n",
            "===========================================================================\n",
            "===========================================================================\n",
            "Batch NUMBER 90\n",
            "Current Batch ROWS : 194\n"
          ]
        },
        {
          "output_type": "stream",
          "name": "stderr",
          "text": [
            "Inferencing on batch 3: 100%|██████████| 3/3 [00:00<00:00, 22.20it/s]\n",
            "Inferencing on batch 4: 100%|██████████| 4/4 [00:00<00:00, 18.15it/s]\n"
          ]
        },
        {
          "output_type": "stream",
          "name": "stdout",
          "text": [
            "The Test Accuracy for batch number 90 is: 0.8918918918918919\n",
            "The Average Test accuracy for the batches so far is  0.9206187177916704\n",
            "===========================================================================\n",
            "===========================================================================\n",
            "Batch NUMBER 91\n",
            "Current Batch ROWS : 205\n"
          ]
        },
        {
          "output_type": "stream",
          "name": "stderr",
          "text": [
            "Inferencing on batch 3: 100%|██████████| 3/3 [00:00<00:00, 15.68it/s]\n",
            "Inferencing on batch 4: 100%|██████████| 4/4 [00:00<00:00, 18.27it/s]\n"
          ]
        },
        {
          "output_type": "stream",
          "name": "stdout",
          "text": [
            "The Test Accuracy for batch number 91 is: 0.9743589743589743\n",
            "The Average Test accuracy for the batches so far is  0.9212092700616408\n",
            "===========================================================================\n",
            "===========================================================================\n",
            "Batch NUMBER 92\n",
            "Current Batch ROWS : 211\n"
          ]
        },
        {
          "output_type": "stream",
          "name": "stderr",
          "text": [
            "Inferencing on batch 3: 100%|██████████| 3/3 [00:00<00:00, 18.56it/s]\n",
            "Inferencing on batch 4: 100%|██████████| 4/4 [00:00<00:00, 20.32it/s]\n"
          ]
        },
        {
          "output_type": "stream",
          "name": "stdout",
          "text": [
            "The Test Accuracy for batch number 92 is: 0.95\n",
            "The Average Test accuracy for the batches so far is  0.9215222127783621\n",
            "===========================================================================\n",
            "===========================================================================\n",
            "Batch NUMBER 93\n",
            "Current Batch ROWS : 229\n"
          ]
        },
        {
          "output_type": "stream",
          "name": "stderr",
          "text": [
            "Inferencing on batch 4: 100%|██████████| 4/4 [00:00<00:00, 30.80it/s]\n",
            "Inferencing on batch 4: 100%|██████████| 4/4 [00:00<00:00, 17.62it/s]\n"
          ]
        },
        {
          "output_type": "stream",
          "name": "stdout",
          "text": [
            "The Test Accuracy for batch number 93 is: 0.9534883720930233\n",
            "The Average Test accuracy for the batches so far is  0.9218659349215305\n",
            "===========================================================================\n",
            "===========================================================================\n",
            "Batch NUMBER 94\n",
            "Current Batch ROWS : 204\n"
          ]
        },
        {
          "output_type": "stream",
          "name": "stderr",
          "text": [
            "Inferencing on batch 3: 100%|██████████| 3/3 [00:00<00:00, 18.61it/s]\n",
            "Inferencing on batch 4: 100%|██████████| 4/4 [00:00<00:00, 20.87it/s]\n"
          ]
        },
        {
          "output_type": "stream",
          "name": "stdout",
          "text": [
            "The Test Accuracy for batch number 94 is: 0.9487179487179487\n",
            "The Average Test accuracy for the batches so far is  0.9221515946427689\n",
            "===========================================================================\n",
            "===========================================================================\n",
            "Batch NUMBER 95\n",
            "Current Batch ROWS : 220\n"
          ]
        },
        {
          "output_type": "stream",
          "name": "stderr",
          "text": [
            "Inferencing on batch 3: 100%|██████████| 3/3 [00:00<00:00, 19.14it/s]\n",
            "Inferencing on batch 4: 100%|██████████| 4/4 [00:00<00:00, 20.09it/s]\n"
          ]
        },
        {
          "output_type": "stream",
          "name": "stdout",
          "text": [
            "The Test Accuracy for batch number 95 is: 0.926829268292683\n",
            "The Average Test accuracy for the batches so far is  0.9222008333127679\n",
            "===========================================================================\n",
            "===========================================================================\n",
            "Batch NUMBER 96\n",
            "Current Batch ROWS : 229\n"
          ]
        },
        {
          "output_type": "stream",
          "name": "stderr",
          "text": [
            "Inferencing on batch 4: 100%|██████████| 4/4 [00:00<00:00, 23.61it/s]\n",
            "Inferencing on batch 4: 100%|██████████| 4/4 [00:00<00:00, 15.77it/s]\n"
          ]
        },
        {
          "output_type": "stream",
          "name": "stdout",
          "text": [
            "The Test Accuracy for batch number 96 is: 0.8809523809523809\n",
            "The Average Test accuracy for the batches so far is  0.9217711619340142\n",
            "===========================================================================\n",
            "===========================================================================\n",
            "Batch NUMBER 97\n",
            "Current Batch ROWS : 269\n"
          ]
        },
        {
          "output_type": "stream",
          "name": "stderr",
          "text": [
            "Inferencing on batch 1: 100%|██████████| 1/1 [00:00<00:00, 49.65it/s]\n",
            "Inferencing on batch 4: 100%|██████████| 4/4 [00:00<00:00, 21.06it/s]\n",
            "Inferencing on batch 4: 100%|██████████| 4/4 [00:00<00:00, 25.33it/s]\n"
          ]
        },
        {
          "output_type": "stream",
          "name": "stdout",
          "text": [
            "The Test Accuracy for batch number 97 is: 0.9215686274509803\n",
            "The Average Test accuracy for the batches so far is  0.921769073949653\n",
            "===========================================================================\n",
            "===========================================================================\n",
            "Batch NUMBER 98\n",
            "Current Batch ROWS : 196\n"
          ]
        },
        {
          "output_type": "stream",
          "name": "stderr",
          "text": [
            "Inferencing on batch 3: 100%|██████████| 3/3 [00:00<00:00, 20.78it/s]\n",
            "Inferencing on batch 4: 100%|██████████| 4/4 [00:00<00:00, 16.93it/s]\n"
          ]
        },
        {
          "output_type": "stream",
          "name": "stdout",
          "text": [
            "The Test Accuracy for batch number 98 is: 0.9736842105263158\n",
            "The Average Test accuracy for the batches so far is  0.9222988202412515\n",
            "===========================================================================\n",
            "===========================================================================\n",
            "Batch NUMBER 99\n",
            "Current Batch ROWS : 152\n"
          ]
        },
        {
          "output_type": "stream",
          "name": "stderr",
          "text": [
            "Inferencing on batch 1: 100%|██████████| 1/1 [00:00<00:00,  6.74it/s]\n",
            "Inferencing on batch 4: 100%|██████████| 4/4 [00:00<00:00, 15.28it/s]\n"
          ]
        },
        {
          "output_type": "stream",
          "name": "stdout",
          "text": [
            "The Test Accuracy for batch number 99 is: 0.8620689655172413\n",
            "The Average Test accuracy for the batches so far is  0.9216904378703019\n",
            "===========================================================================\n",
            "===========================================================================\n",
            "Batch NUMBER 100\n",
            "Current Batch ROWS : 176\n"
          ]
        },
        {
          "output_type": "stream",
          "name": "stderr",
          "text": [
            "Inferencing on batch 2: 100%|██████████| 2/2 [00:00<00:00, 13.48it/s]\n",
            "Inferencing on batch 4: 100%|██████████| 4/4 [00:00<00:00, 17.80it/s]"
          ]
        },
        {
          "output_type": "stream",
          "name": "stdout",
          "text": [
            "The Test Accuracy for batch number 100 is: 0.8529411764705882\n",
            "The Average Test accuracy for the batches so far is  0.9210029452563049\n",
            "===========================================================================\n"
          ]
        },
        {
          "output_type": "stream",
          "name": "stderr",
          "text": [
            "\n"
          ]
        }
      ]
    },
    {
      "cell_type": "markdown",
      "metadata": {
        "id": "lSa2kAEItxZe"
      },
      "source": [
        "By watching the output we can see that the accuracy for each batch is kind of fluctuating. On the other Hand,we can clearly see that the average is growing slowly but surely and then stabilizing. I think it's easier to understand the accuracies graphically."
      ]
    },
    {
      "cell_type": "code",
      "metadata": {
        "colab": {
          "base_uri": "https://localhost:8080/",
          "height": 579
        },
        "id": "fiqHh9Xztz6o",
        "outputId": "35b5bf47-2601-44b8-bfbd-c669b97768a3"
      },
      "source": [
        "graph1=plt\n",
        "graph1.title(\"Accuracy for Each Batch\")\n",
        "graph1.xlabel(\"Batch Number\",size=12)\n",
        "graph1.ylabel('Accuracy')\n",
        "#graph1.plot(range(1,101),all_accuracies_list,)\n",
        "graph1.plot(range(1,101),all_accuracies_list)\n",
        "graph1.plot(range(1,101),all_accuracies_list,'bo',alpha=0.5)\n",
        "graph1.show()\n",
        "\n",
        "graph2=plt\n",
        "graph2.title(\"Average Accuracy for CUMULATIVE Batches\")\n",
        "graph2.xlabel(\"Total Batches Learned\",size=12)\n",
        "graph2.ylabel('Average Accuracy')\n",
        "#graph1.plot(range(1,101),all_accuracies_list,)\n",
        "graph2.plot(range(1,101),avg_accuracies_list)\n",
        "graph2.ylim((np.min(avg_accuracies_list)-0.001),(np.max(avg_accuracies_list)+0.003))\n",
        "graph2.show()"
      ],
      "execution_count": 47,
      "outputs": [
        {
          "output_type": "display_data",
          "data": {
            "image/png": "[encoded data removed]",
            "text/plain": [
              "<Figure size 432x288 with 1 Axes>"
            ]
          },
          "metadata": {
            "needs_background": "light"
          }
        },
        {
          "output_type": "display_data",
          "data": {
            "image/png": "[encoded data removed]",
            "text/plain": [
              "<Figure size 432x288 with 1 Axes>"
            ]
          },
          "metadata": {
            "needs_background": "light"
          }
        }
      ]
    },
    {
      "cell_type": "markdown",
      "metadata": {
        "id": "Wo_PbJLDt921"
      },
      "source": [
        "We can see that Every batch by itself has a different accuracy, and it seems to be fluctuating. On the other hand, we can see that at the start, the average accuracy fluctuates alot, then it starts to slowly but surely grow, at around 33 batches learned it peaks then it goes down again... After about 60 batches learned, the average accuracy kinds of stabilizes. It seems to converge. We do see an improvement as we use more and more batches. and then it stabilizes.\n",
        "\n",
        "\n",
        "we actually DO see an improvement as we use more and more batches."
      ]
    }
  ]
}